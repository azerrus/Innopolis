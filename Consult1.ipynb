{
 "cells": [
  {
   "cell_type": "markdown",
   "id": "b74873bc",
   "metadata": {},
   "source": [
    "### Exercise 1 (page 99)"
   ]
  },
  {
   "cell_type": "code",
   "execution_count": 3,
   "id": "e1b11674",
   "metadata": {},
   "outputs": [
    {
     "name": "stdout",
     "output_type": "stream",
     "text": [
      "Длина 1 стороны: \n",
      "фывфыв\n",
      "Длина 2 стороны: \n",
      "10\n",
      "Длина 3 стороны: \n",
      "15\n",
      "Все длины должны быть в виде чисел!\n"
     ]
    }
   ],
   "source": [
    "a = input('Длина 1 стороны: \\n')\n",
    "b = input('Длина 2 стороны: \\n')\n",
    "c = input('Длина 3 стороны: \\n')\n",
    "\n",
    "try:\n",
    "    a = float(a)\n",
    "    b = float(b)\n",
    "    c = float(c)\n",
    "    if (a == b)&(b == c):\n",
    "        print('Треугольник равносторонний')\n",
    "    else:\n",
    "        print('Треугольник не равносторонний')\n",
    "        \n",
    "except:\n",
    "    print('Все длины должны быть в виде чисел!')"
   ]
  },
  {
   "cell_type": "markdown",
   "id": "d952c442",
   "metadata": {},
   "source": [
    "### Exercise 2  (page 99)"
   ]
  },
  {
   "cell_type": "code",
   "execution_count": 9,
   "id": "61f8ce89",
   "metadata": {},
   "outputs": [
    {
     "name": "stdout",
     "output_type": "stream",
     "text": [
      "Длина 1 стороны: \n",
      "ываы\n",
      "Длина 2 стороны: \n",
      "45\n",
      "Длина 3 стороны: \n",
      "12\n",
      "Все длины должны быть в виде чисел!\n"
     ]
    }
   ],
   "source": [
    "a = input('Длина 1 стороны: \\n')\n",
    "b = input('Длина 2 стороны: \\n')\n",
    "c = input('Длина 3 стороны: \\n')\n",
    "\n",
    "try:\n",
    "    a = float(a)\n",
    "    b = float(b)\n",
    "    c = float(c)\n",
    "    if a**2 == b**2 + c**2:\n",
    "        print('Треугольник прямоугольный')\n",
    "    elif b**2 == a**2 + c**2:\n",
    "        print('Треугольник прямоугольный')\n",
    "    elif c**2 == a**2 + b**2:\n",
    "        print('Треугольник прямоугольный')\n",
    "    else:\n",
    "        print('Треугольник не прямоугольный')\n",
    "        \n",
    "except:\n",
    "    print('Все длины должны быть в виде чисел!')"
   ]
  },
  {
   "cell_type": "code",
   "execution_count": 11,
   "id": "f004042c",
   "metadata": {},
   "outputs": [
    {
     "name": "stdout",
     "output_type": "stream",
     "text": [
      "Длина 1 стороны: \n",
      "5\n",
      "Длина 2 стороны: \n",
      "4\n",
      "Длина 3 стороны: \n",
      "3\n",
      "Треугольник прямоугольный\n"
     ]
    }
   ],
   "source": [
    "a = input('Длина 1 стороны: \\n')\n",
    "b = input('Длина 2 стороны: \\n')\n",
    "c = input('Длина 3 стороны: \\n')\n",
    "\n",
    "try:\n",
    "    a = float(a)\n",
    "    b = float(b)\n",
    "    c = float(c)\n",
    "    if (a**2 == b**2 + c**2) or (b**2 == a**2 + c**2) or (c**2 == a**2 + b**2):\n",
    "        print('Треугольник прямоугольный')\n",
    "    else:\n",
    "        print('Треугольник не прямоугольный')\n",
    "        \n",
    "except:\n",
    "    print('Все длины должны быть в виде чисел!')"
   ]
  },
  {
   "cell_type": "markdown",
   "id": "46fbb842",
   "metadata": {},
   "source": [
    "### Exercise 6  (page 100)"
   ]
  },
  {
   "cell_type": "code",
   "execution_count": 19,
   "id": "b3fb1793",
   "metadata": {},
   "outputs": [
    {
     "name": "stdout",
     "output_type": "stream",
     "text": [
      "Введите число итераций \n",
      "50000\n",
      "Число пи составляет 3.1415726535897814\n"
     ]
    }
   ],
   "source": [
    "n = input('Введите число итераций \\n')\n",
    "n = int(n)\n",
    "\n",
    "result = 0\n",
    "\n",
    "for i in range(n):\n",
    "    if i%2 == 0:\n",
    "        result = result + 1/(2*i+1)\n",
    "    else:\n",
    "        result = result - 1/(2*i+1)\n",
    "\n",
    "print('Число пи составляет', result * 4)"
   ]
  },
  {
   "cell_type": "code",
   "execution_count": 23,
   "id": "94bf777a",
   "metadata": {},
   "outputs": [
    {
     "name": "stdout",
     "output_type": "stream",
     "text": [
      "Введите число итераций \n",
      "50000\n",
      "Число пи составляет 3.1415726535897814\n"
     ]
    }
   ],
   "source": [
    "n = input('Введите число итераций \\n')\n",
    "n = int(n)\n",
    "\n",
    "result = 0\n",
    "\n",
    "for i in range(n):\n",
    "    result = result + (1/(2*i+1)) * (-1)**i\n",
    "\n",
    "print('Число пи составляет', result * 4)"
   ]
  },
  {
   "cell_type": "markdown",
   "id": "44f3ece0",
   "metadata": {},
   "source": [
    "### Exercise 9 (page 101)"
   ]
  },
  {
   "cell_type": "code",
   "execution_count": 21,
   "id": "fc033cd9",
   "metadata": {},
   "outputs": [
    {
     "name": "stdout",
     "output_type": "stream",
     "text": [
      "Введите число \n",
      "10\n",
      "Введите число \n",
      "12\n",
      "Введите число \n",
      "15\n",
      "Введите число \n",
      "\n",
      "Сумма равна 37.0\n",
      "Средняя равна 12.333333333333334\n"
     ]
    }
   ],
   "source": [
    "s = 0\n",
    "n = 0\n",
    "\n",
    "while True:\n",
    "    num = input('Введите число \\n')\n",
    "    if num == '':\n",
    "        break\n",
    "    else:\n",
    "        s = s + float(num)\n",
    "        n = n + 1\n",
    "print('Сумма равна', s)\n",
    "print('Средняя равна', s/n)"
   ]
  },
  {
   "cell_type": "code",
   "execution_count": 22,
   "id": "7c815309",
   "metadata": {},
   "outputs": [
    {
     "name": "stdout",
     "output_type": "stream",
     "text": [
      "Введите число \n",
      "10\n",
      "Введите число \n",
      "15\n",
      "Введите число \n",
      "17\n",
      "Введите число \n",
      "\n",
      "Сумма равна 42.0\n",
      "Средняя равна 14.0\n"
     ]
    }
   ],
   "source": [
    "import numpy as np\n",
    "\n",
    "numbers = []\n",
    "\n",
    "while True:\n",
    "    num = input('Введите число \\n')\n",
    "    if num == '':\n",
    "        break\n",
    "    else:\n",
    "        numbers.append(float(num))\n",
    "\n",
    "arr = np.array(numbers)        \n",
    "print('Сумма равна', arr.sum())\n",
    "print('Средняя равна', arr.mean())"
   ]
  },
  {
   "cell_type": "markdown",
   "id": "484e5636",
   "metadata": {},
   "source": [
    "### Exercise 1 (page 165)"
   ]
  },
  {
   "cell_type": "code",
   "execution_count": 31,
   "id": "4287db40",
   "metadata": {},
   "outputs": [
    {
     "name": "stdout",
     "output_type": "stream",
     "text": [
      "15.5\n"
     ]
    }
   ],
   "source": [
    "numbers = [15, 16, 17, 18, 20, 10, 10, 12]\n",
    "\n",
    "n = len(numbers)\n",
    "\n",
    "numbers.sort()\n",
    "\n",
    "if n%2 == 0:\n",
    "    a = int(n/2 - 1)\n",
    "    b = int(n/2)\n",
    "    median = (numbers[a] + numbers[b]) / 2\n",
    "else:\n",
    "    a = int((n - 1)/2 )\n",
    "    median = numbers[a]\n",
    "    \n",
    "print(median)"
   ]
  },
  {
   "cell_type": "code",
   "execution_count": 70,
   "id": "43084d67",
   "metadata": {},
   "outputs": [
    {
     "name": "stdout",
     "output_type": "stream",
     "text": [
      "Мода равна 20\n"
     ]
    }
   ],
   "source": [
    "numbers = [15, 16, 20, 20, 20, 10, 10, 12]\n",
    "numbers.sort()\n",
    "x = np.array(numbers) \n",
    "counts = np.unique(x, return_counts = True)\n",
    "n = counts[1].argmax()\n",
    "mode = counts[0][n]\n",
    "print('Мода равна', mode)"
   ]
  },
  {
   "cell_type": "code",
   "execution_count": 33,
   "id": "08edceb1",
   "metadata": {},
   "outputs": [
    {
     "data": {
      "text/plain": [
       "[10, 10, 12, 15, 16, 17, 18, 20]"
      ]
     },
     "execution_count": 33,
     "metadata": {},
     "output_type": "execute_result"
    }
   ],
   "source": [
    "n = len(numbers)\n",
    "i = 0\n",
    "a = numbers.pop(0)\n",
    "while i < n:\n",
    "    b = numbers.pop(0)\n",
    "    if "
   ]
  },
  {
   "cell_type": "markdown",
   "id": "27cbc476",
   "metadata": {},
   "source": [
    "### Словари и годы"
   ]
  },
  {
   "cell_type": "code",
   "execution_count": 40,
   "id": "53c3797c",
   "metadata": {},
   "outputs": [],
   "source": [
    "years = {\n",
    "    1: 'год',\n",
    "    2: 'года',\n",
    "    3: 'года',\n",
    "    4: 'года',\n",
    "    5: 'лет',\n",
    "    6: 'лет',\n",
    "    7: 'лет',\n",
    "    8: 'лет',\n",
    "    9: 'лет',\n",
    "    10: 'лет'\n",
    "}"
   ]
  },
  {
   "cell_type": "code",
   "execution_count": 47,
   "id": "4617c5f5",
   "metadata": {},
   "outputs": [
    {
     "name": "stdout",
     "output_type": "stream",
     "text": [
      "Введите число от 1 до 10 \n",
      "6\n",
      "Вы ввели 6 лет\n"
     ]
    }
   ],
   "source": [
    "y = input(\"Введите число от 1 до 10 \\n\")\n",
    "y = int(y)\n",
    "print(\"Вы ввели\", y, years[y])"
   ]
  }
 ],
 "metadata": {
  "kernelspec": {
   "display_name": "Python 3 (ipykernel)",
   "language": "python",
   "name": "python3"
  },
  "language_info": {
   "codemirror_mode": {
    "name": "ipython",
    "version": 3
   },
   "file_extension": ".py",
   "mimetype": "text/x-python",
   "name": "python",
   "nbconvert_exporter": "python",
   "pygments_lexer": "ipython3",
   "version": "3.11.5"
  }
 },
 "nbformat": 4,
 "nbformat_minor": 5
}
