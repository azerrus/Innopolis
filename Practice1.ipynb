{
 "cells": [
  {
   "cell_type": "markdown",
   "id": "1499df95-5b6d-4843-9a07-d53c119242f6",
   "metadata": {},
   "source": [
    "Упражнение 1.1"
   ]
  },
  {
   "cell_type": "code",
   "execution_count": 11,
   "id": "30d7540e-4f90-43b8-a2ab-7c30023482c1",
   "metadata": {},
   "outputs": [],
   "source": [
    "a = 100\n",
    "b = 5\n",
    "c = 3"
   ]
  },
  {
   "cell_type": "code",
   "execution_count": 13,
   "id": "4b11bec4-f244-4266-8b87-ae00db0e57a7",
   "metadata": {},
   "outputs": [
    {
     "data": {
      "text/plain": [
       "75.0"
      ]
     },
     "execution_count": 13,
     "metadata": {},
     "output_type": "execute_result"
    }
   ],
   "source": [
    "a - b ** c / b"
   ]
  },
  {
   "cell_type": "code",
   "execution_count": 17,
   "id": "62d899d9-3888-4d99-bb5a-93f5d6c45374",
   "metadata": {},
   "outputs": [
    {
     "data": {
      "text/plain": [
       "-5.0"
      ]
     },
     "execution_count": 17,
     "metadata": {},
     "output_type": "execute_result"
    }
   ],
   "source": [
    " (a - b ** c)/ b"
   ]
  },
  {
   "cell_type": "code",
   "execution_count": 19,
   "id": "8ca33849-30c3-4d3f-b105-b9197319177c",
   "metadata": {},
   "outputs": [
    {
     "data": {
      "text/plain": [
       "171475.0"
      ]
     },
     "execution_count": 19,
     "metadata": {},
     "output_type": "execute_result"
    }
   ],
   "source": [
    "(a - b) ** c / b\n"
   ]
  },
  {
   "cell_type": "code",
   "execution_count": 23,
   "id": "dc53728c-8dda-4c39-9389-07b5250ddb8a",
   "metadata": {},
   "outputs": [
    {
     "data": {
      "text/plain": [
       "75.0"
      ]
     },
     "execution_count": 23,
     "metadata": {},
     "output_type": "execute_result"
    }
   ],
   "source": [
    "a - (b ** c/ b)"
   ]
  },
  {
   "cell_type": "markdown",
   "id": "0eed5790-7a7d-48d1-982f-92617d39ad2c",
   "metadata": {},
   "source": [
    "Упражнение 1.2"
   ]
  },
  {
   "cell_type": "code",
   "execution_count": 27,
   "id": "b3811689-5625-436b-a0dc-899b14e014ae",
   "metadata": {},
   "outputs": [],
   "source": [
    "x = 14"
   ]
  },
  {
   "cell_type": "code",
   "execution_count": 29,
   "id": "22404c73-83bd-4c4d-b627-5d7eaa5cbe7b",
   "metadata": {},
   "outputs": [
    {
     "name": "stdout",
     "output_type": "stream",
     "text": [
      "15\n",
      "<class 'int'>\n"
     ]
    }
   ],
   "source": [
    "x = x+1\n",
    "print(x)\n",
    "print(type(x))"
   ]
  },
  {
   "cell_type": "code",
   "execution_count": 31,
   "id": "8d2c6cee-5856-402c-acb6-e6aea27f3ed5",
   "metadata": {},
   "outputs": [
    {
     "name": "stdout",
     "output_type": "stream",
     "text": [
      "3.0\n",
      "<class 'float'>\n"
     ]
    }
   ],
   "source": [
    "x = x / 5\n",
    "print(x)\n",
    "print(type(x))"
   ]
  },
  {
   "cell_type": "code",
   "execution_count": 33,
   "id": "5d4b511d-6ce3-4633-a986-4836880777f8",
   "metadata": {},
   "outputs": [
    {
     "name": "stdout",
     "output_type": "stream",
     "text": [
      "9.0\n",
      "<class 'float'>\n"
     ]
    }
   ],
   "source": [
    "x = x**2\n",
    "print(x)\n",
    "print(type(x))"
   ]
  },
  {
   "cell_type": "markdown",
   "id": "d8a0dc94-1eb8-48d1-a252-a682234fcb3a",
   "metadata": {},
   "source": [
    "Упражнение 3"
   ]
  },
  {
   "cell_type": "code",
   "execution_count": 35,
   "id": "a699053a-fcee-4fc6-8861-b1ad2984c136",
   "metadata": {},
   "outputs": [
    {
     "ename": "SyntaxError",
     "evalue": "invalid decimal literal (1203185488.py, line 1)",
     "output_type": "error",
     "traceback": [
      "\u001b[1;36m  Cell \u001b[1;32mIn[35], line 1\u001b[1;36m\u001b[0m\n\u001b[1;33m    1st_number = 1\u001b[0m\n\u001b[1;37m    ^\u001b[0m\n\u001b[1;31mSyntaxError\u001b[0m\u001b[1;31m:\u001b[0m invalid decimal literal\n"
     ]
    }
   ],
   "source": [
    "1st_number = 1"
   ]
  },
  {
   "cell_type": "code",
   "execution_count": 39,
   "id": "29741736-d5f6-4ac0-993e-1e24caf6afed",
   "metadata": {},
   "outputs": [],
   "source": [
    "first_number = 1"
   ]
  },
  {
   "cell_type": "code",
   "execution_count": 41,
   "id": "6569db1e-135e-4884-9032-b0b92c6009ed",
   "metadata": {},
   "outputs": [
    {
     "ename": "SyntaxError",
     "evalue": "invalid syntax (1335672635.py, line 1)",
     "output_type": "error",
     "traceback": [
      "\u001b[1;36m  Cell \u001b[1;32mIn[41], line 1\u001b[1;36m\u001b[0m\n\u001b[1;33m    my_$ = 1000\u001b[0m\n\u001b[1;37m       ^\u001b[0m\n\u001b[1;31mSyntaxError\u001b[0m\u001b[1;31m:\u001b[0m invalid syntax\n"
     ]
    }
   ],
   "source": [
    "my_$ = 1000"
   ]
  },
  {
   "cell_type": "code",
   "execution_count": 43,
   "id": "850621c3-3b97-4fa8-93ff-cf4ddb52263d",
   "metadata": {},
   "outputs": [],
   "source": [
    "my_money = 1000"
   ]
  },
  {
   "cell_type": "code",
   "execution_count": 45,
   "id": "4aaea85d-6d5c-49e2-8539-d978adf3358d",
   "metadata": {},
   "outputs": [
    {
     "name": "stdout",
     "output_type": "stream",
     "text": [
      "8 5\n"
     ]
    }
   ],
   "source": [
    "x , y = 8 , 5\n",
    "print (x,y)"
   ]
  },
  {
   "cell_type": "markdown",
   "id": "4503dff9-113a-4e29-97aa-6f33d763ceac",
   "metadata": {},
   "source": [
    "Упражнение 4"
   ]
  },
  {
   "cell_type": "code",
   "execution_count": 47,
   "id": "33a1762c-6252-450f-86a2-446366785eac",
   "metadata": {},
   "outputs": [
    {
     "data": {
      "text/plain": [
       "bool"
      ]
     },
     "execution_count": 47,
     "metadata": {},
     "output_type": "execute_result"
    }
   ],
   "source": [
    "over_18, over_21 = True, False\n",
    "type(over_18)"
   ]
  },
  {
   "cell_type": "code",
   "execution_count": 49,
   "id": "ee8ba4d3-e2bb-4d99-b490-7347ad5a4f95",
   "metadata": {},
   "outputs": [
    {
     "name": "stdout",
     "output_type": "stream",
     "text": [
      "False\n"
     ]
    }
   ],
   "source": [
    "print(over_18 and over_21)"
   ]
  },
  {
   "cell_type": "code",
   "execution_count": 51,
   "id": "c4e1bd7f-0c13-4ba1-ae97-056350387a7d",
   "metadata": {},
   "outputs": [
    {
     "name": "stdout",
     "output_type": "stream",
     "text": [
      "True\n"
     ]
    }
   ],
   "source": [
    "print(over_18 or over_21)"
   ]
  },
  {
   "cell_type": "code",
   "execution_count": 53,
   "id": "237d683f-1b56-4bc3-b245-1abe62697e84",
   "metadata": {},
   "outputs": [
    {
     "name": "stdout",
     "output_type": "stream",
     "text": [
      "True\n"
     ]
    }
   ],
   "source": [
    "print(not over_21 or (over_21 or over_18))"
   ]
  },
  {
   "cell_type": "code",
   "execution_count": 55,
   "id": "54ac000e-bd5c-4e21-bc81-5d2659fc97b4",
   "metadata": {},
   "outputs": [
    {
     "data": {
      "text/plain": [
       "False"
      ]
     },
     "execution_count": 55,
     "metadata": {},
     "output_type": "execute_result"
    }
   ],
   "source": [
    "income = 80000\n",
    "income < 75000"
   ]
  },
  {
   "cell_type": "code",
   "execution_count": 59,
   "id": "cc3dd041-4516-4c00-a954-b44c178dee53",
   "metadata": {},
   "outputs": [
    {
     "data": {
      "text/plain": [
       "True"
      ]
     },
     "execution_count": 59,
     "metadata": {},
     "output_type": "execute_result"
    }
   ],
   "source": [
    "income >= 80000 and income <= 100000"
   ]
  },
  {
   "cell_type": "code",
   "execution_count": 61,
   "id": "7c9bfcd1-ea5d-44ca-bda7-78e34cb99e06",
   "metadata": {},
   "outputs": [
    {
     "data": {
      "text/plain": [
       "True"
      ]
     },
     "execution_count": 61,
     "metadata": {},
     "output_type": "execute_result"
    }
   ],
   "source": [
    "(income >= 80000) and (income <= 100000)"
   ]
  },
  {
   "cell_type": "code",
   "execution_count": 63,
   "id": "d5b998c5-c1c4-4a1a-b58c-3279efeed2ec",
   "metadata": {},
   "outputs": [
    {
     "data": {
      "text/plain": [
       "True"
      ]
     },
     "execution_count": 63,
     "metadata": {},
     "output_type": "execute_result"
    }
   ],
   "source": [
    "income != 100000"
   ]
  },
  {
   "cell_type": "code",
   "execution_count": 65,
   "id": "29ad753f-fbb1-4f5f-a0b5-2f2a9cc3382c",
   "metadata": {},
   "outputs": [
    {
     "data": {
      "text/plain": [
       "False"
      ]
     },
     "execution_count": 65,
     "metadata": {},
     "output_type": "execute_result"
    }
   ],
   "source": [
    "income == 90000"
   ]
  },
  {
   "cell_type": "code",
   "execution_count": 71,
   "id": "3c7f9866-7e5e-4c26-a699-aa4444a65380",
   "metadata": {},
   "outputs": [
    {
     "data": {
      "text/plain": [
       "True"
      ]
     },
     "execution_count": 71,
     "metadata": {},
     "output_type": "execute_result"
    }
   ],
   "source": [
    "income == 80000.00"
   ]
  },
  {
   "cell_type": "code",
   "execution_count": 69,
   "id": "bee5aa3c-55ba-4fd0-85ff-428ca8af58ff",
   "metadata": {},
   "outputs": [
    {
     "data": {
      "text/plain": [
       "False"
      ]
     },
     "execution_count": 69,
     "metadata": {},
     "output_type": "execute_result"
    }
   ],
   "source": [
    "income == '80000'"
   ]
  },
  {
   "cell_type": "markdown",
   "id": "3fc28a51-51dd-4f6a-8d9a-9470a9001bc5",
   "metadata": {},
   "source": [
    "Упражнение 5 (работа со списками)"
   ]
  },
  {
   "cell_type": "code",
   "execution_count": 75,
   "id": "c08010f8-a233-486f-9303-42e04643f247",
   "metadata": {},
   "outputs": [
    {
     "name": "stdout",
     "output_type": "stream",
     "text": [
      "['хлеб', 'moloko', 'yayca']\n"
     ]
    }
   ],
   "source": [
    "shopping = [\"хлеб\",\"moloko\", \"yayca\"]\n",
    "print(shopping)"
   ]
  },
  {
   "cell_type": "code",
   "execution_count": 77,
   "id": "f766172b-9539-4387-b7d9-95361d282256",
   "metadata": {},
   "outputs": [
    {
     "data": {
      "text/plain": [
       "3"
      ]
     },
     "execution_count": 77,
     "metadata": {},
     "output_type": "execute_result"
    }
   ],
   "source": [
    "len(shopping)"
   ]
  },
  {
   "cell_type": "code",
   "execution_count": 79,
   "id": "aa939e29-e250-44f2-8ccf-de1638133b90",
   "metadata": {},
   "outputs": [
    {
     "data": {
      "text/plain": [
       "['хлеб',\n",
       " 'moloko',\n",
       " 'yayca',\n",
       " 'хлеб',\n",
       " 'moloko',\n",
       " 'yayca',\n",
       " 'хлеб',\n",
       " 'moloko',\n",
       " 'yayca']"
      ]
     },
     "execution_count": 79,
     "metadata": {},
     "output_type": "execute_result"
    }
   ],
   "source": [
    "shopping*3"
   ]
  },
  {
   "cell_type": "code",
   "execution_count": 81,
   "id": "f6ef60d9-e383-44b2-93a8-f142cee45417",
   "metadata": {},
   "outputs": [
    {
     "name": "stdout",
     "output_type": "stream",
     "text": [
      "moloko\n"
     ]
    }
   ],
   "source": [
    "print(shopping[1])"
   ]
  },
  {
   "cell_type": "code",
   "execution_count": 83,
   "id": "7936e940-2d09-4eea-8fb1-7bb7080d92c7",
   "metadata": {},
   "outputs": [
    {
     "name": "stdout",
     "output_type": "stream",
     "text": [
      "['хлеб', 'banany']\n"
     ]
    }
   ],
   "source": [
    "shopping[1] = 'banany'\n",
    "print(shopping[0:2])"
   ]
  },
  {
   "cell_type": "code",
   "execution_count": 85,
   "id": "48594752-2815-4bec-9f00-f0f210306c2d",
   "metadata": {},
   "outputs": [
    {
     "data": {
      "text/plain": [
       "['хлеб', 'banany', 'yayca', 'apples']"
      ]
     },
     "execution_count": 85,
     "metadata": {},
     "output_type": "execute_result"
    }
   ],
   "source": [
    "shopping.append(\"apples\")\n",
    "shopping"
   ]
  },
  {
   "cell_type": "code",
   "execution_count": 87,
   "id": "e6cba602-265d-485c-92bc-afc404e7f98f",
   "metadata": {},
   "outputs": [
    {
     "data": {
      "text/plain": [
       "['хлеб', 'banany', 'ham', 'yayca', 'apples']"
      ]
     },
     "execution_count": 87,
     "metadata": {},
     "output_type": "execute_result"
    }
   ],
   "source": [
    "shopping.insert(2, \"ham\")\n",
    "shopping"
   ]
  },
  {
   "cell_type": "code",
   "execution_count": 89,
   "id": "3b13c726-fd45-493c-85f0-94dcb2d6b814",
   "metadata": {},
   "outputs": [
    {
     "name": "stdout",
     "output_type": "stream",
     "text": [
      "['banany', 'ham', 'yayca', 'apples']\n"
     ]
    }
   ],
   "source": [
    "print(shopping[1:])"
   ]
  },
  {
   "cell_type": "code",
   "execution_count": 91,
   "id": "b37d3f0c-6d9a-4fa2-84f0-9f7f2da41589",
   "metadata": {},
   "outputs": [
    {
     "name": "stdout",
     "output_type": "stream",
     "text": [
      "['хлеб']\n"
     ]
    }
   ],
   "source": [
    "print(shopping[:1])\n"
   ]
  },
  {
   "cell_type": "code",
   "execution_count": 93,
   "id": "1686a550-5f0b-45fb-9d66-124d169d220d",
   "metadata": {},
   "outputs": [
    {
     "name": "stdout",
     "output_type": "stream",
     "text": [
      "['banany', 'ham', 'yayca', 'apples']\n"
     ]
    }
   ],
   "source": [
    "print(shopping[1:])\n"
   ]
  },
  {
   "cell_type": "code",
   "execution_count": 95,
   "id": "34254d65-8776-4d28-a351-c4857a95240c",
   "metadata": {},
   "outputs": [
    {
     "name": "stdout",
     "output_type": "stream",
     "text": [
      "['ham', 'yayca']\n"
     ]
    }
   ],
   "source": [
    "print(shopping[-3:-1])"
   ]
  }
 ],
 "metadata": {
  "kernelspec": {
   "display_name": "Python 3 (ipykernel)",
   "language": "python",
   "name": "python3"
  },
  "language_info": {
   "codemirror_mode": {
    "name": "ipython",
    "version": 3
   },
   "file_extension": ".py",
   "mimetype": "text/x-python",
   "name": "python",
   "nbconvert_exporter": "python",
   "pygments_lexer": "ipython3",
   "version": "3.12.4"
  }
 },
 "nbformat": 4,
 "nbformat_minor": 5
}
