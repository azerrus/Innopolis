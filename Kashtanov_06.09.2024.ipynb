{
 "cells": [
  {
   "attachments": {},
   "cell_type": "markdown",
   "id": "a270dfdd-3e88-4419-af22-893d3e2c9836",
   "metadata": {},
   "source": [
    "### Напишите программу, которая принимает на вход три числовых аргумента: loan, rate, pmt (сумма кредита, ставка и платеж) и реализует следующую логику:\r\n",
    "если платеж меньше или равен произведению loan и rate, то программа выдает сообщение 'Кредит никогда не будет погашен’\r\n",
    "в противном случае функция запускает цикл while, в котором будет рассчитываться ежегодный остаток долга по формуле \r\n",
    "  \tloan= loan + loan×rate-pmt\r\n",
    "Внутри цикла должен быть помещен счетчик лет, например, переменная n. \r\n",
    "Цикл продолжается пока переменная loan остается положительной. \r\n",
    "В качестве результата цикл выдает сообщение 'Кредит будет погашен через n лет', где n должна вычисляться внутри цикла."
   ]
  },
  {
   "cell_type": "code",
   "execution_count": 29,
   "id": "2e8a2af1-cb6c-4148-8485-09059305b7d5",
   "metadata": {},
   "outputs": [
    {
     "name": "stdin",
     "output_type": "stream",
     "text": [
      "Введите сумму кредита \n",
      " 1000\n",
      "Введите ставку \n",
      " 0.2\n",
      "Введите размер платежа \n",
      " 300\n"
     ]
    },
    {
     "name": "stdout",
     "output_type": "stream",
     "text": [
      "Кредит будет погашен через 7 лет\n"
     ]
    }
   ],
   "source": [
    "loan = input('Введите сумму кредита \\n')\n",
    "try:\n",
    "    loan = float(loan) \n",
    "    rate = input('Введите ставку \\n')\n",
    "    try:\n",
    "        rate = float(rate)\n",
    "        pmt = input('Введите размер платежа \\n')\n",
    "        try:\n",
    "            pmt = float(pmt)\n",
    "            if loan * rate >= pmt:\n",
    "                print('Кредит никогда не будет погашен')\n",
    "            else:\n",
    "                n = 0\n",
    "                while loan > 0:\n",
    "                    loan = loan + loan * rate - pmt\n",
    "                    n += 1\n",
    "                print('Кредит будет погашен через', n, 'лет')\n",
    "        except:\n",
    "            print('Введите размер платежа ввиде числа >0!')\n",
    "    except:\n",
    "        print('Введите ставку ввиде числа >0!')\n",
    "except:\n",
    "    print('Введите сумму кредита ввиде числа >0!')"
   ]
  },
  {
   "cell_type": "code",
   "execution_count": null,
   "id": "aa5f619b-e85c-47c3-8da1-d15aab16bd6e",
   "metadata": {},
   "outputs": [],
   "source": []
  }
 ],
 "metadata": {
  "kernelspec": {
   "display_name": "Python 3 (ipykernel)",
   "language": "python",
   "name": "python3"
  },
  "language_info": {
   "codemirror_mode": {
    "name": "ipython",
    "version": 3
   },
   "file_extension": ".py",
   "mimetype": "text/x-python",
   "name": "python",
   "nbconvert_exporter": "python",
   "pygments_lexer": "ipython3",
   "version": "3.12.4"
  }
 },
 "nbformat": 4,
 "nbformat_minor": 5
}
