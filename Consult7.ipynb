{
 "cells": [
  {
   "cell_type": "code",
   "execution_count": 5,
   "id": "ae6d1f62",
   "metadata": {},
   "outputs": [],
   "source": [
    "import os\n",
    "import pandas as pd"
   ]
  },
  {
   "cell_type": "code",
   "execution_count": 2,
   "id": "391e240a",
   "metadata": {},
   "outputs": [],
   "source": [
    "dir_name = r'C:\\Courses\\Python for excel users\\Data\\Lesson10\\Many Excel'"
   ]
  },
  {
   "cell_type": "code",
   "execution_count": 29,
   "id": "118c9ddb",
   "metadata": {},
   "outputs": [],
   "source": [
    "res_table = pd.DataFrame()"
   ]
  },
  {
   "cell_type": "code",
   "execution_count": 19,
   "id": "1088ae16",
   "metadata": {},
   "outputs": [
    {
     "data": {
      "text/plain": [
       "'a.b'"
      ]
     },
     "execution_count": 19,
     "metadata": {},
     "output_type": "execute_result"
    }
   ],
   "source": [
    "'a' + '.' + 'b'"
   ]
  },
  {
   "cell_type": "code",
   "execution_count": 18,
   "id": "c5fc9491",
   "metadata": {},
   "outputs": [
    {
     "data": {
      "text/plain": [
       "'a.b'"
      ]
     },
     "execution_count": 18,
     "metadata": {},
     "output_type": "execute_result"
    }
   ],
   "source": [
    "'.'.join(['a', 'b'])"
   ]
  },
  {
   "cell_type": "code",
   "execution_count": 30,
   "id": "4ae43adf",
   "metadata": {},
   "outputs": [
    {
     "name": "stdout",
     "output_type": "stream",
     "text": [
      "(114021, 6)\n",
      "(219278, 6)\n",
      "(337134, 6)\n",
      "(428905, 6)\n",
      "(516409, 6)\n",
      "(612231, 6)\n"
     ]
    }
   ],
   "source": [
    "for root, dirs, files in os.walk(dir_name, topdown = False):\n",
    "    for file in files:\n",
    "        #path = '\\\\'.join([root, file])\n",
    "        path = root + '\\\\' + file\n",
    "        table = pd.read_csv(path)\n",
    "        res_table = pd.concat([res_table, table]) \n",
    "        print(res_table.shape)"
   ]
  },
  {
   "cell_type": "markdown",
   "id": "07090b18",
   "metadata": {},
   "source": [
    "### Интро в Машинное обучение"
   ]
  },
  {
   "cell_type": "markdown",
   "id": "beb8ebfa",
   "metadata": {},
   "source": [
    "Основная библиотека: https://scikit-learn.org/stable/"
   ]
  },
  {
   "cell_type": "markdown",
   "id": "1df2a123",
   "metadata": {},
   "source": [
    "I) Supervised learning (обучение с учителем)"
   ]
  },
  {
   "cell_type": "markdown",
   "id": "16e6aad3",
   "metadata": {},
   "source": [
    "1) Classification - модели, в которых предсказывается как правило бинарный результ (0 или 1)\n",
    "\n",
    "Заплатит (1) или нет (0) по кредиту заемщик\n",
    "\n",
    "Уйдет (1) или нет (0) от нас клиент\n",
    "\n",
    "Совершит (1) или не совершит (0) клиент заказ"
   ]
  },
  {
   "cell_type": "markdown",
   "id": "5cf91355",
   "metadata": {},
   "source": [
    "2) Regression - модели, в которых предсказывается числовой результат\n",
    "\n",
    "Предсказание выручки по клиенту\n",
    "\n",
    "Предсказание убытка по страховому случаю\n",
    "\n",
    "Предсказание дохода по инвест.портфелю\n",
    "\n",
    "Предсказание размера ущерба от мошеннических действий"
   ]
  },
  {
   "cell_type": "markdown",
   "id": "c412bc6e",
   "metadata": {},
   "source": [
    "II) Unsupervised learning (обучение без учителя)"
   ]
  },
  {
   "cell_type": "markdown",
   "id": "d3b3bf83",
   "metadata": {},
   "source": [
    "3. Clustering - попытка разделить наблюдения на группы (кластеры) таким образом, чтобы между наблюдениями одного кластера было как можно больше сходств, но между наблюдениями разных кластеров было как можно больше различий\n",
    "\n",
    "Кластеризация клиентов по каким-то признакам\n",
    "\n",
    "Кластеризация посетителей сайта\n",
    "\n",
    "Кластеризация партий на производственной линии\n",
    "\n",
    "\n",
    "В этой группе задач находится такой тип задач как выявление аномалий"
   ]
  },
  {
   "cell_type": "markdown",
   "id": "9d9ba0d2",
   "metadata": {},
   "source": [
    "III) Инструментарий для подготовки данных"
   ]
  },
  {
   "cell_type": "markdown",
   "id": "61d3b3a8",
   "metadata": {},
   "source": [
    "4. Dimensionality reduction - когда в базе данных находится большое количество признаков и для ускорения расчетов эти признаки (м.б сотни и тысячи) каким-либо образом \"сжимаются\""
   ]
  },
  {
   "cell_type": "markdown",
   "id": "97ad07e1",
   "metadata": {},
   "source": [
    "5. Model selection - для решения одной и той же задачи можно использовать множество различных моделей\n",
    "\n",
    "Содержит метрики качества моделей, с помощью которых и можно сделать выбор в пользу наилучшей и методы поиска наилучших параметров для выбранной модели"
   ]
  },
  {
   "cell_type": "markdown",
   "id": "e921c66a",
   "metadata": {},
   "source": [
    "6. Preprocessing - подготовка данных перед использованием в модели. Очистка от выбросов, от NA, стандартизация и нормализация и другое"
   ]
  },
  {
   "cell_type": "markdown",
   "id": "80a9204a",
   "metadata": {},
   "source": [
    "### Идея обучения модели в supervised learning"
   ]
  },
  {
   "cell_type": "markdown",
   "id": "184fb7a9",
   "metadata": {},
   "source": [
    "1) Нужно собрать \"размеченные\" данные. Т.е. данные, в которых известно значение того показателя, который мы собираемся предсказывать.\n",
    "\n",
    "Данные состоят из двух частей: (1) данные по целевой переменной (target, y) и (2) данные по тем переменным (features, X), которые могут использоваться для предсказания таргета\n",
    "\n",
    "В задаче классификации y принимает два значения: 0 или 1\n",
    "\n",
    "В задаче регрессии y принимает любые числовые значения\n",
    "\n",
    "2) Собранные данные y и X разбиваются на 2 или 3 части: train / test или train / validation / test\n",
    "\n",
    "Нужно проверить, насколько хорошо обучившаяся модель делает предсказания на тех данных, которых она не \"видела\". Учим модель на части train, а потом проверяем ее качество на части test.\n",
    "\n",
    "Часть validation используется для \"тонкой настройки\" параметров модели после обучения, но до оценки на тестовой выборке."
   ]
  },
  {
   "cell_type": "markdown",
   "id": "03785c0a",
   "metadata": {},
   "source": [
    "### Отличие unsupervised learning"
   ]
  },
  {
   "cell_type": "markdown",
   "id": "9d34d207",
   "metadata": {},
   "source": [
    "Для задач обучения без учителя исследователь не знает значения целевой переменной. Модель должна на основе \"скрытых\" взаимосвязей в данных сама предложить, к какой группе относится то или иное наблюдения"
   ]
  }
 ],
 "metadata": {
  "kernelspec": {
   "display_name": "Python 3 (ipykernel)",
   "language": "python",
   "name": "python3"
  },
  "language_info": {
   "codemirror_mode": {
    "name": "ipython",
    "version": 3
   },
   "file_extension": ".py",
   "mimetype": "text/x-python",
   "name": "python",
   "nbconvert_exporter": "python",
   "pygments_lexer": "ipython3",
   "version": "3.11.5"
  }
 },
 "nbformat": 4,
 "nbformat_minor": 5
}
