{
 "cells": [
  {
   "cell_type": "markdown",
   "id": "026e3654-b695-496c-a954-b9589ef5976e",
   "metadata": {},
   "source": [
    "### заголовок"
   ]
  },
  {
   "cell_type": "markdown",
   "id": "92377f3c-9a36-4976-8c8b-f946d15ec37e",
   "metadata": {},
   "source": [
    "начало"
   ]
  },
  {
   "cell_type": "code",
   "execution_count": 38,
   "id": "4286032f-1fcf-4939-bccf-4ed93acfc113",
   "metadata": {
    "scrolled": true
   },
   "outputs": [
    {
     "name": "stdout",
     "output_type": "stream",
     "text": [
      "240\n"
     ]
    }
   ],
   "source": [
    "a = 15  #hour\n",
    "b = 16\n",
    "c = a * b\n",
    "print (c)"
   ]
  },
  {
   "cell_type": "code",
   "execution_count": 44,
   "id": "be863075-bf4e-43cb-a34a-065e4257a1f1",
   "metadata": {},
   "outputs": [
    {
     "data": {
      "text/plain": [
       "240"
      ]
     },
     "execution_count": 44,
     "metadata": {},
     "output_type": "execute_result"
    }
   ],
   "source": [
    "c"
   ]
  },
  {
   "cell_type": "markdown",
   "id": "45258850-a912-4117-b7e3-95088c51a0f5",
   "metadata": {},
   "source": [
    "### текст"
   ]
  },
  {
   "cell_type": "markdown",
   "id": "550ef60e-6c84-4d14-9eb9-9c55a1f4e9dc",
   "metadata": {},
   "source": [
    "мат операции"
   ]
  },
  {
   "cell_type": "code",
   "execution_count": 17,
   "id": "77e5229c-9b01-4332-9c99-2a4ae4767615",
   "metadata": {},
   "outputs": [
    {
     "data": {
      "text/plain": [
       "int"
      ]
     },
     "execution_count": 17,
     "metadata": {},
     "output_type": "execute_result"
    }
   ],
   "source": [
    "type(12)"
   ]
  }
 ],
 "metadata": {
  "kernelspec": {
   "display_name": "Python 3 (ipykernel)",
   "language": "python",
   "name": "python3"
  },
  "language_info": {
   "codemirror_mode": {
    "name": "ipython",
    "version": 3
   },
   "file_extension": ".py",
   "mimetype": "text/x-python",
   "name": "python",
   "nbconvert_exporter": "python",
   "pygments_lexer": "ipython3",
   "version": "3.12.4"
  }
 },
 "nbformat": 4,
 "nbformat_minor": 5
}
