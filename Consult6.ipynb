{
 "cells": [
  {
   "cell_type": "code",
   "execution_count": 2,
   "id": "0088d8c4",
   "metadata": {},
   "outputs": [],
   "source": [
    "import numpy as np\n",
    "import pandas as pd\n",
    "from scipy import stats\n",
    "import matplotlib.pyplot as plt\n",
    "import seaborn as sns"
   ]
  },
  {
   "cell_type": "markdown",
   "id": "bb71054f",
   "metadata": {},
   "source": [
    "1) Мир теории вероятностей. Математические модели для описания процессов, которые носят случайный характер\n",
    "\n",
    "Случайные величины и их распределения:\n",
    "- равномерное\n",
    "- экспоненциальное\n",
    "- нормальное\n",
    "- биномиальное\n",
    "- гипергеометрическое \n",
    "\n",
    "Для каждого такого распределения есть конкретная формула, по которой мы можем сказать, с какой вероятностью случайная величина окажется В КАКОМ-ТО ИНТЕРВАЛЕ ЗНАЧЕНИЙ (например, от 0,5 до 0,8)"
   ]
  },
  {
   "cell_type": "code",
   "execution_count": 3,
   "id": "28466f90",
   "metadata": {},
   "outputs": [],
   "source": [
    "# Предположим, наш мир устроен так, что рост человека (Х) имеет нормальное распределение с параметрами \n",
    "# mean = 170 (мат ожидание) и variance = 400 (дисперсия)"
   ]
  },
  {
   "cell_type": "markdown",
   "id": "b30d90da",
   "metadata": {},
   "source": [
    "2) Реальный осязаемый мир, в котором на наблюдаемые процессы влияет огромное число факторов, описать которые всецело невозможно.\n",
    "\n",
    "И мы хотим, абстрагируясь от каких-то маловажных факторов, описать интересующий нас процесс (случайную величину) с помощью какой-либо модели из мира теории вероятностей.\n",
    "\n",
    "Возникает несколько вопросов:\n",
    "- какое распределение использовать?\n",
    "- каковы параметры этого распределения?\n",
    "- как понять, что это распределение действительно нам подходит и дает адекватные результаты?\n",
    "- как понять, что наблюдения из двух разных групп могут быть описаны одним или разными распределениями?\n",
    "\n",
    "Несколько правил: \n",
    "- Любое наблюдение (конкретное число, которое мы регистрируем) явлется частным случаем реализации случайной величины, которую мы изучаем. Одна и та же монета, брошенная 100 раз, может дать различное количество орлов.\n",
    "- Просто глядя на наблюдения (тем более на 1 реализацию) нельзя что-либо определенное сказать про подходящую мат модель для этого процесса. Чем больше наблюдений, тем точнее мы можем ОЦЕНИТЬ параметры распределения интересующей нас величины.\n",
    "- При очень большом количестве наблюдений даже незначительные отлокнения от \"идеала\" могут приводить к тому, что наблюдаемые данные не будут соответствовать \"идеалу\"."
   ]
  },
  {
   "cell_type": "code",
   "execution_count": 77,
   "id": "d3360d02",
   "metadata": {},
   "outputs": [],
   "source": [
    "mean = 170\n",
    "var = 400\n",
    "std = np.sqrt(var)\n",
    "n = 10\n",
    "np.random.seed(1)\n",
    "sample1 = np.round(stats.norm.rvs(loc = mean, scale = std, size = n), 2)\n",
    "\n",
    "np.random.seed(10)\n",
    "sample2 = np.round(stats.norm.rvs(loc = mean+10, scale = std, size = n), 2)"
   ]
  },
  {
   "cell_type": "markdown",
   "id": "d5fcaa55",
   "metadata": {},
   "source": [
    "3. Все, что в наших силах - это проверить, насколько наблюдаемые данные адекватны либо неадекватны предлагаемой математической (теоретической) модели. \n",
    "\n",
    "Мы предполагаем, что модель адекватна (нулевая гипотеза). Либо, что у модели есть какие-то конкретные значения параметров (среднее, дисперсия или что-то еще).\n",
    "\n",
    "На основе этого предположения мы находим такой интервал значений, в который может попадать интересующая нас случайная величина с заданной вероятностью (либо какая-то ее трансформация, обладающая удобными для математики свойствами). Такая случайная величина называется \"статистика\". \n",
    "\n",
    "А дальше мы проверяем, попадает ли расчетное значение этой \"статистики\", полученное на основе выборки, в указанный интервал. Если оно попадает, тогда нет оснований считать, что данные противоречат выбранной модели (выдвинутой гипотезе). Тогда можно использовать эту модель для моделирования процессов, связанных с интересующей случайной величиной\n",
    "\n",
    "Если же расчетное значение оказывается за пределами интервала, тогда данные противоречат выбранной модели. Либо нужно использовать другую модель, либо гипотетическое значение параметра неадекватно. "
   ]
  },
  {
   "cell_type": "code",
   "execution_count": 78,
   "id": "d749a6cc",
   "metadata": {},
   "outputs": [
    {
     "name": "stdout",
     "output_type": "stream",
     "text": [
      "[202.49 157.76 159.44 148.54 187.31 123.97 204.9  154.78 176.38 165.01]\n",
      "[206.63 194.31 149.09 179.83 192.43 165.6  185.31 182.17 180.09 176.51]\n"
     ]
    }
   ],
   "source": [
    "# Мы хотим ответить на ряд важных вопросов\n",
    "# 1: Каков средний рост человека?\n",
    "# 2: Допустим, sample1 собран в стране А, а sample2 собран в стране Б. \n",
    "# Достаточно ли у нас оснований считать, что средний рост людей в этих странах отличается?\n",
    "# 3: Адекватно ли использовать нормальное распределение для описания роста человека как случайной величины?\n",
    "print(sample1)\n",
    "print(sample2)"
   ]
  },
  {
   "cell_type": "code",
   "execution_count": 79,
   "id": "2ecbbe40",
   "metadata": {},
   "outputs": [
    {
     "name": "stdout",
     "output_type": "stream",
     "text": [
      "168.05800000000002 181.19699999999997\n"
     ]
    }
   ],
   "source": [
    "print(sample1.mean(), sample2.mean())"
   ]
  },
  {
   "cell_type": "code",
   "execution_count": 80,
   "id": "477d238e",
   "metadata": {},
   "outputs": [],
   "source": [
    "alpha = 0.05"
   ]
  },
  {
   "cell_type": "code",
   "execution_count": 81,
   "id": "34f25fda",
   "metadata": {},
   "outputs": [
    {
     "data": {
      "text/plain": [
       "(np.float64(153.29515215106218), np.float64(182.82084784893786))"
      ]
     },
     "execution_count": 81,
     "metadata": {},
     "output_type": "execute_result"
    }
   ],
   "source": [
    "stats.norm.interval(confidence = 1-alpha, loc = sample1.mean(), scale = np.sqrt(sample1.var()/len(sample1)))"
   ]
  },
  {
   "cell_type": "code",
   "execution_count": 82,
   "id": "b4c0b379",
   "metadata": {},
   "outputs": [
    {
     "data": {
      "text/plain": [
       "(np.float64(171.87527445158292), np.float64(190.51872554841702))"
      ]
     },
     "execution_count": 82,
     "metadata": {},
     "output_type": "execute_result"
    }
   ],
   "source": [
    "stats.norm.interval(confidence = 1-alpha, loc = sample2.mean(), scale = np.sqrt(sample2.var()/len(sample2)))"
   ]
  },
  {
   "cell_type": "markdown",
   "id": "d3007128",
   "metadata": {},
   "source": [
    "Собранные данные не будут противоречить распределениям случайной величины с математическим ожиданием от 153.3 до 182.8 см с вероятностью 95%"
   ]
  },
  {
   "cell_type": "code",
   "execution_count": 83,
   "id": "128a17a9",
   "metadata": {},
   "outputs": [
    {
     "data": {
      "text/plain": [
       "TtestResult(statistic=np.float64(-1.3992598009947217), pvalue=np.float64(0.17873189515658366), df=np.float64(18.0))"
      ]
     },
     "execution_count": 83,
     "metadata": {},
     "output_type": "execute_result"
    }
   ],
   "source": [
    "stats.ttest_ind(sample1, sample2)"
   ]
  },
  {
   "cell_type": "markdown",
   "id": "1e6ce6ee",
   "metadata": {},
   "source": [
    "p-value - это вероятность, что данные не противоречат гипотезе о равенстве роста в двух странах, т.е. это вероятность, что между жителями двух стран нет разницы в росте\n",
    "\n",
    "Наблюдаемые данные не противоречат гипотезе, что рост жителей стран не отличается"
   ]
  },
  {
   "cell_type": "code",
   "execution_count": 58,
   "id": "fff630f4",
   "metadata": {},
   "outputs": [
    {
     "name": "stdout",
     "output_type": "stream",
     "text": [
      "ShapiroResult(statistic=np.float64(0.9563838363944316), pvalue=np.float64(0.7439854593576153))\n",
      "ShapiroResult(statistic=np.float64(0.9610390159178497), pvalue=np.float64(0.7976528446773954))\n"
     ]
    }
   ],
   "source": [
    "print(stats.shapiro(sample1))\n",
    "print(stats.shapiro(sample2))"
   ]
  },
  {
   "cell_type": "code",
   "execution_count": 41,
   "id": "b88b29f1",
   "metadata": {},
   "outputs": [
    {
     "data": {
      "text/plain": [
       "<Axes: ylabel='Count'>"
      ]
     },
     "execution_count": 41,
     "metadata": {},
     "output_type": "execute_result"
    },
    {
     "data": {
      "image/png": "[encoded data removed]",
      "text/plain": [
       "<Figure size 640x480 with 1 Axes>"
      ]
     },
     "metadata": {},
     "output_type": "display_data"
    }
   ],
   "source": [
    "sns.histplot(sample1)"
   ]
  },
  {
   "cell_type": "code",
   "execution_count": 42,
   "id": "14ad1df0",
   "metadata": {},
   "outputs": [
    {
     "data": {
      "text/plain": [
       "<Axes: ylabel='Count'>"
      ]
     },
     "execution_count": 42,
     "metadata": {},
     "output_type": "execute_result"
    },
    {
     "data": {
      "image/png": "[encoded data removed]",
      "text/plain": [
       "<Figure size 640x480 with 1 Axes>"
      ]
     },
     "metadata": {},
     "output_type": "display_data"
    }
   ],
   "source": [
    "sns.histplot(sample2)"
   ]
  },
  {
   "cell_type": "code",
   "execution_count": 69,
   "id": "118a0e1f",
   "metadata": {},
   "outputs": [],
   "source": [
    "mean = 170\n",
    "var = 400\n",
    "std = np.sqrt(var)\n",
    "n = 10000\n",
    "np.random.seed(1)\n",
    "sample1 = np.round(stats.norm.rvs(loc = mean, scale = std, size = n), 2)\n",
    "\n",
    "np.random.seed(10)\n",
    "sample2 = np.round(stats.norm.rvs(loc = mean+1, scale = std, size = n), 2)"
   ]
  },
  {
   "cell_type": "code",
   "execution_count": 70,
   "id": "a18cf813",
   "metadata": {},
   "outputs": [
    {
     "data": {
      "text/plain": [
       "(np.float64(169.80397335421927), np.float64(170.58700864578074))"
      ]
     },
     "execution_count": 70,
     "metadata": {},
     "output_type": "execute_result"
    }
   ],
   "source": [
    "stats.norm.interval(confidence = 1-alpha, loc = sample1.mean(), scale = np.sqrt(sample1.var()/len(sample1)))"
   ]
  },
  {
   "cell_type": "code",
   "execution_count": 71,
   "id": "34ba65c5",
   "metadata": {},
   "outputs": [
    {
     "data": {
      "text/plain": [
       "(np.float64(170.7140407271257), np.float64(171.48992327287428))"
      ]
     },
     "execution_count": 71,
     "metadata": {},
     "output_type": "execute_result"
    }
   ],
   "source": [
    "stats.norm.interval(confidence = 1-alpha, loc = sample2.mean(), scale = np.sqrt(sample2.var()/len(sample2)))"
   ]
  },
  {
   "cell_type": "code",
   "execution_count": 72,
   "id": "fd6cd9bb",
   "metadata": {},
   "outputs": [
    {
     "name": "stdout",
     "output_type": "stream",
     "text": [
      "170.195491 171.101982\n"
     ]
    }
   ],
   "source": [
    "print(sample1.mean(), sample2.mean())"
   ]
  },
  {
   "cell_type": "code",
   "execution_count": 73,
   "id": "b14ba974",
   "metadata": {},
   "outputs": [
    {
     "data": {
      "text/plain": [
       "TtestResult(statistic=np.float64(-3.2233470509279782), pvalue=np.float64(0.0012690507190869639), df=np.float64(19998.0))"
      ]
     },
     "execution_count": 73,
     "metadata": {},
     "output_type": "execute_result"
    }
   ],
   "source": [
    "stats.ttest_ind(sample1, sample2)"
   ]
  },
  {
   "cell_type": "markdown",
   "id": "7313f532",
   "metadata": {},
   "source": [
    "t-test говорит, что разница в росте есть!"
   ]
  },
  {
   "cell_type": "code",
   "execution_count": 74,
   "id": "53ac4d29",
   "metadata": {},
   "outputs": [
    {
     "name": "stdout",
     "output_type": "stream",
     "text": [
      "ShapiroResult(statistic=np.float64(0.9998155904042466), pvalue=np.float64(0.590375094900416))\n",
      "ShapiroResult(statistic=np.float64(0.9998043967266134), pvalue=np.float64(0.5282027519837116))\n"
     ]
    },
    {
     "name": "stderr",
     "output_type": "stream",
     "text": [
      "C:\\Anaconda\\Lib\\site-packages\\scipy\\stats\\_axis_nan_policy.py:573: UserWarning: scipy.stats.shapiro: For N > 5000, computed p-value may not be accurate. Current N is 10000.\n",
      "  res = hypotest_fun_out(*samples, **kwds)\n"
     ]
    }
   ],
   "source": [
    "print(stats.shapiro(sample1))\n",
    "print(stats.shapiro(sample2))"
   ]
  },
  {
   "cell_type": "code",
   "execution_count": 76,
   "id": "51e70250",
   "metadata": {},
   "outputs": [
    {
     "data": {
      "text/plain": [
       "<Axes: ylabel='Count'>"
      ]
     },
     "execution_count": 76,
     "metadata": {},
     "output_type": "execute_result"
    },
    {
     "data": {
      "image/png": "[encoded data removed]",
      "text/plain": [
       "<Figure size 640x480 with 1 Axes>"
      ]
     },
     "metadata": {},
     "output_type": "display_data"
    }
   ],
   "source": [
    "sns.histplot(sample1, kde = True)"
   ]
  }
 ],
 "metadata": {
  "kernelspec": {
   "display_name": "Python 3 (ipykernel)",
   "language": "python",
   "name": "python3"
  },
  "language_info": {
   "codemirror_mode": {
    "name": "ipython",
    "version": 3
   },
   "file_extension": ".py",
   "mimetype": "text/x-python",
   "name": "python",
   "nbconvert_exporter": "python",
   "pygments_lexer": "ipython3",
   "version": "3.11.5"
  }
 },
 "nbformat": 4,
 "nbformat_minor": 5
}
