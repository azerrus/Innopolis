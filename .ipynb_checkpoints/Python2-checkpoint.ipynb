{
 "cells": [
  {
   "cell_type": "markdown",
   "id": "c9d6de13",
   "metadata": {},
   "source": [
    "## Основы Python. Занятие 2"
   ]
  },
  {
   "cell_type": "markdown",
   "id": "b9f589f9",
   "metadata": {},
   "source": [
    "### Строки"
   ]
  },
  {
   "cell_type": "code",
   "execution_count": 1,
   "id": "707b873a",
   "metadata": {},
   "outputs": [],
   "source": [
    "grade = 'mark'"
   ]
  },
  {
   "cell_type": "code",
   "execution_count": 2,
   "id": "4ae124aa",
   "metadata": {},
   "outputs": [
    {
     "data": {
      "text/plain": [
       "str"
      ]
     },
     "execution_count": 2,
     "metadata": {},
     "output_type": "execute_result"
    }
   ],
   "source": [
    "type(grade)"
   ]
  },
  {
   "cell_type": "code",
   "execution_count": 3,
   "id": "66182150",
   "metadata": {},
   "outputs": [
    {
     "data": {
      "text/plain": [
       "4"
      ]
     },
     "execution_count": 3,
     "metadata": {},
     "output_type": "execute_result"
    }
   ],
   "source": [
    "len(grade)"
   ]
  },
  {
   "cell_type": "code",
   "execution_count": 4,
   "id": "f257d3c7",
   "metadata": {},
   "outputs": [
    {
     "data": {
      "text/plain": [
       "'a'"
      ]
     },
     "execution_count": 4,
     "metadata": {},
     "output_type": "execute_result"
    }
   ],
   "source": [
    "grade[1]"
   ]
  },
  {
   "cell_type": "code",
   "execution_count": 5,
   "id": "70a116b0",
   "metadata": {},
   "outputs": [
    {
     "data": {
      "text/plain": [
       "'ar'"
      ]
     },
     "execution_count": 5,
     "metadata": {},
     "output_type": "execute_result"
    }
   ],
   "source": [
    "grade[1:3]"
   ]
  },
  {
   "cell_type": "code",
   "execution_count": 6,
   "id": "a03b2250",
   "metadata": {},
   "outputs": [
    {
     "name": "stdout",
     "output_type": "stream",
     "text": [
      "a\n"
     ]
    }
   ],
   "source": [
    "letter = grade[1]\n",
    "print(letter)"
   ]
  },
  {
   "cell_type": "code",
   "execution_count": 7,
   "id": "24613436",
   "metadata": {},
   "outputs": [
    {
     "data": {
      "text/plain": [
       "'k'"
      ]
     },
     "execution_count": 7,
     "metadata": {},
     "output_type": "execute_result"
    }
   ],
   "source": [
    "grade[-1]"
   ]
  },
  {
   "cell_type": "code",
   "execution_count": 9,
   "id": "72d41433",
   "metadata": {},
   "outputs": [
    {
     "data": {
      "text/plain": [
       "'k'"
      ]
     },
     "execution_count": 9,
     "metadata": {},
     "output_type": "execute_result"
    }
   ],
   "source": [
    "grade[len(grade)-1]"
   ]
  },
  {
   "cell_type": "code",
   "execution_count": 10,
   "id": "c21815cb",
   "metadata": {},
   "outputs": [],
   "source": [
    "s = 'project management'"
   ]
  },
  {
   "cell_type": "code",
   "execution_count": 13,
   "id": "f846b3e8",
   "metadata": {},
   "outputs": [
    {
     "data": {
      "text/plain": [
       "'pjta'"
      ]
     },
     "execution_count": 13,
     "metadata": {},
     "output_type": "execute_result"
    }
   ],
   "source": [
    "s[0:10:3]"
   ]
  },
  {
   "cell_type": "code",
   "execution_count": 14,
   "id": "0761e3c4",
   "metadata": {},
   "outputs": [
    {
     "data": {
      "text/plain": [
       "'proj'"
      ]
     },
     "execution_count": 14,
     "metadata": {},
     "output_type": "execute_result"
    }
   ],
   "source": [
    "s[:4]"
   ]
  },
  {
   "cell_type": "code",
   "execution_count": 15,
   "id": "273d804e",
   "metadata": {},
   "outputs": [
    {
     "data": {
      "text/plain": [
       "'ect management'"
      ]
     },
     "execution_count": 15,
     "metadata": {},
     "output_type": "execute_result"
    }
   ],
   "source": [
    "s[4:]"
   ]
  },
  {
   "cell_type": "code",
   "execution_count": 17,
   "id": "42759b7e",
   "metadata": {},
   "outputs": [
    {
     "ename": "TypeError",
     "evalue": "'str' object does not support item assignment",
     "output_type": "error",
     "traceback": [
      "\u001b[1;31m---------------------------------------------------------------------------\u001b[0m",
      "\u001b[1;31mTypeError\u001b[0m                                 Traceback (most recent call last)",
      "Cell \u001b[1;32mIn[17], line 1\u001b[0m\n\u001b[1;32m----> 1\u001b[0m s[\u001b[38;5;241m4\u001b[39m] \u001b[38;5;241m=\u001b[39m \u001b[38;5;124m'\u001b[39m\u001b[38;5;124mE\u001b[39m\u001b[38;5;124m'\u001b[39m\n",
      "\u001b[1;31mTypeError\u001b[0m: 'str' object does not support item assignment"
     ]
    }
   ],
   "source": [
    "s[4] = 'E'"
   ]
  },
  {
   "cell_type": "markdown",
   "id": "61223512",
   "metadata": {},
   "source": [
    "### Операции со строками"
   ]
  },
  {
   "cell_type": "code",
   "execution_count": 20,
   "id": "c10e9070",
   "metadata": {},
   "outputs": [
    {
     "data": {
      "text/plain": [
       "'mark project management'"
      ]
     },
     "execution_count": 20,
     "metadata": {},
     "output_type": "execute_result"
    }
   ],
   "source": [
    "grade + \" \" + s"
   ]
  },
  {
   "cell_type": "code",
   "execution_count": 22,
   "id": "8d107141",
   "metadata": {},
   "outputs": [
    {
     "data": {
      "text/plain": [
       "'mark mark mark '"
      ]
     },
     "execution_count": 22,
     "metadata": {},
     "output_type": "execute_result"
    }
   ],
   "source": [
    "(grade + \" \") * 3"
   ]
  },
  {
   "cell_type": "code",
   "execution_count": 24,
   "id": "017364ba",
   "metadata": {},
   "outputs": [
    {
     "data": {
      "text/plain": [
       "True"
      ]
     },
     "execution_count": 24,
     "metadata": {},
     "output_type": "execute_result"
    }
   ],
   "source": [
    "'roj' in s"
   ]
  },
  {
   "cell_type": "code",
   "execution_count": 25,
   "id": "a517f65f",
   "metadata": {},
   "outputs": [
    {
     "data": {
      "text/plain": [
       "False"
      ]
     },
     "execution_count": 25,
     "metadata": {},
     "output_type": "execute_result"
    }
   ],
   "source": [
    "'Proj' in s"
   ]
  },
  {
   "cell_type": "code",
   "execution_count": 26,
   "id": "f8283eb8",
   "metadata": {},
   "outputs": [
    {
     "data": {
      "text/plain": [
       "True"
      ]
     },
     "execution_count": 26,
     "metadata": {},
     "output_type": "execute_result"
    }
   ],
   "source": [
    "'proj' in s"
   ]
  },
  {
   "cell_type": "code",
   "execution_count": 28,
   "id": "24f08055",
   "metadata": {},
   "outputs": [
    {
     "data": {
      "text/plain": [
       "True"
      ]
     },
     "execution_count": 28,
     "metadata": {},
     "output_type": "execute_result"
    }
   ],
   "source": [
    "grade == 'mark'"
   ]
  },
  {
   "cell_type": "code",
   "execution_count": 31,
   "id": "a265302e",
   "metadata": {},
   "outputs": [
    {
     "data": {
      "text/plain": [
       "False"
      ]
     },
     "execution_count": 31,
     "metadata": {},
     "output_type": "execute_result"
    }
   ],
   "source": [
    "grade < 'Mark'"
   ]
  },
  {
   "cell_type": "code",
   "execution_count": 32,
   "id": "ffb75acd",
   "metadata": {},
   "outputs": [
    {
     "data": {
      "text/plain": [
       "True"
      ]
     },
     "execution_count": 32,
     "metadata": {},
     "output_type": "execute_result"
    }
   ],
   "source": [
    "grade > 'Mark'"
   ]
  },
  {
   "cell_type": "code",
   "execution_count": 33,
   "id": "611f78b6",
   "metadata": {},
   "outputs": [
    {
     "data": {
      "text/plain": [
       "True"
      ]
     },
     "execution_count": 33,
     "metadata": {},
     "output_type": "execute_result"
    }
   ],
   "source": [
    "grade > ' mark'"
   ]
  },
  {
   "cell_type": "code",
   "execution_count": 35,
   "id": "44b5a94c",
   "metadata": {},
   "outputs": [
    {
     "data": {
      "text/plain": [
       "True"
      ]
     },
     "execution_count": 35,
     "metadata": {},
     "output_type": "execute_result"
    }
   ],
   "source": [
    "grade < 'marк'"
   ]
  },
  {
   "cell_type": "markdown",
   "id": "6d15ef4d",
   "metadata": {},
   "source": [
    "### Методы строк"
   ]
  },
  {
   "cell_type": "code",
   "execution_count": 36,
   "id": "72472752",
   "metadata": {},
   "outputs": [],
   "source": [
    "s = 'Innopolis'"
   ]
  },
  {
   "cell_type": "code",
   "execution_count": 37,
   "id": "4f566f64",
   "metadata": {},
   "outputs": [
    {
     "data": {
      "text/plain": [
       "'innopolis'"
      ]
     },
     "execution_count": 37,
     "metadata": {},
     "output_type": "execute_result"
    }
   ],
   "source": [
    "s.lower()"
   ]
  },
  {
   "cell_type": "code",
   "execution_count": 38,
   "id": "103c9582",
   "metadata": {},
   "outputs": [
    {
     "data": {
      "text/plain": [
       "'INNOPOLIS'"
      ]
     },
     "execution_count": 38,
     "metadata": {},
     "output_type": "execute_result"
    }
   ],
   "source": [
    "s.upper()"
   ]
  },
  {
   "cell_type": "code",
   "execution_count": 39,
   "id": "1d1aae1a",
   "metadata": {},
   "outputs": [
    {
     "data": {
      "text/plain": [
       "4"
      ]
     },
     "execution_count": 39,
     "metadata": {},
     "output_type": "execute_result"
    }
   ],
   "source": [
    "s.find('p')"
   ]
  },
  {
   "cell_type": "code",
   "execution_count": 41,
   "id": "5391e812",
   "metadata": {},
   "outputs": [
    {
     "data": {
      "text/plain": [
       "1"
      ]
     },
     "execution_count": 41,
     "metadata": {},
     "output_type": "execute_result"
    }
   ],
   "source": [
    "s.find('n')"
   ]
  },
  {
   "cell_type": "code",
   "execution_count": 43,
   "id": "1d8c28b4",
   "metadata": {},
   "outputs": [
    {
     "data": {
      "text/plain": [
       "5"
      ]
     },
     "execution_count": 43,
     "metadata": {},
     "output_type": "execute_result"
    }
   ],
   "source": [
    "s.find('ol')"
   ]
  },
  {
   "cell_type": "code",
   "execution_count": 44,
   "id": "b2cf4925",
   "metadata": {},
   "outputs": [
    {
     "data": {
      "text/plain": [
       "2"
      ]
     },
     "execution_count": 44,
     "metadata": {},
     "output_type": "execute_result"
    }
   ],
   "source": [
    "s.count('n')"
   ]
  },
  {
   "cell_type": "code",
   "execution_count": 45,
   "id": "4ac448c0",
   "metadata": {},
   "outputs": [
    {
     "data": {
      "text/plain": [
       "1"
      ]
     },
     "execution_count": 45,
     "metadata": {},
     "output_type": "execute_result"
    }
   ],
   "source": [
    "s.count('l')"
   ]
  },
  {
   "cell_type": "code",
   "execution_count": 48,
   "id": "af708720",
   "metadata": {},
   "outputs": [],
   "source": [
    "name = ' Алексеев Денис Анатольевич '"
   ]
  },
  {
   "cell_type": "code",
   "execution_count": 49,
   "id": "6783754d",
   "metadata": {},
   "outputs": [
    {
     "data": {
      "text/plain": [
       "'Алексеев Денис Анатольевич'"
      ]
     },
     "execution_count": 49,
     "metadata": {},
     "output_type": "execute_result"
    }
   ],
   "source": [
    "name.strip()"
   ]
  },
  {
   "cell_type": "code",
   "execution_count": 50,
   "id": "bc86bb4e",
   "metadata": {},
   "outputs": [
    {
     "data": {
      "text/plain": [
       "True"
      ]
     },
     "execution_count": 50,
     "metadata": {},
     "output_type": "execute_result"
    }
   ],
   "source": [
    "s.startswith('I')"
   ]
  },
  {
   "cell_type": "code",
   "execution_count": 51,
   "id": "ee7d35fb",
   "metadata": {},
   "outputs": [
    {
     "data": {
      "text/plain": [
       "False"
      ]
     },
     "execution_count": 51,
     "metadata": {},
     "output_type": "execute_result"
    }
   ],
   "source": [
    "s.startswith('i')"
   ]
  },
  {
   "cell_type": "code",
   "execution_count": 53,
   "id": "dd7fbe10",
   "metadata": {},
   "outputs": [
    {
     "data": {
      "text/plain": [
       "True"
      ]
     },
     "execution_count": 53,
     "metadata": {},
     "output_type": "execute_result"
    }
   ],
   "source": [
    "s.lower().startswith('i')"
   ]
  },
  {
   "cell_type": "markdown",
   "id": "f385fbce",
   "metadata": {},
   "source": [
    "## Словари"
   ]
  },
  {
   "cell_type": "code",
   "execution_count": 54,
   "id": "c4ecf5c3",
   "metadata": {},
   "outputs": [],
   "source": [
    "enru = {\n",
    "    'one' : 'один',\n",
    "    'two' : 'два',\n",
    "    'three' : 'три'\n",
    "}"
   ]
  },
  {
   "cell_type": "code",
   "execution_count": 56,
   "id": "7cb41855",
   "metadata": {},
   "outputs": [
    {
     "data": {
      "text/plain": [
       "{'one': 'один', 'two': 'два', 'three': 'три'}"
      ]
     },
     "execution_count": 56,
     "metadata": {},
     "output_type": "execute_result"
    }
   ],
   "source": [
    "enru"
   ]
  },
  {
   "cell_type": "code",
   "execution_count": 57,
   "id": "4d552b24",
   "metadata": {},
   "outputs": [],
   "source": [
    "enru2 = {}"
   ]
  },
  {
   "cell_type": "code",
   "execution_count": 59,
   "id": "16dcae1d",
   "metadata": {},
   "outputs": [
    {
     "data": {
      "text/plain": [
       "dict"
      ]
     },
     "execution_count": 59,
     "metadata": {},
     "output_type": "execute_result"
    }
   ],
   "source": [
    "type(enru2)"
   ]
  },
  {
   "cell_type": "code",
   "execution_count": 60,
   "id": "4e8d14d6",
   "metadata": {},
   "outputs": [],
   "source": [
    "enru2['one'] = 'один'"
   ]
  },
  {
   "cell_type": "code",
   "execution_count": 61,
   "id": "0d4cf56a",
   "metadata": {},
   "outputs": [
    {
     "data": {
      "text/plain": [
       "{'one': 'один'}"
      ]
     },
     "execution_count": 61,
     "metadata": {},
     "output_type": "execute_result"
    }
   ],
   "source": [
    "enru2"
   ]
  },
  {
   "cell_type": "markdown",
   "id": "edc6146a",
   "metadata": {},
   "source": [
    "### Поиск по словарям"
   ]
  },
  {
   "cell_type": "code",
   "execution_count": 62,
   "id": "77e8218f",
   "metadata": {},
   "outputs": [
    {
     "data": {
      "text/plain": [
       "'два'"
      ]
     },
     "execution_count": 62,
     "metadata": {},
     "output_type": "execute_result"
    }
   ],
   "source": [
    "enru['two']"
   ]
  },
  {
   "cell_type": "code",
   "execution_count": 63,
   "id": "190f5ab9",
   "metadata": {},
   "outputs": [
    {
     "ename": "KeyError",
     "evalue": "'four'",
     "output_type": "error",
     "traceback": [
      "\u001b[1;31m---------------------------------------------------------------------------\u001b[0m",
      "\u001b[1;31mKeyError\u001b[0m                                  Traceback (most recent call last)",
      "Cell \u001b[1;32mIn[63], line 1\u001b[0m\n\u001b[1;32m----> 1\u001b[0m enru[\u001b[38;5;124m'\u001b[39m\u001b[38;5;124mfour\u001b[39m\u001b[38;5;124m'\u001b[39m]\n",
      "\u001b[1;31mKeyError\u001b[0m: 'four'"
     ]
    }
   ],
   "source": [
    "enru['four']"
   ]
  },
  {
   "cell_type": "code",
   "execution_count": 64,
   "id": "4fd38e98",
   "metadata": {},
   "outputs": [
    {
     "data": {
      "text/plain": [
       "3"
      ]
     },
     "execution_count": 64,
     "metadata": {},
     "output_type": "execute_result"
    }
   ],
   "source": [
    "len(enru)"
   ]
  },
  {
   "cell_type": "code",
   "execution_count": 65,
   "id": "a47b63da",
   "metadata": {},
   "outputs": [
    {
     "data": {
      "text/plain": [
       "True"
      ]
     },
     "execution_count": 65,
     "metadata": {},
     "output_type": "execute_result"
    }
   ],
   "source": [
    "'one' in enru"
   ]
  },
  {
   "cell_type": "code",
   "execution_count": 69,
   "id": "6fdbee53",
   "metadata": {},
   "outputs": [
    {
     "data": {
      "text/plain": [
       "True"
      ]
     },
     "execution_count": 69,
     "metadata": {},
     "output_type": "execute_result"
    }
   ],
   "source": [
    "'one' in enru.keys()"
   ]
  },
  {
   "cell_type": "code",
   "execution_count": 66,
   "id": "9ed117dd",
   "metadata": {},
   "outputs": [
    {
     "data": {
      "text/plain": [
       "False"
      ]
     },
     "execution_count": 66,
     "metadata": {},
     "output_type": "execute_result"
    }
   ],
   "source": [
    "'один' in enru"
   ]
  },
  {
   "cell_type": "code",
   "execution_count": 68,
   "id": "a5fe4114",
   "metadata": {},
   "outputs": [
    {
     "data": {
      "text/plain": [
       "True"
      ]
     },
     "execution_count": 68,
     "metadata": {},
     "output_type": "execute_result"
    }
   ],
   "source": [
    "'один' in enru.values()"
   ]
  },
  {
   "cell_type": "markdown",
   "id": "86a45776",
   "metadata": {},
   "source": [
    "### Методы и функции словарей"
   ]
  },
  {
   "cell_type": "code",
   "execution_count": 70,
   "id": "bb85199b",
   "metadata": {},
   "outputs": [
    {
     "data": {
      "text/plain": [
       "dict_keys(['one', 'two', 'three'])"
      ]
     },
     "execution_count": 70,
     "metadata": {},
     "output_type": "execute_result"
    }
   ],
   "source": [
    "enru.keys()"
   ]
  },
  {
   "cell_type": "code",
   "execution_count": 71,
   "id": "1f12a2ed",
   "metadata": {},
   "outputs": [
    {
     "data": {
      "text/plain": [
       "dict_values(['один', 'два', 'три'])"
      ]
     },
     "execution_count": 71,
     "metadata": {},
     "output_type": "execute_result"
    }
   ],
   "source": [
    "enru.values()"
   ]
  },
  {
   "cell_type": "code",
   "execution_count": 73,
   "id": "5a68225b",
   "metadata": {},
   "outputs": [],
   "source": [
    "enru2.clear()"
   ]
  },
  {
   "cell_type": "code",
   "execution_count": 74,
   "id": "598d03ac",
   "metadata": {},
   "outputs": [
    {
     "data": {
      "text/plain": [
       "{}"
      ]
     },
     "execution_count": 74,
     "metadata": {},
     "output_type": "execute_result"
    }
   ],
   "source": [
    "enru2"
   ]
  },
  {
   "cell_type": "code",
   "execution_count": 75,
   "id": "d8b795a3",
   "metadata": {},
   "outputs": [],
   "source": [
    "enru['four'] = 'четыре'"
   ]
  },
  {
   "cell_type": "code",
   "execution_count": 77,
   "id": "5e3f3053",
   "metadata": {},
   "outputs": [],
   "source": [
    "del enru['three']"
   ]
  },
  {
   "cell_type": "code",
   "execution_count": 78,
   "id": "416aeed3",
   "metadata": {},
   "outputs": [
    {
     "data": {
      "text/plain": [
       "{'one': 'один', 'two': 'два', 'four': 'четыре'}"
      ]
     },
     "execution_count": 78,
     "metadata": {},
     "output_type": "execute_result"
    }
   ],
   "source": [
    "enru"
   ]
  },
  {
   "cell_type": "markdown",
   "id": "5d316bca",
   "metadata": {},
   "source": [
    "## Операторы ветвления"
   ]
  },
  {
   "cell_type": "code",
   "execution_count": 80,
   "id": "75f243bd",
   "metadata": {},
   "outputs": [
    {
     "name": "stdout",
     "output_type": "stream",
     "text": [
      "Введите число \n",
      "-2\n",
      "Завершение программы\n"
     ]
    }
   ],
   "source": [
    "x = input('Введите число \\n')\n",
    "x = float(x)\n",
    "if x > 0:\n",
    "    print('x - положительное число')\n",
    "print('Завершение программы')"
   ]
  },
  {
   "cell_type": "code",
   "execution_count": 83,
   "id": "bc5d75cc",
   "metadata": {},
   "outputs": [
    {
     "name": "stdout",
     "output_type": "stream",
     "text": [
      "Введите число \n",
      "4\n",
      "x - четное число\n",
      "Завершение программы\n"
     ]
    }
   ],
   "source": [
    "x = input('Введите число \\n')\n",
    "x = float(x)\n",
    "if x % 2 == 0:\n",
    "    print('x - четное число')\n",
    "print('Завершение программы')"
   ]
  },
  {
   "cell_type": "code",
   "execution_count": 85,
   "id": "142a41a4",
   "metadata": {},
   "outputs": [
    {
     "name": "stdout",
     "output_type": "stream",
     "text": [
      "Введите число \n",
      "5\n",
      "Завершение программы\n"
     ]
    }
   ],
   "source": [
    "x = input('Введите число \\n')\n",
    "x = float(x)\n",
    "if x < 0:\n",
    "    pass\n",
    "print('Завершение программы')"
   ]
  },
  {
   "cell_type": "code",
   "execution_count": 87,
   "id": "7fe0faa4",
   "metadata": {},
   "outputs": [
    {
     "name": "stdout",
     "output_type": "stream",
     "text": [
      "Введите число \n",
      "10\n",
      "x - четное число\n"
     ]
    }
   ],
   "source": [
    "x = input('Введите число \\n')\n",
    "x = float(x)\n",
    "if x % 2 == 0:\n",
    "    print('x - четное число')\n",
    "else:\n",
    "    print('x - нечетное число')"
   ]
  },
  {
   "cell_type": "code",
   "execution_count": 90,
   "id": "6a2d421a",
   "metadata": {},
   "outputs": [
    {
     "name": "stdout",
     "output_type": "stream",
     "text": [
      "Введите первое число \n",
      "10\n",
      "Введите второе число \n",
      "10\n",
      "Первое и второе числа равны\n"
     ]
    }
   ],
   "source": [
    "x = input('Введите первое число \\n')\n",
    "x = float(x)\n",
    "y = input('Введите второе число \\n')\n",
    "y = float(y)\n",
    "\n",
    "if x > y:\n",
    "    print('Первое число больше, чем второе')\n",
    "else:\n",
    "    if x < y:\n",
    "        print('Второе число больше, чем первое')\n",
    "    else:\n",
    "        print('Первое и второе числа равны')"
   ]
  },
  {
   "cell_type": "code",
   "execution_count": 101,
   "id": "abd8ffe5",
   "metadata": {},
   "outputs": [
    {
     "name": "stdout",
     "output_type": "stream",
     "text": [
      "Введите первое число \n",
      "10\n",
      "Введите второе число \n",
      "10\n",
      "Первое и второе числа равны\n"
     ]
    }
   ],
   "source": [
    "x = input('Введите первое число \\n')\n",
    "x = float(x)\n",
    "y = input('Введите второе число \\n')\n",
    "y = float(y)\n",
    "\n",
    "if x > y:\n",
    "    print('Первое число больше, чем второе')\n",
    "elif x < y:\n",
    "    print('Второе число больше, чем первое')\n",
    "else:\n",
    "    print('Первое и второе числа равны')"
   ]
  },
  {
   "cell_type": "code",
   "execution_count": 105,
   "id": "3349d3d7",
   "metadata": {},
   "outputs": [
    {
     "name": "stdout",
     "output_type": "stream",
     "text": [
      "Введите первое число \n",
      "10\n",
      "Введите второе число \n",
      "15\n",
      "Второе число больше, чем первое\n"
     ]
    }
   ],
   "source": [
    "x = input('Введите первое число \\n')\n",
    "try:\n",
    "    x = float(x)\n",
    "    y = input('Введите второе число \\n')\n",
    "    try:\n",
    "        y = float(y)\n",
    "        if x > y:\n",
    "            print('Первое число больше, чем второе')\n",
    "        elif x < y:\n",
    "            print('Второе число больше, чем первое')\n",
    "        else:\n",
    "            print('Первое и второе числа равны')\n",
    "    except:\n",
    "        print('Введите число, а не символы!')\n",
    "except:\n",
    "    print('Введите число, а не символы!')"
   ]
  },
  {
   "cell_type": "code",
   "execution_count": 106,
   "id": "9592da8b",
   "metadata": {},
   "outputs": [
    {
     "name": "stdout",
     "output_type": "stream",
     "text": [
      "Введите первое число \n",
      "йцу\n",
      "Введите число, а не символы!\n",
      "Введите второе число \n",
      "йцу\n",
      "Введите число, а не символы!\n",
      "Первое и второе числа равны\n"
     ]
    }
   ],
   "source": [
    "# Неправильный вариант!\n",
    "\n",
    "x = input('Введите первое число \\n')\n",
    "try:\n",
    "    x = float(x)\n",
    "except:\n",
    "    print('Введите число, а не символы!')\n",
    "\n",
    "y = input('Введите второе число \\n')\n",
    "try:\n",
    "    y = float(y)\n",
    "except:\n",
    "    print('Введите число, а не символы!')\n",
    "\n",
    "if x > y:\n",
    "    print('Первое число больше, чем второе')\n",
    "elif x < y:\n",
    "    print('Второе число больше, чем первое')\n",
    "else:\n",
    "    print('Первое и второе числа равны')"
   ]
  },
  {
   "cell_type": "markdown",
   "id": "d0d45309",
   "metadata": {},
   "source": [
    "### Составные условия"
   ]
  },
  {
   "cell_type": "code",
   "execution_count": 110,
   "id": "19881a0b",
   "metadata": {},
   "outputs": [
    {
     "name": "stdout",
     "output_type": "stream",
     "text": [
      "Введите число \n",
      "100000\n",
      "Ввели большое число\n"
     ]
    }
   ],
   "source": [
    "x = input('Введите число \\n')\n",
    "x = float(x)\n",
    "\n",
    "if (x > 0) and (x < 100):\n",
    "    print(\"Ввели маленькое число\")\n",
    "elif (x >= 100) and (x < 1000):\n",
    "    print(\"Ввели среднее число\")\n",
    "elif (x >= 1000):\n",
    "    print(\"Ввели большое число\")\n",
    "else:\n",
    "    print(\"Ввели ноль либо отрицательное число\")"
   ]
  },
  {
   "cell_type": "code",
   "execution_count": 114,
   "id": "b544eada",
   "metadata": {},
   "outputs": [
    {
     "name": "stdout",
     "output_type": "stream",
     "text": [
      "Введите число \n",
      "-5\n",
      "Ввели ноль либо отрицательное число\n"
     ]
    }
   ],
   "source": [
    "x = input('Введите число \\n')\n",
    "x = float(x)\n",
    "\n",
    "if (x > 0) & (x < 100):\n",
    "    print(\"Ввели маленькое число\")\n",
    "elif (x >= 100) &(x < 1000):\n",
    "    print(\"Ввели среднее число\")\n",
    "elif x >= 1000:\n",
    "    print(\"Ввели большое число\")\n",
    "else:\n",
    "    print(\"Ввели ноль либо отрицательное число\")"
   ]
  },
  {
   "cell_type": "markdown",
   "id": "5cc87fa5",
   "metadata": {},
   "source": [
    "## Операторы цикла"
   ]
  },
  {
   "cell_type": "markdown",
   "id": "4e9bdfcf",
   "metadata": {},
   "source": [
    "### Оператор while"
   ]
  },
  {
   "cell_type": "code",
   "execution_count": 115,
   "id": "6e62abc8",
   "metadata": {},
   "outputs": [
    {
     "name": "stdout",
     "output_type": "stream",
     "text": [
      "3\n",
      "2\n",
      "1\n",
      "Start!\n"
     ]
    }
   ],
   "source": [
    "n = 3\n",
    "while n > 0:\n",
    "    print(n)\n",
    "    n = n - 1\n",
    "print('Start!')"
   ]
  },
  {
   "cell_type": "code",
   "execution_count": 117,
   "id": "7236d3c6",
   "metadata": {},
   "outputs": [
    {
     "name": "stdout",
     "output_type": "stream",
     "text": [
      "Для удвоения вклада при ставке 0.18 требуется 5 лет\n"
     ]
    }
   ],
   "source": [
    "n = 0\n",
    "rate = 0.18\n",
    "amount = 10000\n",
    "while amount < 20000 :\n",
    "    amount = amount * (1 + rate)\n",
    "    n += 1\n",
    "print('Для удвоения вклада при ставке', rate, 'требуется', n, 'лет')"
   ]
  },
  {
   "cell_type": "code",
   "execution_count": 119,
   "id": "bb30f967",
   "metadata": {},
   "outputs": [
    {
     "name": "stdout",
     "output_type": "stream",
     "text": [
      "> 123\n",
      "123\n",
      "> asd\n",
      "asd\n",
      "> stop\n",
      "End!\n"
     ]
    }
   ],
   "source": [
    "while True:\n",
    "    line = input('> ')\n",
    "    if line == 'stop':\n",
    "        break\n",
    "    print(line)\n",
    "print('End!')"
   ]
  },
  {
   "cell_type": "code",
   "execution_count": 120,
   "id": "1bf03917",
   "metadata": {},
   "outputs": [
    {
     "name": "stdout",
     "output_type": "stream",
     "text": [
      "> 123\n",
      "123\n",
      "> qwe\n",
      "qwe\n",
      "> #321\n",
      "> 321\n",
      "321\n",
      "> #stop!\n",
      "> stop\n",
      "End!\n"
     ]
    }
   ],
   "source": [
    "while True:\n",
    "    line = input('> ')\n",
    "    if line[0] == '#':\n",
    "        continue\n",
    "    if line == 'stop':\n",
    "        break\n",
    "    print(line)\n",
    "print('End!')"
   ]
  },
  {
   "cell_type": "markdown",
   "id": "b6d86c27",
   "metadata": {},
   "source": [
    "### Цикл for"
   ]
  },
  {
   "cell_type": "code",
   "execution_count": 121,
   "id": "344fe7b6",
   "metadata": {},
   "outputs": [
    {
     "name": "stdout",
     "output_type": "stream",
     "text": [
      "Hello, Ivan !\n",
      "Hello, Maria !\n",
      "Hello, Olga !\n"
     ]
    }
   ],
   "source": [
    "students = ['Ivan', 'Maria', 'Olga']\n",
    "for st in students:\n",
    "    print('Hello,', st, '!')"
   ]
  },
  {
   "cell_type": "code",
   "execution_count": 123,
   "id": "ce95c78a",
   "metadata": {},
   "outputs": [
    {
     "name": "stdout",
     "output_type": "stream",
     "text": [
      "0\n",
      "Hello, Ivan !\n",
      "1\n",
      "Hello, Maria !\n",
      "2\n",
      "Hello, Olga !\n"
     ]
    }
   ],
   "source": [
    "students = ['Ivan', 'Maria', 'Olga']\n",
    "n = len(students)\n",
    "for i in range(n):\n",
    "    print(i)\n",
    "    print('Hello,', students[i], '!')"
   ]
  },
  {
   "cell_type": "code",
   "execution_count": 124,
   "id": "07a14f71",
   "metadata": {},
   "outputs": [
    {
     "name": "stdout",
     "output_type": "stream",
     "text": [
      "Hello, Ivan !\n",
      "Hello, Maria !\n",
      "Hello, Olga !\n"
     ]
    }
   ],
   "source": [
    "students = ['Ivan', 'Maria', 'Olga']\n",
    "n = len(students)\n",
    "i = 0\n",
    "while i < n:\n",
    "    print('Hello,', students[i], '!')\n",
    "    i += 1"
   ]
  },
  {
   "cell_type": "code",
   "execution_count": 125,
   "id": "51770ad8",
   "metadata": {},
   "outputs": [
    {
     "name": "stdout",
     "output_type": "stream",
     "text": [
      "I\n",
      "n\n",
      "n\n",
      "o\n",
      "p\n",
      "o\n",
      "l\n",
      "i\n",
      "s\n"
     ]
    }
   ],
   "source": [
    "s = 'Innopolis'\n",
    "for sym in s:\n",
    "    print(sym)"
   ]
  },
  {
   "cell_type": "code",
   "execution_count": 126,
   "id": "0057c5f6",
   "metadata": {},
   "outputs": [
    {
     "name": "stdout",
     "output_type": "stream",
     "text": [
      "один\n",
      "два\n",
      "три\n"
     ]
    }
   ],
   "source": [
    "enru = {\n",
    "    'one' : 'один',\n",
    "    'two' : 'два',\n",
    "    'three' : 'три'\n",
    "}\n",
    "\n",
    "for w in enru.keys():\n",
    "    print(enru[w])"
   ]
  },
  {
   "cell_type": "code",
   "execution_count": 128,
   "id": "a8e2259f",
   "metadata": {},
   "outputs": [
    {
     "name": "stdout",
     "output_type": "stream",
     "text": [
      "0\n",
      "1\n",
      "4\n",
      "9\n",
      "16\n",
      "25\n",
      "36\n",
      "49\n",
      "64\n",
      "81\n"
     ]
    }
   ],
   "source": [
    "for i in range(10):\n",
    "    print(i**2)"
   ]
  },
  {
   "cell_type": "code",
   "execution_count": 129,
   "id": "2d22004a",
   "metadata": {},
   "outputs": [
    {
     "name": "stdout",
     "output_type": "stream",
     "text": [
      "1\t2\t3\t4\t5\t6\t7\t8\t9\t\n",
      "2\t4\t6\t8\t10\t12\t14\t16\t18\t\n",
      "3\t6\t9\t12\t15\t18\t21\t24\t27\t\n",
      "4\t8\t12\t16\t20\t24\t28\t32\t36\t\n",
      "5\t10\t15\t20\t25\t30\t35\t40\t45\t\n",
      "6\t12\t18\t24\t30\t36\t42\t48\t54\t\n",
      "7\t14\t21\t28\t35\t42\t49\t56\t63\t\n",
      "8\t16\t24\t32\t40\t48\t56\t64\t72\t\n",
      "9\t18\t27\t36\t45\t54\t63\t72\t81\t\n"
     ]
    }
   ],
   "source": [
    "for i in range(1,10):\n",
    "    for j in range(1,10):\n",
    "        print(i*j, end ='\\t')\n",
    "    print()"
   ]
  },
  {
   "cell_type": "code",
   "execution_count": 131,
   "id": "530294e0",
   "metadata": {},
   "outputs": [
    {
     "name": "stdout",
     "output_type": "stream",
     "text": [
      "25\n"
     ]
    }
   ],
   "source": [
    "s = 0\n",
    "for i in range(1, 10, 2):\n",
    "    s += i\n",
    "print(s)"
   ]
  }
 ],
 "metadata": {
  "kernelspec": {
   "display_name": "Python 3 (ipykernel)",
   "language": "python",
   "name": "python3"
  },
  "language_info": {
   "codemirror_mode": {
    "name": "ipython",
    "version": 3
   },
   "file_extension": ".py",
   "mimetype": "text/x-python",
   "name": "python",
   "nbconvert_exporter": "python",
   "pygments_lexer": "ipython3",
   "version": "3.11.5"
  }
 },
 "nbformat": 4,
 "nbformat_minor": 5
}
