{
 "cells": [
  {
   "cell_type": "code",
   "execution_count": 3,
   "id": "5f62480f",
   "metadata": {},
   "outputs": [],
   "source": [
    "import pandas as pd\n",
    "import numpy as np\n",
    "import matplotlib.pyplot as plt\n",
    "import seaborn as sns\n",
    "from scipy import stats"
   ]
  },
  {
   "cell_type": "markdown",
   "id": "bdff2e80",
   "metadata": {},
   "source": [
    "### Загрузка и подготовка данных"
   ]
  },
  {
   "cell_type": "code",
   "execution_count": 4,
   "id": "3b4aa486",
   "metadata": {},
   "outputs": [
    {
     "data": {
      "text/html": [
       "<div>\n",
       "<style scoped>\n",
       "    .dataframe tbody tr th:only-of-type {\n",
       "        vertical-align: middle;\n",
       "    }\n",
       "\n",
       "    .dataframe tbody tr th {\n",
       "        vertical-align: top;\n",
       "    }\n",
       "\n",
       "    .dataframe thead th {\n",
       "        text-align: right;\n",
       "    }\n",
       "</style>\n",
       "<table border=\"1\" class=\"dataframe\">\n",
       "  <thead>\n",
       "    <tr style=\"text-align: right;\">\n",
       "      <th></th>\n",
       "      <th>BirthdayYear</th>\n",
       "      <th>Age</th>\n",
       "      <th>Gender</th>\n",
       "      <th>ClientSince</th>\n",
       "      <th>A</th>\n",
       "      <th>B</th>\n",
       "      <th>Purchased</th>\n",
       "    </tr>\n",
       "  </thead>\n",
       "  <tbody>\n",
       "    <tr>\n",
       "      <th>0</th>\n",
       "      <td>2003</td>\n",
       "      <td>21</td>\n",
       "      <td>Male</td>\n",
       "      <td>2023</td>\n",
       "      <td>NaN</td>\n",
       "      <td>NaN</td>\n",
       "      <td>NaN</td>\n",
       "    </tr>\n",
       "    <tr>\n",
       "      <th>1</th>\n",
       "      <td>2001</td>\n",
       "      <td>23</td>\n",
       "      <td>Female</td>\n",
       "      <td>2024</td>\n",
       "      <td>NaN</td>\n",
       "      <td>NaN</td>\n",
       "      <td>NaN</td>\n",
       "    </tr>\n",
       "    <tr>\n",
       "      <th>2</th>\n",
       "      <td>2002</td>\n",
       "      <td>22</td>\n",
       "      <td>Male</td>\n",
       "      <td>2024</td>\n",
       "      <td>NaN</td>\n",
       "      <td>NaN</td>\n",
       "      <td>NaN</td>\n",
       "    </tr>\n",
       "    <tr>\n",
       "      <th>3</th>\n",
       "      <td>2004</td>\n",
       "      <td>20</td>\n",
       "      <td>Male</td>\n",
       "      <td>2023</td>\n",
       "      <td>NaN</td>\n",
       "      <td>1.0</td>\n",
       "      <td>1.0</td>\n",
       "    </tr>\n",
       "    <tr>\n",
       "      <th>4</th>\n",
       "      <td>2003</td>\n",
       "      <td>21</td>\n",
       "      <td>Female</td>\n",
       "      <td>2024</td>\n",
       "      <td>NaN</td>\n",
       "      <td>NaN</td>\n",
       "      <td>NaN</td>\n",
       "    </tr>\n",
       "  </tbody>\n",
       "</table>\n",
       "</div>"
      ],
      "text/plain": [
       "   BirthdayYear  Age  Gender  ClientSince   A    B  Purchased\n",
       "0          2003   21    Male         2023 NaN  NaN        NaN\n",
       "1          2001   23  Female         2024 NaN  NaN        NaN\n",
       "2          2002   22    Male         2024 NaN  NaN        NaN\n",
       "3          2004   20    Male         2023 NaN  1.0        1.0\n",
       "4          2003   21  Female         2024 NaN  NaN        NaN"
      ]
     },
     "execution_count": 4,
     "metadata": {},
     "output_type": "execute_result"
    }
   ],
   "source": [
    "df = pd.read_csv(r'https://raw.githubusercontent.com/zalig/cu-datasets/main/advertisment.csv')\n",
    "df.head()"
   ]
  },
  {
   "cell_type": "code",
   "execution_count": 5,
   "id": "b3163d47",
   "metadata": {},
   "outputs": [
    {
     "data": {
      "text/plain": [
       "array([2023, 2024])"
      ]
     },
     "execution_count": 5,
     "metadata": {},
     "output_type": "execute_result"
    }
   ],
   "source": [
    "df['ClientSince'].unique()"
   ]
  },
  {
   "cell_type": "code",
   "execution_count": 6,
   "id": "9c837ee6",
   "metadata": {},
   "outputs": [],
   "source": [
    "df['Loyalty'] = np.where(df['ClientSince'] == 2023, 'Old', 'New')"
   ]
  },
  {
   "cell_type": "code",
   "execution_count": 7,
   "id": "65585e58",
   "metadata": {
    "scrolled": true
   },
   "outputs": [
    {
     "data": {
      "text/plain": [
       "(20000, 8)"
      ]
     },
     "execution_count": 7,
     "metadata": {},
     "output_type": "execute_result"
    }
   ],
   "source": [
    "df.shape"
   ]
  },
  {
   "cell_type": "code",
   "execution_count": 8,
   "id": "6bb178fc",
   "metadata": {},
   "outputs": [
    {
     "data": {
      "text/plain": [
       "(300, 8)"
      ]
     },
     "execution_count": 8,
     "metadata": {},
     "output_type": "execute_result"
    }
   ],
   "source": [
    "group_a = df[df['A'] == 1]\n",
    "group_a.shape"
   ]
  },
  {
   "cell_type": "code",
   "execution_count": 9,
   "id": "81d746f4",
   "metadata": {},
   "outputs": [
    {
     "data": {
      "text/plain": [
       "(500, 8)"
      ]
     },
     "execution_count": 9,
     "metadata": {},
     "output_type": "execute_result"
    }
   ],
   "source": [
    "group_b = df[df['B'] == 1]\n",
    "group_b.shape"
   ]
  },
  {
   "cell_type": "code",
   "execution_count": 10,
   "id": "aca85232",
   "metadata": {},
   "outputs": [
    {
     "data": {
      "text/plain": [
       "(1327, 8)"
      ]
     },
     "execution_count": 10,
     "metadata": {},
     "output_type": "execute_result"
    }
   ],
   "source": [
    "df[df['Purchased'] == 1].shape"
   ]
  },
  {
   "cell_type": "code",
   "execution_count": 11,
   "id": "cfaaa171",
   "metadata": {},
   "outputs": [
    {
     "data": {
      "text/plain": [
       "(33, 8)"
      ]
     },
     "execution_count": 11,
     "metadata": {},
     "output_type": "execute_result"
    }
   ],
   "source": [
    "group_a[group_a['Purchased'] == 1].shape"
   ]
  },
  {
   "cell_type": "code",
   "execution_count": 12,
   "id": "3fe9042f",
   "metadata": {},
   "outputs": [
    {
     "data": {
      "text/plain": [
       "(66, 8)"
      ]
     },
     "execution_count": 12,
     "metadata": {},
     "output_type": "execute_result"
    }
   ],
   "source": [
    "group_b[group_b['Purchased'] == 1].shape"
   ]
  },
  {
   "cell_type": "code",
   "execution_count": 13,
   "id": "27875a14",
   "metadata": {},
   "outputs": [
    {
     "data": {
      "text/plain": [
       "(19200, 8)"
      ]
     },
     "execution_count": 13,
     "metadata": {},
     "output_type": "execute_result"
    }
   ],
   "source": [
    "group_c = df[(df['A'] != 1)&(df['B'] !=1)]\n",
    "group_c.shape"
   ]
  },
  {
   "cell_type": "code",
   "execution_count": 14,
   "id": "0bfce9d2",
   "metadata": {},
   "outputs": [
    {
     "data": {
      "text/plain": [
       "(1228, 8)"
      ]
     },
     "execution_count": 14,
     "metadata": {},
     "output_type": "execute_result"
    }
   ],
   "source": [
    "group_c[group_c['Purchased'] == 1].shape"
   ]
  },
  {
   "cell_type": "markdown",
   "id": "7ccbf362",
   "metadata": {},
   "source": [
    "### Конверсия"
   ]
  },
  {
   "cell_type": "code",
   "execution_count": 15,
   "id": "67a82c58",
   "metadata": {},
   "outputs": [
    {
     "name": "stdout",
     "output_type": "stream",
     "text": [
      "Конверсия всего: 0.06635\n",
      "Конверсия группы А: 0.11\n",
      "Конверсия группы Б: 0.132\n",
      "Конверсия контрольной группы: 0.06395833333333334\n"
     ]
    }
   ],
   "source": [
    "print('Конверсия всего:', df[df['Purchased'] == 1].shape[0] / df.shape[0])\n",
    "print('Конверсия группы А:', group_a[group_a['Purchased'] == 1].shape[0] / group_a.shape[0])\n",
    "print('Конверсия группы Б:', group_b[group_b['Purchased'] == 1].shape[0] / group_b.shape[0])\n",
    "print('Конверсия контрольной группы:', group_c[group_c['Purchased'] == 1].shape[0] / group_c.shape[0])"
   ]
  },
  {
   "cell_type": "code",
   "execution_count": 16,
   "id": "5c9ff1a2",
   "metadata": {},
   "outputs": [
    {
     "name": "stdout",
     "output_type": "stream",
     "text": [
      "Конверсия всего: 0.06635\n",
      "Конверсия группы А: 0.11\n",
      "Конверсия группы Б: 0.132\n",
      "Конверсия контрольной группы: 0.06395833333333334\n"
     ]
    }
   ],
   "source": [
    "print('Конверсия всего:', df['Purchased'].fillna(0).mean())\n",
    "print('Конверсия группы А:', group_a['Purchased'].fillna(0).mean())\n",
    "print('Конверсия группы Б:', group_b['Purchased'].fillna(0).mean())\n",
    "print('Конверсия контрольной группы:', group_c['Purchased'].fillna(0).mean())"
   ]
  },
  {
   "cell_type": "markdown",
   "id": "b00816d3",
   "metadata": {},
   "source": [
    "### Тест на значимость разницы между группами"
   ]
  },
  {
   "cell_type": "code",
   "execution_count": 17,
   "id": "9e2d1e56",
   "metadata": {},
   "outputs": [
    {
     "data": {
      "text/plain": [
       "np.float64(0.11)"
      ]
     },
     "execution_count": 17,
     "metadata": {},
     "output_type": "execute_result"
    }
   ],
   "source": [
    "group_a['Purchased'].fillna(0).mean()"
   ]
  },
  {
   "cell_type": "code",
   "execution_count": 18,
   "id": "0721567a",
   "metadata": {},
   "outputs": [
    {
     "data": {
      "text/plain": [
       "np.float64(0.132)"
      ]
     },
     "execution_count": 18,
     "metadata": {},
     "output_type": "execute_result"
    }
   ],
   "source": [
    "group_b['Purchased'].fillna(0).mean()"
   ]
  },
  {
   "cell_type": "code",
   "execution_count": 19,
   "id": "f8ca687b",
   "metadata": {},
   "outputs": [
    {
     "data": {
      "text/plain": [
       "TtestResult(statistic=np.float64(-0.9141562476336231), pvalue=np.float64(0.36091087267359523), df=np.float64(798.0))"
      ]
     },
     "execution_count": 19,
     "metadata": {},
     "output_type": "execute_result"
    }
   ],
   "source": [
    "stats.ttest_ind(group_a['Purchased'].fillna(0), group_b['Purchased'].fillna(0))"
   ]
  },
  {
   "cell_type": "markdown",
   "id": "f4c094f4",
   "metadata": {},
   "source": [
    "Нулевая гипотеза теста - это равенство средней конверсии в обеих группах\n",
    "\n",
    "p-значение - это вероятность увидеть данную выборку при условии, что нулевая гипотеза верна (36,09%) \n",
    "\n",
    "Сравниваем р-значение с альфой = 5%\n",
    "\n",
    "р-значение > 5% => не отвергаем нулевую гипотезу\n",
    "\n",
    "Конверсия в группе, которой показывали вариант рекламы А, и в группе, которой показывали вариант рекламы Б, не отличаются"
   ]
  },
  {
   "cell_type": "markdown",
   "id": "e0dff893",
   "metadata": {},
   "source": [
    "Представим, что мы выберем вариант рекламы Б. В каких пределах может находиться конверсия с вероятностью 95%"
   ]
  },
  {
   "cell_type": "code",
   "execution_count": 20,
   "id": "1f6c8360",
   "metadata": {},
   "outputs": [
    {
     "name": "stdout",
     "output_type": "stream",
     "text": [
      "95% доверительный интервал для конверсии рекламы в группе Б 0.102 до 0.162\n"
     ]
    }
   ],
   "source": [
    "mean = group_b['Purchased'].fillna(0).mean()\n",
    "var =group_b['Purchased'].fillna(0).var()\n",
    "n = group_b['Purchased'].fillna(0).count()\n",
    "\n",
    "ci = stats.norm.interval(confidence = 0.95, loc = mean, scale = np.sqrt(var/n))\n",
    "print(f'95% доверительный интервал для конверсии рекламы в группе Б {ci[0].round(3)} до {ci[1].round(3)}')"
   ]
  },
  {
   "cell_type": "markdown",
   "id": "397ed20f",
   "metadata": {},
   "source": [
    "### Характеристики групп"
   ]
  },
  {
   "cell_type": "code",
   "execution_count": 21,
   "id": "c7491100",
   "metadata": {},
   "outputs": [
    {
     "data": {
      "image/png": "[encoded data removed]",
      "text/plain": [
       "<Figure size 1500x400 with 3 Axes>"
      ]
     },
     "metadata": {},
     "output_type": "display_data"
    }
   ],
   "source": [
    "fig, ax = plt.subplots(1,3, figsize = (15,4))\n",
    "plt.suptitle('Распределение возраста')\n",
    "sns.histplot(group_a['Age'], ax = ax[0])\n",
    "sns.histplot(group_b['Age'], ax = ax[1])\n",
    "sns.histplot(group_c['Age'], ax = ax[2])\n",
    "ax[0].set_title('Группа А')\n",
    "ax[1].set_title('Группа Б')\n",
    "ax[2].set_title('Контрольная группа')\n",
    "plt.show()"
   ]
  },
  {
   "cell_type": "code",
   "execution_count": 22,
   "id": "17103b14",
   "metadata": {},
   "outputs": [
    {
     "data": {
      "image/png": "[encoded data removed]",
      "text/plain": [
       "<Figure size 1500x400 with 3 Axes>"
      ]
     },
     "metadata": {},
     "output_type": "display_data"
    }
   ],
   "source": [
    "fig, ax = plt.subplots(1,3, figsize = (15,4))\n",
    "plt.suptitle('Распределение пола')\n",
    "sns.barplot(group_a['Gender'], ax = ax[0])\n",
    "sns.barplot(group_b['Gender'], ax = ax[1])\n",
    "sns.barplot(group_c['Gender'], ax = ax[2])\n",
    "ax[0].set_title('Группа А')\n",
    "ax[1].set_title('Группа Б')\n",
    "ax[2].set_title('Контрольная группа')\n",
    "plt.show()"
   ]
  },
  {
   "cell_type": "code",
   "execution_count": 23,
   "id": "d2c649ad",
   "metadata": {},
   "outputs": [
    {
     "data": {
      "image/png": "[encoded data removed]",
      "text/plain": [
       "<Figure size 1500x400 with 3 Axes>"
      ]
     },
     "metadata": {},
     "output_type": "display_data"
    }
   ],
   "source": [
    "fig, ax = plt.subplots(1,3, figsize = (15,4))\n",
    "plt.suptitle('Распределение жизни клиента')\n",
    "sns.barplot(group_a['Loyalty'], ax = ax[0])\n",
    "sns.barplot(group_b['Loyalty'], ax = ax[1])\n",
    "sns.barplot(group_c['Loyalty'], ax = ax[2])\n",
    "ax[0].set_title('Группа А')\n",
    "ax[1].set_title('Группа Б')\n",
    "ax[2].set_title('Контрольная группа')\n",
    "plt.show()"
   ]
  },
  {
   "cell_type": "markdown",
   "id": "77d29a86",
   "metadata": {},
   "source": [
    "### Посмотрим на гетерогенность эффектов в группах А и В"
   ]
  },
  {
   "cell_type": "code",
   "execution_count": 24,
   "id": "03effe98",
   "metadata": {},
   "outputs": [
    {
     "data": {
      "text/plain": [
       "np.float64(33.0)"
      ]
     },
     "execution_count": 24,
     "metadata": {},
     "output_type": "execute_result"
    }
   ],
   "source": [
    "group_a['Purchased'].fillna(0).sum()"
   ]
  },
  {
   "cell_type": "code",
   "execution_count": 25,
   "id": "65751dbf",
   "metadata": {},
   "outputs": [
    {
     "data": {
      "text/plain": [
       "np.int64(300)"
      ]
     },
     "execution_count": 25,
     "metadata": {},
     "output_type": "execute_result"
    }
   ],
   "source": [
    "group_a['Purchased'].fillna(0).count()"
   ]
  },
  {
   "cell_type": "code",
   "execution_count": 28,
   "id": "a712c0fd",
   "metadata": {},
   "outputs": [
    {
     "data": {
      "text/plain": [
       "np.float64(0.11)"
      ]
     },
     "execution_count": 28,
     "metadata": {},
     "output_type": "execute_result"
    }
   ],
   "source": [
    "group_a['Purchased'].fillna(0).mean()"
   ]
  },
  {
   "cell_type": "code",
   "execution_count": 33,
   "id": "5cc5ccfc",
   "metadata": {},
   "outputs": [
    {
     "name": "stderr",
     "output_type": "stream",
     "text": [
      "C:\\Users\\D\\AppData\\Local\\Temp\\ipykernel_11884\\1518348992.py:1: SettingWithCopyWarning: \n",
      "A value is trying to be set on a copy of a slice from a DataFrame.\n",
      "Try using .loc[row_indexer,col_indexer] = value instead\n",
      "\n",
      "See the caveats in the documentation: https://pandas.pydata.org/pandas-docs/stable/user_guide/indexing.html#returning-a-view-versus-a-copy\n",
      "  group_a['Purchased'] = group_a['Purchased'].fillna(0)\n",
      "C:\\Users\\D\\AppData\\Local\\Temp\\ipykernel_11884\\1518348992.py:2: SettingWithCopyWarning: \n",
      "A value is trying to be set on a copy of a slice from a DataFrame.\n",
      "Try using .loc[row_indexer,col_indexer] = value instead\n",
      "\n",
      "See the caveats in the documentation: https://pandas.pydata.org/pandas-docs/stable/user_guide/indexing.html#returning-a-view-versus-a-copy\n",
      "  group_b['Purchased'] = group_b['Purchased'].fillna(0)\n"
     ]
    }
   ],
   "source": [
    "group_a['Purchased'] = group_a['Purchased'].fillna(0)\n",
    "group_b['Purchased'] = group_b['Purchased'].fillna(0)"
   ]
  },
  {
   "cell_type": "markdown",
   "id": "4f2c59fa",
   "metadata": {},
   "source": [
    "#### Распределение по полу"
   ]
  },
  {
   "cell_type": "code",
   "execution_count": 34,
   "id": "08600aa6",
   "metadata": {},
   "outputs": [
    {
     "data": {
      "text/plain": [
       "Gender\n",
       "Female    0.135714\n",
       "Male      0.087500\n",
       "Name: Purchased, dtype: float64"
      ]
     },
     "execution_count": 34,
     "metadata": {},
     "output_type": "execute_result"
    }
   ],
   "source": [
    "group_a.groupby('Gender')['Purchased'].mean()"
   ]
  },
  {
   "cell_type": "code",
   "execution_count": 35,
   "id": "5d0f4494",
   "metadata": {},
   "outputs": [
    {
     "data": {
      "text/plain": [
       "Gender\n",
       "Female    0.121339\n",
       "Male      0.141762\n",
       "Name: Purchased, dtype: float64"
      ]
     },
     "execution_count": 35,
     "metadata": {},
     "output_type": "execute_result"
    }
   ],
   "source": [
    "group_b.groupby('Gender')['Purchased'].mean()"
   ]
  },
  {
   "cell_type": "markdown",
   "id": "842fc128",
   "metadata": {},
   "source": [
    "#### Распределение по лояльности"
   ]
  },
  {
   "cell_type": "code",
   "execution_count": 107,
   "id": "32e2204a",
   "metadata": {},
   "outputs": [
    {
     "data": {
      "text/plain": [
       "Loyalty\n",
       "New    0.0875\n",
       "Old    0.2000\n",
       "Name: Purchased, dtype: float64"
      ]
     },
     "execution_count": 107,
     "metadata": {},
     "output_type": "execute_result"
    }
   ],
   "source": [
    "group_a.groupby('Loyalty')['Purchased'].mean()"
   ]
  },
  {
   "cell_type": "code",
   "execution_count": 108,
   "id": "b5a18663",
   "metadata": {},
   "outputs": [
    {
     "data": {
      "text/plain": [
       "Loyalty\n",
       "New    0.03\n",
       "Old    0.20\n",
       "Name: Purchased, dtype: float64"
      ]
     },
     "execution_count": 108,
     "metadata": {},
     "output_type": "execute_result"
    }
   ],
   "source": [
    "group_b.groupby('Loyalty')['Purchased'].mean()"
   ]
  },
  {
   "cell_type": "markdown",
   "id": "f73f59f9",
   "metadata": {},
   "source": [
    "#### Распределение по возрасту"
   ]
  },
  {
   "cell_type": "code",
   "execution_count": 114,
   "id": "9a1c6da6",
   "metadata": {},
   "outputs": [
    {
     "data": {
      "text/plain": [
       "Age\n",
       "20    0.076923\n",
       "21    0.090909\n",
       "22    0.106383\n",
       "23    0.131579\n",
       "24    0.080000\n",
       "25    0.200000\n",
       "26    0.100000\n",
       "27    0.142857\n",
       "28    0.090909\n",
       "29    0.400000\n",
       "30    0.166667\n",
       "31    0.000000\n",
       "32    0.100000\n",
       "33    0.000000\n",
       "34    0.000000\n",
       "35    0.000000\n",
       "37    0.000000\n",
       "38    1.000000\n",
       "39    0.000000\n",
       "Name: Purchased, dtype: float64"
      ]
     },
     "execution_count": 114,
     "metadata": {},
     "output_type": "execute_result"
    }
   ],
   "source": [
    "group_a.groupby('Age')['Purchased'].mean()"
   ]
  },
  {
   "cell_type": "code",
   "execution_count": 115,
   "id": "05393e3b",
   "metadata": {},
   "outputs": [
    {
     "data": {
      "text/plain": [
       "Age\n",
       "20    0.174603\n",
       "21    0.126316\n",
       "22    0.140625\n",
       "23    0.147541\n",
       "24    0.114754\n",
       "25    0.111111\n",
       "26    0.185185\n",
       "27    0.181818\n",
       "28    0.076923\n",
       "29    0.153846\n",
       "30    0.000000\n",
       "31    0.166667\n",
       "32    0.250000\n",
       "33    0.000000\n",
       "34    0.000000\n",
       "35    0.000000\n",
       "36    0.000000\n",
       "38    0.000000\n",
       "39    0.000000\n",
       "52    0.000000\n",
       "Name: Purchased, dtype: float64"
      ]
     },
     "execution_count": 115,
     "metadata": {},
     "output_type": "execute_result"
    }
   ],
   "source": [
    "group_b.groupby('Age')['Purchased'].mean()"
   ]
  },
  {
   "cell_type": "code",
   "execution_count": 116,
   "id": "8bb51daa",
   "metadata": {},
   "outputs": [
    {
     "data": {
      "text/plain": [
       "Age\n",
       "20   -0.097680\n",
       "21   -0.035407\n",
       "22   -0.034242\n",
       "23   -0.015962\n",
       "24   -0.034754\n",
       "25    0.088889\n",
       "26   -0.085185\n",
       "27   -0.038961\n",
       "28    0.013986\n",
       "29    0.246154\n",
       "30    0.166667\n",
       "31   -0.166667\n",
       "32   -0.150000\n",
       "33    0.000000\n",
       "34    0.000000\n",
       "35    0.000000\n",
       "36         NaN\n",
       "37         NaN\n",
       "38    1.000000\n",
       "39    0.000000\n",
       "52         NaN\n",
       "Name: Purchased, dtype: float64"
      ]
     },
     "execution_count": 116,
     "metadata": {},
     "output_type": "execute_result"
    }
   ],
   "source": [
    "group_a.groupby('Age')['Purchased'].mean() - group_b.groupby('Age')['Purchased'].mean()"
   ]
  },
  {
   "cell_type": "markdown",
   "id": "e3dbf251",
   "metadata": {},
   "source": [
    "### Проведем тест на значимость эффекта отдельно для мужчин"
   ]
  },
  {
   "cell_type": "code",
   "execution_count": 104,
   "id": "960b458e",
   "metadata": {},
   "outputs": [
    {
     "data": {
      "text/plain": [
       "TtestResult(statistic=np.float64(-1.6577548383765006), pvalue=np.float64(0.09811541281442289), df=np.float64(419.0))"
      ]
     },
     "execution_count": 104,
     "metadata": {},
     "output_type": "execute_result"
    }
   ],
   "source": [
    "stats.ttest_ind(group_a[group_a['Gender'] == 'Male']['Purchased'], group_b[group_b['Gender'] == 'Male']['Purchased'])"
   ]
  },
  {
   "cell_type": "markdown",
   "id": "7234469e",
   "metadata": {},
   "source": [
    "### Проведем тест на значимость эффекта отдельно для женщин"
   ]
  },
  {
   "cell_type": "code",
   "execution_count": 106,
   "id": "ebe6e5c4",
   "metadata": {},
   "outputs": [
    {
     "data": {
      "text/plain": [
       "TtestResult(statistic=np.float64(0.4051470602068701), pvalue=np.float64(0.6855992158932249), df=np.float64(377.0))"
      ]
     },
     "execution_count": 106,
     "metadata": {},
     "output_type": "execute_result"
    }
   ],
   "source": [
    "stats.ttest_ind(group_a[group_a['Gender'] == 'Female']['Purchased'], group_b[group_b['Gender'] == 'Female']['Purchased'])"
   ]
  },
  {
   "cell_type": "markdown",
   "id": "11a05d98",
   "metadata": {},
   "source": [
    "### Проведем тест на значимость эффекта для новых клиентов"
   ]
  },
  {
   "cell_type": "code",
   "execution_count": 109,
   "id": "9e96de8a",
   "metadata": {},
   "outputs": [
    {
     "data": {
      "text/plain": [
       "TtestResult(statistic=np.float64(2.5146713413314856), pvalue=np.float64(0.012271570933336548), df=np.float64(438.0))"
      ]
     },
     "execution_count": 109,
     "metadata": {},
     "output_type": "execute_result"
    }
   ],
   "source": [
    "stats.ttest_ind(group_a[group_a['Loyalty'] == 'New']['Purchased'], group_b[group_b['Loyalty'] == 'New']['Purchased'])"
   ]
  },
  {
   "cell_type": "markdown",
   "id": "0d3939ee",
   "metadata": {},
   "source": [
    "Нулевая гипотеза теста - это равенство средней конверсии в обеих группах новых клиентов\n",
    "\n",
    "p-значение - это вероятность увидеть данную выборку при условии, что нулевая гипотеза верна (1,227%) \n",
    "\n",
    "Сравниваем р-значение с альфой = 5%\n",
    "\n",
    "р-значение < 5% => отвергаем нулевую гипотезу\n",
    "\n",
    "Конверсия в группе новых клиентов, которой показывали вариант рекламы А, и в группе новых клиентов, которой показывали вариант рекламы Б, отличаются!\n",
    "\n",
    "Для более высокой конверсии новых клиентов рекомендуется показывать рекламу варианта А"
   ]
  }
 ],
 "metadata": {
  "kernelspec": {
   "display_name": "Python 3 (ipykernel)",
   "language": "python",
   "name": "python3"
  },
  "language_info": {
   "codemirror_mode": {
    "name": "ipython",
    "version": 3
   },
   "file_extension": ".py",
   "mimetype": "text/x-python",
   "name": "python",
   "nbconvert_exporter": "python",
   "pygments_lexer": "ipython3",
   "version": "3.11.5"
  }
 },
 "nbformat": 4,
 "nbformat_minor": 5
}
