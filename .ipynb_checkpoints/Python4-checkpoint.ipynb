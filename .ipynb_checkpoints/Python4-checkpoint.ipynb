{
 "cells": [
  {
   "cell_type": "markdown",
   "id": "c9d6de13",
   "metadata": {},
   "source": [
    "## Основы Python. Занятие 4. IPython, Jupyter"
   ]
  },
  {
   "cell_type": "markdown",
   "id": "744559c7",
   "metadata": {},
   "source": [
    "### Как найти моду?"
   ]
  },
  {
   "cell_type": "code",
   "execution_count": 57,
   "id": "c22b8f64",
   "metadata": {},
   "outputs": [
    {
     "name": "stdout",
     "output_type": "stream",
     "text": [
      "Мода равна 20\n"
     ]
    }
   ],
   "source": [
    "# Нахождение моды. Вариант 1\n",
    "\n",
    "numbers = [20, 15, 10, 25, 15, 10, 10, 20, 30, 20, 20]\n",
    "\n",
    "x = 0\n",
    "\n",
    "for number in numbers:\n",
    "    if numbers.count(number) > x:\n",
    "        x = numbers.count(number)\n",
    "        mode = number\n",
    "        \n",
    "print('Мода равна', mode)"
   ]
  },
  {
   "cell_type": "code",
   "execution_count": 49,
   "id": "9c1b838d",
   "metadata": {},
   "outputs": [
    {
     "name": "stdout",
     "output_type": "stream",
     "text": [
      "Мода равна 10\n"
     ]
    }
   ],
   "source": [
    "# Нахождение моды. Вариант 2\n",
    "\n",
    "numbers = [20, 15, 10, 25, 15, 10, 10, 20, 30]\n",
    "\n",
    "frequencies = {}\n",
    "\n",
    "for number in set(numbers):\n",
    "    frequencies[number] = numbers.count(number)\n",
    "    \n",
    "freq_list = list(frequencies.values())\n",
    "idx_max = freq_list.index(max(freq_list))\n",
    "mode = list(frequencies.keys())[idx_max]\n",
    "print('Мода равна', mode)"
   ]
  },
  {
   "cell_type": "markdown",
   "id": "ef078d4a",
   "metadata": {},
   "source": [
    "### Автозаполнение"
   ]
  },
  {
   "cell_type": "code",
   "execution_count": null,
   "id": "6dc40b9d",
   "metadata": {},
   "outputs": [],
   "source": [
    "frequencies."
   ]
  },
  {
   "cell_type": "code",
   "execution_count": 52,
   "id": "3a8efd31",
   "metadata": {},
   "outputs": [
    {
     "data": {
      "text/plain": [
       "list"
      ]
     },
     "execution_count": 52,
     "metadata": {},
     "output_type": "execute_result"
    }
   ],
   "source": [
    "numbers."
   ]
  },
  {
   "cell_type": "code",
   "execution_count": 53,
   "id": "d35f41aa",
   "metadata": {},
   "outputs": [],
   "source": [
    "import numpy as np\n",
    "arr = np.array(numbers)"
   ]
  },
  {
   "cell_type": "code",
   "execution_count": null,
   "id": "3d57e296",
   "metadata": {},
   "outputs": [],
   "source": [
    "arr.max()"
   ]
  },
  {
   "cell_type": "markdown",
   "id": "36d43a1d",
   "metadata": {},
   "source": [
    "### Информация об объекте"
   ]
  },
  {
   "cell_type": "code",
   "execution_count": 55,
   "id": "4c935f6b",
   "metadata": {},
   "outputs": [],
   "source": [
    "frequencies?"
   ]
  },
  {
   "cell_type": "code",
   "execution_count": 54,
   "id": "fcc2cb3c",
   "metadata": {},
   "outputs": [],
   "source": [
    "numbers?"
   ]
  },
  {
   "cell_type": "code",
   "execution_count": 56,
   "id": "39fd9c5c",
   "metadata": {},
   "outputs": [],
   "source": [
    "np.array?"
   ]
  },
  {
   "cell_type": "markdown",
   "id": "72e69514",
   "metadata": {},
   "source": [
    "### f - строки"
   ]
  },
  {
   "cell_type": "code",
   "execution_count": 68,
   "id": "f0fdf017",
   "metadata": {},
   "outputs": [
    {
     "name": "stdout",
     "output_type": "stream",
     "text": [
      "Мода равна 10.2, медиана равна 15\n",
      "Мода равна 10.2, медиана равна 15\n",
      "Мода равна 10.2, медиана равна 15\n",
      "Мода равна 10, медиана равна 15\n",
      "Мода равна 10.20, медиана равна 15.0000\n",
      "Мода равна 10.0, медиана равна 15\n"
     ]
    }
   ],
   "source": [
    "# Нахождение моды и медианы\n",
    "\n",
    "numbers = [20, 15, 10.2, 25, 15, 10.2, 10.2, 20, 30]\n",
    "\n",
    "x = 0\n",
    "\n",
    "for number in numbers:\n",
    "    if numbers.count(number) > x:\n",
    "        x = numbers.count(number)\n",
    "        mode = number\n",
    "        \n",
    "n = len(numbers)\n",
    "\n",
    "numbers.sort()\n",
    "\n",
    "if n%2 == 0:\n",
    "    a = int(n/2 - 1)\n",
    "    b = int(n/2)\n",
    "    median = (numbers[a] + numbers[b]) / 2\n",
    "else:\n",
    "    a = int((n - 1)/2 )\n",
    "    median = numbers[a]\n",
    "        \n",
    "print('Мода равна %s, медиана равна %s' %(mode, median))\n",
    "print('Мода равна {}, медиана равна {}'.format(mode, median))\n",
    "print(f'Мода равна {mode}, медиана равна {median}')\n",
    "print('Мода равна %d, медиана равна %s' %(mode, median))\n",
    "print('Мода равна %.2f, медиана равна %.4f' %(mode, median))\n",
    "print(f'Мода равна {round(mode,0)}, медиана равна {round(median, 0)}')"
   ]
  },
  {
   "cell_type": "code",
   "execution_count": 75,
   "id": "c33efc2f",
   "metadata": {},
   "outputs": [
    {
     "name": "stdout",
     "output_type": "stream",
     "text": [
      "Строка \n",
      "Вторая строка\n",
      "Строка \tВторая строка\n"
     ]
    }
   ],
   "source": [
    "print('Строка \\nВторая строка')\n",
    "\n",
    "print('Строка \\tВторая строка')"
   ]
  },
  {
   "cell_type": "code",
   "execution_count": 77,
   "id": "f124e18b",
   "metadata": {},
   "outputs": [
    {
     "name": "stdout",
     "output_type": "stream",
     "text": [
      "Python\n",
      "is\\easy\to\\learn\n",
      "Python\\nis\\easy\\to\\learn\n"
     ]
    }
   ],
   "source": [
    "print('Python\\nis\\easy\\to\\learn')\n",
    "print(r'Python\\nis\\easy\\to\\learn')"
   ]
  },
  {
   "cell_type": "code",
   "execution_count": 79,
   "id": "a151bece",
   "metadata": {},
   "outputs": [
    {
     "name": "stdout",
     "output_type": "stream",
     "text": [
      "C:\\Users\\D\\Python scripts\\Innopolis 2024\n"
     ]
    }
   ],
   "source": [
    "file_path = 'C:\\\\Users\\\\D\\\\Python scripts\\\\Innopolis 2024'\n",
    "print(file_path)"
   ]
  },
  {
   "cell_type": "code",
   "execution_count": 80,
   "id": "6dc22988",
   "metadata": {},
   "outputs": [
    {
     "name": "stdout",
     "output_type": "stream",
     "text": [
      "C:\\Users\\D\\Python scripts\\Innopolis 2024\n"
     ]
    }
   ],
   "source": [
    "file_path = r'C:\\Users\\D\\Python scripts\\Innopolis 2024'\n",
    "print(file_path)"
   ]
  },
  {
   "cell_type": "markdown",
   "id": "1e995d22",
   "metadata": {},
   "source": [
    "### Магические функции"
   ]
  },
  {
   "cell_type": "code",
   "execution_count": 81,
   "id": "1f03fc25",
   "metadata": {},
   "outputs": [],
   "source": [
    "%magic"
   ]
  },
  {
   "cell_type": "code",
   "execution_count": 82,
   "id": "1e25c1f7",
   "metadata": {},
   "outputs": [
    {
     "data": {
      "application/json": {
       "cell": {
        "!": "OSMagics",
        "HTML": "Other",
        "SVG": "Other",
        "bash": "Other",
        "capture": "ExecutionMagics",
        "cmd": "Other",
        "code_wrap": "ExecutionMagics",
        "debug": "ExecutionMagics",
        "file": "Other",
        "html": "DisplayMagics",
        "javascript": "DisplayMagics",
        "js": "DisplayMagics",
        "latex": "DisplayMagics",
        "markdown": "DisplayMagics",
        "perl": "Other",
        "prun": "ExecutionMagics",
        "pypy": "Other",
        "python": "Other",
        "python2": "Other",
        "python3": "Other",
        "ruby": "Other",
        "script": "ScriptMagics",
        "sh": "Other",
        "svg": "DisplayMagics",
        "sx": "OSMagics",
        "system": "OSMagics",
        "time": "ExecutionMagics",
        "timeit": "ExecutionMagics",
        "writefile": "OSMagics"
       },
       "line": {
        "alias": "OSMagics",
        "alias_magic": "BasicMagics",
        "autoawait": "AsyncMagics",
        "autocall": "AutoMagics",
        "automagic": "AutoMagics",
        "autosave": "KernelMagics",
        "bookmark": "OSMagics",
        "cd": "OSMagics",
        "clear": "KernelMagics",
        "cls": "KernelMagics",
        "code_wrap": "ExecutionMagics",
        "colors": "BasicMagics",
        "conda": "PackagingMagics",
        "config": "ConfigMagics",
        "connect_info": "KernelMagics",
        "copy": "Other",
        "ddir": "Other",
        "debug": "ExecutionMagics",
        "dhist": "OSMagics",
        "dirs": "OSMagics",
        "doctest_mode": "BasicMagics",
        "echo": "Other",
        "ed": "Other",
        "edit": "KernelMagics",
        "env": "OSMagics",
        "gui": "BasicMagics",
        "hist": "Other",
        "history": "HistoryMagics",
        "killbgscripts": "ScriptMagics",
        "ldir": "Other",
        "less": "KernelMagics",
        "load": "CodeMagics",
        "load_ext": "ExtensionMagics",
        "loadpy": "CodeMagics",
        "logoff": "LoggingMagics",
        "logon": "LoggingMagics",
        "logstart": "LoggingMagics",
        "logstate": "LoggingMagics",
        "logstop": "LoggingMagics",
        "ls": "Other",
        "lsmagic": "BasicMagics",
        "macro": "ExecutionMagics",
        "magic": "BasicMagics",
        "matplotlib": "PylabMagics",
        "mkdir": "Other",
        "more": "KernelMagics",
        "notebook": "BasicMagics",
        "page": "BasicMagics",
        "pastebin": "CodeMagics",
        "pdb": "ExecutionMagics",
        "pdef": "NamespaceMagics",
        "pdoc": "NamespaceMagics",
        "pfile": "NamespaceMagics",
        "pinfo": "NamespaceMagics",
        "pinfo2": "NamespaceMagics",
        "pip": "PackagingMagics",
        "popd": "OSMagics",
        "pprint": "BasicMagics",
        "precision": "BasicMagics",
        "prun": "ExecutionMagics",
        "psearch": "NamespaceMagics",
        "psource": "NamespaceMagics",
        "pushd": "OSMagics",
        "pwd": "OSMagics",
        "pycat": "OSMagics",
        "pylab": "PylabMagics",
        "qtconsole": "KernelMagics",
        "quickref": "BasicMagics",
        "recall": "HistoryMagics",
        "rehashx": "OSMagics",
        "reload_ext": "ExtensionMagics",
        "ren": "Other",
        "rep": "Other",
        "rerun": "HistoryMagics",
        "reset": "NamespaceMagics",
        "reset_selective": "NamespaceMagics",
        "rmdir": "Other",
        "run": "ExecutionMagics",
        "save": "CodeMagics",
        "sc": "OSMagics",
        "set_env": "OSMagics",
        "store": "StoreMagics",
        "sx": "OSMagics",
        "system": "OSMagics",
        "tb": "ExecutionMagics",
        "time": "ExecutionMagics",
        "timeit": "ExecutionMagics",
        "unalias": "OSMagics",
        "unload_ext": "ExtensionMagics",
        "who": "NamespaceMagics",
        "who_ls": "NamespaceMagics",
        "whos": "NamespaceMagics",
        "xdel": "NamespaceMagics",
        "xmode": "BasicMagics"
       }
      },
      "text/plain": [
       "Available line magics:\n",
       "%alias  %alias_magic  %autoawait  %autocall  %automagic  %autosave  %bookmark  %cd  %clear  %cls  %code_wrap  %colors  %conda  %config  %connect_info  %copy  %ddir  %debug  %dhist  %dirs  %doctest_mode  %echo  %ed  %edit  %env  %gui  %hist  %history  %killbgscripts  %ldir  %less  %load  %load_ext  %loadpy  %logoff  %logon  %logstart  %logstate  %logstop  %ls  %lsmagic  %macro  %magic  %matplotlib  %mkdir  %more  %notebook  %page  %pastebin  %pdb  %pdef  %pdoc  %pfile  %pinfo  %pinfo2  %pip  %popd  %pprint  %precision  %prun  %psearch  %psource  %pushd  %pwd  %pycat  %pylab  %qtconsole  %quickref  %recall  %rehashx  %reload_ext  %ren  %rep  %rerun  %reset  %reset_selective  %rmdir  %run  %save  %sc  %set_env  %store  %sx  %system  %tb  %time  %timeit  %unalias  %unload_ext  %who  %who_ls  %whos  %xdel  %xmode\n",
       "\n",
       "Available cell magics:\n",
       "%%!  %%HTML  %%SVG  %%bash  %%capture  %%cmd  %%code_wrap  %%debug  %%file  %%html  %%javascript  %%js  %%latex  %%markdown  %%perl  %%prun  %%pypy  %%python  %%python2  %%python3  %%ruby  %%script  %%sh  %%svg  %%sx  %%system  %%time  %%timeit  %%writefile\n",
       "\n",
       "Automagic is ON, % prefix IS NOT needed for line magics."
      ]
     },
     "execution_count": 82,
     "metadata": {},
     "output_type": "execute_result"
    }
   ],
   "source": [
    "%lsmagic"
   ]
  },
  {
   "cell_type": "code",
   "execution_count": 83,
   "id": "47cd8a60",
   "metadata": {},
   "outputs": [],
   "source": [
    "magic"
   ]
  },
  {
   "cell_type": "code",
   "execution_count": 84,
   "id": "c9856e09",
   "metadata": {},
   "outputs": [
    {
     "name": "stdout",
     "output_type": "stream",
     "text": [
      "202 ns ± 41.2 ns per loop (mean ± std. dev. of 7 runs, 1,000,000 loops each)\n"
     ]
    }
   ],
   "source": [
    "%timeit x = range(100)"
   ]
  },
  {
   "cell_type": "code",
   "execution_count": null,
   "id": "c6c48662",
   "metadata": {},
   "outputs": [],
   "source": [
    "# Сравним скорость расчета моды по двум вариантам"
   ]
  },
  {
   "cell_type": "code",
   "execution_count": 92,
   "id": "231001de",
   "metadata": {
    "scrolled": true
   },
   "outputs": [
    {
     "name": "stdout",
     "output_type": "stream",
     "text": [
      "2.26 µs ± 91.1 ns per loop (mean ± std. dev. of 7 runs, 100,000 loops each)\n"
     ]
    }
   ],
   "source": [
    "%%timeit\n",
    "\n",
    "numbers = [20, 15, 10, 25, 15, 10, 10, 20, 30, 20, 20]\n",
    "\n",
    "x = 0\n",
    "\n",
    "for number in set(numbers):\n",
    "    if numbers.count(number) > x:\n",
    "        x = numbers.count(number)\n",
    "        mode = number"
   ]
  },
  {
   "cell_type": "code",
   "execution_count": 91,
   "id": "f75e2c7d",
   "metadata": {},
   "outputs": [
    {
     "name": "stdout",
     "output_type": "stream",
     "text": [
      "4.45 µs ± 630 ns per loop (mean ± std. dev. of 7 runs, 100,000 loops each)\n"
     ]
    }
   ],
   "source": [
    "%%timeit\n",
    "\n",
    "numbers = [20, 15, 10, 25, 15, 10, 10, 20, 30]\n",
    "\n",
    "frequencies = {}\n",
    "\n",
    "for number in set(numbers):\n",
    "    frequencies[number] = numbers.count(number)\n",
    "    \n",
    "freq_list = list(frequencies.values())\n",
    "idx_max = freq_list.index(max(freq_list))\n",
    "mode = list(frequencies.keys())[idx_max]"
   ]
  },
  {
   "cell_type": "code",
   "execution_count": 97,
   "id": "ac18268d",
   "metadata": {},
   "outputs": [
    {
     "name": "stdout",
     "output_type": "stream",
     "text": [
      "Введите число \n",
      "Для окончания нажмите Enter \n",
      "10\n",
      "Введите число \n",
      "Для окончания нажмите Enter \n",
      "10\n",
      "Введите число \n",
      "Для окончания нажмите Enter \n",
      "10\n",
      "Введите число \n",
      "Для окончания нажмите Enter \n",
      "15\n",
      "Введите число \n",
      "Для окончания нажмите Enter \n",
      "20\n",
      "Введите число \n",
      "Для окончания нажмите Enter \n",
      "20\n",
      "Введите число \n",
      "Для окончания нажмите Enter \n",
      "25\n",
      "Введите число \n",
      "Для окончания нажмите Enter \n",
      "\n",
      "Мода равна 10, медиана равна 15\n"
     ]
    }
   ],
   "source": [
    "%run \"C:\\\\Users\\\\D\\Python scripts\\\\Innopolis 2024\\\\Python4_statistics.ipynb\""
   ]
  },
  {
   "cell_type": "code",
   "execution_count": 101,
   "id": "d0d78ef5",
   "metadata": {},
   "outputs": [
    {
     "data": {
      "text/plain": [
       "'C:\\\\Users\\\\D\\\\Python scripts\\\\Innopolis 2024'"
      ]
     },
     "execution_count": 101,
     "metadata": {},
     "output_type": "execute_result"
    }
   ],
   "source": [
    "%pwd"
   ]
  },
  {
   "cell_type": "code",
   "execution_count": 100,
   "id": "43ea078c",
   "metadata": {},
   "outputs": [
    {
     "name": "stdout",
     "output_type": "stream",
     "text": [
      "C:\\Users\\D\\Python scripts\\Innopolis 2024\n"
     ]
    }
   ],
   "source": [
    "%cd \"C:\\\\Users\\\\D\\\\Python scripts\\\\Innopolis 2024\""
   ]
  },
  {
   "cell_type": "markdown",
   "id": "61367d8a",
   "metadata": {},
   "source": [
    "### Пользовательские функции"
   ]
  },
  {
   "cell_type": "code",
   "execution_count": 102,
   "id": "d8b3adea",
   "metadata": {},
   "outputs": [],
   "source": [
    "def get_median(numbers_list):\n",
    "    n = len(numbers_list)\n",
    "    numbers_list.sort()\n",
    "    if n%2 == 0:\n",
    "        a = int(n/2 - 1)\n",
    "        b = int(n/2)\n",
    "        median = (numbers_list[a] + numbers_list[b]) / 2\n",
    "    else:\n",
    "        a = int((n - 1)/2 )\n",
    "        median = numbers_list[a]\n",
    "    print(f'Медиана равна {median}')"
   ]
  },
  {
   "cell_type": "code",
   "execution_count": 103,
   "id": "551eeaa9",
   "metadata": {},
   "outputs": [
    {
     "name": "stdout",
     "output_type": "stream",
     "text": [
      "Медиана равна 15\n"
     ]
    }
   ],
   "source": [
    "get_median([10, 10, 10, 15, 20, 25, 30])"
   ]
  },
  {
   "cell_type": "code",
   "execution_count": 104,
   "id": "7774b59b",
   "metadata": {},
   "outputs": [
    {
     "name": "stdout",
     "output_type": "stream",
     "text": [
      "Медиана равна 17.5\n"
     ]
    }
   ],
   "source": [
    "get_median(numbers_list = [10, 10, 15, 20, 25, 30])"
   ]
  },
  {
   "cell_type": "code",
   "execution_count": 117,
   "id": "7b0fc191",
   "metadata": {},
   "outputs": [],
   "source": [
    "def get_mode(numbers_list):\n",
    "    \n",
    "    \"\"\"\n",
    "    Эта функция определяет моду для указанного списка чисел\n",
    "    \"\"\"\n",
    "    \n",
    "    x = 0\n",
    "    for number in numbers_list:\n",
    "        if numbers_list.count(number) > x:\n",
    "            x = numbers_list.count(number)\n",
    "            mode = number\n",
    "    return mode"
   ]
  },
  {
   "cell_type": "code",
   "execution_count": 114,
   "id": "8db2c68b",
   "metadata": {},
   "outputs": [
    {
     "name": "stdout",
     "output_type": "stream",
     "text": [
      "10\n"
     ]
    }
   ],
   "source": [
    "x = [10, 10, 15, 20, 25, 30]\n",
    "\n",
    "a = get_mode(x)\n",
    "print(a)"
   ]
  },
  {
   "cell_type": "code",
   "execution_count": 116,
   "id": "53c705cc",
   "metadata": {},
   "outputs": [
    {
     "data": {
      "text/plain": [
       "10"
      ]
     },
     "execution_count": 116,
     "metadata": {},
     "output_type": "execute_result"
    }
   ],
   "source": [
    "numbers_list = [10, 10, 15, 20, 25, 30]\n",
    "get_mode(numbers_list = numbers_list)"
   ]
  },
  {
   "cell_type": "code",
   "execution_count": 119,
   "id": "9f90a963",
   "metadata": {},
   "outputs": [],
   "source": [
    "def get_mode(numbers_list, print_result = False):\n",
    "    \n",
    "    \"\"\"\n",
    "    Эта функция определяет моду для указанного списка чисел\n",
    "    \"\"\"\n",
    "    \n",
    "    x = 0\n",
    "    for number in numbers_list:\n",
    "        if numbers_list.count(number) > x:\n",
    "            x = numbers_list.count(number)\n",
    "            mode = number\n",
    "    if print_result == True:\n",
    "        print(f'Мода равна {mode}')\n",
    "    else:\n",
    "        return mode"
   ]
  },
  {
   "cell_type": "code",
   "execution_count": 121,
   "id": "6da89dac",
   "metadata": {},
   "outputs": [
    {
     "name": "stdout",
     "output_type": "stream",
     "text": [
      "Мода равна 10\n"
     ]
    }
   ],
   "source": [
    "get_mode(numbers_list, print_result = True)"
   ]
  },
  {
   "cell_type": "code",
   "execution_count": 126,
   "id": "b3a8bf6d",
   "metadata": {},
   "outputs": [
    {
     "name": "stdout",
     "output_type": "stream",
     "text": [
      "Строка 1 Строка 2\n",
      "Строка 1 Строка 2\tСтрока 1__Строка 2\n"
     ]
    }
   ],
   "source": [
    "print('Строка 1', 'Строка 2')\n",
    "print('Строка 1', 'Строка 2', end = '\\t')\n",
    "print('Строка 1', 'Строка 2', sep = '__')"
   ]
  },
  {
   "cell_type": "code",
   "execution_count": 127,
   "id": "5d3cea5d",
   "metadata": {},
   "outputs": [
    {
     "name": "stdout",
     "output_type": "stream",
     "text": [
      "Мода равна 10\n"
     ]
    }
   ],
   "source": [
    "get_mode(numbers_list, True)"
   ]
  },
  {
   "cell_type": "code",
   "execution_count": 128,
   "id": "923da15e",
   "metadata": {},
   "outputs": [
    {
     "name": "stdout",
     "output_type": "stream",
     "text": [
      "Мода равна 10\n"
     ]
    }
   ],
   "source": [
    "get_mode(numbers_list = numbers_list, print_result = True)"
   ]
  },
  {
   "cell_type": "code",
   "execution_count": 129,
   "id": "302d4527",
   "metadata": {},
   "outputs": [
    {
     "ename": "SyntaxError",
     "evalue": "positional argument follows keyword argument (216018720.py, line 1)",
     "output_type": "error",
     "traceback": [
      "\u001b[1;36m  Cell \u001b[1;32mIn[129], line 1\u001b[1;36m\u001b[0m\n\u001b[1;33m    get_mode(numbers_list = numbers_list, True)\u001b[0m\n\u001b[1;37m                                              ^\u001b[0m\n\u001b[1;31mSyntaxError\u001b[0m\u001b[1;31m:\u001b[0m positional argument follows keyword argument\n"
     ]
    }
   ],
   "source": [
    "get_mode(numbers_list = numbers_list, True)"
   ]
  },
  {
   "cell_type": "code",
   "execution_count": 130,
   "id": "a3d1f1fa",
   "metadata": {},
   "outputs": [
    {
     "ename": "TypeError",
     "evalue": "get_mode() got multiple values for argument 'numbers_list'",
     "output_type": "error",
     "traceback": [
      "\u001b[1;31m---------------------------------------------------------------------------\u001b[0m",
      "\u001b[1;31mTypeError\u001b[0m                                 Traceback (most recent call last)",
      "Cell \u001b[1;32mIn[130], line 1\u001b[0m\n\u001b[1;32m----> 1\u001b[0m get_mode(numbers_list, numbers_list \u001b[38;5;241m=\u001b[39m numbers_list)\n",
      "\u001b[1;31mTypeError\u001b[0m: get_mode() got multiple values for argument 'numbers_list'"
     ]
    }
   ],
   "source": [
    "get_mode(numbers_list, numbers_list = numbers_list)"
   ]
  },
  {
   "cell_type": "markdown",
   "id": "91213bd1",
   "metadata": {},
   "source": [
    "### Лямбда-функция"
   ]
  },
  {
   "cell_type": "code",
   "execution_count": 135,
   "id": "70a7019a",
   "metadata": {},
   "outputs": [
    {
     "data": {
      "text/plain": [
       "4"
      ]
     },
     "execution_count": 135,
     "metadata": {},
     "output_type": "execute_result"
    }
   ],
   "source": [
    "a = 2\n",
    "b = 2\n",
    "a ** b"
   ]
  },
  {
   "cell_type": "code",
   "execution_count": 136,
   "id": "d2201ca7",
   "metadata": {},
   "outputs": [],
   "source": [
    "square = lambda x : x**2"
   ]
  },
  {
   "cell_type": "code",
   "execution_count": 138,
   "id": "c5febf74",
   "metadata": {},
   "outputs": [
    {
     "data": {
      "text/plain": [
       "function"
      ]
     },
     "execution_count": 138,
     "metadata": {},
     "output_type": "execute_result"
    }
   ],
   "source": [
    "type(get_mode)"
   ]
  },
  {
   "cell_type": "code",
   "execution_count": 137,
   "id": "ba2fac58",
   "metadata": {},
   "outputs": [
    {
     "data": {
      "text/plain": [
       "function"
      ]
     },
     "execution_count": 137,
     "metadata": {},
     "output_type": "execute_result"
    }
   ],
   "source": [
    "type(square)"
   ]
  },
  {
   "cell_type": "code",
   "execution_count": 139,
   "id": "789537a2",
   "metadata": {},
   "outputs": [
    {
     "data": {
      "text/plain": [
       "100"
      ]
     },
     "execution_count": 139,
     "metadata": {},
     "output_type": "execute_result"
    }
   ],
   "source": [
    "square(10)"
   ]
  },
  {
   "cell_type": "code",
   "execution_count": 140,
   "id": "1ae7672c",
   "metadata": {},
   "outputs": [],
   "source": [
    "exponentiation = lambda x, y: x**y"
   ]
  },
  {
   "cell_type": "code",
   "execution_count": 141,
   "id": "92d91c87",
   "metadata": {},
   "outputs": [
    {
     "data": {
      "text/plain": [
       "81"
      ]
     },
     "execution_count": 141,
     "metadata": {},
     "output_type": "execute_result"
    }
   ],
   "source": [
    "exponentiation(3, 4)"
   ]
  },
  {
   "cell_type": "code",
   "execution_count": 142,
   "id": "c03468ea",
   "metadata": {},
   "outputs": [],
   "source": [
    "def square_fun(x):\n",
    "    return x**2"
   ]
  },
  {
   "cell_type": "code",
   "execution_count": 143,
   "id": "7c9747b2",
   "metadata": {},
   "outputs": [
    {
     "data": {
      "text/plain": [
       "100"
      ]
     },
     "execution_count": 143,
     "metadata": {},
     "output_type": "execute_result"
    }
   ],
   "source": [
    "square_fun(10)"
   ]
  },
  {
   "cell_type": "code",
   "execution_count": 144,
   "id": "1b28d2a6",
   "metadata": {},
   "outputs": [],
   "source": [
    "def exp_fun(x, y):\n",
    "    return x**y"
   ]
  },
  {
   "cell_type": "code",
   "execution_count": 145,
   "id": "7da90890",
   "metadata": {},
   "outputs": [
    {
     "data": {
      "text/plain": [
       "81"
      ]
     },
     "execution_count": 145,
     "metadata": {},
     "output_type": "execute_result"
    }
   ],
   "source": [
    "exp_fun(3, 4)"
   ]
  },
  {
   "cell_type": "markdown",
   "id": "7ecaf03c",
   "metadata": {},
   "source": [
    "### TimeIT в строку"
   ]
  },
  {
   "cell_type": "code",
   "execution_count": 146,
   "id": "9d2bb927",
   "metadata": {},
   "outputs": [
    {
     "name": "stdout",
     "output_type": "stream",
     "text": [
      "1.81 µs ± 290 ns per loop (mean ± std. dev. of 7 runs, 100,000 loops each)\n"
     ]
    }
   ],
   "source": [
    "mode_time = %timeit -o get_mode(numbers_list)"
   ]
  },
  {
   "cell_type": "code",
   "execution_count": 151,
   "id": "2bc70c39",
   "metadata": {},
   "outputs": [
    {
     "data": {
      "text/plain": [
       "'1.81 µs ± 290 ns per loop (mean ± std. dev. of 7 runs, 100,000 loops each)'"
      ]
     },
     "execution_count": 151,
     "metadata": {},
     "output_type": "execute_result"
    }
   ],
   "source": [
    "str(mode_time)"
   ]
  },
  {
   "cell_type": "code",
   "execution_count": 152,
   "id": "377121c4",
   "metadata": {},
   "outputs": [
    {
     "data": {
      "text/plain": [
       "[1.6752029999770458e-06,\n",
       " 2.28936600000452e-06,\n",
       " 2.1201300000029733e-06,\n",
       " 1.8567009999969742e-06,\n",
       " 1.7951130000074045e-06,\n",
       " 1.4555299999847194e-06,\n",
       " 1.4682800000082351e-06]"
      ]
     },
     "execution_count": 152,
     "metadata": {},
     "output_type": "execute_result"
    }
   ],
   "source": [
    "mode_time.timings"
   ]
  }
 ],
 "metadata": {
  "kernelspec": {
   "display_name": "Python 3 (ipykernel)",
   "language": "python",
   "name": "python3"
  },
  "language_info": {
   "codemirror_mode": {
    "name": "ipython",
    "version": 3
   },
   "file_extension": ".py",
   "mimetype": "text/x-python",
   "name": "python",
   "nbconvert_exporter": "python",
   "pygments_lexer": "ipython3",
   "version": "3.11.5"
  }
 },
 "nbformat": 4,
 "nbformat_minor": 5
}
