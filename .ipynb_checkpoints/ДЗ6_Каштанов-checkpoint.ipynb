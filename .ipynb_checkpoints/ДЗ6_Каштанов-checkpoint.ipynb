{
 "cells": [
  {
   "cell_type": "code",
   "execution_count": 3,
   "id": "663fc233",
   "metadata": {},
   "outputs": [],
   "source": [
    "import pandas as pd\n",
    "import numpy as np\n",
    "import psycopg2"
   ]
  },
  {
   "cell_type": "code",
   "execution_count": 5,
   "id": "5df6e907-203f-4446-a24c-003e1991aa49",
   "metadata": {},
   "outputs": [],
   "source": [
    "query = \"\"\"\n",
    "WITH clients_by_countries_table AS \n",
    "(\n",
    "\tSELECT\n",
    "\t\tcust.customer_id,\n",
    "\t\tcust.active,\n",
    "\t\tpay.amount,\n",
    "\t\tcity.city,\n",
    "\t\tcntr.country\n",
    "\tFROM\n",
    "\t\tcustomer AS cust\n",
    "\tLEFT JOIN \n",
    "\t\taddress AS adr\n",
    "\tON cust.address_id = adr.address_id\n",
    "\tLEFT JOIN \n",
    "\t\tcity AS city\n",
    "\tON adr.city_id = city.city_id\n",
    "\tLEFT JOIN \n",
    "\t\tcountry AS cntr\n",
    "\tON city.country_id = cntr.country_id\n",
    "\tLEFT JOIN \n",
    "\t\tpayment AS pay\n",
    "\tON cust.customer_id = pay.customer_id\n",
    "\tGROUP BY\n",
    "\t\tcntr.country,\n",
    "\t\tcity.city_id,\n",
    "\t\tcust.customer_id,\n",
    "\t\tpay.amount\n",
    "\tORDER BY\n",
    "\t\tamount DESC,\n",
    "\t\tcountry ASC,\t\t\n",
    "\t\tfirst_name ASC\n",
    ")\n",
    "SELECT\n",
    "\tcountry,\n",
    "\tcity,\n",
    "\tSUM (CASE\n",
    "\t\tWHEN clients_by_countries_table.active = 1 THEN 1 ELSE 0 END) AS active_clients,\n",
    "\tSUM (CASE\n",
    "\t\tWHEN clients_by_countries_table.active = 0 THEN 1 ELSE 0 END) AS inactive_clients,\n",
    "\t\tSUM (amount) AS amount\n",
    "FROM \n",
    "\tclients_by_countries_table\n",
    "GROUP BY\n",
    "\tclients_by_countries_table.country,\n",
    "\tclients_by_countries_table.city\n",
    "ORDER BY\n",
    "\tcountry ASC\"\"\""
   ]
  },
  {
   "cell_type": "code",
   "execution_count": 7,
   "id": "f2dcc207-d267-4c94-a096-a197f0767c7b",
   "metadata": {},
   "outputs": [],
   "source": [
    "engine = psycopg2.connect(\"dbname='dvdrental' user='postgres' host='localhost' port='5432' password='12kshtanov'\")"
   ]
  },
  {
   "cell_type": "code",
   "execution_count": 9,
   "id": "6f7eb68d-f2a0-4462-9e46-b124e39df378",
   "metadata": {},
   "outputs": [
    {
     "name": "stderr",
     "output_type": "stream",
     "text": [
      "C:\\Users\\Home\\AppData\\Local\\Temp\\ipykernel_1892\\1727333228.py:1: UserWarning: pandas only supports SQLAlchemy connectable (engine/connection) or database string URI or sqlite3 DBAPI2 connection. Other DBAPI2 objects are not tested. Please consider using SQLAlchemy.\n",
      "  df = pd.read_sql(query, con=engine)\n"
     ]
    }
   ],
   "source": [
    "df = pd.read_sql(query, con=engine)"
   ]
  },
  {
   "cell_type": "code",
   "execution_count": 17,
   "id": "51ab8257-502e-4296-a431-8f3275307db5",
   "metadata": {},
   "outputs": [
    {
     "data": {
      "text/html": [
       "<div>\n",
       "<style scoped>\n",
       "    .dataframe tbody tr th:only-of-type {\n",
       "        vertical-align: middle;\n",
       "    }\n",
       "\n",
       "    .dataframe tbody tr th {\n",
       "        vertical-align: top;\n",
       "    }\n",
       "\n",
       "    .dataframe thead th {\n",
       "        text-align: right;\n",
       "    }\n",
       "</style>\n",
       "<table border=\"1\" class=\"dataframe\">\n",
       "  <thead>\n",
       "    <tr style=\"text-align: right;\">\n",
       "      <th></th>\n",
       "      <th>country</th>\n",
       "      <th>city</th>\n",
       "      <th>active_clients</th>\n",
       "      <th>inactive_clients</th>\n",
       "      <th>amount</th>\n",
       "    </tr>\n",
       "  </thead>\n",
       "  <tbody>\n",
       "    <tr>\n",
       "      <th>0</th>\n",
       "      <td>Afghanistan</td>\n",
       "      <td>Kabul</td>\n",
       "      <td>6</td>\n",
       "      <td>0</td>\n",
       "      <td>30.94</td>\n",
       "    </tr>\n",
       "    <tr>\n",
       "      <th>1</th>\n",
       "      <td>Algeria</td>\n",
       "      <td>Skikda</td>\n",
       "      <td>9</td>\n",
       "      <td>0</td>\n",
       "      <td>44.91</td>\n",
       "    </tr>\n",
       "    <tr>\n",
       "      <th>2</th>\n",
       "      <td>Algeria</td>\n",
       "      <td>Bchar</td>\n",
       "      <td>7</td>\n",
       "      <td>0</td>\n",
       "      <td>34.93</td>\n",
       "    </tr>\n",
       "    <tr>\n",
       "      <th>3</th>\n",
       "      <td>Algeria</td>\n",
       "      <td>Batna</td>\n",
       "      <td>8</td>\n",
       "      <td>0</td>\n",
       "      <td>40.92</td>\n",
       "    </tr>\n",
       "    <tr>\n",
       "      <th>4</th>\n",
       "      <td>American Samoa</td>\n",
       "      <td>Tafuna</td>\n",
       "      <td>4</td>\n",
       "      <td>0</td>\n",
       "      <td>12.96</td>\n",
       "    </tr>\n",
       "    <tr>\n",
       "      <th>...</th>\n",
       "      <td>...</td>\n",
       "      <td>...</td>\n",
       "      <td>...</td>\n",
       "      <td>...</td>\n",
       "      <td>...</td>\n",
       "    </tr>\n",
       "    <tr>\n",
       "      <th>592</th>\n",
       "      <td>Yemen</td>\n",
       "      <td>Sanaa</td>\n",
       "      <td>6</td>\n",
       "      <td>0</td>\n",
       "      <td>25.94</td>\n",
       "    </tr>\n",
       "    <tr>\n",
       "      <th>593</th>\n",
       "      <td>Yemen</td>\n",
       "      <td>Aden</td>\n",
       "      <td>9</td>\n",
       "      <td>0</td>\n",
       "      <td>44.91</td>\n",
       "    </tr>\n",
       "    <tr>\n",
       "      <th>594</th>\n",
       "      <td>Yugoslavia</td>\n",
       "      <td>Novi Sad</td>\n",
       "      <td>6</td>\n",
       "      <td>0</td>\n",
       "      <td>28.94</td>\n",
       "    </tr>\n",
       "    <tr>\n",
       "      <th>595</th>\n",
       "      <td>Yugoslavia</td>\n",
       "      <td>Kragujevac</td>\n",
       "      <td>9</td>\n",
       "      <td>0</td>\n",
       "      <td>44.91</td>\n",
       "    </tr>\n",
       "    <tr>\n",
       "      <th>596</th>\n",
       "      <td>Zambia</td>\n",
       "      <td>Kitwe</td>\n",
       "      <td>9</td>\n",
       "      <td>0</td>\n",
       "      <td>44.91</td>\n",
       "    </tr>\n",
       "  </tbody>\n",
       "</table>\n",
       "<p>597 rows × 5 columns</p>\n",
       "</div>"
      ],
      "text/plain": [
       "            country        city  active_clients  inactive_clients  amount\n",
       "0       Afghanistan       Kabul               6                 0   30.94\n",
       "1           Algeria      Skikda               9                 0   44.91\n",
       "2           Algeria       Bchar               7                 0   34.93\n",
       "3           Algeria       Batna               8                 0   40.92\n",
       "4    American Samoa      Tafuna               4                 0   12.96\n",
       "..              ...         ...             ...               ...     ...\n",
       "592           Yemen       Sanaa               6                 0   25.94\n",
       "593           Yemen        Aden               9                 0   44.91\n",
       "594      Yugoslavia    Novi Sad               6                 0   28.94\n",
       "595      Yugoslavia  Kragujevac               9                 0   44.91\n",
       "596          Zambia       Kitwe               9                 0   44.91\n",
       "\n",
       "[597 rows x 5 columns]"
      ]
     },
     "execution_count": 17,
     "metadata": {},
     "output_type": "execute_result"
    }
   ],
   "source": [
    "df"
   ]
  },
  {
   "cell_type": "code",
   "execution_count": 21,
   "id": "6f598156-ed00-4bde-996f-8cb9fbe1eea9",
   "metadata": {},
   "outputs": [
    {
     "data": {
      "text/plain": [
       "(597, 5)"
      ]
     },
     "execution_count": 21,
     "metadata": {},
     "output_type": "execute_result"
    }
   ],
   "source": [
    "df.shape\n",
    "# количество строк, колонок"
   ]
  },
  {
   "cell_type": "code",
   "execution_count": 23,
   "id": "b4271aac-5914-4e2f-9a49-42360c4b92b8",
   "metadata": {},
   "outputs": [
    {
     "data": {
      "text/plain": [
       "2985"
      ]
     },
     "execution_count": 23,
     "metadata": {},
     "output_type": "execute_result"
    }
   ],
   "source": [
    "df.size\n",
    "# количество элементов"
   ]
  },
  {
   "cell_type": "code",
   "execution_count": 27,
   "id": "a5915b42-2862-4174-bb64-e8887dc116df",
   "metadata": {},
   "outputs": [
    {
     "data": {
      "text/plain": [
       "country              object\n",
       "city                 object\n",
       "active_clients        int64\n",
       "inactive_clients      int64\n",
       "amount              float64\n",
       "dtype: object"
      ]
     },
     "execution_count": 27,
     "metadata": {},
     "output_type": "execute_result"
    }
   ],
   "source": [
    "df.dtypes\n",
    "# тип данных"
   ]
  },
  {
   "cell_type": "code",
   "execution_count": 19,
   "id": "7ee322b8-bb7f-4ff4-b6fb-f8d0a8d89465",
   "metadata": {},
   "outputs": [
    {
     "data": {
      "text/plain": [
       "array(['Afghanistan', 'Algeria', 'American Samoa', 'Angola', 'Anguilla',\n",
       "       'Argentina', 'Armenia', 'Austria', 'Azerbaijan', 'Bahrain',\n",
       "       'Bangladesh', 'Belarus', 'Bolivia', 'Brazil', 'Brunei', 'Bulgaria',\n",
       "       'Cambodia', 'Cameroon', 'Canada', 'Chad', 'Chile', 'China',\n",
       "       'Colombia', 'Congo, The Democratic Republic of the',\n",
       "       'Czech Republic', 'Dominican Republic', 'Ecuador', 'Egypt',\n",
       "       'Estonia', 'Ethiopia', 'Faroe Islands', 'Finland', 'France',\n",
       "       'French Guiana', 'French Polynesia', 'Gambia', 'Germany', 'Greece',\n",
       "       'Greenland', 'Holy See (Vatican City State)', 'Hong Kong',\n",
       "       'Hungary', 'India', 'Indonesia', 'Iran', 'Iraq', 'Israel', 'Italy',\n",
       "       'Japan', 'Kazakstan', 'Kenya', 'Kuwait', 'Latvia', 'Liechtenstein',\n",
       "       'Lithuania', 'Madagascar', 'Malawi', 'Malaysia', 'Mexico',\n",
       "       'Moldova', 'Morocco', 'Mozambique', 'Myanmar', 'Nauru', 'Nepal',\n",
       "       'Netherlands', 'New Zealand', 'Nigeria', 'North Korea', 'Oman',\n",
       "       'Pakistan', 'Paraguay', 'Peru', 'Philippines', 'Poland',\n",
       "       'Puerto Rico', 'Romania', 'Runion', 'Russian Federation',\n",
       "       'Saint Vincent and the Grenadines', 'Saudi Arabia', 'Senegal',\n",
       "       'Slovakia', 'South Africa', 'South Korea', 'Spain', 'Sri Lanka',\n",
       "       'Sudan', 'Sweden', 'Switzerland', 'Taiwan', 'Tanzania', 'Thailand',\n",
       "       'Tonga', 'Tunisia', 'Turkey', 'Turkmenistan', 'Tuvalu', 'Ukraine',\n",
       "       'United Arab Emirates', 'United Kingdom', 'United States',\n",
       "       'Venezuela', 'Vietnam', 'Virgin Islands, U.S.', 'Yemen',\n",
       "       'Yugoslavia', 'Zambia'], dtype=object)"
      ]
     },
     "execution_count": 19,
     "metadata": {},
     "output_type": "execute_result"
    }
   ],
   "source": [
    "df['country'].unique()\n",
    "# уникальные значения по строковой переменной 'country'"
   ]
  },
  {
   "cell_type": "code",
   "execution_count": 47,
   "id": "899c1887-db62-4be2-a402-ee2ccafe8c6d",
   "metadata": {},
   "outputs": [
    {
     "data": {
      "text/plain": [
       "country\n",
       "India            60\n",
       "China            53\n",
       "United States    35\n",
       "Japan            31\n",
       "Mexico           30\n",
       "                 ..\n",
       "Moldova           1\n",
       "Nauru             1\n",
       "Nepal             1\n",
       "New Zealand       1\n",
       "Zambia            1\n",
       "Name: count, Length: 108, dtype: int64"
      ]
     },
     "execution_count": 47,
     "metadata": {},
     "output_type": "execute_result"
    }
   ],
   "source": [
    "df['country'].value_counts()\n",
    "# частота встречающихся значений по строковой переменной 'country'\n",
    "# количество уникальных значений по строковой переменной 'country' - 108"
   ]
  },
  {
   "cell_type": "code",
   "execution_count": 33,
   "id": "a999e69f-afa6-4d52-9038-9532feec49d8",
   "metadata": {},
   "outputs": [
    {
     "data": {
      "text/plain": [
       "city\n",
       "Kabul                 1\n",
       "Bislig                1\n",
       "Talavera              1\n",
       "Iligan                1\n",
       "Tanauan               1\n",
       "                     ..\n",
       "Karnal                1\n",
       "Yamuna Nagar          1\n",
       "Varanasi (Benares)    1\n",
       "Satna                 1\n",
       "Kitwe                 1\n",
       "Name: count, Length: 597, dtype: int64"
      ]
     },
     "execution_count": 33,
     "metadata": {},
     "output_type": "execute_result"
    }
   ],
   "source": [
    "df['city'].value_counts()\n",
    "# количество уникальных значений по строковой переменной 'city' - 597\n",
    "# частота встречающихся значений по строковой переменной 'city'"
   ]
  },
  {
   "cell_type": "code",
   "execution_count": 129,
   "id": "3ec24410-6731-463a-a672-68c805f65e7a",
   "metadata": {},
   "outputs": [
    {
     "data": {
      "text/html": [
       "<div>\n",
       "<style scoped>\n",
       "    .dataframe tbody tr th:only-of-type {\n",
       "        vertical-align: middle;\n",
       "    }\n",
       "\n",
       "    .dataframe tbody tr th {\n",
       "        vertical-align: top;\n",
       "    }\n",
       "\n",
       "    .dataframe thead th {\n",
       "        text-align: right;\n",
       "    }\n",
       "</style>\n",
       "<table border=\"1\" class=\"dataframe\">\n",
       "  <thead>\n",
       "    <tr style=\"text-align: right;\">\n",
       "      <th></th>\n",
       "      <th>active_clients</th>\n",
       "      <th>inactive_clients</th>\n",
       "      <th>amount</th>\n",
       "    </tr>\n",
       "  </thead>\n",
       "  <tbody>\n",
       "    <tr>\n",
       "      <th>min</th>\n",
       "      <td>0.000000</td>\n",
       "      <td>0.00000</td>\n",
       "      <td>12.96000</td>\n",
       "    </tr>\n",
       "    <tr>\n",
       "      <th>mean</th>\n",
       "      <td>7.624791</td>\n",
       "      <td>0.20938</td>\n",
       "      <td>39.44928</td>\n",
       "    </tr>\n",
       "    <tr>\n",
       "      <th>50%</th>\n",
       "      <td>8.000000</td>\n",
       "      <td>0.00000</td>\n",
       "      <td>38.92000</td>\n",
       "    </tr>\n",
       "    <tr>\n",
       "      <th>max</th>\n",
       "      <td>13.000000</td>\n",
       "      <td>11.00000</td>\n",
       "      <td>69.87000</td>\n",
       "    </tr>\n",
       "  </tbody>\n",
       "</table>\n",
       "</div>"
      ],
      "text/plain": [
       "      active_clients  inactive_clients    amount\n",
       "min         0.000000           0.00000  12.96000\n",
       "mean        7.624791           0.20938  39.44928\n",
       "50%         8.000000           0.00000  38.92000\n",
       "max        13.000000          11.00000  69.87000"
      ]
     },
     "execution_count": 129,
     "metadata": {},
     "output_type": "execute_result"
    }
   ],
   "source": [
    "df.describe().loc[['min', 'mean', '50%', 'max']]\n",
    "# минимум, среднее, медиана, максимум по числовым переменным"
   ]
  },
  {
   "cell_type": "markdown",
   "id": "3638fd50-6eea-40e6-affa-c405dde4ee90",
   "metadata": {},
   "source": [
    "### Дополнительные расчеты"
   ]
  },
  {
   "cell_type": "code",
   "execution_count": 55,
   "id": "f27ccc69-a9af-49e9-83c0-530bc184cfb3",
   "metadata": {},
   "outputs": [
    {
     "data": {
      "text/plain": [
       "<Axes: >"
      ]
     },
     "execution_count": 55,
     "metadata": {},
     "output_type": "execute_result"
    },
    {
     "data": {
      "image/png": "[encoded data removed]",
      "text/plain": [
       "<Figure size 640x480 with 1 Axes>"
      ]
     },
     "metadata": {},
     "output_type": "display_data"
    }
   ],
   "source": [
    "df['amount'].hist()\n",
    "# наиболее часто встречающийся размер оплаты за прокат dvd - 35-45 у.е."
   ]
  },
  {
   "cell_type": "code",
   "execution_count": 45,
   "id": "d1e46cf2-77a1-44e9-9468-da60c389d711",
   "metadata": {},
   "outputs": [
    {
     "data": {
      "text/plain": [
       "<Axes: >"
      ]
     },
     "execution_count": 45,
     "metadata": {},
     "output_type": "execute_result"
    },
    {
     "data": {
      "image/png": "[encoded data removed]",
      "text/plain": [
       "<Figure size 640x480 with 1 Axes>"
      ]
     },
     "metadata": {},
     "output_type": "display_data"
    }
   ],
   "source": [
    "df['active_clients'].hist()\n",
    "# наиболее часто встречающееся количество активных клиентов по городам - 8 чел."
   ]
  },
  {
   "cell_type": "code",
   "execution_count": 101,
   "id": "40c5eeeb",
   "metadata": {},
   "outputs": [
    {
     "data": {
      "text/html": [
       "<div>\n",
       "<style scoped>\n",
       "    .dataframe tbody tr th:only-of-type {\n",
       "        vertical-align: middle;\n",
       "    }\n",
       "\n",
       "    .dataframe tbody tr th {\n",
       "        vertical-align: top;\n",
       "    }\n",
       "\n",
       "    .dataframe thead th {\n",
       "        text-align: right;\n",
       "    }\n",
       "</style>\n",
       "<table border=\"1\" class=\"dataframe\">\n",
       "  <thead>\n",
       "    <tr style=\"text-align: right;\">\n",
       "      <th></th>\n",
       "      <th>country</th>\n",
       "      <th>city</th>\n",
       "      <th>active_clients</th>\n",
       "      <th>inactive_clients</th>\n",
       "      <th>amount</th>\n",
       "    </tr>\n",
       "  </thead>\n",
       "  <tbody>\n",
       "    <tr>\n",
       "      <th>0</th>\n",
       "      <td>India</td>\n",
       "      <td>Bijapur</td>\n",
       "      <td>10</td>\n",
       "      <td>0</td>\n",
       "      <td>57.90</td>\n",
       "    </tr>\n",
       "    <tr>\n",
       "      <th>1</th>\n",
       "      <td>India</td>\n",
       "      <td>Bhimavaram</td>\n",
       "      <td>10</td>\n",
       "      <td>0</td>\n",
       "      <td>56.90</td>\n",
       "    </tr>\n",
       "    <tr>\n",
       "      <th>2</th>\n",
       "      <td>India</td>\n",
       "      <td>Rae Bareli</td>\n",
       "      <td>10</td>\n",
       "      <td>0</td>\n",
       "      <td>55.90</td>\n",
       "    </tr>\n",
       "    <tr>\n",
       "      <th>3</th>\n",
       "      <td>India</td>\n",
       "      <td>Parbhani</td>\n",
       "      <td>9</td>\n",
       "      <td>0</td>\n",
       "      <td>54.91</td>\n",
       "    </tr>\n",
       "    <tr>\n",
       "      <th>4</th>\n",
       "      <td>India</td>\n",
       "      <td>Uttarpara-Kotrung</td>\n",
       "      <td>10</td>\n",
       "      <td>0</td>\n",
       "      <td>54.90</td>\n",
       "    </tr>\n",
       "    <tr>\n",
       "      <th>5</th>\n",
       "      <td>India</td>\n",
       "      <td>Etawah</td>\n",
       "      <td>10</td>\n",
       "      <td>0</td>\n",
       "      <td>54.90</td>\n",
       "    </tr>\n",
       "    <tr>\n",
       "      <th>6</th>\n",
       "      <td>India</td>\n",
       "      <td>Udaipur</td>\n",
       "      <td>9</td>\n",
       "      <td>0</td>\n",
       "      <td>52.91</td>\n",
       "    </tr>\n",
       "    <tr>\n",
       "      <th>7</th>\n",
       "      <td>India</td>\n",
       "      <td>Valparai</td>\n",
       "      <td>9</td>\n",
       "      <td>0</td>\n",
       "      <td>52.91</td>\n",
       "    </tr>\n",
       "    <tr>\n",
       "      <th>8</th>\n",
       "      <td>India</td>\n",
       "      <td>Rajkot</td>\n",
       "      <td>9</td>\n",
       "      <td>0</td>\n",
       "      <td>52.91</td>\n",
       "    </tr>\n",
       "    <tr>\n",
       "      <th>9</th>\n",
       "      <td>India</td>\n",
       "      <td>Vijayawada</td>\n",
       "      <td>9</td>\n",
       "      <td>0</td>\n",
       "      <td>52.91</td>\n",
       "    </tr>\n",
       "    <tr>\n",
       "      <th>10</th>\n",
       "      <td>India</td>\n",
       "      <td>Jaipur</td>\n",
       "      <td>10</td>\n",
       "      <td>0</td>\n",
       "      <td>47.90</td>\n",
       "    </tr>\n",
       "    <tr>\n",
       "      <th>11</th>\n",
       "      <td>India</td>\n",
       "      <td>Uluberia</td>\n",
       "      <td>0</td>\n",
       "      <td>9</td>\n",
       "      <td>46.91</td>\n",
       "    </tr>\n",
       "    <tr>\n",
       "      <th>12</th>\n",
       "      <td>India</td>\n",
       "      <td>Purnea (Purnia)</td>\n",
       "      <td>9</td>\n",
       "      <td>0</td>\n",
       "      <td>46.91</td>\n",
       "    </tr>\n",
       "    <tr>\n",
       "      <th>13</th>\n",
       "      <td>India</td>\n",
       "      <td>Jhansi</td>\n",
       "      <td>9</td>\n",
       "      <td>0</td>\n",
       "      <td>46.91</td>\n",
       "    </tr>\n",
       "    <tr>\n",
       "      <th>14</th>\n",
       "      <td>India</td>\n",
       "      <td>Halisahar</td>\n",
       "      <td>9</td>\n",
       "      <td>0</td>\n",
       "      <td>46.91</td>\n",
       "    </tr>\n",
       "  </tbody>\n",
       "</table>\n",
       "</div>"
      ],
      "text/plain": [
       "   country               city  active_clients  inactive_clients  amount\n",
       "0    India            Bijapur              10                 0   57.90\n",
       "1    India         Bhimavaram              10                 0   56.90\n",
       "2    India         Rae Bareli              10                 0   55.90\n",
       "3    India           Parbhani               9                 0   54.91\n",
       "4    India  Uttarpara-Kotrung              10                 0   54.90\n",
       "5    India             Etawah              10                 0   54.90\n",
       "6    India            Udaipur               9                 0   52.91\n",
       "7    India           Valparai               9                 0   52.91\n",
       "8    India             Rajkot               9                 0   52.91\n",
       "9    India         Vijayawada               9                 0   52.91\n",
       "10   India             Jaipur              10                 0   47.90\n",
       "11   India           Uluberia               0                 9   46.91\n",
       "12   India    Purnea (Purnia)               9                 0   46.91\n",
       "13   India             Jhansi               9                 0   46.91\n",
       "14   India          Halisahar               9                 0   46.91"
      ]
     },
     "execution_count": 101,
     "metadata": {},
     "output_type": "execute_result"
    }
   ],
   "source": [
    "df[df['country'] == 'India'].sort_values(by = 'amount', ascending = False).head(15).reset_index(drop = True)\n",
    "# 15 индийских городов с наибольшими платами за прокат"
   ]
  }
 ],
 "metadata": {
  "kernelspec": {
   "display_name": "Python 3 (ipykernel)",
   "language": "python",
   "name": "python3"
  },
  "language_info": {
   "codemirror_mode": {
    "name": "ipython",
    "version": 3
   },
   "file_extension": ".py",
   "mimetype": "text/x-python",
   "name": "python",
   "nbconvert_exporter": "python",
   "pygments_lexer": "ipython3",
   "version": "3.12.4"
  }
 },
 "nbformat": 4,
 "nbformat_minor": 5
}
