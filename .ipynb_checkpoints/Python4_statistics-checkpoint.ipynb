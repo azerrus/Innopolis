{
 "cells": [
  {
   "cell_type": "code",
   "execution_count": 1,
   "id": "671ea743",
   "metadata": {},
   "outputs": [
    {
     "name": "stdout",
     "output_type": "stream",
     "text": [
      "Введите число \n",
      "Для окончания нажмите Enter \n",
      "10\n",
      "Введите число \n",
      "Для окончания нажмите Enter \n",
      "15\n",
      "Введите число \n",
      "Для окончания нажмите Enter \n",
      "20\n",
      "Введите число \n",
      "Для окончания нажмите Enter \n",
      "15\n",
      "Введите число \n",
      "Для окончания нажмите Enter \n",
      "25\n",
      "Введите число \n",
      "Для окончания нажмите Enter \n",
      "15\n",
      "Введите число \n",
      "Для окончания нажмите Enter \n",
      "20\n",
      "Введите число \n",
      "Для окончания нажмите Enter \n",
      "\n",
      "Мода равна 15, медиана равна 15\n"
     ]
    }
   ],
   "source": [
    "# Часть 1: Наполнение списка числами\n",
    "numbers = []\n",
    "\n",
    "while True:\n",
    "    num = input('Введите число \\nДля окончания нажмите Enter \\n')\n",
    "    if num == '':\n",
    "        break\n",
    "    else:\n",
    "        numbers.append(num)\n",
    "\n",
    "# Часть 2: Расчет моды\n",
    "x = 0\n",
    "\n",
    "for number in numbers:\n",
    "    if numbers.count(number) > x:\n",
    "        x = numbers.count(number)\n",
    "        mode = number\n",
    "\n",
    "# Часть 3: Расчет медианы\n",
    "n = len(numbers)\n",
    "\n",
    "numbers.sort()\n",
    "\n",
    "if n%2 == 0:\n",
    "    a = int(n/2 - 1)\n",
    "    b = int(n/2)\n",
    "    median = (numbers[a] + numbers[b]) / 2\n",
    "else:\n",
    "    a = int((n - 1)/2 )\n",
    "    median = numbers[a]\n",
    "        \n",
    "print(f'Мода равна {mode}, медиана равна {median}')"
   ]
  }
 ],
 "metadata": {
  "kernelspec": {
   "display_name": "Python 3 (ipykernel)",
   "language": "python",
   "name": "python3"
  },
  "language_info": {
   "codemirror_mode": {
    "name": "ipython",
    "version": 3
   },
   "file_extension": ".py",
   "mimetype": "text/x-python",
   "name": "python",
   "nbconvert_exporter": "python",
   "pygments_lexer": "ipython3",
   "version": "3.11.5"
  }
 },
 "nbformat": 4,
 "nbformat_minor": 5
}
