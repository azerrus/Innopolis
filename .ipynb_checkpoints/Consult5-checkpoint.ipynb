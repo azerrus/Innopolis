{
 "cells": [
  {
   "cell_type": "code",
   "execution_count": 2,
   "id": "5f62480f",
   "metadata": {},
   "outputs": [],
   "source": [
    "import pandas as pd\n",
    "import numpy as np\n",
    "import matplotlib.pyplot as plt\n",
    "import seaborn as sns"
   ]
  },
  {
   "cell_type": "code",
   "execution_count": 3,
   "id": "3b4aa486",
   "metadata": {},
   "outputs": [],
   "source": [
    "data = pd.read_csv(r\"C:\\Courses\\Innopolis\\2024\\ПИШ\\Часть 2.2\\Консультация\\all_v2.csv\")"
   ]
  },
  {
   "cell_type": "code",
   "execution_count": 4,
   "id": "c759d61d",
   "metadata": {},
   "outputs": [
    {
     "data": {
      "text/html": [
       "<div>\n",
       "<style scoped>\n",
       "    .dataframe tbody tr th:only-of-type {\n",
       "        vertical-align: middle;\n",
       "    }\n",
       "\n",
       "    .dataframe tbody tr th {\n",
       "        vertical-align: top;\n",
       "    }\n",
       "\n",
       "    .dataframe thead th {\n",
       "        text-align: right;\n",
       "    }\n",
       "</style>\n",
       "<table border=\"1\" class=\"dataframe\">\n",
       "  <thead>\n",
       "    <tr style=\"text-align: right;\">\n",
       "      <th></th>\n",
       "      <th>price</th>\n",
       "      <th>date</th>\n",
       "      <th>time</th>\n",
       "      <th>geo_lat</th>\n",
       "      <th>geo_lon</th>\n",
       "      <th>region</th>\n",
       "      <th>building_type</th>\n",
       "      <th>level</th>\n",
       "      <th>levels</th>\n",
       "      <th>rooms</th>\n",
       "      <th>area</th>\n",
       "      <th>kitchen_area</th>\n",
       "      <th>object_type</th>\n",
       "    </tr>\n",
       "  </thead>\n",
       "  <tbody>\n",
       "    <tr>\n",
       "      <th>0</th>\n",
       "      <td>6050000</td>\n",
       "      <td>2018-02-19</td>\n",
       "      <td>20:00:21</td>\n",
       "      <td>59.805808</td>\n",
       "      <td>30.376141</td>\n",
       "      <td>2661</td>\n",
       "      <td>1</td>\n",
       "      <td>8</td>\n",
       "      <td>10</td>\n",
       "      <td>3</td>\n",
       "      <td>82.6</td>\n",
       "      <td>10.8</td>\n",
       "      <td>1</td>\n",
       "    </tr>\n",
       "    <tr>\n",
       "      <th>1</th>\n",
       "      <td>8650000</td>\n",
       "      <td>2018-02-27</td>\n",
       "      <td>12:04:54</td>\n",
       "      <td>55.683807</td>\n",
       "      <td>37.297405</td>\n",
       "      <td>81</td>\n",
       "      <td>3</td>\n",
       "      <td>5</td>\n",
       "      <td>24</td>\n",
       "      <td>2</td>\n",
       "      <td>69.1</td>\n",
       "      <td>12.0</td>\n",
       "      <td>1</td>\n",
       "    </tr>\n",
       "    <tr>\n",
       "      <th>2</th>\n",
       "      <td>4000000</td>\n",
       "      <td>2018-02-28</td>\n",
       "      <td>15:44:00</td>\n",
       "      <td>56.295250</td>\n",
       "      <td>44.061637</td>\n",
       "      <td>2871</td>\n",
       "      <td>1</td>\n",
       "      <td>5</td>\n",
       "      <td>9</td>\n",
       "      <td>3</td>\n",
       "      <td>66.0</td>\n",
       "      <td>10.0</td>\n",
       "      <td>1</td>\n",
       "    </tr>\n",
       "    <tr>\n",
       "      <th>3</th>\n",
       "      <td>1850000</td>\n",
       "      <td>2018-03-01</td>\n",
       "      <td>11:24:52</td>\n",
       "      <td>44.996132</td>\n",
       "      <td>39.074783</td>\n",
       "      <td>2843</td>\n",
       "      <td>4</td>\n",
       "      <td>12</td>\n",
       "      <td>16</td>\n",
       "      <td>2</td>\n",
       "      <td>38.0</td>\n",
       "      <td>5.0</td>\n",
       "      <td>11</td>\n",
       "    </tr>\n",
       "    <tr>\n",
       "      <th>4</th>\n",
       "      <td>5450000</td>\n",
       "      <td>2018-03-01</td>\n",
       "      <td>17:42:43</td>\n",
       "      <td>55.918767</td>\n",
       "      <td>37.984642</td>\n",
       "      <td>81</td>\n",
       "      <td>3</td>\n",
       "      <td>13</td>\n",
       "      <td>14</td>\n",
       "      <td>2</td>\n",
       "      <td>60.0</td>\n",
       "      <td>10.0</td>\n",
       "      <td>1</td>\n",
       "    </tr>\n",
       "  </tbody>\n",
       "</table>\n",
       "</div>"
      ],
      "text/plain": [
       "     price        date      time    geo_lat    geo_lon  region  building_type  \\\n",
       "0  6050000  2018-02-19  20:00:21  59.805808  30.376141    2661              1   \n",
       "1  8650000  2018-02-27  12:04:54  55.683807  37.297405      81              3   \n",
       "2  4000000  2018-02-28  15:44:00  56.295250  44.061637    2871              1   \n",
       "3  1850000  2018-03-01  11:24:52  44.996132  39.074783    2843              4   \n",
       "4  5450000  2018-03-01  17:42:43  55.918767  37.984642      81              3   \n",
       "\n",
       "   level  levels  rooms  area  kitchen_area  object_type  \n",
       "0      8      10      3  82.6          10.8            1  \n",
       "1      5      24      2  69.1          12.0            1  \n",
       "2      5       9      3  66.0          10.0            1  \n",
       "3     12      16      2  38.0           5.0           11  \n",
       "4     13      14      2  60.0          10.0            1  "
      ]
     },
     "execution_count": 4,
     "metadata": {},
     "output_type": "execute_result"
    }
   ],
   "source": [
    "data.head()"
   ]
  },
  {
   "cell_type": "code",
   "execution_count": 13,
   "id": "8baa06cb",
   "metadata": {},
   "outputs": [
    {
     "data": {
      "text/plain": [
       "84"
      ]
     },
     "execution_count": 13,
     "metadata": {},
     "output_type": "execute_result"
    }
   ],
   "source": [
    "len(data['region'].unique())"
   ]
  },
  {
   "cell_type": "code",
   "execution_count": 14,
   "id": "b4eb0e26",
   "metadata": {},
   "outputs": [
    {
     "data": {
      "text/plain": [
       "region\n",
       "9654     1049435\n",
       "2843      637224\n",
       "81        500368\n",
       "2661      461820\n",
       "3         439511\n",
       "          ...   \n",
       "16705        139\n",
       "69            77\n",
       "4963          65\n",
       "1901          12\n",
       "61888          5\n",
       "Name: count, Length: 84, dtype: int64"
      ]
     },
     "execution_count": 14,
     "metadata": {},
     "output_type": "execute_result"
    }
   ],
   "source": [
    "data['region'].value_counts()"
   ]
  },
  {
   "cell_type": "markdown",
   "id": "26d7803f",
   "metadata": {},
   "source": [
    "### Посмотрим пропуски и дубли"
   ]
  },
  {
   "cell_type": "code",
   "execution_count": 17,
   "id": "6b460057",
   "metadata": {},
   "outputs": [
    {
     "data": {
      "text/plain": [
       "(5477006, 13)"
      ]
     },
     "execution_count": 17,
     "metadata": {},
     "output_type": "execute_result"
    }
   ],
   "source": [
    "data.shape"
   ]
  },
  {
   "cell_type": "code",
   "execution_count": 16,
   "id": "e66451e6",
   "metadata": {},
   "outputs": [
    {
     "data": {
      "text/plain": [
       "price            0\n",
       "date             0\n",
       "time             0\n",
       "geo_lat          0\n",
       "geo_lon          0\n",
       "region           0\n",
       "building_type    0\n",
       "level            0\n",
       "levels           0\n",
       "rooms            0\n",
       "area             0\n",
       "kitchen_area     0\n",
       "object_type      0\n",
       "dtype: int64"
      ]
     },
     "execution_count": 16,
     "metadata": {},
     "output_type": "execute_result"
    }
   ],
   "source": [
    "data.isna().sum()"
   ]
  },
  {
   "cell_type": "code",
   "execution_count": 19,
   "id": "24cd885e",
   "metadata": {},
   "outputs": [
    {
     "data": {
      "text/html": [
       "<div>\n",
       "<style scoped>\n",
       "    .dataframe tbody tr th:only-of-type {\n",
       "        vertical-align: middle;\n",
       "    }\n",
       "\n",
       "    .dataframe tbody tr th {\n",
       "        vertical-align: top;\n",
       "    }\n",
       "\n",
       "    .dataframe thead th {\n",
       "        text-align: right;\n",
       "    }\n",
       "</style>\n",
       "<table border=\"1\" class=\"dataframe\">\n",
       "  <thead>\n",
       "    <tr style=\"text-align: right;\">\n",
       "      <th></th>\n",
       "      <th>price</th>\n",
       "      <th>date</th>\n",
       "      <th>time</th>\n",
       "      <th>geo_lat</th>\n",
       "      <th>geo_lon</th>\n",
       "      <th>region</th>\n",
       "      <th>building_type</th>\n",
       "      <th>level</th>\n",
       "      <th>levels</th>\n",
       "      <th>rooms</th>\n",
       "      <th>area</th>\n",
       "      <th>kitchen_area</th>\n",
       "      <th>object_type</th>\n",
       "    </tr>\n",
       "  </thead>\n",
       "  <tbody>\n",
       "    <tr>\n",
       "      <th>10966</th>\n",
       "      <td>1200000</td>\n",
       "      <td>2018-09-10</td>\n",
       "      <td>06:28:40</td>\n",
       "      <td>55.012935</td>\n",
       "      <td>83.004523</td>\n",
       "      <td>9654</td>\n",
       "      <td>1</td>\n",
       "      <td>2</td>\n",
       "      <td>10</td>\n",
       "      <td>1</td>\n",
       "      <td>39.35</td>\n",
       "      <td>6.00</td>\n",
       "      <td>11</td>\n",
       "    </tr>\n",
       "    <tr>\n",
       "      <th>25141</th>\n",
       "      <td>8213280</td>\n",
       "      <td>2018-09-11</td>\n",
       "      <td>20:40:19</td>\n",
       "      <td>59.756070</td>\n",
       "      <td>30.365931</td>\n",
       "      <td>2661</td>\n",
       "      <td>2</td>\n",
       "      <td>3</td>\n",
       "      <td>4</td>\n",
       "      <td>3</td>\n",
       "      <td>96.40</td>\n",
       "      <td>13.00</td>\n",
       "      <td>11</td>\n",
       "    </tr>\n",
       "    <tr>\n",
       "      <th>42858</th>\n",
       "      <td>3960000</td>\n",
       "      <td>2018-09-14</td>\n",
       "      <td>08:36:58</td>\n",
       "      <td>55.961723</td>\n",
       "      <td>37.650433</td>\n",
       "      <td>81</td>\n",
       "      <td>2</td>\n",
       "      <td>6</td>\n",
       "      <td>6</td>\n",
       "      <td>3</td>\n",
       "      <td>69.80</td>\n",
       "      <td>9.40</td>\n",
       "      <td>11</td>\n",
       "    </tr>\n",
       "    <tr>\n",
       "      <th>42860</th>\n",
       "      <td>2900000</td>\n",
       "      <td>2018-09-14</td>\n",
       "      <td>08:36:58</td>\n",
       "      <td>55.961723</td>\n",
       "      <td>37.650433</td>\n",
       "      <td>81</td>\n",
       "      <td>2</td>\n",
       "      <td>1</td>\n",
       "      <td>6</td>\n",
       "      <td>2</td>\n",
       "      <td>50.30</td>\n",
       "      <td>11.20</td>\n",
       "      <td>11</td>\n",
       "    </tr>\n",
       "    <tr>\n",
       "      <th>45455</th>\n",
       "      <td>1718665</td>\n",
       "      <td>2018-09-14</td>\n",
       "      <td>14:19:50</td>\n",
       "      <td>55.009805</td>\n",
       "      <td>82.904909</td>\n",
       "      <td>9654</td>\n",
       "      <td>3</td>\n",
       "      <td>2</td>\n",
       "      <td>26</td>\n",
       "      <td>1</td>\n",
       "      <td>29.40</td>\n",
       "      <td>5.00</td>\n",
       "      <td>11</td>\n",
       "    </tr>\n",
       "    <tr>\n",
       "      <th>...</th>\n",
       "      <td>...</td>\n",
       "      <td>...</td>\n",
       "      <td>...</td>\n",
       "      <td>...</td>\n",
       "      <td>...</td>\n",
       "      <td>...</td>\n",
       "      <td>...</td>\n",
       "      <td>...</td>\n",
       "      <td>...</td>\n",
       "      <td>...</td>\n",
       "      <td>...</td>\n",
       "      <td>...</td>\n",
       "      <td>...</td>\n",
       "    </tr>\n",
       "    <tr>\n",
       "      <th>5399412</th>\n",
       "      <td>3250000</td>\n",
       "      <td>2021-04-26</td>\n",
       "      <td>07:21:26</td>\n",
       "      <td>55.043192</td>\n",
       "      <td>82.981253</td>\n",
       "      <td>9654</td>\n",
       "      <td>1</td>\n",
       "      <td>16</td>\n",
       "      <td>17</td>\n",
       "      <td>1</td>\n",
       "      <td>36.50</td>\n",
       "      <td>8.20</td>\n",
       "      <td>11</td>\n",
       "    </tr>\n",
       "    <tr>\n",
       "      <th>5409949</th>\n",
       "      <td>2055275</td>\n",
       "      <td>2021-04-27</td>\n",
       "      <td>02:25:34</td>\n",
       "      <td>56.858606</td>\n",
       "      <td>35.911676</td>\n",
       "      <td>2880</td>\n",
       "      <td>1</td>\n",
       "      <td>5</td>\n",
       "      <td>17</td>\n",
       "      <td>1</td>\n",
       "      <td>35.57</td>\n",
       "      <td>10.12</td>\n",
       "      <td>11</td>\n",
       "    </tr>\n",
       "    <tr>\n",
       "      <th>5413127</th>\n",
       "      <td>3400000</td>\n",
       "      <td>2021-04-27</td>\n",
       "      <td>06:00:24</td>\n",
       "      <td>54.512081</td>\n",
       "      <td>36.233588</td>\n",
       "      <td>2328</td>\n",
       "      <td>3</td>\n",
       "      <td>11</td>\n",
       "      <td>12</td>\n",
       "      <td>2</td>\n",
       "      <td>45.30</td>\n",
       "      <td>8.00</td>\n",
       "      <td>1</td>\n",
       "    </tr>\n",
       "    <tr>\n",
       "      <th>5448742</th>\n",
       "      <td>4610000</td>\n",
       "      <td>2021-04-30</td>\n",
       "      <td>06:48:38</td>\n",
       "      <td>55.975702</td>\n",
       "      <td>37.100761</td>\n",
       "      <td>81</td>\n",
       "      <td>1</td>\n",
       "      <td>1</td>\n",
       "      <td>17</td>\n",
       "      <td>1</td>\n",
       "      <td>48.00</td>\n",
       "      <td>12.00</td>\n",
       "      <td>11</td>\n",
       "    </tr>\n",
       "    <tr>\n",
       "      <th>5450485</th>\n",
       "      <td>1600000</td>\n",
       "      <td>2021-04-30</td>\n",
       "      <td>08:01:57</td>\n",
       "      <td>55.188456</td>\n",
       "      <td>61.324082</td>\n",
       "      <td>5282</td>\n",
       "      <td>1</td>\n",
       "      <td>6</td>\n",
       "      <td>10</td>\n",
       "      <td>1</td>\n",
       "      <td>31.00</td>\n",
       "      <td>8.00</td>\n",
       "      <td>1</td>\n",
       "    </tr>\n",
       "  </tbody>\n",
       "</table>\n",
       "<p>1523 rows × 13 columns</p>\n",
       "</div>"
      ],
      "text/plain": [
       "           price        date      time    geo_lat    geo_lon  region  \\\n",
       "10966    1200000  2018-09-10  06:28:40  55.012935  83.004523    9654   \n",
       "25141    8213280  2018-09-11  20:40:19  59.756070  30.365931    2661   \n",
       "42858    3960000  2018-09-14  08:36:58  55.961723  37.650433      81   \n",
       "42860    2900000  2018-09-14  08:36:58  55.961723  37.650433      81   \n",
       "45455    1718665  2018-09-14  14:19:50  55.009805  82.904909    9654   \n",
       "...          ...         ...       ...        ...        ...     ...   \n",
       "5399412  3250000  2021-04-26  07:21:26  55.043192  82.981253    9654   \n",
       "5409949  2055275  2021-04-27  02:25:34  56.858606  35.911676    2880   \n",
       "5413127  3400000  2021-04-27  06:00:24  54.512081  36.233588    2328   \n",
       "5448742  4610000  2021-04-30  06:48:38  55.975702  37.100761      81   \n",
       "5450485  1600000  2021-04-30  08:01:57  55.188456  61.324082    5282   \n",
       "\n",
       "         building_type  level  levels  rooms   area  kitchen_area  object_type  \n",
       "10966                1      2      10      1  39.35          6.00           11  \n",
       "25141                2      3       4      3  96.40         13.00           11  \n",
       "42858                2      6       6      3  69.80          9.40           11  \n",
       "42860                2      1       6      2  50.30         11.20           11  \n",
       "45455                3      2      26      1  29.40          5.00           11  \n",
       "...                ...    ...     ...    ...    ...           ...          ...  \n",
       "5399412              1     16      17      1  36.50          8.20           11  \n",
       "5409949              1      5      17      1  35.57         10.12           11  \n",
       "5413127              3     11      12      2  45.30          8.00            1  \n",
       "5448742              1      1      17      1  48.00         12.00           11  \n",
       "5450485              1      6      10      1  31.00          8.00            1  \n",
       "\n",
       "[1523 rows x 13 columns]"
      ]
     },
     "execution_count": 19,
     "metadata": {},
     "output_type": "execute_result"
    }
   ],
   "source": [
    "data[data.duplicated()]"
   ]
  },
  {
   "cell_type": "code",
   "execution_count": 32,
   "id": "6bd5a5fe",
   "metadata": {},
   "outputs": [],
   "source": [
    "data = data.drop_duplicates()"
   ]
  },
  {
   "cell_type": "markdown",
   "id": "4d85450d",
   "metadata": {},
   "source": [
    "### Круговая диаграмма"
   ]
  },
  {
   "cell_type": "code",
   "execution_count": 41,
   "id": "43aee42a",
   "metadata": {},
   "outputs": [
    {
     "data": {
      "text/html": [
       "<div>\n",
       "<style scoped>\n",
       "    .dataframe tbody tr th:only-of-type {\n",
       "        vertical-align: middle;\n",
       "    }\n",
       "\n",
       "    .dataframe tbody tr th {\n",
       "        vertical-align: top;\n",
       "    }\n",
       "\n",
       "    .dataframe thead th {\n",
       "        text-align: right;\n",
       "    }\n",
       "</style>\n",
       "<table border=\"1\" class=\"dataframe\">\n",
       "  <thead>\n",
       "    <tr style=\"text-align: right;\">\n",
       "      <th></th>\n",
       "      <th>announcements</th>\n",
       "    </tr>\n",
       "    <tr>\n",
       "      <th>rooms_adj</th>\n",
       "      <th></th>\n",
       "    </tr>\n",
       "  </thead>\n",
       "  <tbody>\n",
       "    <tr>\n",
       "      <th>-1</th>\n",
       "      <td>306111</td>\n",
       "    </tr>\n",
       "    <tr>\n",
       "      <th>1</th>\n",
       "      <td>2066340</td>\n",
       "    </tr>\n",
       "    <tr>\n",
       "      <th>2</th>\n",
       "      <td>1827056</td>\n",
       "    </tr>\n",
       "    <tr>\n",
       "      <th>3</th>\n",
       "      <td>1097100</td>\n",
       "    </tr>\n",
       "    <tr>\n",
       "      <th>4</th>\n",
       "      <td>178876</td>\n",
       "    </tr>\n",
       "  </tbody>\n",
       "</table>\n",
       "</div>"
      ],
      "text/plain": [
       "           announcements\n",
       "rooms_adj               \n",
       "-1                306111\n",
       " 1               2066340\n",
       " 2               1827056\n",
       " 3               1097100\n",
       " 4                178876"
      ]
     },
     "execution_count": 41,
     "metadata": {},
     "output_type": "execute_result"
    }
   ],
   "source": [
    "df_pie = data.groupby('rooms').agg({'rooms' : [('rooms_no', 'count')]})\n",
    "df_pie.columns = ['announcements']\n",
    "df_pie.reset_index(inplace = True)\n",
    "df_pie['rooms_adj'] = np.where(df_pie['rooms'].isin([-1, 1, 2, 3]), df_pie['rooms'], 4)\n",
    "df_pie = df_pie.groupby('rooms_adj').agg({'announcements' : 'sum'})\n",
    "df_pie"
   ]
  },
  {
   "cell_type": "code",
   "execution_count": 44,
   "id": "6a88eea5",
   "metadata": {},
   "outputs": [
    {
     "data": {
      "image/png": "[encoded data removed]",
      "text/plain": [
       "<Figure size 500x500 with 1 Axes>"
      ]
     },
     "metadata": {},
     "output_type": "display_data"
    }
   ],
   "source": [
    "plt.figure(figsize = (5,5))\n",
    "plt.pie(x = df_pie['announcements'], autopct = '%.2f', labels = df_pie.index)\n",
    "plt.title('Распределение объявлений по количеству комнат')\n",
    "plt.show()"
   ]
  },
  {
   "cell_type": "markdown",
   "id": "9474067b",
   "metadata": {},
   "source": [
    "### Столбчатая диаграмма"
   ]
  },
  {
   "cell_type": "code",
   "execution_count": 57,
   "id": "18606d93",
   "metadata": {},
   "outputs": [
    {
     "data": {
      "text/html": [
       "<div>\n",
       "<style scoped>\n",
       "    .dataframe tbody tr th:only-of-type {\n",
       "        vertical-align: middle;\n",
       "    }\n",
       "\n",
       "    .dataframe tbody tr th {\n",
       "        vertical-align: top;\n",
       "    }\n",
       "\n",
       "    .dataframe thead th {\n",
       "        text-align: right;\n",
       "    }\n",
       "</style>\n",
       "<table border=\"1\" class=\"dataframe\">\n",
       "  <thead>\n",
       "    <tr style=\"text-align: right;\">\n",
       "      <th></th>\n",
       "      <th>announcements</th>\n",
       "    </tr>\n",
       "  </thead>\n",
       "  <tbody>\n",
       "    <tr>\n",
       "      <th>Other</th>\n",
       "      <td>306.986</td>\n",
       "    </tr>\n",
       "    <tr>\n",
       "      <th>Panel</th>\n",
       "      <td>1955.317</td>\n",
       "    </tr>\n",
       "    <tr>\n",
       "      <th>Monolithic</th>\n",
       "      <td>1129.983</td>\n",
       "    </tr>\n",
       "    <tr>\n",
       "      <th>Brick</th>\n",
       "      <td>1892.509</td>\n",
       "    </tr>\n",
       "    <tr>\n",
       "      <th>Blocky</th>\n",
       "      <td>174.351</td>\n",
       "    </tr>\n",
       "    <tr>\n",
       "      <th>Wooden</th>\n",
       "      <td>16.337</td>\n",
       "    </tr>\n",
       "  </tbody>\n",
       "</table>\n",
       "</div>"
      ],
      "text/plain": [
       "            announcements\n",
       "Other             306.986\n",
       "Panel            1955.317\n",
       "Monolithic       1129.983\n",
       "Brick            1892.509\n",
       "Blocky            174.351\n",
       "Wooden             16.337"
      ]
     },
     "execution_count": 57,
     "metadata": {},
     "output_type": "execute_result"
    }
   ],
   "source": [
    "df_bar = data.groupby('building_type').agg({'building_type' : [('announcements', 'count')]})\n",
    "df_bar.columns = ['announcements']\n",
    "df_bar.index = ['Other', 'Panel', 'Monolithic', 'Brick', 'Blocky', 'Wooden']\n",
    "df_bar = df_bar / 1000\n",
    "df_bar"
   ]
  },
  {
   "cell_type": "code",
   "execution_count": 54,
   "id": "c65b1f42",
   "metadata": {},
   "outputs": [
    {
     "data": {
      "image/png": "[encoded data removed]",
      "text/plain": [
       "<Figure size 1000x500 with 1 Axes>"
      ]
     },
     "metadata": {},
     "output_type": "display_data"
    }
   ],
   "source": [
    "plt.figure(figsize = (10,5))\n",
    "plt.bar(x = df_bar.index, height = df_bar['announcements'])\n",
    "plt.title('Распределение объявлений по типам зданий (тыс. шт.)')\n",
    "plt.show()"
   ]
  },
  {
   "cell_type": "code",
   "execution_count": 59,
   "id": "3e7cb568",
   "metadata": {},
   "outputs": [
    {
     "data": {
      "image/png": "[encoded data removed]",
      "text/plain": [
       "<Figure size 1000x500 with 1 Axes>"
      ]
     },
     "metadata": {},
     "output_type": "display_data"
    }
   ],
   "source": [
    "plt.figure(figsize = (10,5))\n",
    "sns.barplot(x = 'index', y = 'announcements', data = df_bar.reset_index())\n",
    "plt.title('Распределение объявлений по типам зданий (тыс. шт.)')\n",
    "plt.show()"
   ]
  },
  {
   "cell_type": "markdown",
   "id": "fb6879df",
   "metadata": {},
   "source": [
    "### Создадим две новые переменные: материал и количество комнат"
   ]
  },
  {
   "cell_type": "code",
   "execution_count": 5,
   "id": "a00ca016",
   "metadata": {},
   "outputs": [],
   "source": [
    "mat_dict = {0 : 'Other',  1 : 'Panel',  2 : 'Monolithic', 3 : 'Brick', 4 : 'Blocky', 5 :'Wooden'}\n",
    "rooms_dict = {-1: 'Studio', 1 : '1k', 2 : '2k', 3 : '3k'}\n",
    "data['rooms_adj'] = data['rooms'].map(rooms_dict).fillna('more')\n",
    "data['material'] = data['building_type'].map(mat_dict)"
   ]
  },
  {
   "cell_type": "code",
   "execution_count": 6,
   "id": "be3b1fe8",
   "metadata": {},
   "outputs": [
    {
     "data": {
      "text/html": [
       "<div>\n",
       "<style scoped>\n",
       "    .dataframe tbody tr th:only-of-type {\n",
       "        vertical-align: middle;\n",
       "    }\n",
       "\n",
       "    .dataframe tbody tr th {\n",
       "        vertical-align: top;\n",
       "    }\n",
       "\n",
       "    .dataframe thead th {\n",
       "        text-align: right;\n",
       "    }\n",
       "</style>\n",
       "<table border=\"1\" class=\"dataframe\">\n",
       "  <thead>\n",
       "    <tr style=\"text-align: right;\">\n",
       "      <th>material</th>\n",
       "      <th>Blocky</th>\n",
       "      <th>Brick</th>\n",
       "      <th>Monolithic</th>\n",
       "      <th>Other</th>\n",
       "      <th>Panel</th>\n",
       "      <th>Wooden</th>\n",
       "      <th>All</th>\n",
       "    </tr>\n",
       "    <tr>\n",
       "      <th>rooms_adj</th>\n",
       "      <th></th>\n",
       "      <th></th>\n",
       "      <th></th>\n",
       "      <th></th>\n",
       "      <th></th>\n",
       "      <th></th>\n",
       "      <th></th>\n",
       "    </tr>\n",
       "  </thead>\n",
       "  <tbody>\n",
       "    <tr>\n",
       "      <th>1k</th>\n",
       "      <td>0.367547</td>\n",
       "      <td>0.368050</td>\n",
       "      <td>0.414931</td>\n",
       "      <td>0.420227</td>\n",
       "      <td>0.359793</td>\n",
       "      <td>0.270123</td>\n",
       "      <td>0.377398</td>\n",
       "    </tr>\n",
       "    <tr>\n",
       "      <th>2k</th>\n",
       "      <td>0.373254</td>\n",
       "      <td>0.353413</td>\n",
       "      <td>0.329344</td>\n",
       "      <td>0.318627</td>\n",
       "      <td>0.315199</td>\n",
       "      <td>0.417274</td>\n",
       "      <td>0.333670</td>\n",
       "    </tr>\n",
       "    <tr>\n",
       "      <th>3k</th>\n",
       "      <td>0.194372</td>\n",
       "      <td>0.204246</td>\n",
       "      <td>0.168161</td>\n",
       "      <td>0.169062</td>\n",
       "      <td>0.220224</td>\n",
       "      <td>0.252005</td>\n",
       "      <td>0.200357</td>\n",
       "    </tr>\n",
       "    <tr>\n",
       "      <th>Studio</th>\n",
       "      <td>0.038886</td>\n",
       "      <td>0.032339</td>\n",
       "      <td>0.061371</td>\n",
       "      <td>0.065769</td>\n",
       "      <td>0.075811</td>\n",
       "      <td>0.022220</td>\n",
       "      <td>0.055908</td>\n",
       "    </tr>\n",
       "    <tr>\n",
       "      <th>more</th>\n",
       "      <td>0.025941</td>\n",
       "      <td>0.041953</td>\n",
       "      <td>0.026193</td>\n",
       "      <td>0.026315</td>\n",
       "      <td>0.028972</td>\n",
       "      <td>0.038379</td>\n",
       "      <td>0.032667</td>\n",
       "    </tr>\n",
       "  </tbody>\n",
       "</table>\n",
       "</div>"
      ],
      "text/plain": [
       "material     Blocky     Brick  Monolithic     Other     Panel    Wooden  \\\n",
       "rooms_adj                                                                 \n",
       "1k         0.367547  0.368050    0.414931  0.420227  0.359793  0.270123   \n",
       "2k         0.373254  0.353413    0.329344  0.318627  0.315199  0.417274   \n",
       "3k         0.194372  0.204246    0.168161  0.169062  0.220224  0.252005   \n",
       "Studio     0.038886  0.032339    0.061371  0.065769  0.075811  0.022220   \n",
       "more       0.025941  0.041953    0.026193  0.026315  0.028972  0.038379   \n",
       "\n",
       "material        All  \n",
       "rooms_adj            \n",
       "1k         0.377398  \n",
       "2k         0.333670  \n",
       "3k         0.200357  \n",
       "Studio     0.055908  \n",
       "more       0.032667  "
      ]
     },
     "execution_count": 6,
     "metadata": {},
     "output_type": "execute_result"
    }
   ],
   "source": [
    "df_heat = pd.crosstab(data['rooms_adj'], data['material'], normalize = 'columns', margins = True)\n",
    "df_heat"
   ]
  },
  {
   "cell_type": "code",
   "execution_count": 9,
   "id": "ad2da3ec",
   "metadata": {},
   "outputs": [
    {
     "data": {
      "image/png": "[encoded data removed]",
      "text/plain": [
       "<Figure size 1000x500 with 2 Axes>"
      ]
     },
     "metadata": {},
     "output_type": "display_data"
    }
   ],
   "source": [
    "plt.figure(figsize = (10,5))\n",
    "sns.heatmap(data = df_heat, annot = True, fmt='.2f')\n",
    "plt.title('')\n",
    "plt.show()"
   ]
  },
  {
   "cell_type": "markdown",
   "id": "dab782eb",
   "metadata": {},
   "source": [
    "### Парный график"
   ]
  },
  {
   "cell_type": "code",
   "execution_count": 30,
   "id": "7a84564c",
   "metadata": {},
   "outputs": [
    {
     "data": {
      "text/plain": [
       "(390657, 3)"
      ]
     },
     "execution_count": 30,
     "metadata": {},
     "output_type": "execute_result"
    }
   ],
   "source": [
    "qty_data = data.loc[data['date']>'2021-03',['price', 'level', 'area']]\n",
    "qty_data.shape"
   ]
  },
  {
   "cell_type": "code",
   "execution_count": 31,
   "id": "70eab3d7",
   "metadata": {},
   "outputs": [
    {
     "data": {
      "text/plain": [
       "<Figure size 640x480 with 0 Axes>"
      ]
     },
     "metadata": {},
     "output_type": "display_data"
    },
    {
     "data": {
      "image/png": "[encoded data removed]",
      "text/plain": [
       "<Figure size 750x750 with 12 Axes>"
      ]
     },
     "metadata": {},
     "output_type": "display_data"
    }
   ],
   "source": [
    "plt.figure()\n",
    "sns.pairplot(qty_data)\n",
    "plt.show()"
   ]
  },
  {
   "cell_type": "code",
   "execution_count": null,
   "id": "d4ed4238",
   "metadata": {},
   "outputs": [],
   "source": []
  },
  {
   "cell_type": "code",
   "execution_count": null,
   "id": "4fc715b6",
   "metadata": {},
   "outputs": [],
   "source": []
  },
  {
   "cell_type": "markdown",
   "id": "c68549d1",
   "metadata": {},
   "source": [
    "первый вопрос:\n",
    "требуется использовать transform\n",
    "задача которую я придумал\n",
    "взять средне значение все столбца proline\n",
    "и сравнить каждую строку столбца proline со средним значением\n",
    "вычислить на сколько каждое значение больше или меньше среднего в процентах\n",
    "вот функция которая делает это:\n",
    "def get_proline_percent(percent,index):\n",
    "    if ((df[percent].mean()//df[percent].loc[index])*100-100)<0:\n",
    "        return(print('Контрафакт',\"{:.2f}\".format(abs((df[percent].mean()/df[percent].loc[index])*100-100))))\n",
    "вот так я её использую:\n",
    "get_proline_percent(percent = 'proline',index = 0)\n",
    "как воспользоваться  transform чтобы использовать мою функцию по назначению"
   ]
  },
  {
   "cell_type": "code",
   "execution_count": 49,
   "id": "407dbcb6",
   "metadata": {},
   "outputs": [],
   "source": [
    "def get_proline_percent(df, threshold):\n",
    "    proline_pct = df / df.mean()\n",
    "    return np.where(proline_pct >= threshold, 'Контрафакт', 'Норма')"
   ]
  },
  {
   "cell_type": "code",
   "execution_count": 42,
   "id": "0588fb3c",
   "metadata": {},
   "outputs": [
    {
     "data": {
      "text/html": [
       "<div>\n",
       "<style scoped>\n",
       "    .dataframe tbody tr th:only-of-type {\n",
       "        vertical-align: middle;\n",
       "    }\n",
       "\n",
       "    .dataframe tbody tr th {\n",
       "        vertical-align: top;\n",
       "    }\n",
       "\n",
       "    .dataframe thead th {\n",
       "        text-align: right;\n",
       "    }\n",
       "</style>\n",
       "<table border=\"1\" class=\"dataframe\">\n",
       "  <thead>\n",
       "    <tr style=\"text-align: right;\">\n",
       "      <th></th>\n",
       "      <th>class_label</th>\n",
       "      <th>class_name</th>\n",
       "      <th>alcohol</th>\n",
       "      <th>malic_acid</th>\n",
       "      <th>ash</th>\n",
       "      <th>alcalinity_of_ash</th>\n",
       "      <th>magnesium</th>\n",
       "      <th>total_phenols</th>\n",
       "      <th>flavanoids</th>\n",
       "      <th>nonflavanoid_phenols</th>\n",
       "      <th>proanthocyanins</th>\n",
       "      <th>color_intensity</th>\n",
       "      <th>hue</th>\n",
       "      <th>od280</th>\n",
       "      <th>proline</th>\n",
       "      <th>proline_avg</th>\n",
       "      <th>proline_pct</th>\n",
       "    </tr>\n",
       "  </thead>\n",
       "  <tbody>\n",
       "    <tr>\n",
       "      <th>0</th>\n",
       "      <td>1</td>\n",
       "      <td>Barolo</td>\n",
       "      <td>14.23</td>\n",
       "      <td>1.71</td>\n",
       "      <td>2.43</td>\n",
       "      <td>15.6</td>\n",
       "      <td>127</td>\n",
       "      <td>2.80</td>\n",
       "      <td>3.06</td>\n",
       "      <td>0.28</td>\n",
       "      <td>2.29</td>\n",
       "      <td>5.64</td>\n",
       "      <td>1.04</td>\n",
       "      <td>3.92</td>\n",
       "      <td>1065</td>\n",
       "      <td>1115.711864</td>\n",
       "      <td>0.954548</td>\n",
       "    </tr>\n",
       "    <tr>\n",
       "      <th>1</th>\n",
       "      <td>1</td>\n",
       "      <td>Barolo</td>\n",
       "      <td>13.20</td>\n",
       "      <td>1.78</td>\n",
       "      <td>2.14</td>\n",
       "      <td>11.2</td>\n",
       "      <td>100</td>\n",
       "      <td>2.65</td>\n",
       "      <td>2.76</td>\n",
       "      <td>0.26</td>\n",
       "      <td>1.28</td>\n",
       "      <td>4.38</td>\n",
       "      <td>1.05</td>\n",
       "      <td>3.40</td>\n",
       "      <td>1050</td>\n",
       "      <td>1115.711864</td>\n",
       "      <td>0.941103</td>\n",
       "    </tr>\n",
       "    <tr>\n",
       "      <th>2</th>\n",
       "      <td>1</td>\n",
       "      <td>Barolo</td>\n",
       "      <td>13.16</td>\n",
       "      <td>2.36</td>\n",
       "      <td>2.67</td>\n",
       "      <td>18.6</td>\n",
       "      <td>101</td>\n",
       "      <td>2.80</td>\n",
       "      <td>3.24</td>\n",
       "      <td>0.30</td>\n",
       "      <td>2.81</td>\n",
       "      <td>5.68</td>\n",
       "      <td>1.03</td>\n",
       "      <td>3.17</td>\n",
       "      <td>1185</td>\n",
       "      <td>1115.711864</td>\n",
       "      <td>1.062102</td>\n",
       "    </tr>\n",
       "    <tr>\n",
       "      <th>3</th>\n",
       "      <td>1</td>\n",
       "      <td>Barolo</td>\n",
       "      <td>14.37</td>\n",
       "      <td>1.95</td>\n",
       "      <td>2.50</td>\n",
       "      <td>16.8</td>\n",
       "      <td>113</td>\n",
       "      <td>3.85</td>\n",
       "      <td>3.49</td>\n",
       "      <td>0.24</td>\n",
       "      <td>2.18</td>\n",
       "      <td>7.80</td>\n",
       "      <td>0.86</td>\n",
       "      <td>3.45</td>\n",
       "      <td>1480</td>\n",
       "      <td>1115.711864</td>\n",
       "      <td>1.326507</td>\n",
       "    </tr>\n",
       "    <tr>\n",
       "      <th>4</th>\n",
       "      <td>1</td>\n",
       "      <td>Barolo</td>\n",
       "      <td>13.24</td>\n",
       "      <td>2.59</td>\n",
       "      <td>2.87</td>\n",
       "      <td>21.0</td>\n",
       "      <td>118</td>\n",
       "      <td>2.80</td>\n",
       "      <td>2.69</td>\n",
       "      <td>0.39</td>\n",
       "      <td>1.82</td>\n",
       "      <td>4.32</td>\n",
       "      <td>1.04</td>\n",
       "      <td>2.93</td>\n",
       "      <td>735</td>\n",
       "      <td>1115.711864</td>\n",
       "      <td>0.658772</td>\n",
       "    </tr>\n",
       "    <tr>\n",
       "      <th>...</th>\n",
       "      <td>...</td>\n",
       "      <td>...</td>\n",
       "      <td>...</td>\n",
       "      <td>...</td>\n",
       "      <td>...</td>\n",
       "      <td>...</td>\n",
       "      <td>...</td>\n",
       "      <td>...</td>\n",
       "      <td>...</td>\n",
       "      <td>...</td>\n",
       "      <td>...</td>\n",
       "      <td>...</td>\n",
       "      <td>...</td>\n",
       "      <td>...</td>\n",
       "      <td>...</td>\n",
       "      <td>...</td>\n",
       "      <td>...</td>\n",
       "    </tr>\n",
       "    <tr>\n",
       "      <th>173</th>\n",
       "      <td>3</td>\n",
       "      <td>Barbera</td>\n",
       "      <td>13.71</td>\n",
       "      <td>5.65</td>\n",
       "      <td>2.45</td>\n",
       "      <td>20.5</td>\n",
       "      <td>95</td>\n",
       "      <td>1.68</td>\n",
       "      <td>0.61</td>\n",
       "      <td>0.52</td>\n",
       "      <td>1.06</td>\n",
       "      <td>7.70</td>\n",
       "      <td>0.64</td>\n",
       "      <td>1.74</td>\n",
       "      <td>740</td>\n",
       "      <td>629.895833</td>\n",
       "      <td>1.174797</td>\n",
       "    </tr>\n",
       "    <tr>\n",
       "      <th>174</th>\n",
       "      <td>3</td>\n",
       "      <td>Barbera</td>\n",
       "      <td>13.40</td>\n",
       "      <td>3.91</td>\n",
       "      <td>2.48</td>\n",
       "      <td>23.0</td>\n",
       "      <td>102</td>\n",
       "      <td>1.80</td>\n",
       "      <td>0.75</td>\n",
       "      <td>0.43</td>\n",
       "      <td>1.41</td>\n",
       "      <td>7.30</td>\n",
       "      <td>0.70</td>\n",
       "      <td>1.56</td>\n",
       "      <td>750</td>\n",
       "      <td>629.895833</td>\n",
       "      <td>1.190673</td>\n",
       "    </tr>\n",
       "    <tr>\n",
       "      <th>175</th>\n",
       "      <td>3</td>\n",
       "      <td>Barbera</td>\n",
       "      <td>13.27</td>\n",
       "      <td>4.28</td>\n",
       "      <td>2.26</td>\n",
       "      <td>20.0</td>\n",
       "      <td>120</td>\n",
       "      <td>1.59</td>\n",
       "      <td>0.69</td>\n",
       "      <td>0.43</td>\n",
       "      <td>1.35</td>\n",
       "      <td>10.20</td>\n",
       "      <td>0.59</td>\n",
       "      <td>1.56</td>\n",
       "      <td>835</td>\n",
       "      <td>629.895833</td>\n",
       "      <td>1.325616</td>\n",
       "    </tr>\n",
       "    <tr>\n",
       "      <th>176</th>\n",
       "      <td>3</td>\n",
       "      <td>Barbera</td>\n",
       "      <td>13.17</td>\n",
       "      <td>2.59</td>\n",
       "      <td>2.37</td>\n",
       "      <td>20.0</td>\n",
       "      <td>120</td>\n",
       "      <td>1.65</td>\n",
       "      <td>0.68</td>\n",
       "      <td>0.53</td>\n",
       "      <td>1.46</td>\n",
       "      <td>9.30</td>\n",
       "      <td>0.60</td>\n",
       "      <td>1.62</td>\n",
       "      <td>840</td>\n",
       "      <td>629.895833</td>\n",
       "      <td>1.333554</td>\n",
       "    </tr>\n",
       "    <tr>\n",
       "      <th>177</th>\n",
       "      <td>3</td>\n",
       "      <td>Barbera</td>\n",
       "      <td>14.13</td>\n",
       "      <td>4.10</td>\n",
       "      <td>2.74</td>\n",
       "      <td>24.5</td>\n",
       "      <td>96</td>\n",
       "      <td>2.05</td>\n",
       "      <td>0.76</td>\n",
       "      <td>0.56</td>\n",
       "      <td>1.35</td>\n",
       "      <td>9.20</td>\n",
       "      <td>0.61</td>\n",
       "      <td>1.60</td>\n",
       "      <td>560</td>\n",
       "      <td>629.895833</td>\n",
       "      <td>0.889036</td>\n",
       "    </tr>\n",
       "  </tbody>\n",
       "</table>\n",
       "<p>178 rows × 17 columns</p>\n",
       "</div>"
      ],
      "text/plain": [
       "     class_label class_name  alcohol  malic_acid   ash  alcalinity_of_ash  \\\n",
       "0              1     Barolo    14.23        1.71  2.43               15.6   \n",
       "1              1     Barolo    13.20        1.78  2.14               11.2   \n",
       "2              1     Barolo    13.16        2.36  2.67               18.6   \n",
       "3              1     Barolo    14.37        1.95  2.50               16.8   \n",
       "4              1     Barolo    13.24        2.59  2.87               21.0   \n",
       "..           ...        ...      ...         ...   ...                ...   \n",
       "173            3    Barbera    13.71        5.65  2.45               20.5   \n",
       "174            3    Barbera    13.40        3.91  2.48               23.0   \n",
       "175            3    Barbera    13.27        4.28  2.26               20.0   \n",
       "176            3    Barbera    13.17        2.59  2.37               20.0   \n",
       "177            3    Barbera    14.13        4.10  2.74               24.5   \n",
       "\n",
       "     magnesium  total_phenols  flavanoids  nonflavanoid_phenols  \\\n",
       "0          127           2.80        3.06                  0.28   \n",
       "1          100           2.65        2.76                  0.26   \n",
       "2          101           2.80        3.24                  0.30   \n",
       "3          113           3.85        3.49                  0.24   \n",
       "4          118           2.80        2.69                  0.39   \n",
       "..         ...            ...         ...                   ...   \n",
       "173         95           1.68        0.61                  0.52   \n",
       "174        102           1.80        0.75                  0.43   \n",
       "175        120           1.59        0.69                  0.43   \n",
       "176        120           1.65        0.68                  0.53   \n",
       "177         96           2.05        0.76                  0.56   \n",
       "\n",
       "     proanthocyanins  color_intensity   hue  od280  proline  proline_avg  \\\n",
       "0               2.29             5.64  1.04   3.92     1065  1115.711864   \n",
       "1               1.28             4.38  1.05   3.40     1050  1115.711864   \n",
       "2               2.81             5.68  1.03   3.17     1185  1115.711864   \n",
       "3               2.18             7.80  0.86   3.45     1480  1115.711864   \n",
       "4               1.82             4.32  1.04   2.93      735  1115.711864   \n",
       "..               ...              ...   ...    ...      ...          ...   \n",
       "173             1.06             7.70  0.64   1.74      740   629.895833   \n",
       "174             1.41             7.30  0.70   1.56      750   629.895833   \n",
       "175             1.35            10.20  0.59   1.56      835   629.895833   \n",
       "176             1.46             9.30  0.60   1.62      840   629.895833   \n",
       "177             1.35             9.20  0.61   1.60      560   629.895833   \n",
       "\n",
       "     proline_pct  \n",
       "0       0.954548  \n",
       "1       0.941103  \n",
       "2       1.062102  \n",
       "3       1.326507  \n",
       "4       0.658772  \n",
       "..           ...  \n",
       "173     1.174797  \n",
       "174     1.190673  \n",
       "175     1.325616  \n",
       "176     1.333554  \n",
       "177     0.889036  \n",
       "\n",
       "[178 rows x 17 columns]"
      ]
     },
     "execution_count": 42,
     "metadata": {},
     "output_type": "execute_result"
    }
   ],
   "source": [
    "wine = pd.read_csv('https://raw.githubusercontent.com/YBI-Foundation/Dataset/refs/heads/main/Wine.csv')\n",
    "wine['proline_avg'] = wine.groupby('class_name')['proline'].transform('mean')\n",
    "wine['proline_pct'] = wine.groupby('class_name')['proline'].transform(lambda x: x / x.mean())\n",
    "wine"
   ]
  },
  {
   "cell_type": "code",
   "execution_count": 66,
   "id": "d35cb139",
   "metadata": {},
   "outputs": [
    {
     "data": {
      "text/plain": [
       "0      1.425907\n",
       "1      1.405823\n",
       "2      1.586572\n",
       "3      1.981542\n",
       "4      0.984076\n",
       "         ...   \n",
       "173    0.990771\n",
       "174    1.004160\n",
       "175    1.117964\n",
       "176    1.124659\n",
       "177    0.749772\n",
       "Name: proline, Length: 178, dtype: float64"
      ]
     },
     "execution_count": 66,
     "metadata": {},
     "output_type": "execute_result"
    }
   ],
   "source": [
    "wine['proline'] / wine['proline'].mean()"
   ]
  },
  {
   "cell_type": "code",
   "execution_count": 65,
   "id": "9072cdf8",
   "metadata": {},
   "outputs": [
    {
     "data": {
      "text/plain": [
       "np.float64(629.8958333333334)"
      ]
     },
     "execution_count": 65,
     "metadata": {},
     "output_type": "execute_result"
    }
   ],
   "source": [
    "wine.loc[wine['class_name'] == 'Barbera','proline'].mean()"
   ]
  },
  {
   "cell_type": "code",
   "execution_count": 58,
   "id": "f171b592",
   "metadata": {},
   "outputs": [],
   "source": [
    "wine['proline_str'] = wine.groupby('class_name')['proline'].transform(get_proline_percent, threshold = 0.8)"
   ]
  },
  {
   "cell_type": "code",
   "execution_count": 60,
   "id": "6795f217",
   "metadata": {},
   "outputs": [
    {
     "name": "stderr",
     "output_type": "stream",
     "text": [
      "C:\\Users\\D\\AppData\\Local\\Temp\\ipykernel_15136\\3455526220.py:1: DeprecationWarning: DataFrameGroupBy.apply operated on the grouping columns. This behavior is deprecated, and in a future version of pandas the grouping columns will be excluded from the operation. Either pass `include_groups=False` to exclude the groupings or explicitly select the grouping columns after groupby to silence this warning.\n",
      "  wine.groupby('class_name').apply(lambda x: get_proline_percent(x['proline'], threshold = 0.8))\n"
     ]
    },
    {
     "data": {
      "text/plain": [
       "class_name\n",
       "Barbera       [Контрафакт, Контрафакт, Контрафакт, Контрафак...\n",
       "Barolo        [Контрафакт, Контрафакт, Контрафакт, Контрафак...\n",
       "Grignolino    [Контрафакт, Контрафакт, Контрафакт, Контрафак...\n",
       "dtype: object"
      ]
     },
     "execution_count": 60,
     "metadata": {},
     "output_type": "execute_result"
    }
   ],
   "source": [
    "wine.groupby('class_name').apply(lambda x: get_proline_percent(x['proline'], threshold = 0.8))"
   ]
  }
 ],
 "metadata": {
  "kernelspec": {
   "display_name": "Python 3 (ipykernel)",
   "language": "python",
   "name": "python3"
  },
  "language_info": {
   "codemirror_mode": {
    "name": "ipython",
    "version": 3
   },
   "file_extension": ".py",
   "mimetype": "text/x-python",
   "name": "python",
   "nbconvert_exporter": "python",
   "pygments_lexer": "ipython3",
   "version": "3.11.5"
  }
 },
 "nbformat": 4,
 "nbformat_minor": 5
}
