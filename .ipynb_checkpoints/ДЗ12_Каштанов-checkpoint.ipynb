{
 "cells": [
  {
   "cell_type": "code",
   "execution_count": 1,
   "id": "06cc467e",
   "metadata": {},
   "outputs": [
    {
     "name": "stdout",
     "output_type": "stream",
     "text": [
      "Defaulting to user installation because normal site-packages is not writeableNote: you may need to restart the kernel to use updated packages.\n",
      "\n",
      "Collecting kagglehub\n",
      "  Downloading kagglehub-0.3.3-py3-none-any.whl.metadata (22 kB)\n",
      "Requirement already satisfied: packaging in c:\\programdata\\anaconda3\\lib\\site-packages (from kagglehub) (23.2)\n",
      "Requirement already satisfied: requests in c:\\programdata\\anaconda3\\lib\\site-packages (from kagglehub) (2.32.2)\n",
      "Requirement already satisfied: tqdm in c:\\programdata\\anaconda3\\lib\\site-packages (from kagglehub) (4.66.4)\n",
      "Requirement already satisfied: charset-normalizer<4,>=2 in c:\\programdata\\anaconda3\\lib\\site-packages (from requests->kagglehub) (2.0.4)\n",
      "Requirement already satisfied: idna<4,>=2.5 in c:\\programdata\\anaconda3\\lib\\site-packages (from requests->kagglehub) (3.7)\n",
      "Requirement already satisfied: urllib3<3,>=1.21.1 in c:\\programdata\\anaconda3\\lib\\site-packages (from requests->kagglehub) (2.2.2)\n",
      "Requirement already satisfied: certifi>=2017.4.17 in c:\\programdata\\anaconda3\\lib\\site-packages (from requests->kagglehub) (2024.8.30)\n",
      "Requirement already satisfied: colorama in c:\\programdata\\anaconda3\\lib\\site-packages (from tqdm->kagglehub) (0.4.6)\n",
      "Downloading kagglehub-0.3.3-py3-none-any.whl (42 kB)\n",
      "   ---------------------------------------- 0.0/42.9 kB ? eta -:--:--\n",
      "   --------- ------------------------------ 10.2/42.9 kB ? eta -:--:--\n",
      "   ---------------------------------------- 42.9/42.9 kB 418.1 kB/s eta 0:00:00\n",
      "Installing collected packages: kagglehub\n",
      "Successfully installed kagglehub-0.3.3\n"
     ]
    }
   ],
   "source": [
    "pip install kagglehub"
   ]
  },
  {
   "cell_type": "code",
   "execution_count": 3,
   "id": "501402e2",
   "metadata": {},
   "outputs": [
    {
     "name": "stdout",
     "output_type": "stream",
     "text": [
      "Downloading from https://www.kaggle.com/api/v1/datasets/download/faviovaz/marketing-ab-testing?dataset_version_number=1...\n"
     ]
    },
    {
     "name": "stderr",
     "output_type": "stream",
     "text": [
      "100%|██████████| 5.23M/5.23M [00:03<00:00, 1.50MB/s]"
     ]
    },
    {
     "name": "stdout",
     "output_type": "stream",
     "text": [
      "Extracting files...\n"
     ]
    },
    {
     "name": "stderr",
     "output_type": "stream",
     "text": [
      "\n"
     ]
    }
   ],
   "source": [
    "import kagglehub\n",
    "\n",
    "# Download latest version\n",
    "path = kagglehub.dataset_download(\"faviovaz/marketing-ab-testing\")"
   ]
  },
  {
   "cell_type": "code",
   "execution_count": 5,
   "id": "e31abbed",
   "metadata": {},
   "outputs": [
    {
     "data": {
      "text/plain": [
       "'C:\\\\Users\\\\Home\\\\.cache\\\\kagglehub\\\\datasets\\\\faviovaz\\\\marketing-ab-testing\\\\versions\\\\1'"
      ]
     },
     "execution_count": 5,
     "metadata": {},
     "output_type": "execute_result"
    }
   ],
   "source": [
    "path"
   ]
  },
  {
   "cell_type": "code",
   "execution_count": 7,
   "id": "5f62480f",
   "metadata": {},
   "outputs": [],
   "source": [
    "import pandas as pd\n",
    "import numpy as np\n",
    "import matplotlib.pyplot as plt\n",
    "import seaborn as sns\n",
    "from scipy import stats\n",
    "import statsmodels.api as sm"
   ]
  },
  {
   "cell_type": "code",
   "execution_count": 34,
   "id": "51a334d3",
   "metadata": {},
   "outputs": [],
   "source": [
    "df = pd.read_csv(path + '\\\\marketing_AB.csv', index_col = 0)"
   ]
  },
  {
   "cell_type": "code",
   "execution_count": 36,
   "id": "fe553fe0",
   "metadata": {},
   "outputs": [
    {
     "data": {
      "text/html": [
       "<div>\n",
       "<style scoped>\n",
       "    .dataframe tbody tr th:only-of-type {\n",
       "        vertical-align: middle;\n",
       "    }\n",
       "\n",
       "    .dataframe tbody tr th {\n",
       "        vertical-align: top;\n",
       "    }\n",
       "\n",
       "    .dataframe thead th {\n",
       "        text-align: right;\n",
       "    }\n",
       "</style>\n",
       "<table border=\"1\" class=\"dataframe\">\n",
       "  <thead>\n",
       "    <tr style=\"text-align: right;\">\n",
       "      <th></th>\n",
       "      <th>user id</th>\n",
       "      <th>test group</th>\n",
       "      <th>converted</th>\n",
       "      <th>total ads</th>\n",
       "      <th>most ads day</th>\n",
       "      <th>most ads hour</th>\n",
       "    </tr>\n",
       "  </thead>\n",
       "  <tbody>\n",
       "    <tr>\n",
       "      <th>0</th>\n",
       "      <td>1069124</td>\n",
       "      <td>ad</td>\n",
       "      <td>False</td>\n",
       "      <td>130</td>\n",
       "      <td>Monday</td>\n",
       "      <td>20</td>\n",
       "    </tr>\n",
       "    <tr>\n",
       "      <th>1</th>\n",
       "      <td>1119715</td>\n",
       "      <td>ad</td>\n",
       "      <td>False</td>\n",
       "      <td>93</td>\n",
       "      <td>Tuesday</td>\n",
       "      <td>22</td>\n",
       "    </tr>\n",
       "    <tr>\n",
       "      <th>2</th>\n",
       "      <td>1144181</td>\n",
       "      <td>ad</td>\n",
       "      <td>False</td>\n",
       "      <td>21</td>\n",
       "      <td>Tuesday</td>\n",
       "      <td>18</td>\n",
       "    </tr>\n",
       "    <tr>\n",
       "      <th>3</th>\n",
       "      <td>1435133</td>\n",
       "      <td>ad</td>\n",
       "      <td>False</td>\n",
       "      <td>355</td>\n",
       "      <td>Tuesday</td>\n",
       "      <td>10</td>\n",
       "    </tr>\n",
       "    <tr>\n",
       "      <th>4</th>\n",
       "      <td>1015700</td>\n",
       "      <td>ad</td>\n",
       "      <td>False</td>\n",
       "      <td>276</td>\n",
       "      <td>Friday</td>\n",
       "      <td>14</td>\n",
       "    </tr>\n",
       "    <tr>\n",
       "      <th>...</th>\n",
       "      <td>...</td>\n",
       "      <td>...</td>\n",
       "      <td>...</td>\n",
       "      <td>...</td>\n",
       "      <td>...</td>\n",
       "      <td>...</td>\n",
       "    </tr>\n",
       "    <tr>\n",
       "      <th>588096</th>\n",
       "      <td>1278437</td>\n",
       "      <td>ad</td>\n",
       "      <td>False</td>\n",
       "      <td>1</td>\n",
       "      <td>Tuesday</td>\n",
       "      <td>23</td>\n",
       "    </tr>\n",
       "    <tr>\n",
       "      <th>588097</th>\n",
       "      <td>1327975</td>\n",
       "      <td>ad</td>\n",
       "      <td>False</td>\n",
       "      <td>1</td>\n",
       "      <td>Tuesday</td>\n",
       "      <td>23</td>\n",
       "    </tr>\n",
       "    <tr>\n",
       "      <th>588098</th>\n",
       "      <td>1038442</td>\n",
       "      <td>ad</td>\n",
       "      <td>False</td>\n",
       "      <td>3</td>\n",
       "      <td>Tuesday</td>\n",
       "      <td>23</td>\n",
       "    </tr>\n",
       "    <tr>\n",
       "      <th>588099</th>\n",
       "      <td>1496395</td>\n",
       "      <td>ad</td>\n",
       "      <td>False</td>\n",
       "      <td>1</td>\n",
       "      <td>Tuesday</td>\n",
       "      <td>23</td>\n",
       "    </tr>\n",
       "    <tr>\n",
       "      <th>588100</th>\n",
       "      <td>1237779</td>\n",
       "      <td>ad</td>\n",
       "      <td>False</td>\n",
       "      <td>1</td>\n",
       "      <td>Tuesday</td>\n",
       "      <td>23</td>\n",
       "    </tr>\n",
       "  </tbody>\n",
       "</table>\n",
       "<p>588101 rows × 6 columns</p>\n",
       "</div>"
      ],
      "text/plain": [
       "        user id test group  converted  total ads most ads day  most ads hour\n",
       "0       1069124         ad      False        130       Monday             20\n",
       "1       1119715         ad      False         93      Tuesday             22\n",
       "2       1144181         ad      False         21      Tuesday             18\n",
       "3       1435133         ad      False        355      Tuesday             10\n",
       "4       1015700         ad      False        276       Friday             14\n",
       "...         ...        ...        ...        ...          ...            ...\n",
       "588096  1278437         ad      False          1      Tuesday             23\n",
       "588097  1327975         ad      False          1      Tuesday             23\n",
       "588098  1038442         ad      False          3      Tuesday             23\n",
       "588099  1496395         ad      False          1      Tuesday             23\n",
       "588100  1237779         ad      False          1      Tuesday             23\n",
       "\n",
       "[588101 rows x 6 columns]"
      ]
     },
     "execution_count": 36,
     "metadata": {},
     "output_type": "execute_result"
    }
   ],
   "source": [
    "df"
   ]
  },
  {
   "attachments": {},
   "cell_type": "markdown",
   "id": "c81a8c91-9333-4588-8fed-4e7a56f24d64",
   "metadata": {},
   "source": [
    "### 1. Проанализируем группы клиентов и определим какой тип рекламы был успешнее\r\n"
   ]
  },
  {
   "cell_type": "code",
   "execution_count": 28,
   "id": "942c0751-3461-4785-9c8c-609b0b975d03",
   "metadata": {},
   "outputs": [
    {
     "data": {
      "text/plain": [
       "user id          0\n",
       "test group       0\n",
       "converted        0\n",
       "total ads        0\n",
       "most ads day     0\n",
       "most ads hour    0\n",
       "dtype: int64"
      ]
     },
     "execution_count": 28,
     "metadata": {},
     "output_type": "execute_result"
    }
   ],
   "source": [
    "df.isna().sum()\n",
    "# пустот нет"
   ]
  },
  {
   "cell_type": "code",
   "execution_count": 471,
   "id": "d1161bc2-d23a-4e1e-b23b-10a75d664448",
   "metadata": {},
   "outputs": [
    {
     "data": {
      "text/html": [
       "<div>\n",
       "<style scoped>\n",
       "    .dataframe tbody tr th:only-of-type {\n",
       "        vertical-align: middle;\n",
       "    }\n",
       "\n",
       "    .dataframe tbody tr th {\n",
       "        vertical-align: top;\n",
       "    }\n",
       "\n",
       "    .dataframe thead th {\n",
       "        text-align: right;\n",
       "    }\n",
       "</style>\n",
       "<table border=\"1\" class=\"dataframe\">\n",
       "  <thead>\n",
       "    <tr style=\"text-align: right;\">\n",
       "      <th></th>\n",
       "      <th>user id</th>\n",
       "      <th>test group</th>\n",
       "      <th>converted</th>\n",
       "      <th>total ads</th>\n",
       "      <th>most ads day</th>\n",
       "      <th>most ads hour</th>\n",
       "      <th>day_num</th>\n",
       "    </tr>\n",
       "  </thead>\n",
       "  <tbody>\n",
       "  </tbody>\n",
       "</table>\n",
       "</div>"
      ],
      "text/plain": [
       "Empty DataFrame\n",
       "Columns: [user id, test group, converted, total ads, most ads day, most ads hour, day_num]\n",
       "Index: []"
      ]
     },
     "execution_count": 471,
     "metadata": {},
     "output_type": "execute_result"
    }
   ],
   "source": [
    "df[df.duplicated()]\n",
    "# дупликатов нет"
   ]
  },
  {
   "cell_type": "code",
   "execution_count": 42,
   "id": "aa8ff4b2-14a6-4892-a623-c14bfdafd9b3",
   "metadata": {},
   "outputs": [
    {
     "data": {
      "text/plain": [
       "array(['ad', 'psa'], dtype=object)"
      ]
     },
     "execution_count": 42,
     "metadata": {},
     "output_type": "execute_result"
    }
   ],
   "source": [
    "df['test group'].unique()\n",
    "# две группы теста"
   ]
  },
  {
   "cell_type": "code",
   "execution_count": 44,
   "id": "91702eca",
   "metadata": {},
   "outputs": [
    {
     "data": {
      "text/plain": [
       "test group\n",
       "ad     564577\n",
       "psa     23524\n",
       "Name: count, dtype: int64"
      ]
     },
     "execution_count": 44,
     "metadata": {},
     "output_type": "execute_result"
    }
   ],
   "source": [
    "df['test group'].value_counts()"
   ]
  },
  {
   "cell_type": "code",
   "execution_count": 84,
   "id": "0a722c7b-5ecf-448f-bcbc-fbd33ed503ed",
   "metadata": {},
   "outputs": [
    {
     "data": {
      "text/plain": [
       "array(['Monday', 'Tuesday', 'Friday', 'Saturday', 'Wednesday', 'Sunday',\n",
       "       'Thursday'], dtype=object)"
      ]
     },
     "execution_count": 84,
     "metadata": {},
     "output_type": "execute_result"
    }
   ],
   "source": [
    "df['most ads day'].unique()\n",
    "# рекламу показывали клиентам во все дни недели"
   ]
  },
  {
   "cell_type": "code",
   "execution_count": 88,
   "id": "62eab055-eaed-4494-ba1f-92005c1cc670",
   "metadata": {},
   "outputs": [
    {
     "data": {
      "text/plain": [
       "most ads day\n",
       "Friday       92608\n",
       "Monday       87073\n",
       "Sunday       85391\n",
       "Thursday     82982\n",
       "Saturday     81660\n",
       "Wednesday    80908\n",
       "Tuesday      77479\n",
       "Name: count, dtype: int64"
      ]
     },
     "execution_count": 88,
     "metadata": {},
     "output_type": "execute_result"
    }
   ],
   "source": [
    "df['most ads day'].value_counts()\n",
    "# больше всего рекламы клиент видел в пятницу и понедельник, меньше всего - во вторник и среду"
   ]
  },
  {
   "cell_type": "code",
   "execution_count": 140,
   "id": "03ed6c97-a316-43a7-a137-5c81442c2b29",
   "metadata": {},
   "outputs": [
    {
     "data": {
      "text/html": [
       "<div>\n",
       "<style scoped>\n",
       "    .dataframe tbody tr th:only-of-type {\n",
       "        vertical-align: middle;\n",
       "    }\n",
       "\n",
       "    .dataframe tbody tr th {\n",
       "        vertical-align: top;\n",
       "    }\n",
       "\n",
       "    .dataframe thead th {\n",
       "        text-align: right;\n",
       "    }\n",
       "</style>\n",
       "<table border=\"1\" class=\"dataframe\">\n",
       "  <thead>\n",
       "    <tr style=\"text-align: right;\">\n",
       "      <th></th>\n",
       "      <th>user id</th>\n",
       "      <th>test group</th>\n",
       "      <th>converted</th>\n",
       "      <th>total ads</th>\n",
       "      <th>most ads day</th>\n",
       "      <th>most ads hour</th>\n",
       "      <th>day_num</th>\n",
       "    </tr>\n",
       "  </thead>\n",
       "  <tbody>\n",
       "    <tr>\n",
       "      <th>0</th>\n",
       "      <td>1069124</td>\n",
       "      <td>ad</td>\n",
       "      <td>False</td>\n",
       "      <td>130</td>\n",
       "      <td>Monday</td>\n",
       "      <td>20</td>\n",
       "      <td>1</td>\n",
       "    </tr>\n",
       "    <tr>\n",
       "      <th>1</th>\n",
       "      <td>1119715</td>\n",
       "      <td>ad</td>\n",
       "      <td>False</td>\n",
       "      <td>93</td>\n",
       "      <td>Tuesday</td>\n",
       "      <td>22</td>\n",
       "      <td>2</td>\n",
       "    </tr>\n",
       "    <tr>\n",
       "      <th>2</th>\n",
       "      <td>1144181</td>\n",
       "      <td>ad</td>\n",
       "      <td>False</td>\n",
       "      <td>21</td>\n",
       "      <td>Tuesday</td>\n",
       "      <td>18</td>\n",
       "      <td>2</td>\n",
       "    </tr>\n",
       "    <tr>\n",
       "      <th>3</th>\n",
       "      <td>1435133</td>\n",
       "      <td>ad</td>\n",
       "      <td>False</td>\n",
       "      <td>355</td>\n",
       "      <td>Tuesday</td>\n",
       "      <td>10</td>\n",
       "      <td>2</td>\n",
       "    </tr>\n",
       "    <tr>\n",
       "      <th>4</th>\n",
       "      <td>1015700</td>\n",
       "      <td>ad</td>\n",
       "      <td>False</td>\n",
       "      <td>276</td>\n",
       "      <td>Friday</td>\n",
       "      <td>14</td>\n",
       "      <td>5</td>\n",
       "    </tr>\n",
       "  </tbody>\n",
       "</table>\n",
       "</div>"
      ],
      "text/plain": [
       "   user id test group  converted  total ads most ads day  most ads hour  \\\n",
       "0  1069124         ad      False        130       Monday             20   \n",
       "1  1119715         ad      False         93      Tuesday             22   \n",
       "2  1144181         ad      False         21      Tuesday             18   \n",
       "3  1435133         ad      False        355      Tuesday             10   \n",
       "4  1015700         ad      False        276       Friday             14   \n",
       "\n",
       "  day_num  \n",
       "0       1  \n",
       "1       2  \n",
       "2       2  \n",
       "3       2  \n",
       "4       5  "
      ]
     },
     "execution_count": 140,
     "metadata": {},
     "output_type": "execute_result"
    }
   ],
   "source": [
    "days = {'Monday': '1', 'Tuesday': '2', 'Friday': '5', 'Saturday': '6', 'Wednesday': '3', 'Sunday': '7', 'Thursday': '4'}\n",
    "df['day_num'] = df['most ads day'].map(days)\n",
    "df.head()"
   ]
  },
  {
   "cell_type": "code",
   "execution_count": 142,
   "id": "e5baf235-b1ab-49a0-b786-88e4b553c25c",
   "metadata": {},
   "outputs": [
    {
     "data": {
      "text/html": [
       "<div>\n",
       "<style scoped>\n",
       "    .dataframe tbody tr th:only-of-type {\n",
       "        vertical-align: middle;\n",
       "    }\n",
       "\n",
       "    .dataframe tbody tr th {\n",
       "        vertical-align: top;\n",
       "    }\n",
       "\n",
       "    .dataframe thead th {\n",
       "        text-align: right;\n",
       "    }\n",
       "</style>\n",
       "<table border=\"1\" class=\"dataframe\">\n",
       "  <thead>\n",
       "    <tr style=\"text-align: right;\">\n",
       "      <th>day_num</th>\n",
       "      <th>1</th>\n",
       "      <th>2</th>\n",
       "      <th>3</th>\n",
       "      <th>4</th>\n",
       "      <th>5</th>\n",
       "      <th>6</th>\n",
       "      <th>7</th>\n",
       "    </tr>\n",
       "    <tr>\n",
       "      <th>most ads hour</th>\n",
       "      <th></th>\n",
       "      <th></th>\n",
       "      <th></th>\n",
       "      <th></th>\n",
       "      <th></th>\n",
       "      <th></th>\n",
       "      <th></th>\n",
       "    </tr>\n",
       "  </thead>\n",
       "  <tbody>\n",
       "    <tr>\n",
       "      <th>0</th>\n",
       "      <td>862</td>\n",
       "      <td>737</td>\n",
       "      <td>598</td>\n",
       "      <td>752</td>\n",
       "      <td>841</td>\n",
       "      <td>791</td>\n",
       "      <td>955</td>\n",
       "    </tr>\n",
       "    <tr>\n",
       "      <th>1</th>\n",
       "      <td>566</td>\n",
       "      <td>652</td>\n",
       "      <td>608</td>\n",
       "      <td>725</td>\n",
       "      <td>691</td>\n",
       "      <td>846</td>\n",
       "      <td>714</td>\n",
       "    </tr>\n",
       "    <tr>\n",
       "      <th>2</th>\n",
       "      <td>737</td>\n",
       "      <td>744</td>\n",
       "      <td>639</td>\n",
       "      <td>722</td>\n",
       "      <td>850</td>\n",
       "      <td>931</td>\n",
       "      <td>710</td>\n",
       "    </tr>\n",
       "    <tr>\n",
       "      <th>3</th>\n",
       "      <td>330</td>\n",
       "      <td>343</td>\n",
       "      <td>338</td>\n",
       "      <td>371</td>\n",
       "      <td>542</td>\n",
       "      <td>374</td>\n",
       "      <td>381</td>\n",
       "    </tr>\n",
       "    <tr>\n",
       "      <th>4</th>\n",
       "      <td>92</td>\n",
       "      <td>104</td>\n",
       "      <td>102</td>\n",
       "      <td>115</td>\n",
       "      <td>122</td>\n",
       "      <td>85</td>\n",
       "      <td>102</td>\n",
       "    </tr>\n",
       "    <tr>\n",
       "      <th>5</th>\n",
       "      <td>94</td>\n",
       "      <td>76</td>\n",
       "      <td>143</td>\n",
       "      <td>96</td>\n",
       "      <td>135</td>\n",
       "      <td>94</td>\n",
       "      <td>127</td>\n",
       "    </tr>\n",
       "    <tr>\n",
       "      <th>6</th>\n",
       "      <td>279</td>\n",
       "      <td>225</td>\n",
       "      <td>365</td>\n",
       "      <td>303</td>\n",
       "      <td>343</td>\n",
       "      <td>265</td>\n",
       "      <td>288</td>\n",
       "    </tr>\n",
       "    <tr>\n",
       "      <th>7</th>\n",
       "      <td>786</td>\n",
       "      <td>751</td>\n",
       "      <td>857</td>\n",
       "      <td>1065</td>\n",
       "      <td>1072</td>\n",
       "      <td>754</td>\n",
       "      <td>1120</td>\n",
       "    </tr>\n",
       "    <tr>\n",
       "      <th>8</th>\n",
       "      <td>2510</td>\n",
       "      <td>2511</td>\n",
       "      <td>2351</td>\n",
       "      <td>2862</td>\n",
       "      <td>2468</td>\n",
       "      <td>2231</td>\n",
       "      <td>2694</td>\n",
       "    </tr>\n",
       "    <tr>\n",
       "      <th>9</th>\n",
       "      <td>4546</td>\n",
       "      <td>4623</td>\n",
       "      <td>4779</td>\n",
       "      <td>4624</td>\n",
       "      <td>4482</td>\n",
       "      <td>3774</td>\n",
       "      <td>4176</td>\n",
       "    </tr>\n",
       "    <tr>\n",
       "      <th>10</th>\n",
       "      <td>5388</td>\n",
       "      <td>6006</td>\n",
       "      <td>5978</td>\n",
       "      <td>5178</td>\n",
       "      <td>5576</td>\n",
       "      <td>5046</td>\n",
       "      <td>5767</td>\n",
       "    </tr>\n",
       "    <tr>\n",
       "      <th>11</th>\n",
       "      <td>6720</td>\n",
       "      <td>6842</td>\n",
       "      <td>7126</td>\n",
       "      <td>5454</td>\n",
       "      <td>7283</td>\n",
       "      <td>6007</td>\n",
       "      <td>6778</td>\n",
       "    </tr>\n",
       "    <tr>\n",
       "      <th>12</th>\n",
       "      <td>7002</td>\n",
       "      <td>6861</td>\n",
       "      <td>7305</td>\n",
       "      <td>6209</td>\n",
       "      <td>7319</td>\n",
       "      <td>6104</td>\n",
       "      <td>6498</td>\n",
       "    </tr>\n",
       "    <tr>\n",
       "      <th>13</th>\n",
       "      <td>6970</td>\n",
       "      <td>6797</td>\n",
       "      <td>6876</td>\n",
       "      <td>6742</td>\n",
       "      <td>7494</td>\n",
       "      <td>6294</td>\n",
       "      <td>6482</td>\n",
       "    </tr>\n",
       "    <tr>\n",
       "      <th>14</th>\n",
       "      <td>6335</td>\n",
       "      <td>6618</td>\n",
       "      <td>5603</td>\n",
       "      <td>6866</td>\n",
       "      <td>6932</td>\n",
       "      <td>6058</td>\n",
       "      <td>7236</td>\n",
       "    </tr>\n",
       "    <tr>\n",
       "      <th>15</th>\n",
       "      <td>6684</td>\n",
       "      <td>5872</td>\n",
       "      <td>6011</td>\n",
       "      <td>6262</td>\n",
       "      <td>6935</td>\n",
       "      <td>6091</td>\n",
       "      <td>6828</td>\n",
       "    </tr>\n",
       "    <tr>\n",
       "      <th>16</th>\n",
       "      <td>5858</td>\n",
       "      <td>4262</td>\n",
       "      <td>4832</td>\n",
       "      <td>5786</td>\n",
       "      <td>5801</td>\n",
       "      <td>5446</td>\n",
       "      <td>5582</td>\n",
       "    </tr>\n",
       "    <tr>\n",
       "      <th>17</th>\n",
       "      <td>5625</td>\n",
       "      <td>4244</td>\n",
       "      <td>4562</td>\n",
       "      <td>5033</td>\n",
       "      <td>5232</td>\n",
       "      <td>5016</td>\n",
       "      <td>5276</td>\n",
       "    </tr>\n",
       "    <tr>\n",
       "      <th>18</th>\n",
       "      <td>5220</td>\n",
       "      <td>3741</td>\n",
       "      <td>4319</td>\n",
       "      <td>4508</td>\n",
       "      <td>5042</td>\n",
       "      <td>4511</td>\n",
       "      <td>4982</td>\n",
       "    </tr>\n",
       "    <tr>\n",
       "      <th>19</th>\n",
       "      <td>4620</td>\n",
       "      <td>3388</td>\n",
       "      <td>4109</td>\n",
       "      <td>4163</td>\n",
       "      <td>4773</td>\n",
       "      <td>4605</td>\n",
       "      <td>4694</td>\n",
       "    </tr>\n",
       "    <tr>\n",
       "      <th>20</th>\n",
       "      <td>4725</td>\n",
       "      <td>3487</td>\n",
       "      <td>3494</td>\n",
       "      <td>3979</td>\n",
       "      <td>4598</td>\n",
       "      <td>4748</td>\n",
       "      <td>3892</td>\n",
       "    </tr>\n",
       "    <tr>\n",
       "      <th>21</th>\n",
       "      <td>4403</td>\n",
       "      <td>4043</td>\n",
       "      <td>3504</td>\n",
       "      <td>4397</td>\n",
       "      <td>5129</td>\n",
       "      <td>4659</td>\n",
       "      <td>3841</td>\n",
       "    </tr>\n",
       "    <tr>\n",
       "      <th>22</th>\n",
       "      <td>4083</td>\n",
       "      <td>2738</td>\n",
       "      <td>3434</td>\n",
       "      <td>3840</td>\n",
       "      <td>4872</td>\n",
       "      <td>3997</td>\n",
       "      <td>3468</td>\n",
       "    </tr>\n",
       "    <tr>\n",
       "      <th>23</th>\n",
       "      <td>2638</td>\n",
       "      <td>1814</td>\n",
       "      <td>2975</td>\n",
       "      <td>2930</td>\n",
       "      <td>4076</td>\n",
       "      <td>2933</td>\n",
       "      <td>2800</td>\n",
       "    </tr>\n",
       "  </tbody>\n",
       "</table>\n",
       "</div>"
      ],
      "text/plain": [
       "day_num           1     2     3     4     5     6     7\n",
       "most ads hour                                          \n",
       "0               862   737   598   752   841   791   955\n",
       "1               566   652   608   725   691   846   714\n",
       "2               737   744   639   722   850   931   710\n",
       "3               330   343   338   371   542   374   381\n",
       "4                92   104   102   115   122    85   102\n",
       "5                94    76   143    96   135    94   127\n",
       "6               279   225   365   303   343   265   288\n",
       "7               786   751   857  1065  1072   754  1120\n",
       "8              2510  2511  2351  2862  2468  2231  2694\n",
       "9              4546  4623  4779  4624  4482  3774  4176\n",
       "10             5388  6006  5978  5178  5576  5046  5767\n",
       "11             6720  6842  7126  5454  7283  6007  6778\n",
       "12             7002  6861  7305  6209  7319  6104  6498\n",
       "13             6970  6797  6876  6742  7494  6294  6482\n",
       "14             6335  6618  5603  6866  6932  6058  7236\n",
       "15             6684  5872  6011  6262  6935  6091  6828\n",
       "16             5858  4262  4832  5786  5801  5446  5582\n",
       "17             5625  4244  4562  5033  5232  5016  5276\n",
       "18             5220  3741  4319  4508  5042  4511  4982\n",
       "19             4620  3388  4109  4163  4773  4605  4694\n",
       "20             4725  3487  3494  3979  4598  4748  3892\n",
       "21             4403  4043  3504  4397  5129  4659  3841\n",
       "22             4083  2738  3434  3840  4872  3997  3468\n",
       "23             2638  1814  2975  2930  4076  2933  2800"
      ]
     },
     "execution_count": 142,
     "metadata": {},
     "output_type": "execute_result"
    }
   ],
   "source": [
    "df_day_hour = pd.crosstab(df['day_num'], df['most ads hour']).T\n",
    "df_day_hour"
   ]
  },
  {
   "cell_type": "code",
   "execution_count": 164,
   "id": "15ce8b12-7611-4018-ab26-34012fa48882",
   "metadata": {},
   "outputs": [
    {
     "data": {
      "text/plain": [
       "<Axes: >"
      ]
     },
     "execution_count": 164,
     "metadata": {},
     "output_type": "execute_result"
    },
    {
     "data": {
      "image/png": "[encoded data removed]",
      "text/plain": [
       "<Figure size 640x480 with 1 Axes>"
      ]
     },
     "metadata": {},
     "output_type": "display_data"
    }
   ],
   "source": [
    "df['day_num'].sort_values().hist(bins = 7)"
   ]
  },
  {
   "cell_type": "code",
   "execution_count": 232,
   "id": "e07d4d5e-3dcb-4bad-ba90-eb8c47a7988e",
   "metadata": {},
   "outputs": [
    {
     "data": {
      "image/png": "[encoded data removed]",
      "text/plain": [
       "<Figure size 640x480 with 2 Axes>"
      ]
     },
     "metadata": {},
     "output_type": "display_data"
    }
   ],
   "source": [
    "sns.heatmap(df_day_hour)\n",
    "plt.show()\n",
    "# по тепловой карте видно, что наибольшее количество просмотров с 09 до 22ч. \n",
    "# по гистограмме видно, что больше просмотров - в пт и пн, наименьшее - во вт, ср и сб"
   ]
  },
  {
   "cell_type": "code",
   "execution_count": 479,
   "id": "ddfe0068-af29-4c39-802e-5257fe5f63ad",
   "metadata": {},
   "outputs": [
    {
     "data": {
      "text/plain": [
       "array([20, 22, 18, 10, 14, 13, 19, 11, 12, 16, 21,  3, 23,  4,  8,  0,  2,\n",
       "       15,  1,  6, 17,  7,  9,  5], dtype=int64)"
      ]
     },
     "execution_count": 479,
     "metadata": {},
     "output_type": "execute_result"
    }
   ],
   "source": [
    "df['most ads hour'].unique()"
   ]
  },
  {
   "cell_type": "code",
   "execution_count": 94,
   "id": "bb98dd75-c748-4b82-808d-c7b217f14b59",
   "metadata": {},
   "outputs": [
    {
     "data": {
      "text/plain": [
       "most ads hour\n",
       "13    47655\n",
       "12    47298\n",
       "11    46210\n",
       "14    45648\n",
       "15    44683\n",
       "10    38939\n",
       "16    37567\n",
       "17    34988\n",
       "18    32323\n",
       "9     31004\n",
       "19    30352\n",
       "21    29976\n",
       "20    28923\n",
       "22    26432\n",
       "23    20166\n",
       "8     17627\n",
       "7      6405\n",
       "0      5536\n",
       "2      5333\n",
       "1      4802\n",
       "3      2679\n",
       "6      2068\n",
       "5       765\n",
       "4       722\n",
       "Name: count, dtype: int64"
      ]
     },
     "execution_count": 94,
     "metadata": {},
     "output_type": "execute_result"
    }
   ],
   "source": [
    "df['most ads hour'].value_counts()\n",
    "# больше всего рекламы клиент видел в обеденные часы (10-16), меньше всего - ночью (0-7)"
   ]
  },
  {
   "cell_type": "code",
   "execution_count": 483,
   "id": "024d0fe9-7b72-4ed6-993d-953ac915947f",
   "metadata": {},
   "outputs": [
    {
     "data": {
      "text/plain": [
       "<Axes: >"
      ]
     },
     "execution_count": 483,
     "metadata": {},
     "output_type": "execute_result"
    },
    {
     "data": {
      "image/png": "[encoded data removed]",
      "text/plain": [
       "<Figure size 640x480 with 1 Axes>"
      ]
     },
     "metadata": {},
     "output_type": "display_data"
    }
   ],
   "source": [
    "df['most ads hour'].hist(bins = 8)"
   ]
  },
  {
   "cell_type": "code",
   "execution_count": 326,
   "id": "31c5ca00-b8ef-44d3-ab78-68e8126167ca",
   "metadata": {},
   "outputs": [
    {
     "data": {
      "text/plain": [
       "total ads\n",
       "1       56606\n",
       "2       39827\n",
       "5       29303\n",
       "3       28661\n",
       "4       23426\n",
       "        ...  \n",
       "1302        1\n",
       "1035        1\n",
       "716         1\n",
       "1014        1\n",
       "729         1\n",
       "Name: count, Length: 807, dtype: int64"
      ]
     },
     "execution_count": 326,
     "metadata": {},
     "output_type": "execute_result"
    }
   ],
   "source": [
    "df['total ads'].value_counts()"
   ]
  },
  {
   "cell_type": "code",
   "execution_count": 348,
   "id": "3923fce8-d2b1-4237-9ac0-3adc192af511",
   "metadata": {},
   "outputs": [
    {
     "data": {
      "text/plain": [
       "<Axes: >"
      ]
     },
     "execution_count": 348,
     "metadata": {},
     "output_type": "execute_result"
    },
    {
     "data": {
      "image/png": "[encoded data removed]",
      "text/plain": [
       "<Figure size 1500x500 with 1 Axes>"
      ]
     },
     "metadata": {},
     "output_type": "display_data"
    }
   ],
   "source": [
    "fig = plt.subplots(figsize = (15,5))\n",
    "df['total ads'].hist(bins = 500)\n",
    "# чаще всего клиентам показывали небольшое количество повторов рекламы"
   ]
  },
  {
   "cell_type": "code",
   "execution_count": null,
   "id": "79ce81bc-60fa-4848-8615-fa83d277bbbb",
   "metadata": {},
   "outputs": [],
   "source": [
    "df['test group'].value_counts()"
   ]
  },
  {
   "cell_type": "code",
   "execution_count": 487,
   "id": "ef59a482-99ab-4cf2-a9b4-aaa1214a70f9",
   "metadata": {},
   "outputs": [
    {
     "data": {
      "text/plain": [
       "564577"
      ]
     },
     "execution_count": 487,
     "metadata": {},
     "output_type": "execute_result"
    }
   ],
   "source": [
    "group_a = df[df['test group'] == 'ad']\n",
    "group_a.shape[0]"
   ]
  },
  {
   "cell_type": "code",
   "execution_count": 489,
   "id": "ae60cae0-6c90-4b38-aafa-d65ec9b5e7f2",
   "metadata": {},
   "outputs": [
    {
     "data": {
      "text/plain": [
       "23524"
      ]
     },
     "execution_count": 489,
     "metadata": {},
     "output_type": "execute_result"
    }
   ],
   "source": [
    "group_b = df[df['test group'] == 'psa']\n",
    "group_b.shape[0]"
   ]
  },
  {
   "cell_type": "code",
   "execution_count": 491,
   "id": "e0c9e828-5748-4ac7-9ca8-a7b8c3098146",
   "metadata": {},
   "outputs": [
    {
     "data": {
      "text/plain": [
       "0"
      ]
     },
     "execution_count": 491,
     "metadata": {},
     "output_type": "execute_result"
    }
   ],
   "source": [
    "group_c = df[(df['test group'] != 'ad')&(df['test group'] != 'psa')]\n",
    "group_c.shape[0]\n",
    "# в выборке отсутствуют клиенты, которым бы не показывали какую-либо рекламу при тестировании"
   ]
  },
  {
   "cell_type": "markdown",
   "id": "fdd3e718-fd23-474f-93ca-c04d7cbc66e9",
   "metadata": {},
   "source": [
    "### Оценим группу А"
   ]
  },
  {
   "cell_type": "code",
   "execution_count": 238,
   "id": "b7da5a9d-66c5-4f8d-b089-079c7eb0ee61",
   "metadata": {},
   "outputs": [
    {
     "data": {
      "text/html": [
       "<div>\n",
       "<style scoped>\n",
       "    .dataframe tbody tr th:only-of-type {\n",
       "        vertical-align: middle;\n",
       "    }\n",
       "\n",
       "    .dataframe tbody tr th {\n",
       "        vertical-align: top;\n",
       "    }\n",
       "\n",
       "    .dataframe thead th {\n",
       "        text-align: right;\n",
       "    }\n",
       "</style>\n",
       "<table border=\"1\" class=\"dataframe\">\n",
       "  <thead>\n",
       "    <tr style=\"text-align: right;\">\n",
       "      <th></th>\n",
       "      <th>user id</th>\n",
       "      <th>test group</th>\n",
       "      <th>converted</th>\n",
       "      <th>total ads</th>\n",
       "      <th>most ads day</th>\n",
       "      <th>most ads hour</th>\n",
       "      <th>day_num</th>\n",
       "    </tr>\n",
       "  </thead>\n",
       "  <tbody>\n",
       "    <tr>\n",
       "      <th>0</th>\n",
       "      <td>1069124</td>\n",
       "      <td>ad</td>\n",
       "      <td>False</td>\n",
       "      <td>130</td>\n",
       "      <td>Monday</td>\n",
       "      <td>20</td>\n",
       "      <td>1</td>\n",
       "    </tr>\n",
       "    <tr>\n",
       "      <th>1</th>\n",
       "      <td>1119715</td>\n",
       "      <td>ad</td>\n",
       "      <td>False</td>\n",
       "      <td>93</td>\n",
       "      <td>Tuesday</td>\n",
       "      <td>22</td>\n",
       "      <td>2</td>\n",
       "    </tr>\n",
       "    <tr>\n",
       "      <th>2</th>\n",
       "      <td>1144181</td>\n",
       "      <td>ad</td>\n",
       "      <td>False</td>\n",
       "      <td>21</td>\n",
       "      <td>Tuesday</td>\n",
       "      <td>18</td>\n",
       "      <td>2</td>\n",
       "    </tr>\n",
       "    <tr>\n",
       "      <th>3</th>\n",
       "      <td>1435133</td>\n",
       "      <td>ad</td>\n",
       "      <td>False</td>\n",
       "      <td>355</td>\n",
       "      <td>Tuesday</td>\n",
       "      <td>10</td>\n",
       "      <td>2</td>\n",
       "    </tr>\n",
       "    <tr>\n",
       "      <th>4</th>\n",
       "      <td>1015700</td>\n",
       "      <td>ad</td>\n",
       "      <td>False</td>\n",
       "      <td>276</td>\n",
       "      <td>Friday</td>\n",
       "      <td>14</td>\n",
       "      <td>5</td>\n",
       "    </tr>\n",
       "    <tr>\n",
       "      <th>...</th>\n",
       "      <td>...</td>\n",
       "      <td>...</td>\n",
       "      <td>...</td>\n",
       "      <td>...</td>\n",
       "      <td>...</td>\n",
       "      <td>...</td>\n",
       "      <td>...</td>\n",
       "    </tr>\n",
       "    <tr>\n",
       "      <th>588096</th>\n",
       "      <td>1278437</td>\n",
       "      <td>ad</td>\n",
       "      <td>False</td>\n",
       "      <td>1</td>\n",
       "      <td>Tuesday</td>\n",
       "      <td>23</td>\n",
       "      <td>2</td>\n",
       "    </tr>\n",
       "    <tr>\n",
       "      <th>588097</th>\n",
       "      <td>1327975</td>\n",
       "      <td>ad</td>\n",
       "      <td>False</td>\n",
       "      <td>1</td>\n",
       "      <td>Tuesday</td>\n",
       "      <td>23</td>\n",
       "      <td>2</td>\n",
       "    </tr>\n",
       "    <tr>\n",
       "      <th>588098</th>\n",
       "      <td>1038442</td>\n",
       "      <td>ad</td>\n",
       "      <td>False</td>\n",
       "      <td>3</td>\n",
       "      <td>Tuesday</td>\n",
       "      <td>23</td>\n",
       "      <td>2</td>\n",
       "    </tr>\n",
       "    <tr>\n",
       "      <th>588099</th>\n",
       "      <td>1496395</td>\n",
       "      <td>ad</td>\n",
       "      <td>False</td>\n",
       "      <td>1</td>\n",
       "      <td>Tuesday</td>\n",
       "      <td>23</td>\n",
       "      <td>2</td>\n",
       "    </tr>\n",
       "    <tr>\n",
       "      <th>588100</th>\n",
       "      <td>1237779</td>\n",
       "      <td>ad</td>\n",
       "      <td>False</td>\n",
       "      <td>1</td>\n",
       "      <td>Tuesday</td>\n",
       "      <td>23</td>\n",
       "      <td>2</td>\n",
       "    </tr>\n",
       "  </tbody>\n",
       "</table>\n",
       "<p>564577 rows × 7 columns</p>\n",
       "</div>"
      ],
      "text/plain": [
       "        user id test group  converted  total ads most ads day  most ads hour  \\\n",
       "0       1069124         ad      False        130       Monday             20   \n",
       "1       1119715         ad      False         93      Tuesday             22   \n",
       "2       1144181         ad      False         21      Tuesday             18   \n",
       "3       1435133         ad      False        355      Tuesday             10   \n",
       "4       1015700         ad      False        276       Friday             14   \n",
       "...         ...        ...        ...        ...          ...            ...   \n",
       "588096  1278437         ad      False          1      Tuesday             23   \n",
       "588097  1327975         ad      False          1      Tuesday             23   \n",
       "588098  1038442         ad      False          3      Tuesday             23   \n",
       "588099  1496395         ad      False          1      Tuesday             23   \n",
       "588100  1237779         ad      False          1      Tuesday             23   \n",
       "\n",
       "       day_num  \n",
       "0            1  \n",
       "1            2  \n",
       "2            2  \n",
       "3            2  \n",
       "4            5  \n",
       "...        ...  \n",
       "588096       2  \n",
       "588097       2  \n",
       "588098       2  \n",
       "588099       2  \n",
       "588100       2  \n",
       "\n",
       "[564577 rows x 7 columns]"
      ]
     },
     "execution_count": 238,
     "metadata": {},
     "output_type": "execute_result"
    }
   ],
   "source": [
    "group_a"
   ]
  },
  {
   "cell_type": "code",
   "execution_count": 206,
   "id": "592dca5c-4970-4572-810f-9e5e873376d4",
   "metadata": {},
   "outputs": [
    {
     "data": {
      "text/html": [
       "<div>\n",
       "<style scoped>\n",
       "    .dataframe tbody tr th:only-of-type {\n",
       "        vertical-align: middle;\n",
       "    }\n",
       "\n",
       "    .dataframe tbody tr th {\n",
       "        vertical-align: top;\n",
       "    }\n",
       "\n",
       "    .dataframe thead th {\n",
       "        text-align: right;\n",
       "    }\n",
       "</style>\n",
       "<table border=\"1\" class=\"dataframe\">\n",
       "  <thead>\n",
       "    <tr style=\"text-align: right;\">\n",
       "      <th></th>\n",
       "      <th>user id</th>\n",
       "      <th>test group</th>\n",
       "      <th>converted</th>\n",
       "      <th>total ads</th>\n",
       "      <th>most ads day</th>\n",
       "      <th>most ads hour</th>\n",
       "      <th>day_num</th>\n",
       "    </tr>\n",
       "  </thead>\n",
       "  <tbody>\n",
       "    <tr>\n",
       "      <th>0</th>\n",
       "      <td>1069124</td>\n",
       "      <td>ad</td>\n",
       "      <td>False</td>\n",
       "      <td>130</td>\n",
       "      <td>Monday</td>\n",
       "      <td>20</td>\n",
       "      <td>1</td>\n",
       "    </tr>\n",
       "    <tr>\n",
       "      <th>1</th>\n",
       "      <td>1119715</td>\n",
       "      <td>ad</td>\n",
       "      <td>False</td>\n",
       "      <td>93</td>\n",
       "      <td>Tuesday</td>\n",
       "      <td>22</td>\n",
       "      <td>2</td>\n",
       "    </tr>\n",
       "    <tr>\n",
       "      <th>2</th>\n",
       "      <td>1144181</td>\n",
       "      <td>ad</td>\n",
       "      <td>False</td>\n",
       "      <td>21</td>\n",
       "      <td>Tuesday</td>\n",
       "      <td>18</td>\n",
       "      <td>2</td>\n",
       "    </tr>\n",
       "    <tr>\n",
       "      <th>3</th>\n",
       "      <td>1435133</td>\n",
       "      <td>ad</td>\n",
       "      <td>False</td>\n",
       "      <td>355</td>\n",
       "      <td>Tuesday</td>\n",
       "      <td>10</td>\n",
       "      <td>2</td>\n",
       "    </tr>\n",
       "    <tr>\n",
       "      <th>4</th>\n",
       "      <td>1015700</td>\n",
       "      <td>ad</td>\n",
       "      <td>False</td>\n",
       "      <td>276</td>\n",
       "      <td>Friday</td>\n",
       "      <td>14</td>\n",
       "      <td>5</td>\n",
       "    </tr>\n",
       "    <tr>\n",
       "      <th>...</th>\n",
       "      <td>...</td>\n",
       "      <td>...</td>\n",
       "      <td>...</td>\n",
       "      <td>...</td>\n",
       "      <td>...</td>\n",
       "      <td>...</td>\n",
       "      <td>...</td>\n",
       "    </tr>\n",
       "    <tr>\n",
       "      <th>588096</th>\n",
       "      <td>1278437</td>\n",
       "      <td>ad</td>\n",
       "      <td>False</td>\n",
       "      <td>1</td>\n",
       "      <td>Tuesday</td>\n",
       "      <td>23</td>\n",
       "      <td>2</td>\n",
       "    </tr>\n",
       "    <tr>\n",
       "      <th>588097</th>\n",
       "      <td>1327975</td>\n",
       "      <td>ad</td>\n",
       "      <td>False</td>\n",
       "      <td>1</td>\n",
       "      <td>Tuesday</td>\n",
       "      <td>23</td>\n",
       "      <td>2</td>\n",
       "    </tr>\n",
       "    <tr>\n",
       "      <th>588098</th>\n",
       "      <td>1038442</td>\n",
       "      <td>ad</td>\n",
       "      <td>False</td>\n",
       "      <td>3</td>\n",
       "      <td>Tuesday</td>\n",
       "      <td>23</td>\n",
       "      <td>2</td>\n",
       "    </tr>\n",
       "    <tr>\n",
       "      <th>588099</th>\n",
       "      <td>1496395</td>\n",
       "      <td>ad</td>\n",
       "      <td>False</td>\n",
       "      <td>1</td>\n",
       "      <td>Tuesday</td>\n",
       "      <td>23</td>\n",
       "      <td>2</td>\n",
       "    </tr>\n",
       "    <tr>\n",
       "      <th>588100</th>\n",
       "      <td>1237779</td>\n",
       "      <td>ad</td>\n",
       "      <td>False</td>\n",
       "      <td>1</td>\n",
       "      <td>Tuesday</td>\n",
       "      <td>23</td>\n",
       "      <td>2</td>\n",
       "    </tr>\n",
       "  </tbody>\n",
       "</table>\n",
       "<p>564577 rows × 7 columns</p>\n",
       "</div>"
      ],
      "text/plain": [
       "        user id test group  converted  total ads most ads day  most ads hour  \\\n",
       "0       1069124         ad      False        130       Monday             20   \n",
       "1       1119715         ad      False         93      Tuesday             22   \n",
       "2       1144181         ad      False         21      Tuesday             18   \n",
       "3       1435133         ad      False        355      Tuesday             10   \n",
       "4       1015700         ad      False        276       Friday             14   \n",
       "...         ...        ...        ...        ...          ...            ...   \n",
       "588096  1278437         ad      False          1      Tuesday             23   \n",
       "588097  1327975         ad      False          1      Tuesday             23   \n",
       "588098  1038442         ad      False          3      Tuesday             23   \n",
       "588099  1496395         ad      False          1      Tuesday             23   \n",
       "588100  1237779         ad      False          1      Tuesday             23   \n",
       "\n",
       "       day_num  \n",
       "0            1  \n",
       "1            2  \n",
       "2            2  \n",
       "3            2  \n",
       "4            5  \n",
       "...        ...  \n",
       "588096       2  \n",
       "588097       2  \n",
       "588098       2  \n",
       "588099       2  \n",
       "588100       2  \n",
       "\n",
       "[564577 rows x 7 columns]"
      ]
     },
     "execution_count": 206,
     "metadata": {},
     "output_type": "execute_result"
    }
   ],
   "source": [
    "group_a2 = group_a.copy()\n",
    "group_a2"
   ]
  },
  {
   "cell_type": "code",
   "execution_count": 208,
   "id": "d9db0720-3013-4157-9ba2-1afe43150d35",
   "metadata": {},
   "outputs": [
    {
     "data": {
      "text/html": [
       "<div>\n",
       "<style scoped>\n",
       "    .dataframe tbody tr th:only-of-type {\n",
       "        vertical-align: middle;\n",
       "    }\n",
       "\n",
       "    .dataframe tbody tr th {\n",
       "        vertical-align: top;\n",
       "    }\n",
       "\n",
       "    .dataframe thead th {\n",
       "        text-align: right;\n",
       "    }\n",
       "</style>\n",
       "<table border=\"1\" class=\"dataframe\">\n",
       "  <thead>\n",
       "    <tr style=\"text-align: right;\">\n",
       "      <th>day_num</th>\n",
       "      <th>1</th>\n",
       "      <th>2</th>\n",
       "      <th>3</th>\n",
       "      <th>4</th>\n",
       "      <th>5</th>\n",
       "      <th>6</th>\n",
       "      <th>7</th>\n",
       "    </tr>\n",
       "    <tr>\n",
       "      <th>most ads hour</th>\n",
       "      <th></th>\n",
       "      <th></th>\n",
       "      <th></th>\n",
       "      <th></th>\n",
       "      <th></th>\n",
       "      <th></th>\n",
       "      <th></th>\n",
       "    </tr>\n",
       "  </thead>\n",
       "  <tbody>\n",
       "    <tr>\n",
       "      <th>0</th>\n",
       "      <td>820</td>\n",
       "      <td>713</td>\n",
       "      <td>588</td>\n",
       "      <td>708</td>\n",
       "      <td>807</td>\n",
       "      <td>763</td>\n",
       "      <td>910</td>\n",
       "    </tr>\n",
       "    <tr>\n",
       "      <th>1</th>\n",
       "      <td>531</td>\n",
       "      <td>632</td>\n",
       "      <td>596</td>\n",
       "      <td>691</td>\n",
       "      <td>662</td>\n",
       "      <td>819</td>\n",
       "      <td>684</td>\n",
       "    </tr>\n",
       "    <tr>\n",
       "      <th>2</th>\n",
       "      <td>709</td>\n",
       "      <td>728</td>\n",
       "      <td>619</td>\n",
       "      <td>683</td>\n",
       "      <td>825</td>\n",
       "      <td>900</td>\n",
       "      <td>688</td>\n",
       "    </tr>\n",
       "    <tr>\n",
       "      <th>3</th>\n",
       "      <td>316</td>\n",
       "      <td>336</td>\n",
       "      <td>330</td>\n",
       "      <td>363</td>\n",
       "      <td>515</td>\n",
       "      <td>362</td>\n",
       "      <td>368</td>\n",
       "    </tr>\n",
       "    <tr>\n",
       "      <th>4</th>\n",
       "      <td>88</td>\n",
       "      <td>100</td>\n",
       "      <td>100</td>\n",
       "      <td>109</td>\n",
       "      <td>118</td>\n",
       "      <td>79</td>\n",
       "      <td>100</td>\n",
       "    </tr>\n",
       "    <tr>\n",
       "      <th>5</th>\n",
       "      <td>92</td>\n",
       "      <td>76</td>\n",
       "      <td>140</td>\n",
       "      <td>91</td>\n",
       "      <td>129</td>\n",
       "      <td>88</td>\n",
       "      <td>126</td>\n",
       "    </tr>\n",
       "    <tr>\n",
       "      <th>6</th>\n",
       "      <td>262</td>\n",
       "      <td>221</td>\n",
       "      <td>358</td>\n",
       "      <td>285</td>\n",
       "      <td>330</td>\n",
       "      <td>252</td>\n",
       "      <td>277</td>\n",
       "    </tr>\n",
       "    <tr>\n",
       "      <th>7</th>\n",
       "      <td>760</td>\n",
       "      <td>729</td>\n",
       "      <td>840</td>\n",
       "      <td>1005</td>\n",
       "      <td>1018</td>\n",
       "      <td>727</td>\n",
       "      <td>1089</td>\n",
       "    </tr>\n",
       "    <tr>\n",
       "      <th>8</th>\n",
       "      <td>2412</td>\n",
       "      <td>2412</td>\n",
       "      <td>2287</td>\n",
       "      <td>2722</td>\n",
       "      <td>2358</td>\n",
       "      <td>2150</td>\n",
       "      <td>2627</td>\n",
       "    </tr>\n",
       "    <tr>\n",
       "      <th>9</th>\n",
       "      <td>4365</td>\n",
       "      <td>4440</td>\n",
       "      <td>4625</td>\n",
       "      <td>4404</td>\n",
       "      <td>4282</td>\n",
       "      <td>3645</td>\n",
       "      <td>4041</td>\n",
       "    </tr>\n",
       "    <tr>\n",
       "      <th>10</th>\n",
       "      <td>5159</td>\n",
       "      <td>5773</td>\n",
       "      <td>5812</td>\n",
       "      <td>4945</td>\n",
       "      <td>5353</td>\n",
       "      <td>4867</td>\n",
       "      <td>5545</td>\n",
       "    </tr>\n",
       "    <tr>\n",
       "      <th>11</th>\n",
       "      <td>6433</td>\n",
       "      <td>6481</td>\n",
       "      <td>6852</td>\n",
       "      <td>5171</td>\n",
       "      <td>6927</td>\n",
       "      <td>5760</td>\n",
       "      <td>6525</td>\n",
       "    </tr>\n",
       "    <tr>\n",
       "      <th>12</th>\n",
       "      <td>6744</td>\n",
       "      <td>6588</td>\n",
       "      <td>6938</td>\n",
       "      <td>5892</td>\n",
       "      <td>6949</td>\n",
       "      <td>5852</td>\n",
       "      <td>6275</td>\n",
       "    </tr>\n",
       "    <tr>\n",
       "      <th>13</th>\n",
       "      <td>6678</td>\n",
       "      <td>6491</td>\n",
       "      <td>6508</td>\n",
       "      <td>6374</td>\n",
       "      <td>7166</td>\n",
       "      <td>6056</td>\n",
       "      <td>6212</td>\n",
       "    </tr>\n",
       "    <tr>\n",
       "      <th>14</th>\n",
       "      <td>6039</td>\n",
       "      <td>6371</td>\n",
       "      <td>5372</td>\n",
       "      <td>6543</td>\n",
       "      <td>6622</td>\n",
       "      <td>5849</td>\n",
       "      <td>6983</td>\n",
       "    </tr>\n",
       "    <tr>\n",
       "      <th>15</th>\n",
       "      <td>6357</td>\n",
       "      <td>5656</td>\n",
       "      <td>5734</td>\n",
       "      <td>5980</td>\n",
       "      <td>6650</td>\n",
       "      <td>5869</td>\n",
       "      <td>6609</td>\n",
       "    </tr>\n",
       "    <tr>\n",
       "      <th>16</th>\n",
       "      <td>5592</td>\n",
       "      <td>4103</td>\n",
       "      <td>4616</td>\n",
       "      <td>5523</td>\n",
       "      <td>5523</td>\n",
       "      <td>5223</td>\n",
       "      <td>5383</td>\n",
       "    </tr>\n",
       "    <tr>\n",
       "      <th>17</th>\n",
       "      <td>5432</td>\n",
       "      <td>4084</td>\n",
       "      <td>4334</td>\n",
       "      <td>4801</td>\n",
       "      <td>5027</td>\n",
       "      <td>4850</td>\n",
       "      <td>5077</td>\n",
       "    </tr>\n",
       "    <tr>\n",
       "      <th>18</th>\n",
       "      <td>5038</td>\n",
       "      <td>3621</td>\n",
       "      <td>4073</td>\n",
       "      <td>4303</td>\n",
       "      <td>4839</td>\n",
       "      <td>4368</td>\n",
       "      <td>4810</td>\n",
       "    </tr>\n",
       "    <tr>\n",
       "      <th>19</th>\n",
       "      <td>4449</td>\n",
       "      <td>3298</td>\n",
       "      <td>3894</td>\n",
       "      <td>3970</td>\n",
       "      <td>4593</td>\n",
       "      <td>4445</td>\n",
       "      <td>4520</td>\n",
       "    </tr>\n",
       "    <tr>\n",
       "      <th>20</th>\n",
       "      <td>4567</td>\n",
       "      <td>3397</td>\n",
       "      <td>3290</td>\n",
       "      <td>3801</td>\n",
       "      <td>4465</td>\n",
       "      <td>4593</td>\n",
       "      <td>3733</td>\n",
       "    </tr>\n",
       "    <tr>\n",
       "      <th>21</th>\n",
       "      <td>4244</td>\n",
       "      <td>3898</td>\n",
       "      <td>3351</td>\n",
       "      <td>4222</td>\n",
       "      <td>4933</td>\n",
       "      <td>4542</td>\n",
       "      <td>3705</td>\n",
       "    </tr>\n",
       "    <tr>\n",
       "      <th>22</th>\n",
       "      <td>3934</td>\n",
       "      <td>2639</td>\n",
       "      <td>3277</td>\n",
       "      <td>3680</td>\n",
       "      <td>4737</td>\n",
       "      <td>3904</td>\n",
       "      <td>3344</td>\n",
       "    </tr>\n",
       "    <tr>\n",
       "      <th>23</th>\n",
       "      <td>2550</td>\n",
       "      <td>1785</td>\n",
       "      <td>2884</td>\n",
       "      <td>2811</td>\n",
       "      <td>3977</td>\n",
       "      <td>2839</td>\n",
       "      <td>2701</td>\n",
       "    </tr>\n",
       "  </tbody>\n",
       "</table>\n",
       "</div>"
      ],
      "text/plain": [
       "day_num           1     2     3     4     5     6     7\n",
       "most ads hour                                          \n",
       "0               820   713   588   708   807   763   910\n",
       "1               531   632   596   691   662   819   684\n",
       "2               709   728   619   683   825   900   688\n",
       "3               316   336   330   363   515   362   368\n",
       "4                88   100   100   109   118    79   100\n",
       "5                92    76   140    91   129    88   126\n",
       "6               262   221   358   285   330   252   277\n",
       "7               760   729   840  1005  1018   727  1089\n",
       "8              2412  2412  2287  2722  2358  2150  2627\n",
       "9              4365  4440  4625  4404  4282  3645  4041\n",
       "10             5159  5773  5812  4945  5353  4867  5545\n",
       "11             6433  6481  6852  5171  6927  5760  6525\n",
       "12             6744  6588  6938  5892  6949  5852  6275\n",
       "13             6678  6491  6508  6374  7166  6056  6212\n",
       "14             6039  6371  5372  6543  6622  5849  6983\n",
       "15             6357  5656  5734  5980  6650  5869  6609\n",
       "16             5592  4103  4616  5523  5523  5223  5383\n",
       "17             5432  4084  4334  4801  5027  4850  5077\n",
       "18             5038  3621  4073  4303  4839  4368  4810\n",
       "19             4449  3298  3894  3970  4593  4445  4520\n",
       "20             4567  3397  3290  3801  4465  4593  3733\n",
       "21             4244  3898  3351  4222  4933  4542  3705\n",
       "22             3934  2639  3277  3680  4737  3904  3344\n",
       "23             2550  1785  2884  2811  3977  2839  2701"
      ]
     },
     "execution_count": 208,
     "metadata": {},
     "output_type": "execute_result"
    }
   ],
   "source": [
    "df_day_hour_group_a = pd.crosstab(group_a2['day_num'], group_a2['most ads hour']).T\n",
    "df_day_hour_group_a"
   ]
  },
  {
   "cell_type": "code",
   "execution_count": 226,
   "id": "95174a4b-904b-4ca8-ab46-d70d630a2b5a",
   "metadata": {},
   "outputs": [
    {
     "data": {
      "text/plain": [
       "<Axes: >"
      ]
     },
     "execution_count": 226,
     "metadata": {},
     "output_type": "execute_result"
    },
    {
     "data": {
      "image/png": "[encoded data removed]",
      "text/plain": [
       "<Figure size 640x480 with 1 Axes>"
      ]
     },
     "metadata": {},
     "output_type": "display_data"
    }
   ],
   "source": [
    "group_a2['day_num'].sort_values().hist(bins = 7)"
   ]
  },
  {
   "cell_type": "code",
   "execution_count": 451,
   "id": "139f0e2a-768b-462a-b97f-3d166be208b8",
   "metadata": {},
   "outputs": [
    {
     "data": {
      "image/png": "[encoded data removed]",
      "text/plain": [
       "<Figure size 640x480 with 2 Axes>"
      ]
     },
     "metadata": {},
     "output_type": "display_data"
    }
   ],
   "source": [
    "sns.heatmap(df_day_hour_group_a)\n",
    "plt.show()\n",
    "# по тепловой карте видно, что наибольшее количество просмотров для группы А с 10 до 22ч. \n",
    "# по гистограмме видно, что больше просмотров для группы А - в пт и пн, меньше - во вт, ср и чт."
   ]
  },
  {
   "cell_type": "code",
   "execution_count": 453,
   "id": "7e88a54a-b801-4b55-9085-ed2af0fbb50b",
   "metadata": {},
   "outputs": [
    {
     "data": {
      "text/html": [
       "<div>\n",
       "<style scoped>\n",
       "    .dataframe tbody tr th:only-of-type {\n",
       "        vertical-align: middle;\n",
       "    }\n",
       "\n",
       "    .dataframe tbody tr th {\n",
       "        vertical-align: top;\n",
       "    }\n",
       "\n",
       "    .dataframe thead th {\n",
       "        text-align: right;\n",
       "    }\n",
       "</style>\n",
       "<table border=\"1\" class=\"dataframe\">\n",
       "  <thead>\n",
       "    <tr style=\"text-align: right;\">\n",
       "      <th>day_num</th>\n",
       "      <th>1</th>\n",
       "      <th>2</th>\n",
       "      <th>3</th>\n",
       "      <th>4</th>\n",
       "      <th>5</th>\n",
       "      <th>6</th>\n",
       "      <th>7</th>\n",
       "    </tr>\n",
       "    <tr>\n",
       "      <th>total ads</th>\n",
       "      <th></th>\n",
       "      <th></th>\n",
       "      <th></th>\n",
       "      <th></th>\n",
       "      <th></th>\n",
       "      <th></th>\n",
       "      <th></th>\n",
       "    </tr>\n",
       "  </thead>\n",
       "  <tbody>\n",
       "    <tr>\n",
       "      <th>1</th>\n",
       "      <td>6864</td>\n",
       "      <td>6533</td>\n",
       "      <td>8805</td>\n",
       "      <td>8424</td>\n",
       "      <td>7935</td>\n",
       "      <td>7597</td>\n",
       "      <td>8140</td>\n",
       "    </tr>\n",
       "    <tr>\n",
       "      <th>2</th>\n",
       "      <td>6543</td>\n",
       "      <td>5146</td>\n",
       "      <td>5087</td>\n",
       "      <td>5362</td>\n",
       "      <td>5801</td>\n",
       "      <td>4707</td>\n",
       "      <td>5265</td>\n",
       "    </tr>\n",
       "    <tr>\n",
       "      <th>3</th>\n",
       "      <td>4172</td>\n",
       "      <td>3623</td>\n",
       "      <td>3896</td>\n",
       "      <td>4181</td>\n",
       "      <td>4269</td>\n",
       "      <td>3409</td>\n",
       "      <td>3778</td>\n",
       "    </tr>\n",
       "    <tr>\n",
       "      <th>4</th>\n",
       "      <td>3432</td>\n",
       "      <td>3081</td>\n",
       "      <td>3146</td>\n",
       "      <td>3300</td>\n",
       "      <td>3575</td>\n",
       "      <td>2845</td>\n",
       "      <td>3022</td>\n",
       "    </tr>\n",
       "    <tr>\n",
       "      <th>5</th>\n",
       "      <td>4290</td>\n",
       "      <td>3805</td>\n",
       "      <td>4019</td>\n",
       "      <td>4112</td>\n",
       "      <td>4430</td>\n",
       "      <td>3498</td>\n",
       "      <td>3870</td>\n",
       "    </tr>\n",
       "    <tr>\n",
       "      <th>...</th>\n",
       "      <td>...</td>\n",
       "      <td>...</td>\n",
       "      <td>...</td>\n",
       "      <td>...</td>\n",
       "      <td>...</td>\n",
       "      <td>...</td>\n",
       "      <td>...</td>\n",
       "    </tr>\n",
       "    <tr>\n",
       "      <th>1491</th>\n",
       "      <td>0</td>\n",
       "      <td>0</td>\n",
       "      <td>1</td>\n",
       "      <td>0</td>\n",
       "      <td>0</td>\n",
       "      <td>0</td>\n",
       "      <td>0</td>\n",
       "    </tr>\n",
       "    <tr>\n",
       "      <th>1632</th>\n",
       "      <td>0</td>\n",
       "      <td>0</td>\n",
       "      <td>0</td>\n",
       "      <td>0</td>\n",
       "      <td>1</td>\n",
       "      <td>0</td>\n",
       "      <td>0</td>\n",
       "    </tr>\n",
       "    <tr>\n",
       "      <th>1680</th>\n",
       "      <td>0</td>\n",
       "      <td>1</td>\n",
       "      <td>0</td>\n",
       "      <td>0</td>\n",
       "      <td>0</td>\n",
       "      <td>0</td>\n",
       "      <td>0</td>\n",
       "    </tr>\n",
       "    <tr>\n",
       "      <th>1778</th>\n",
       "      <td>0</td>\n",
       "      <td>1</td>\n",
       "      <td>0</td>\n",
       "      <td>0</td>\n",
       "      <td>0</td>\n",
       "      <td>0</td>\n",
       "      <td>0</td>\n",
       "    </tr>\n",
       "    <tr>\n",
       "      <th>2065</th>\n",
       "      <td>0</td>\n",
       "      <td>0</td>\n",
       "      <td>0</td>\n",
       "      <td>0</td>\n",
       "      <td>1</td>\n",
       "      <td>0</td>\n",
       "      <td>0</td>\n",
       "    </tr>\n",
       "  </tbody>\n",
       "</table>\n",
       "<p>803 rows × 7 columns</p>\n",
       "</div>"
      ],
      "text/plain": [
       "day_num       1     2     3     4     5     6     7\n",
       "total ads                                          \n",
       "1          6864  6533  8805  8424  7935  7597  8140\n",
       "2          6543  5146  5087  5362  5801  4707  5265\n",
       "3          4172  3623  3896  4181  4269  3409  3778\n",
       "4          3432  3081  3146  3300  3575  2845  3022\n",
       "5          4290  3805  4019  4112  4430  3498  3870\n",
       "...         ...   ...   ...   ...   ...   ...   ...\n",
       "1491          0     0     1     0     0     0     0\n",
       "1632          0     0     0     0     1     0     0\n",
       "1680          0     1     0     0     0     0     0\n",
       "1778          0     1     0     0     0     0     0\n",
       "2065          0     0     0     0     1     0     0\n",
       "\n",
       "[803 rows x 7 columns]"
      ]
     },
     "execution_count": 453,
     "metadata": {},
     "output_type": "execute_result"
    }
   ],
   "source": [
    "df_day_ads_group_a = pd.crosstab(group_a2['day_num'], group_a2['total ads']).T\n",
    "df_day_ads_group_a"
   ]
  },
  {
   "cell_type": "markdown",
   "id": "c21a7d1d-b0c8-41b6-bd94-47f1a8ed86cb",
   "metadata": {},
   "source": [
    "### Оценим группу В"
   ]
  },
  {
   "cell_type": "code",
   "execution_count": 240,
   "id": "b087306c-c967-4dde-b97b-d6a7c9582fa6",
   "metadata": {},
   "outputs": [
    {
     "data": {
      "text/html": [
       "<div>\n",
       "<style scoped>\n",
       "    .dataframe tbody tr th:only-of-type {\n",
       "        vertical-align: middle;\n",
       "    }\n",
       "\n",
       "    .dataframe tbody tr th {\n",
       "        vertical-align: top;\n",
       "    }\n",
       "\n",
       "    .dataframe thead th {\n",
       "        text-align: right;\n",
       "    }\n",
       "</style>\n",
       "<table border=\"1\" class=\"dataframe\">\n",
       "  <thead>\n",
       "    <tr style=\"text-align: right;\">\n",
       "      <th></th>\n",
       "      <th>user id</th>\n",
       "      <th>test group</th>\n",
       "      <th>converted</th>\n",
       "      <th>total ads</th>\n",
       "      <th>most ads day</th>\n",
       "      <th>most ads hour</th>\n",
       "      <th>day_num</th>\n",
       "    </tr>\n",
       "  </thead>\n",
       "  <tbody>\n",
       "    <tr>\n",
       "      <th>18</th>\n",
       "      <td>900681</td>\n",
       "      <td>psa</td>\n",
       "      <td>False</td>\n",
       "      <td>248</td>\n",
       "      <td>Saturday</td>\n",
       "      <td>19</td>\n",
       "      <td>6</td>\n",
       "    </tr>\n",
       "    <tr>\n",
       "      <th>38</th>\n",
       "      <td>905704</td>\n",
       "      <td>psa</td>\n",
       "      <td>False</td>\n",
       "      <td>27</td>\n",
       "      <td>Thursday</td>\n",
       "      <td>8</td>\n",
       "      <td>4</td>\n",
       "    </tr>\n",
       "    <tr>\n",
       "      <th>68</th>\n",
       "      <td>904595</td>\n",
       "      <td>psa</td>\n",
       "      <td>False</td>\n",
       "      <td>13</td>\n",
       "      <td>Tuesday</td>\n",
       "      <td>19</td>\n",
       "      <td>2</td>\n",
       "    </tr>\n",
       "    <tr>\n",
       "      <th>140</th>\n",
       "      <td>901904</td>\n",
       "      <td>psa</td>\n",
       "      <td>False</td>\n",
       "      <td>32</td>\n",
       "      <td>Wednesday</td>\n",
       "      <td>19</td>\n",
       "      <td>3</td>\n",
       "    </tr>\n",
       "    <tr>\n",
       "      <th>157</th>\n",
       "      <td>902234</td>\n",
       "      <td>psa</td>\n",
       "      <td>False</td>\n",
       "      <td>105</td>\n",
       "      <td>Tuesday</td>\n",
       "      <td>19</td>\n",
       "      <td>2</td>\n",
       "    </tr>\n",
       "    <tr>\n",
       "      <th>...</th>\n",
       "      <td>...</td>\n",
       "      <td>...</td>\n",
       "      <td>...</td>\n",
       "      <td>...</td>\n",
       "      <td>...</td>\n",
       "      <td>...</td>\n",
       "      <td>...</td>\n",
       "    </tr>\n",
       "    <tr>\n",
       "      <th>588052</th>\n",
       "      <td>900959</td>\n",
       "      <td>psa</td>\n",
       "      <td>False</td>\n",
       "      <td>16</td>\n",
       "      <td>Tuesday</td>\n",
       "      <td>22</td>\n",
       "      <td>2</td>\n",
       "    </tr>\n",
       "    <tr>\n",
       "      <th>588063</th>\n",
       "      <td>902828</td>\n",
       "      <td>psa</td>\n",
       "      <td>False</td>\n",
       "      <td>3</td>\n",
       "      <td>Tuesday</td>\n",
       "      <td>22</td>\n",
       "      <td>2</td>\n",
       "    </tr>\n",
       "    <tr>\n",
       "      <th>588066</th>\n",
       "      <td>914578</td>\n",
       "      <td>psa</td>\n",
       "      <td>False</td>\n",
       "      <td>1</td>\n",
       "      <td>Tuesday</td>\n",
       "      <td>22</td>\n",
       "      <td>2</td>\n",
       "    </tr>\n",
       "    <tr>\n",
       "      <th>588069</th>\n",
       "      <td>909042</td>\n",
       "      <td>psa</td>\n",
       "      <td>False</td>\n",
       "      <td>6</td>\n",
       "      <td>Tuesday</td>\n",
       "      <td>22</td>\n",
       "      <td>2</td>\n",
       "    </tr>\n",
       "    <tr>\n",
       "      <th>588081</th>\n",
       "      <td>904721</td>\n",
       "      <td>psa</td>\n",
       "      <td>False</td>\n",
       "      <td>16</td>\n",
       "      <td>Tuesday</td>\n",
       "      <td>23</td>\n",
       "      <td>2</td>\n",
       "    </tr>\n",
       "  </tbody>\n",
       "</table>\n",
       "<p>23524 rows × 7 columns</p>\n",
       "</div>"
      ],
      "text/plain": [
       "        user id test group  converted  total ads most ads day  most ads hour  \\\n",
       "18       900681        psa      False        248     Saturday             19   \n",
       "38       905704        psa      False         27     Thursday              8   \n",
       "68       904595        psa      False         13      Tuesday             19   \n",
       "140      901904        psa      False         32    Wednesday             19   \n",
       "157      902234        psa      False        105      Tuesday             19   \n",
       "...         ...        ...        ...        ...          ...            ...   \n",
       "588052   900959        psa      False         16      Tuesday             22   \n",
       "588063   902828        psa      False          3      Tuesday             22   \n",
       "588066   914578        psa      False          1      Tuesday             22   \n",
       "588069   909042        psa      False          6      Tuesday             22   \n",
       "588081   904721        psa      False         16      Tuesday             23   \n",
       "\n",
       "       day_num  \n",
       "18           6  \n",
       "38           4  \n",
       "68           2  \n",
       "140          3  \n",
       "157          2  \n",
       "...        ...  \n",
       "588052       2  \n",
       "588063       2  \n",
       "588066       2  \n",
       "588069       2  \n",
       "588081       2  \n",
       "\n",
       "[23524 rows x 7 columns]"
      ]
     },
     "execution_count": 240,
     "metadata": {},
     "output_type": "execute_result"
    }
   ],
   "source": [
    "group_b2 = group_b.copy()\n",
    "group_b2"
   ]
  },
  {
   "cell_type": "code",
   "execution_count": 242,
   "id": "527e80ee-0751-44cd-9745-8457036b3de9",
   "metadata": {},
   "outputs": [
    {
     "data": {
      "text/html": [
       "<div>\n",
       "<style scoped>\n",
       "    .dataframe tbody tr th:only-of-type {\n",
       "        vertical-align: middle;\n",
       "    }\n",
       "\n",
       "    .dataframe tbody tr th {\n",
       "        vertical-align: top;\n",
       "    }\n",
       "\n",
       "    .dataframe thead th {\n",
       "        text-align: right;\n",
       "    }\n",
       "</style>\n",
       "<table border=\"1\" class=\"dataframe\">\n",
       "  <thead>\n",
       "    <tr style=\"text-align: right;\">\n",
       "      <th>day_num</th>\n",
       "      <th>1</th>\n",
       "      <th>2</th>\n",
       "      <th>3</th>\n",
       "      <th>4</th>\n",
       "      <th>5</th>\n",
       "      <th>6</th>\n",
       "      <th>7</th>\n",
       "    </tr>\n",
       "    <tr>\n",
       "      <th>most ads hour</th>\n",
       "      <th></th>\n",
       "      <th></th>\n",
       "      <th></th>\n",
       "      <th></th>\n",
       "      <th></th>\n",
       "      <th></th>\n",
       "      <th></th>\n",
       "    </tr>\n",
       "  </thead>\n",
       "  <tbody>\n",
       "    <tr>\n",
       "      <th>0</th>\n",
       "      <td>42</td>\n",
       "      <td>24</td>\n",
       "      <td>10</td>\n",
       "      <td>44</td>\n",
       "      <td>34</td>\n",
       "      <td>28</td>\n",
       "      <td>45</td>\n",
       "    </tr>\n",
       "    <tr>\n",
       "      <th>1</th>\n",
       "      <td>35</td>\n",
       "      <td>20</td>\n",
       "      <td>12</td>\n",
       "      <td>34</td>\n",
       "      <td>29</td>\n",
       "      <td>27</td>\n",
       "      <td>30</td>\n",
       "    </tr>\n",
       "    <tr>\n",
       "      <th>2</th>\n",
       "      <td>28</td>\n",
       "      <td>16</td>\n",
       "      <td>20</td>\n",
       "      <td>39</td>\n",
       "      <td>25</td>\n",
       "      <td>31</td>\n",
       "      <td>22</td>\n",
       "    </tr>\n",
       "    <tr>\n",
       "      <th>3</th>\n",
       "      <td>14</td>\n",
       "      <td>7</td>\n",
       "      <td>8</td>\n",
       "      <td>8</td>\n",
       "      <td>27</td>\n",
       "      <td>12</td>\n",
       "      <td>13</td>\n",
       "    </tr>\n",
       "    <tr>\n",
       "      <th>4</th>\n",
       "      <td>4</td>\n",
       "      <td>4</td>\n",
       "      <td>2</td>\n",
       "      <td>6</td>\n",
       "      <td>4</td>\n",
       "      <td>6</td>\n",
       "      <td>2</td>\n",
       "    </tr>\n",
       "    <tr>\n",
       "      <th>5</th>\n",
       "      <td>2</td>\n",
       "      <td>0</td>\n",
       "      <td>3</td>\n",
       "      <td>5</td>\n",
       "      <td>6</td>\n",
       "      <td>6</td>\n",
       "      <td>1</td>\n",
       "    </tr>\n",
       "    <tr>\n",
       "      <th>6</th>\n",
       "      <td>17</td>\n",
       "      <td>4</td>\n",
       "      <td>7</td>\n",
       "      <td>18</td>\n",
       "      <td>13</td>\n",
       "      <td>13</td>\n",
       "      <td>11</td>\n",
       "    </tr>\n",
       "    <tr>\n",
       "      <th>7</th>\n",
       "      <td>26</td>\n",
       "      <td>22</td>\n",
       "      <td>17</td>\n",
       "      <td>60</td>\n",
       "      <td>54</td>\n",
       "      <td>27</td>\n",
       "      <td>31</td>\n",
       "    </tr>\n",
       "    <tr>\n",
       "      <th>8</th>\n",
       "      <td>98</td>\n",
       "      <td>99</td>\n",
       "      <td>64</td>\n",
       "      <td>140</td>\n",
       "      <td>110</td>\n",
       "      <td>81</td>\n",
       "      <td>67</td>\n",
       "    </tr>\n",
       "    <tr>\n",
       "      <th>9</th>\n",
       "      <td>181</td>\n",
       "      <td>183</td>\n",
       "      <td>154</td>\n",
       "      <td>220</td>\n",
       "      <td>200</td>\n",
       "      <td>129</td>\n",
       "      <td>135</td>\n",
       "    </tr>\n",
       "    <tr>\n",
       "      <th>10</th>\n",
       "      <td>229</td>\n",
       "      <td>233</td>\n",
       "      <td>166</td>\n",
       "      <td>233</td>\n",
       "      <td>223</td>\n",
       "      <td>179</td>\n",
       "      <td>222</td>\n",
       "    </tr>\n",
       "    <tr>\n",
       "      <th>11</th>\n",
       "      <td>287</td>\n",
       "      <td>361</td>\n",
       "      <td>274</td>\n",
       "      <td>283</td>\n",
       "      <td>356</td>\n",
       "      <td>247</td>\n",
       "      <td>253</td>\n",
       "    </tr>\n",
       "    <tr>\n",
       "      <th>12</th>\n",
       "      <td>258</td>\n",
       "      <td>273</td>\n",
       "      <td>367</td>\n",
       "      <td>317</td>\n",
       "      <td>370</td>\n",
       "      <td>252</td>\n",
       "      <td>223</td>\n",
       "    </tr>\n",
       "    <tr>\n",
       "      <th>13</th>\n",
       "      <td>292</td>\n",
       "      <td>306</td>\n",
       "      <td>368</td>\n",
       "      <td>368</td>\n",
       "      <td>328</td>\n",
       "      <td>238</td>\n",
       "      <td>270</td>\n",
       "    </tr>\n",
       "    <tr>\n",
       "      <th>14</th>\n",
       "      <td>296</td>\n",
       "      <td>247</td>\n",
       "      <td>231</td>\n",
       "      <td>323</td>\n",
       "      <td>310</td>\n",
       "      <td>209</td>\n",
       "      <td>253</td>\n",
       "    </tr>\n",
       "    <tr>\n",
       "      <th>15</th>\n",
       "      <td>327</td>\n",
       "      <td>216</td>\n",
       "      <td>277</td>\n",
       "      <td>282</td>\n",
       "      <td>285</td>\n",
       "      <td>222</td>\n",
       "      <td>219</td>\n",
       "    </tr>\n",
       "    <tr>\n",
       "      <th>16</th>\n",
       "      <td>266</td>\n",
       "      <td>159</td>\n",
       "      <td>216</td>\n",
       "      <td>263</td>\n",
       "      <td>278</td>\n",
       "      <td>223</td>\n",
       "      <td>199</td>\n",
       "    </tr>\n",
       "    <tr>\n",
       "      <th>17</th>\n",
       "      <td>193</td>\n",
       "      <td>160</td>\n",
       "      <td>228</td>\n",
       "      <td>232</td>\n",
       "      <td>205</td>\n",
       "      <td>166</td>\n",
       "      <td>199</td>\n",
       "    </tr>\n",
       "    <tr>\n",
       "      <th>18</th>\n",
       "      <td>182</td>\n",
       "      <td>120</td>\n",
       "      <td>246</td>\n",
       "      <td>205</td>\n",
       "      <td>203</td>\n",
       "      <td>143</td>\n",
       "      <td>172</td>\n",
       "    </tr>\n",
       "    <tr>\n",
       "      <th>19</th>\n",
       "      <td>171</td>\n",
       "      <td>90</td>\n",
       "      <td>215</td>\n",
       "      <td>193</td>\n",
       "      <td>180</td>\n",
       "      <td>160</td>\n",
       "      <td>174</td>\n",
       "    </tr>\n",
       "    <tr>\n",
       "      <th>20</th>\n",
       "      <td>158</td>\n",
       "      <td>90</td>\n",
       "      <td>204</td>\n",
       "      <td>178</td>\n",
       "      <td>133</td>\n",
       "      <td>155</td>\n",
       "      <td>159</td>\n",
       "    </tr>\n",
       "    <tr>\n",
       "      <th>21</th>\n",
       "      <td>159</td>\n",
       "      <td>145</td>\n",
       "      <td>153</td>\n",
       "      <td>175</td>\n",
       "      <td>196</td>\n",
       "      <td>117</td>\n",
       "      <td>136</td>\n",
       "    </tr>\n",
       "    <tr>\n",
       "      <th>22</th>\n",
       "      <td>149</td>\n",
       "      <td>99</td>\n",
       "      <td>157</td>\n",
       "      <td>160</td>\n",
       "      <td>135</td>\n",
       "      <td>93</td>\n",
       "      <td>124</td>\n",
       "    </tr>\n",
       "    <tr>\n",
       "      <th>23</th>\n",
       "      <td>88</td>\n",
       "      <td>29</td>\n",
       "      <td>91</td>\n",
       "      <td>119</td>\n",
       "      <td>99</td>\n",
       "      <td>94</td>\n",
       "      <td>99</td>\n",
       "    </tr>\n",
       "  </tbody>\n",
       "</table>\n",
       "</div>"
      ],
      "text/plain": [
       "day_num          1    2    3    4    5    6    7\n",
       "most ads hour                                   \n",
       "0               42   24   10   44   34   28   45\n",
       "1               35   20   12   34   29   27   30\n",
       "2               28   16   20   39   25   31   22\n",
       "3               14    7    8    8   27   12   13\n",
       "4                4    4    2    6    4    6    2\n",
       "5                2    0    3    5    6    6    1\n",
       "6               17    4    7   18   13   13   11\n",
       "7               26   22   17   60   54   27   31\n",
       "8               98   99   64  140  110   81   67\n",
       "9              181  183  154  220  200  129  135\n",
       "10             229  233  166  233  223  179  222\n",
       "11             287  361  274  283  356  247  253\n",
       "12             258  273  367  317  370  252  223\n",
       "13             292  306  368  368  328  238  270\n",
       "14             296  247  231  323  310  209  253\n",
       "15             327  216  277  282  285  222  219\n",
       "16             266  159  216  263  278  223  199\n",
       "17             193  160  228  232  205  166  199\n",
       "18             182  120  246  205  203  143  172\n",
       "19             171   90  215  193  180  160  174\n",
       "20             158   90  204  178  133  155  159\n",
       "21             159  145  153  175  196  117  136\n",
       "22             149   99  157  160  135   93  124\n",
       "23              88   29   91  119   99   94   99"
      ]
     },
     "execution_count": 242,
     "metadata": {},
     "output_type": "execute_result"
    }
   ],
   "source": [
    "df_day_hour_group_b = pd.crosstab(group_b2['day_num'], group_b2['most ads hour']).T\n",
    "df_day_hour_group_b"
   ]
  },
  {
   "cell_type": "code",
   "execution_count": 248,
   "id": "9e45fd11-de7b-49f5-b72f-6119bf7e01e9",
   "metadata": {},
   "outputs": [
    {
     "data": {
      "text/plain": [
       "<Axes: >"
      ]
     },
     "execution_count": 248,
     "metadata": {},
     "output_type": "execute_result"
    },
    {
     "data": {
      "image/png": "[encoded data removed]",
      "text/plain": [
       "<Figure size 640x480 with 1 Axes>"
      ]
     },
     "metadata": {},
     "output_type": "display_data"
    }
   ],
   "source": [
    "group_b2['day_num'].sort_values().hist(bins = 7)"
   ]
  },
  {
   "cell_type": "code",
   "execution_count": 246,
   "id": "fb285f95-1f7f-4367-b9b4-dfb6462c5d3e",
   "metadata": {},
   "outputs": [
    {
     "data": {
      "image/png": "[encoded data removed]",
      "text/plain": [
       "<Figure size 640x480 with 2 Axes>"
      ]
     },
     "metadata": {},
     "output_type": "display_data"
    }
   ],
   "source": [
    "sns.heatmap(df_day_hour_group_b)\n",
    "plt.show()\n",
    "# по тепловой карте видно, что наибольшее количество просмотров для группы B с 10 до 22ч. \n",
    "# по гистограмме видно, что больше просмотров для группы В - в чт и пт, меньше - в сб и вт."
   ]
  },
  {
   "cell_type": "code",
   "execution_count": 459,
   "id": "49e09bcc-0b4e-405a-a4ce-58152562b746",
   "metadata": {},
   "outputs": [
    {
     "data": {
      "text/plain": [
       "14843"
      ]
     },
     "execution_count": 459,
     "metadata": {},
     "output_type": "execute_result"
    }
   ],
   "source": [
    "df[df['converted'] == True].shape[0]"
   ]
  },
  {
   "cell_type": "code",
   "execution_count": 66,
   "id": "65dfe7f3",
   "metadata": {},
   "outputs": [
    {
     "data": {
      "text/plain": [
       "test group\n",
       "ad     14423\n",
       "psa      420\n",
       "Name: converted, dtype: int64"
      ]
     },
     "execution_count": 66,
     "metadata": {},
     "output_type": "execute_result"
    }
   ],
   "source": [
    "df.groupby('test group')['converted'].sum()"
   ]
  },
  {
   "cell_type": "code",
   "execution_count": 457,
   "id": "7d91cef4-1bb3-4d30-876a-5566aaa57cf5",
   "metadata": {},
   "outputs": [
    {
     "data": {
      "text/plain": [
       "test group\n",
       "ad     0.0255\n",
       "psa    0.0179\n",
       "Name: converted, dtype: float64"
      ]
     },
     "execution_count": 457,
     "metadata": {},
     "output_type": "execute_result"
    }
   ],
   "source": [
    "df.groupby('test group')['converted'].mean().round(4)"
   ]
  },
  {
   "cell_type": "code",
   "execution_count": 455,
   "id": "941fad6d-eaf2-4289-bddb-26c29ab01a9e",
   "metadata": {},
   "outputs": [
    {
     "name": "stdout",
     "output_type": "stream",
     "text": [
      "Конверсия группы А: 0.0255\n",
      "Конверсия группы B: 0.0179\n"
     ]
    }
   ],
   "source": [
    "print('Конверсия группы А:', group_a['converted'].mean().round(4))\n",
    "print('Конверсия группы B:', group_b['converted'].mean().round(4))"
   ]
  },
  {
   "cell_type": "markdown",
   "id": "3d0d85f4-3bdd-4173-b2a5-5d214f1ef290",
   "metadata": {},
   "source": [
    "Для проведения теста добавим колонку с числовыми значеями конверсии (0, 1)"
   ]
  },
  {
   "cell_type": "code",
   "execution_count": 290,
   "id": "343582cc-f673-46e8-acad-22bbfe80ef9f",
   "metadata": {},
   "outputs": [
    {
     "data": {
      "text/html": [
       "<div>\n",
       "<style scoped>\n",
       "    .dataframe tbody tr th:only-of-type {\n",
       "        vertical-align: middle;\n",
       "    }\n",
       "\n",
       "    .dataframe tbody tr th {\n",
       "        vertical-align: top;\n",
       "    }\n",
       "\n",
       "    .dataframe thead th {\n",
       "        text-align: right;\n",
       "    }\n",
       "</style>\n",
       "<table border=\"1\" class=\"dataframe\">\n",
       "  <thead>\n",
       "    <tr style=\"text-align: right;\">\n",
       "      <th></th>\n",
       "      <th>user id</th>\n",
       "      <th>test group</th>\n",
       "      <th>converted</th>\n",
       "      <th>total ads</th>\n",
       "      <th>most ads day</th>\n",
       "      <th>most ads hour</th>\n",
       "      <th>day_num</th>\n",
       "      <th>converted_num</th>\n",
       "    </tr>\n",
       "  </thead>\n",
       "  <tbody>\n",
       "    <tr>\n",
       "      <th>0</th>\n",
       "      <td>1069124</td>\n",
       "      <td>ad</td>\n",
       "      <td>False</td>\n",
       "      <td>130</td>\n",
       "      <td>Monday</td>\n",
       "      <td>20</td>\n",
       "      <td>1</td>\n",
       "      <td>0</td>\n",
       "    </tr>\n",
       "    <tr>\n",
       "      <th>1</th>\n",
       "      <td>1119715</td>\n",
       "      <td>ad</td>\n",
       "      <td>False</td>\n",
       "      <td>93</td>\n",
       "      <td>Tuesday</td>\n",
       "      <td>22</td>\n",
       "      <td>2</td>\n",
       "      <td>0</td>\n",
       "    </tr>\n",
       "    <tr>\n",
       "      <th>2</th>\n",
       "      <td>1144181</td>\n",
       "      <td>ad</td>\n",
       "      <td>False</td>\n",
       "      <td>21</td>\n",
       "      <td>Tuesday</td>\n",
       "      <td>18</td>\n",
       "      <td>2</td>\n",
       "      <td>0</td>\n",
       "    </tr>\n",
       "    <tr>\n",
       "      <th>3</th>\n",
       "      <td>1435133</td>\n",
       "      <td>ad</td>\n",
       "      <td>False</td>\n",
       "      <td>355</td>\n",
       "      <td>Tuesday</td>\n",
       "      <td>10</td>\n",
       "      <td>2</td>\n",
       "      <td>0</td>\n",
       "    </tr>\n",
       "    <tr>\n",
       "      <th>4</th>\n",
       "      <td>1015700</td>\n",
       "      <td>ad</td>\n",
       "      <td>False</td>\n",
       "      <td>276</td>\n",
       "      <td>Friday</td>\n",
       "      <td>14</td>\n",
       "      <td>5</td>\n",
       "      <td>0</td>\n",
       "    </tr>\n",
       "  </tbody>\n",
       "</table>\n",
       "</div>"
      ],
      "text/plain": [
       "   user id test group  converted  total ads most ads day  most ads hour  \\\n",
       "0  1069124         ad      False        130       Monday             20   \n",
       "1  1119715         ad      False         93      Tuesday             22   \n",
       "2  1144181         ad      False         21      Tuesday             18   \n",
       "3  1435133         ad      False        355      Tuesday             10   \n",
       "4  1015700         ad      False        276       Friday             14   \n",
       "\n",
       "  day_num  converted_num  \n",
       "0       1              0  \n",
       "1       2              0  \n",
       "2       2              0  \n",
       "3       2              0  \n",
       "4       5              0  "
      ]
     },
     "execution_count": 290,
     "metadata": {},
     "output_type": "execute_result"
    }
   ],
   "source": [
    "group_a2['converted_num'] = np.where(group_a2['converted'] == False, 0 , 1)\n",
    "group_a2.head()"
   ]
  },
  {
   "cell_type": "code",
   "execution_count": 284,
   "id": "c29d7f9d-813c-4dc3-9530-b1ec978acc7e",
   "metadata": {},
   "outputs": [
    {
     "data": {
      "text/html": [
       "<div>\n",
       "<style scoped>\n",
       "    .dataframe tbody tr th:only-of-type {\n",
       "        vertical-align: middle;\n",
       "    }\n",
       "\n",
       "    .dataframe tbody tr th {\n",
       "        vertical-align: top;\n",
       "    }\n",
       "\n",
       "    .dataframe thead th {\n",
       "        text-align: right;\n",
       "    }\n",
       "</style>\n",
       "<table border=\"1\" class=\"dataframe\">\n",
       "  <thead>\n",
       "    <tr style=\"text-align: right;\">\n",
       "      <th></th>\n",
       "      <th>user id</th>\n",
       "      <th>test group</th>\n",
       "      <th>converted</th>\n",
       "      <th>total ads</th>\n",
       "      <th>most ads day</th>\n",
       "      <th>most ads hour</th>\n",
       "      <th>day_num</th>\n",
       "      <th>converted_num</th>\n",
       "    </tr>\n",
       "  </thead>\n",
       "  <tbody>\n",
       "    <tr>\n",
       "      <th>18</th>\n",
       "      <td>900681</td>\n",
       "      <td>psa</td>\n",
       "      <td>False</td>\n",
       "      <td>248</td>\n",
       "      <td>Saturday</td>\n",
       "      <td>19</td>\n",
       "      <td>6</td>\n",
       "      <td>0</td>\n",
       "    </tr>\n",
       "    <tr>\n",
       "      <th>38</th>\n",
       "      <td>905704</td>\n",
       "      <td>psa</td>\n",
       "      <td>False</td>\n",
       "      <td>27</td>\n",
       "      <td>Thursday</td>\n",
       "      <td>8</td>\n",
       "      <td>4</td>\n",
       "      <td>0</td>\n",
       "    </tr>\n",
       "    <tr>\n",
       "      <th>68</th>\n",
       "      <td>904595</td>\n",
       "      <td>psa</td>\n",
       "      <td>False</td>\n",
       "      <td>13</td>\n",
       "      <td>Tuesday</td>\n",
       "      <td>19</td>\n",
       "      <td>2</td>\n",
       "      <td>0</td>\n",
       "    </tr>\n",
       "    <tr>\n",
       "      <th>140</th>\n",
       "      <td>901904</td>\n",
       "      <td>psa</td>\n",
       "      <td>False</td>\n",
       "      <td>32</td>\n",
       "      <td>Wednesday</td>\n",
       "      <td>19</td>\n",
       "      <td>3</td>\n",
       "      <td>0</td>\n",
       "    </tr>\n",
       "    <tr>\n",
       "      <th>157</th>\n",
       "      <td>902234</td>\n",
       "      <td>psa</td>\n",
       "      <td>False</td>\n",
       "      <td>105</td>\n",
       "      <td>Tuesday</td>\n",
       "      <td>19</td>\n",
       "      <td>2</td>\n",
       "      <td>0</td>\n",
       "    </tr>\n",
       "  </tbody>\n",
       "</table>\n",
       "</div>"
      ],
      "text/plain": [
       "     user id test group  converted  total ads most ads day  most ads hour  \\\n",
       "18    900681        psa      False        248     Saturday             19   \n",
       "38    905704        psa      False         27     Thursday              8   \n",
       "68    904595        psa      False         13      Tuesday             19   \n",
       "140   901904        psa      False         32    Wednesday             19   \n",
       "157   902234        psa      False        105      Tuesday             19   \n",
       "\n",
       "    day_num  converted_num  \n",
       "18        6              0  \n",
       "38        4              0  \n",
       "68        2              0  \n",
       "140       3              0  \n",
       "157       2              0  "
      ]
     },
     "execution_count": 284,
     "metadata": {},
     "output_type": "execute_result"
    }
   ],
   "source": [
    "group_b2['converted_num'] = np.where(group_b2['converted'] == False, 0 , 1)\n",
    "group_b2.head()"
   ]
  },
  {
   "cell_type": "code",
   "execution_count": 296,
   "id": "ba92e9b8-185e-409d-a0ad-da6b6f77a7f8",
   "metadata": {},
   "outputs": [
    {
     "data": {
      "text/plain": [
       "TtestResult(statistic=7.37040597428566, pvalue=1.7033052627831264e-13, df=588099.0)"
      ]
     },
     "execution_count": 296,
     "metadata": {},
     "output_type": "execute_result"
    }
   ],
   "source": [
    "stats.ttest_ind(group_a2['converted_num'], group_b2['converted_num'])"
   ]
  },
  {
   "cell_type": "code",
   "execution_count": null,
   "id": "2b796535-aaa3-42d1-a254-bfb24f825d84",
   "metadata": {},
   "outputs": [],
   "source": [
    "H0 - это равенство средней конверсии в обеих группах\n",
    "\n",
    "p-значение - это вероятность увидеть данную выборку при условии, что H0 верна (крайне малое значение)\n",
    "\n",
    "р-значение < альфа (5%) => отвергаем Н0 => конверсии в группе А (ad) и в группе B (psa) отличаются"
   ]
  },
  {
   "cell_type": "code",
   "execution_count": null,
   "id": "f55883e4-02f7-48a6-830a-123b9dac05fd",
   "metadata": {},
   "outputs": [],
   "source": [
    "Определим пределы конверсии группы А с вероятностью 95%"
   ]
  },
  {
   "cell_type": "code",
   "execution_count": 309,
   "id": "a1c8e588-01f4-42de-a708-ae50fef89b04",
   "metadata": {},
   "outputs": [
    {
     "name": "stdout",
     "output_type": "stream",
     "text": [
      "95% доверительный интервал для конверсии рекламы в группе A 0.0251 до 0.026\n"
     ]
    }
   ],
   "source": [
    "mean = group_a2['converted'].mean()\n",
    "var = group_a2['converted'].var()\n",
    "n = group_a2['converted'].count()\n",
    "\n",
    "ci = stats.norm.interval(confidence = 0.95, loc = mean, scale = np.sqrt(var/n))\n",
    "print(f'95% доверительный интервал для конверсии рекламы в группе A {ci[0].round(4)} до {ci[1].round(4)}')"
   ]
  },
  {
   "cell_type": "markdown",
   "id": "a1058313-8977-45aa-a161-6f654b780587",
   "metadata": {},
   "source": [
    "### Характеристики групп"
   ]
  },
  {
   "cell_type": "code",
   "execution_count": 320,
   "id": "fc8b640f-97bd-4803-bcfe-9eabf21dded1",
   "metadata": {},
   "outputs": [
    {
     "data": {
      "image/png": "[encoded data removed]",
      "text/plain": [
       "<Figure size 1500x400 with 2 Axes>"
      ]
     },
     "metadata": {},
     "output_type": "display_data"
    }
   ],
   "source": [
    "fig, ax = plt.subplots(1,2, figsize = (15,4))\n",
    "plt.suptitle('Распределение просмотров по дням недели')\n",
    "sns.histplot(group_a['day_num'].sort_values(), ax = ax[0])\n",
    "sns.histplot(group_b['day_num'].sort_values(), ax = ax[1])\n",
    "ax[0].set_title('Группа А')\n",
    "ax[1].set_title('Группа В')\n",
    "plt.show()"
   ]
  },
  {
   "cell_type": "code",
   "execution_count": 322,
   "id": "12e9f8a8-3f31-4883-9ebe-892706478131",
   "metadata": {},
   "outputs": [
    {
     "data": {
      "image/png": "[encoded data removed]",
      "text/plain": [
       "<Figure size 1500x400 with 2 Axes>"
      ]
     },
     "metadata": {},
     "output_type": "display_data"
    }
   ],
   "source": [
    "fig, ax = plt.subplots(1,2, figsize = (15,4))\n",
    "plt.suptitle('Распределение просмотров по времени суток')\n",
    "sns.histplot(group_a['most ads hour'].sort_values(), ax = ax[0])\n",
    "sns.histplot(group_b['most ads hour'].sort_values(), ax = ax[1])\n",
    "ax[0].set_title('Группа А')\n",
    "ax[1].set_title('Группа В')\n",
    "plt.show()\n",
    "# распределение просмотров рекламы по времени суток в группе А и группе В визуально идентичны "
   ]
  },
  {
   "cell_type": "code",
   "execution_count": 467,
   "id": "1464a517-5053-4106-a86d-bd3c2873fefe",
   "metadata": {},
   "outputs": [
    {
     "data": {
      "image/png": "[encoded data removed]",
      "text/plain": [
       "<Figure size 1500x400 with 2 Axes>"
      ]
     },
     "metadata": {},
     "output_type": "display_data"
    }
   ],
   "source": [
    "fig, ax = plt.subplots(1,2, figsize = (15,4))\n",
    "plt.suptitle('Распределение количества просмотров')\n",
    "sns.histplot(group_a['total ads'], ax = ax[0])\n",
    "sns.histplot(group_b['total ads'], ax = ax[1])\n",
    "ax[0].set_title('Группа А')\n",
    "ax[1].set_title('Группа В')\n",
    "plt.show()\n",
    "# распределение количества просмотров в группе А и В похожи, при этом в основном реклама показывается клиентам небольшое количество раз"
   ]
  },
  {
   "cell_type": "markdown",
   "id": "c53ff774-ff49-403a-bcca-c3da3ab54ccf",
   "metadata": {},
   "source": [
    "### Посмотрим на гетерогенность эффектов в группах А и В¶"
   ]
  },
  {
   "cell_type": "code",
   "execution_count": null,
   "id": "5cab747e-3026-4615-b2e0-17cd43660e9b",
   "metadata": {},
   "outputs": [],
   "source": [
    "# распределение по дням недели"
   ]
  },
  {
   "cell_type": "code",
   "execution_count": 441,
   "id": "0a9a04c5-a5d1-4308-b32d-2266d7f67f67",
   "metadata": {},
   "outputs": [
    {
     "data": {
      "text/plain": [
       "day_num\n",
       "1    0.033241\n",
       "2    0.030440\n",
       "3    0.025356\n",
       "7    0.024620\n",
       "5    0.022465\n",
       "4    0.021637\n",
       "6    0.021307\n",
       "Name: converted, dtype: float64"
      ]
     },
     "execution_count": 441,
     "metadata": {},
     "output_type": "execute_result"
    }
   ],
   "source": [
    "group_a2.groupby('day_num')['converted'].mean().sort_values(ascending = False)\n",
    "# в группе А наибольшая конвертация в пн и вт\n",
    "# в группе А наименьшая конвертация в чт, пт, сб"
   ]
  },
  {
   "cell_type": "code",
   "execution_count": 443,
   "id": "7b002a34-d2f7-4e15-8e6c-c63f5b0e8996",
   "metadata": {},
   "outputs": [
    {
     "data": {
      "text/plain": [
       "day_num\n",
       "1    0.022559\n",
       "7    0.020595\n",
       "4    0.020230\n",
       "5    0.016303\n",
       "3    0.015759\n",
       "2    0.014448\n",
       "6    0.013996\n",
       "Name: converted, dtype: float64"
      ]
     },
     "execution_count": 443,
     "metadata": {},
     "output_type": "execute_result"
    }
   ],
   "source": [
    "group_b2.groupby('day_num')['converted'].mean().sort_values(ascending = False)\n",
    "# в группе В наибольшая конвертация в пн, чт, вс\n",
    "# в группе В наименьшая конвертация во вт и сб"
   ]
  },
  {
   "cell_type": "code",
   "execution_count": 730,
   "id": "2cf62d3e-5b4d-4fd4-9c1a-4eed570d5440",
   "metadata": {},
   "outputs": [
    {
     "data": {
      "text/plain": [
       "day_num\n",
       "1    0.010683\n",
       "2    0.015992\n",
       "3    0.009597\n",
       "4    0.001407\n",
       "5    0.006162\n",
       "6    0.007311\n",
       "7    0.004025\n",
       "Name: converted, dtype: float64"
      ]
     },
     "execution_count": 730,
     "metadata": {},
     "output_type": "execute_result"
    }
   ],
   "source": [
    "group_a2.groupby('day_num')['converted'].mean() - group_b2.groupby('day_num')['converted'].mean()\n",
    "# по всем дням недели конверсия рекламы А лучше конверсии рекламы В\n",
    "# наибольшее отличие во вт, пн и ср\n",
    "# наименьшее отличие в чт и вс"
   ]
  },
  {
   "cell_type": "code",
   "execution_count": null,
   "id": "93bd9047-e8fc-4552-88dc-d1054209364f",
   "metadata": {},
   "outputs": [],
   "source": [
    "# распределение по времени суток"
   ]
  },
  {
   "cell_type": "code",
   "execution_count": 693,
   "id": "317bdde9-f8c4-4643-a8be-71f9294eac17",
   "metadata": {},
   "outputs": [],
   "source": [
    "#group_a2.groupby('most ads hour')['converted'].mean().sort_values(ascending = False)\n",
    "# в группе А наибольшая конвертация с 16 до 22\n",
    "# в группе А наименьшая конвертация с 0 до 9"
   ]
  },
  {
   "cell_type": "code",
   "execution_count": 695,
   "id": "dab542fd-e6a2-4f72-8281-56d003181cbb",
   "metadata": {},
   "outputs": [],
   "source": [
    "#group_b2.groupby('most ads hour')['converted'].mean().sort_values(ascending = False)\n",
    "# в группе B наибольшая конвертация с 15 до 21\n",
    "# в группе B наименьшая конвертация с 0 до 9, причем с 0 до 6 (кроме 3) конвертация нулевая"
   ]
  },
  {
   "cell_type": "markdown",
   "id": "d669cb82-e603-4af9-ab4e-383be446b9ee",
   "metadata": {},
   "source": [
    "### Проведем тест на значимость эффекта отдельно для разных дней недели"
   ]
  },
  {
   "cell_type": "code",
   "execution_count": 687,
   "id": "10dd4ceb-c117-41d0-8523-12436a1dec51",
   "metadata": {},
   "outputs": [
    {
     "name": "stdout",
     "output_type": "stream",
     "text": [
      "р-значение для дня 1 = 0.001\n",
      "р-значение для дня 2 = 0.0\n",
      "р-значение для дня 3 = 0.0\n",
      "р-значение для дня 4 = 0.555\n",
      "р-значение для дня 5 = 0.012\n",
      "р-значение для дня 6 = 0.007\n",
      "р-значение для дня 7 = 0.157\n"
     ]
    }
   ],
   "source": [
    "stats.ttest_ind(group_a2[group_a2['day_num'] == '1']['converted_num'], group_b2[group_b2['day_num'] == '1']['converted_num'])\n",
    "print(f'р-значение для дня {1} = {stats.ttest_ind(group_a2[group_a2['day_num'] == '1']['converted_num'], group_b2[group_b2['day_num'] == '1']['converted_num'])[1].round(3)}')\n",
    "stats.ttest_ind(group_a2[group_a2['day_num'] == '2']['converted_num'], group_b2[group_b2['day_num'] == '2']['converted_num'])\n",
    "print(f'р-значение для дня {2} = {stats.ttest_ind(group_a2[group_a2['day_num'] == '2']['converted_num'], group_b2[group_b2['day_num'] == '2']['converted_num'])[1].round(3)}')\n",
    "stats.ttest_ind(group_a2[group_a2['day_num'] == '3']['converted_num'], group_b2[group_b2['day_num'] == '3']['converted_num'])\n",
    "print(f'р-значение для дня {3} = {stats.ttest_ind(group_a2[group_a2['day_num'] == '3']['converted_num'], group_b2[group_b2['day_num'] == '3']['converted_num'])[1].round(3)}')\n",
    "stats.ttest_ind(group_a2[group_a2['day_num'] == '4']['converted_num'], group_b2[group_b2['day_num'] == '4']['converted_num'])\n",
    "print(f'р-значение для дня {4} = {stats.ttest_ind(group_a2[group_a2['day_num'] == '4']['converted_num'], group_b2[group_b2['day_num'] == '4']['converted_num'])[1].round(3)}')\n",
    "stats.ttest_ind(group_a2[group_a2['day_num'] == '5']['converted_num'], group_b2[group_b2['day_num'] == '5']['converted_num'])\n",
    "print(f'р-значение для дня {5} = {stats.ttest_ind(group_a2[group_a2['day_num'] == '5']['converted_num'], group_b2[group_b2['day_num'] == '5']['converted_num'])[1].round(3)}')\n",
    "stats.ttest_ind(group_a2[group_a2['day_num'] == '6']['converted_num'], group_b2[group_b2['day_num'] == '6']['converted_num'])\n",
    "print(f'р-значение для дня {6} = {stats.ttest_ind(group_a2[group_a2['day_num'] == '6']['converted_num'], group_b2[group_b2['day_num'] == '6']['converted_num'])[1].round(3)}')\n",
    "stats.ttest_ind(group_a2[group_a2['day_num'] == '7']['converted_num'], group_b2[group_b2['day_num'] == '7']['converted_num'])\n",
    "print(f'р-значение для дня {7} = {stats.ttest_ind(group_a2[group_a2['day_num'] == '7']['converted_num'], group_b2[group_b2['day_num'] == '7']['converted_num'])[1].round(3)}')"
   ]
  },
  {
   "cell_type": "code",
   "execution_count": null,
   "id": "8ad2488b-333f-4213-a743-b55feadde177",
   "metadata": {},
   "outputs": [],
   "source": [
    "# альфа = 5% => в четверг (55,5%) и в воскресенье (15,7%) с 95% вероятностью конверсии в группах А и В не отличаются!"
   ]
  },
  {
   "cell_type": "code",
   "execution_count": null,
   "id": "6338103d-a412-4e37-bd50-7054d0b32cc0",
   "metadata": {},
   "outputs": [],
   "source": []
  },
  {
   "cell_type": "code",
   "execution_count": 732,
   "id": "d423919f-214a-4bcf-b18f-439527327855",
   "metadata": {},
   "outputs": [],
   "source": [
    "#for i in range(7):\n",
    "#    day = i + 1\n",
    "#    stats.ttest_ind(group_a2[group_a2['day_num'] == 'day']['converted_num'], group_b2[group_b2['day_num'] == 'day']['converted_num'])\n",
    "#    print(f'р-значение для дня {day} = {stats.ttest_ind(group_a2[group_a2['day_num'] == 'day']['converted_num'], group_b2[group_b2['day_num'] == 'day']['converted_num'])[1].round(3)}')"
   ]
  }
 ],
 "metadata": {
  "kernelspec": {
   "display_name": "Python 3 (ipykernel)",
   "language": "python",
   "name": "python3"
  },
  "language_info": {
   "codemirror_mode": {
    "name": "ipython",
    "version": 3
   },
   "file_extension": ".py",
   "mimetype": "text/x-python",
   "name": "python",
   "nbconvert_exporter": "python",
   "pygments_lexer": "ipython3",
   "version": "3.12.4"
  }
 },
 "nbformat": 4,
 "nbformat_minor": 5
}
