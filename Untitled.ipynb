{
 "cells": [
  {
   "cell_type": "code",
   "execution_count": 1,
   "id": "8c525e2b-281a-4646-9aa2-3df9383afcb0",
   "metadata": {},
   "outputs": [],
   "source": [
    "import numpy as np"
   ]
  },
  {
   "cell_type": "code",
   "execution_count": 5,
   "id": "745cbb6e-77c1-4806-97da-c4f54cb8e0fe",
   "metadata": {},
   "outputs": [
    {
     "name": "stdout",
     "output_type": "stream",
     "text": [
      "1.26.4\n"
     ]
    }
   ],
   "source": [
    "print(np.__version__)"
   ]
  },
  {
   "cell_type": "code",
   "execution_count": 7,
   "id": "434fd3bb-0a18-4311-9fff-7d1f4a2c566f",
   "metadata": {},
   "outputs": [
    {
     "name": "stdout",
     "output_type": "stream",
     "text": [
      "Defaulting to user installation because normal site-packages is not writeable\n",
      "Requirement already satisfied: numpy in c:\\programdata\\anaconda3\\lib\\site-packages (1.26.4)\n",
      "Collecting numpy\n",
      "  Downloading numpy-2.1.0-cp312-cp312-win_amd64.whl.metadata (59 kB)\n",
      "     ---------------------------------------- 0.0/59.7 kB ? eta -:--:--\n",
      "     ------------- ------------------------ 20.5/59.7 kB 320.0 kB/s eta 0:00:01\n",
      "     ------------------- ------------------ 30.7/59.7 kB 262.6 kB/s eta 0:00:01\n",
      "     -------------------------------- ----- 51.2/59.7 kB 327.7 kB/s eta 0:00:01\n",
      "     -------------------------------------- 59.7/59.7 kB 351.1 kB/s eta 0:00:00\n",
      "Downloading numpy-2.1.0-cp312-cp312-win_amd64.whl (12.6 MB)\n",
      "   ---------------------------------------- 0.0/12.6 MB ? eta -:--:--\n",
      "   ---------------------------------------- 0.1/12.6 MB 1.7 MB/s eta 0:00:08\n",
      "   ---------------------------------------- 0.1/12.6 MB 787.7 kB/s eta 0:00:16\n",
      "    --------------------------------------- 0.2/12.6 MB 1.5 MB/s eta 0:00:09\n",
      "    --------------------------------------- 0.2/12.6 MB 1.1 MB/s eta 0:00:11\n",
      "   - -------------------------------------- 0.3/12.6 MB 1.4 MB/s eta 0:00:09\n",
      "   - -------------------------------------- 0.4/12.6 MB 1.3 MB/s eta 0:00:10\n",
      "   - -------------------------------------- 0.6/12.6 MB 1.8 MB/s eta 0:00:07\n",
      "   -- ------------------------------------- 0.7/12.6 MB 1.9 MB/s eta 0:00:07\n",
      "   --- ------------------------------------ 1.2/12.6 MB 2.8 MB/s eta 0:00:05\n",
      "   ---- ----------------------------------- 1.4/12.6 MB 3.0 MB/s eta 0:00:04\n",
      "   ------- -------------------------------- 2.2/12.6 MB 4.4 MB/s eta 0:00:03\n",
      "   --------- ------------------------------ 2.9/12.6 MB 5.2 MB/s eta 0:00:02\n",
      "   ------------- -------------------------- 4.4/12.6 MB 7.4 MB/s eta 0:00:02\n",
      "   ----------------- ---------------------- 5.4/12.6 MB 8.5 MB/s eta 0:00:01\n",
      "   ----------------------- ---------------- 7.4/12.6 MB 10.7 MB/s eta 0:00:01\n",
      "   ----------------------------- ---------- 9.2/12.6 MB 12.5 MB/s eta 0:00:01\n",
      "   ----------------------------------- ---- 11.1/12.6 MB 26.2 MB/s eta 0:00:01\n",
      "   ------------------------------------- -- 11.8/12.6 MB 28.4 MB/s eta 0:00:01\n",
      "   ------------------------------------- -- 11.8/12.6 MB 28.4 MB/s eta 0:00:01\n",
      "   -------------------------------------- - 12.0/12.6 MB 23.4 MB/s eta 0:00:01\n",
      "   ---------------------------------------  12.5/12.6 MB 22.6 MB/s eta 0:00:01\n",
      "   ---------------------------------------  12.5/12.6 MB 19.9 MB/s eta 0:00:01\n",
      "   ---------------------------------------- 12.6/12.6 MB 19.2 MB/s eta 0:00:00\n",
      "Installing collected packages: numpy\n",
      "Successfully installed numpy-2.1.0\n",
      "Note: you may need to restart the kernel to use updated packages.\n"
     ]
    },
    {
     "name": "stderr",
     "output_type": "stream",
     "text": [
      "  WARNING: The scripts f2py.exe and numpy-config.exe are installed in 'C:\\Users\\Home\\AppData\\Roaming\\Python\\Python312\\Scripts' which is not on PATH.\n",
      "  Consider adding this directory to PATH or, if you prefer to suppress this warning, use --no-warn-script-location.\n",
      "ERROR: pip's dependency resolver does not currently take into account all the packages that are installed. This behaviour is the source of the following dependency conflicts.\n",
      "contourpy 1.2.0 requires numpy<2.0,>=1.20, but you have numpy 2.1.0 which is incompatible.\n",
      "numba 0.59.1 requires numpy<1.27,>=1.22, but you have numpy 2.1.0 which is incompatible.\n",
      "pywavelets 1.5.0 requires numpy<2.0,>=1.22.4, but you have numpy 2.1.0 which is incompatible.\n",
      "streamlit 1.32.0 requires numpy<2,>=1.19.3, but you have numpy 2.1.0 which is incompatible.\n"
     ]
    }
   ],
   "source": [
    "pip install numpy --upgrade"
   ]
  }
 ],
 "metadata": {
  "kernelspec": {
   "display_name": "Python 3 (ipykernel)",
   "language": "python",
   "name": "python3"
  },
  "language_info": {
   "codemirror_mode": {
    "name": "ipython",
    "version": 3
   },
   "file_extension": ".py",
   "mimetype": "text/x-python",
   "name": "python",
   "nbconvert_exporter": "python",
   "pygments_lexer": "ipython3",
   "version": "3.12.4"
  }
 },
 "nbformat": 4,
 "nbformat_minor": 5
}
