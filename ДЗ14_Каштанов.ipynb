{
  "nbformat": 4,
  "nbformat_minor": 0,
  "metadata": {
    "colab": {
      "provenance": []
    },
    "kernelspec": {
      "name": "python3",
      "display_name": "Python 3"
    },
    "language_info": {
      "name": "python"
    }
  },
  "cells": [
    {
      "cell_type": "code",
      "execution_count": 1,
      "metadata": {
        "colab": {
          "base_uri": "https://localhost:8080/"
        },
        "id": "LOpoRAtufA_c",
        "outputId": "c8b81b63-6992-4711-8344-1f83729c88b8"
      },
      "outputs": [
        {
          "output_type": "stream",
          "name": "stdout",
          "text": [
            "Collecting dostoevsky\n",
            "  Downloading dostoevsky-0.6.0-py2.py3-none-any.whl.metadata (3.4 kB)\n",
            "Collecting fasttext==0.9.2 (from dostoevsky)\n",
            "  Downloading fasttext-0.9.2.tar.gz (68 kB)\n",
            "\u001b[2K     \u001b[90m━━━━━━━━━━━━━━━━━━━━━━━━━━━━━━━━━━━━━━━━\u001b[0m \u001b[32m68.8/68.8 kB\u001b[0m \u001b[31m1.9 MB/s\u001b[0m eta \u001b[36m0:00:00\u001b[0m\n",
            "\u001b[?25h  Preparing metadata (setup.py) ... \u001b[?25l\u001b[?25hdone\n",
            "Collecting razdel==0.5.0 (from dostoevsky)\n",
            "  Downloading razdel-0.5.0-py3-none-any.whl.metadata (10.0 kB)\n",
            "Collecting pybind11>=2.2 (from fasttext==0.9.2->dostoevsky)\n",
            "  Using cached pybind11-2.13.6-py3-none-any.whl.metadata (9.5 kB)\n",
            "Requirement already satisfied: setuptools>=0.7.0 in /usr/local/lib/python3.10/dist-packages (from fasttext==0.9.2->dostoevsky) (75.1.0)\n",
            "Requirement already satisfied: numpy in /usr/local/lib/python3.10/dist-packages (from fasttext==0.9.2->dostoevsky) (1.26.4)\n",
            "Downloading dostoevsky-0.6.0-py2.py3-none-any.whl (8.5 kB)\n",
            "Downloading razdel-0.5.0-py3-none-any.whl (21 kB)\n",
            "Using cached pybind11-2.13.6-py3-none-any.whl (243 kB)\n",
            "Building wheels for collected packages: fasttext\n",
            "  Building wheel for fasttext (setup.py) ... \u001b[?25l\u001b[?25hdone\n",
            "  Created wheel for fasttext: filename=fasttext-0.9.2-cp310-cp310-linux_x86_64.whl size=4284415 sha256=02cc4be41b901ab4b55ac8c36fa8fa04b5f20dd7ebf736a41b4d2d6881005967\n",
            "  Stored in directory: /root/.cache/pip/wheels/a5/13/75/f811c84a8ab36eedbaef977a6a58a98990e8e0f1967f98f394\n",
            "Successfully built fasttext\n",
            "Installing collected packages: razdel, pybind11, fasttext, dostoevsky\n",
            "Successfully installed dostoevsky-0.6.0 fasttext-0.9.2 pybind11-2.13.6 razdel-0.5.0\n"
          ]
        }
      ],
      "source": [
        "pip install dostoevsky"
      ]
    },
    {
      "cell_type": "code",
      "source": [
        "!python -m dostoevsky download fasttext-social-network-model"
      ],
      "metadata": {
        "id": "v7EXFlHxfs0X"
      },
      "execution_count": 2,
      "outputs": []
    },
    {
      "cell_type": "code",
      "source": [
        "from bs4 import BeautifulSoup\n",
        "import requests\n",
        "import pandas as pd"
      ],
      "metadata": {
        "id": "aUJFgzqxfsu1"
      },
      "execution_count": 3,
      "outputs": []
    },
    {
      "cell_type": "markdown",
      "source": [
        "# Выберим любую новость"
      ],
      "metadata": {
        "id": "NXadU8VEgenG"
      }
    },
    {
      "cell_type": "code",
      "source": [
        "url = 'https://lenta.ru/news/2024/11/23/voenkor-otreagiroval-na-sluh-ob-udare-vsu-po-komandnomu-punktu-s-500-boytsami-kndr/'"
      ],
      "metadata": {
        "id": "a4vWf0vBfsom"
      },
      "execution_count": 5,
      "outputs": []
    },
    {
      "cell_type": "code",
      "source": [
        "page = requests.get(url)"
      ],
      "metadata": {
        "id": "dDCEmobtfsmH"
      },
      "execution_count": 6,
      "outputs": []
    },
    {
      "cell_type": "code",
      "source": [
        "print(page.status_code)"
      ],
      "metadata": {
        "colab": {
          "base_uri": "https://localhost:8080/"
        },
        "id": "-HtNAug2fsZE",
        "outputId": "d65db1ee-c572-4796-cff4-033fc7414c80"
      },
      "execution_count": 7,
      "outputs": [
        {
          "output_type": "stream",
          "name": "stdout",
          "text": [
            "200\n"
          ]
        }
      ]
    },
    {
      "cell_type": "markdown",
      "source": [
        "Парсим сайт, сохраняем весь html код"
      ],
      "metadata": {
        "id": "SRPpjnANhy2k"
      }
    },
    {
      "cell_type": "code",
      "source": [
        "soup = BeautifulSoup(page.text, \"html.parser\")\n",
        "soup"
      ],
      "metadata": {
        "colab": {
          "base_uri": "https://localhost:8080/"
        },
        "id": "DA-4BXvqhpxo",
        "outputId": "f821ada9-b3cc-465d-8891-86716e400a40"
      },
      "execution_count": 8,
      "outputs": [
        {
          "output_type": "execute_result",
          "data": {
            "text/plain": [
              "<!DOCTYPE html>\n",
              "<html lang=\"ru\"><head><title>Военкор отреагировал на слух об ударе ВСУ по командному пункту с 500 бойцами КНДР: Украина: Бывший СССР: Lenta.ru</title><meta charset=\"utf-8\"/><meta content=\"#292929\" name=\"theme-color\"/><link href=\"https://lenta.ru/rss/google-newsstand/main/\" rel=\"alternate\" type=\"application/rss+xml\"/><link href=\"https://lenta.ru/news/2024/11/23/voenkor-otreagiroval-na-sluh-ob-udare-vsu-po-komandnomu-punktu-s-500-boytsami-kndr/\" rel=\"canonical\"/><link href=\"/manifest.json\" rel=\"manifest\"/><link href=\"https://icdn.lenta.ru/favicon.ico\" rel=\"icon\" type=\"image/x-icon\"/><link href=\"https://icdn.lenta.ru/images/icons/icon-256x256.png\" rel=\"apple-touch-icon\" size=\"256x256\" type=\"image/x-icon\"/><link href=\"https://icdn.lenta.ru/images/icons/icon-192x192.png\" rel=\"apple-touch-icon\" size=\"192x192\" type=\"image/x-icon\"/><link href=\"https://icdn.lenta.ru/images/icons/icon-152x152.png\" rel=\"apple-touch-icon\" size=\"152x152\" type=\"image/x-icon\"/><link href=\"https://icdn.lenta.ru/images/icons/icon-120x120.png\" rel=\"apple-touch-icon\" size=\"120x120\" type=\"image/x-icon\"/><link href=\"https://icdn.lenta.ru/images/icons/icon-76x76.png\" rel=\"apple-touch-icon\" size=\"76x76\" type=\"image/x-icon\"/><meta content=\"max-image-preview:large\" name=\"robots\"/><meta content=\"index, follow\" name=\"robots\"/><meta content=\"Военкор Александр Коц опроверг слух об ударе Вооруженных сил Украины (ВСУ) по командному пункту в Курской области с 500 бойцами КНДР. Об этом он написал в своем Telegram-канале\" name=\"og:description\"/><meta content=\"Военкор Александр Коц опроверг слух об ударе Вооруженных сил Украины (ВСУ) по командному пункту в Курской области с 500 бойцами КНДР. Об этом он написал в своем Telegram-канале\" name=\"description\"/><meta content=\"article\" property=\"og:type\"/><meta content=\"Lenta.RU\" property=\"og:site_name\"/><meta content=\"Военкор отреагировал на слух об ударе ВСУ по командному пункту с 500 бойцами КНДР\" property=\"og:title\"/><meta content=\"Военкор отреагировал на слух об ударе ВСУ по командному пункту с 500 бойцами КНДР: Украина: Бывший СССР: Lenta.ru\" property=\"title\"/><meta content=\"https://icdn.lenta.ru/images/2024/11/23/17/20241123171041396/share_e3ea75499aa2885fb6cf190ca81cd3e1.jpg\" property=\"og:image\"/><meta content=\"https://lenta.ru/news/2024/11/23/voenkor-otreagiroval-na-sluh-ob-udare-vsu-po-komandnomu-punktu-s-500-boytsami-kndr/\" property=\"og:url\"/><meta content=\"summary_large_image\" property=\"twitter:card\"/><meta content=\"@lentaruofficial\" property=\"twitter:site\"/><meta content=\"228661749\" property=\"twitter:site:id\"/><meta content=\"265602470229425\" property=\"fb:app_id\"/><script type=\"application/ld+json\">{\"@context\":\"http://schema.org\",\"@type\":\"NewsArticle\",\"headline\":\"Военкор отреагировал на слух об ударе ВСУ по командному пункту с 500 бойцами КНДР\",\"description\":\"Военкор Александр Коц опроверг слух об ударе Вооруженных сил Украины (ВСУ) по командному пункту в Курской области с 500 бойцами КНДР. Об этом он написал в своем Telegram-канале\",\"name\":\"Военкор отреагировал на слух об ударе ВСУ по командному пункту с 500 бойцами КНДР\",\"alternativeHeadline\":\"Военкор Коц опроверг слух об ударе ВСУ по командному пункту с 500 бойцами КНДР\",\"url\":\"https://lenta.ru/news/2024/11/23/voenkor-otreagiroval-na-sluh-ob-udare-vsu-po-komandnomu-punktu-s-500-boytsami-kndr/\",\"mainEntityOfPage\":{\"@type\":\"WebPage\",\"@id\":\"https://lenta.ru/news/2024/11/23/voenkor-otreagiroval-na-sluh-ob-udare-vsu-po-komandnomu-punktu-s-500-boytsami-kndr/\"},\"thumbnailUrl\":[\"https://icdn.lenta.ru/images/2024/11/23/17/20241123171041396/square_1280_eac3f3ed21fa512d8c2be35920367b46.jpg\",\"https://icdn.lenta.ru/images/2024/11/23/17/20241123171041396/wide_4_3_9e42b6e28328fd2a4b8d36caeed0bbc9.jpg\",\"https://icdn.lenta.ru/images/2024/11/23/17/20241123171041396/wide_16_9_15ee39871fc2a9f0cfa26f0d4a110556.jpg\"],\"dateCreated\":\"2024-11-23T17:12:27+03:00\",\"datePublished\":\"2024-11-23T17:12:27+03:00\",\"dateModified\":\"2024-11-23T17:12:27+03:00\",\"author\":{\"@type\":\"Person\",\"name\":\"Алевтина Запольская\",\"url\":\"https://lenta.ru/parts/authors/alevtinazapolskaya/\"},\"publisher\":{\"@type\":\"Organization\",\"name\":\"Lenta.ru\",\"url\":\"https://lenta.ru/\",\"logo\":{\"@type\":\"ImageObject\",\"url\":\"https://icdn.lenta.ru/assets/webpack/images/lenta_logo_transparent.78bc0e5e.png\",\"width\":302,\"height\":60}},\"image\":[{\"@type\":\"ImageObject\",\"representativeOfPage\":\"true\",\"url\":\"https://icdn.lenta.ru/images/2024/11/23/17/20241123171041396/square_1280_eac3f3ed21fa512d8c2be35920367b46.jpg\",\"width\":1280,\"height\":1280},{\"@type\":\"ImageObject\",\"representativeOfPage\":\"true\",\"url\":\"https://icdn.lenta.ru/images/2024/11/23/17/20241123171041396/wide_4_3_9e42b6e28328fd2a4b8d36caeed0bbc9.jpg\",\"width\":1280,\"height\":960},{\"@type\":\"ImageObject\",\"representativeOfPage\":\"true\",\"url\":\"https://icdn.lenta.ru/images/2024/11/23/17/20241123171041396/wide_16_9_15ee39871fc2a9f0cfa26f0d4a110556.jpg\",\"width\":1280,\"height\":720}],\"articleBody\":{\"@type\":\"Text\",\"@id\":\"#articleBody_news-2024-11-23-voenkor-otreagiroval-na-sluh-ob-udare-vsu-po-komandnomu-punktu-s-500-boytsami-kndr\"}}</script><link href=\"https://lenta.ru/news/2024/11/23/voenkor-otreagiroval-na-sluh-ob-udare-vsu-po-komandnomu-punktu-s-500-boytsami-kndr/amp/\" rel=\"amphtml\"/><link href=\"https://icdn.lenta.ru/assets/webpack/owlBundle.7661e36d.css\" media=\"all\" rel=\"stylesheet\"/><script defer=\"defer\" src=\"https://icdn.lenta.ru/assets/webpack/vendorsOwl.3b85378b.js\"></script><script defer=\"defer\" src=\"https://icdn.lenta.ru/assets/webpack/owlBundle.3b85378b.js\"></script><link href=\"https://icdn.lenta.ru/assets/webpack/topicPageOwl.2932e492.css\" media=\"all\" rel=\"stylesheet\"/><script defer=\"defer\" src=\"https://icdn.lenta.ru/assets/webpack/topicPageOwl.3b85378b.js\"></script><script>window.CAPIRS_CONFIG = window.CAPIRS_CONFIG || {};</script><script>(function(\n",
              "  url,\n",
              "  system,\n",
              "  pepper,\n",
              "  blackList,\n",
              "  bannersForTiming,\n",
              "  functionCapirsLoadName,\n",
              "  ) {\n",
              "      function stringify(obj) {\n",
              "        var str = '';\n",
              "        for (const key in obj) {\n",
              "          if (obj[key]) {\n",
              "            if (str) {\n",
              "              str += ', ';\n",
              "            }\n",
              "            str += (key + '=\"' + obj[key] + '\"');\n",
              "          }\n",
              "        }\n",
              "        return '{' + str + '}';\n",
              "      }\n",
              "\n",
              "      function statusCounter(status) {\n",
              "        if (typeof status === 'string') {\n",
              "          return status;\n",
              "        }\n",
              "        return status ? 'success' : 'fail';\n",
              "      }\n",
              "\n",
              "      function hystogramQuantile(range) {\n",
              "        if (range <= 1000) return (Math.floor(range / 100) + 1) * 100;\n",
              "        if (range <= 1500) return 1500;\n",
              "        if (range <= 2000) return 2000;\n",
              "        if (range <= 3000) return 3000;\n",
              "        if (range <= 4000) return 4000;\n",
              "        if (range <= 5000) return 5000;\n",
              "        if (range <= 7500) return 7500;\n",
              "        if (range <= 10000) return 10000;\n",
              "        return '+Inf';\n",
              "      }\n",
              "\n",
              "      function send(metric, type, labels, value) {\n",
              "        var body = '# TYPE ' + metric + ' ' + type + '\\n' + metric + ' ' + stringify(labels) + ' ' + (value || 1);\n",
              "        return fetch(url, {\n",
              "          method: 'POST',\n",
              "          headers: {\n",
              "            'Content-Type': 'text/plain',\n",
              "            'X-Media-Atlas-Auth': 'basic ' + pepper,\n",
              "          },\n",
              "          body: body,\n",
              "        });\n",
              "      }\n",
              "\n",
              "      function logCounterCapirs(status) {\n",
              "        return send('app_request_count', 'counter', {\n",
              "          app: 'front',\n",
              "          system: system,\n",
              "          resource: 'capirs',\n",
              "          status: statusCounter(status),\n",
              "          direction: 'out',\n",
              "        });\n",
              "      }\n",
              "\n",
              "      function logCounterAdv(blockId, status) {\n",
              "        return send('app_request_count', 'counter', {\n",
              "          app: 'front',\n",
              "          system: system,\n",
              "          resource: 'adv',\n",
              "          kind: blockId,\n",
              "          status: statusCounter(status),\n",
              "          direction: 'out',\n",
              "        });\n",
              "      }\n",
              "\n",
              "      function logTimeCapirs(range) {\n",
              "        return send('app_request_time_bucket', 'histogram', {\n",
              "          app: 'front',\n",
              "          system: system,\n",
              "          resource: 'capirs',\n",
              "          direction: 'out',\n",
              "          level: 'request',\n",
              "          le: hystogramQuantile(range),\n",
              "        });\n",
              "      }\n",
              "\n",
              "      function logTimeAdv(blockId, range) {\n",
              "        return send('app_request_time_bucket', 'histogram', {\n",
              "          app: 'front',\n",
              "          system: system,\n",
              "          resource: 'adv',\n",
              "          kind: blockId,\n",
              "          direction: 'out',\n",
              "          level: 'request',\n",
              "          le: hystogramQuantile(range),\n",
              "        });\n",
              "      }\n",
              "\n",
              "      function logAdvSuccess(blockId) {\n",
              "        return logCounterAdv(blockId, true);\n",
              "      }\n",
              "\n",
              "      function logAdvFailure(blockId) {\n",
              "        return logCounterAdv(blockId, false);\n",
              "      }\n",
              "\n",
              "      if (functionCapirsLoadName) {\n",
              "        window[functionCapirsLoadName] = logCounterCapirs;\n",
              "      }\n",
              "\n",
              "      var bannersForTimingLoadedHash = {};\n",
              "\n",
              "      for (var i = 0; i < bannersForTiming.length; ++i) {\n",
              "        bannersForTimingLoadedHash[bannersForTiming[i]] = 0;\n",
              "      }\n",
              "\n",
              "      window.begun_new_callbacks = window.begun_new_callbacks || [];\n",
              "      window.begun_new_callbacks.push({\n",
              "        'lib': {\n",
              "          'init': initializer,\n",
              "        },\n",
              "      });\n",
              "\n",
              "      var startInitDate = Date.now();\n",
              "      var startDate;\n",
              "\n",
              "      function initializer() {\n",
              "        startDate = Date.now();\n",
              "        logTimeCapirs(startDate - startInitDate);\n",
              "        window.Begun.Autocontext.Callbacks.register({\n",
              "          block: {\n",
              "            draw: function(feed) {\n",
              "              if (!blackList.includes(feed.blocks[0].id)) {\n",
              "                logAdvSuccess(feed.blocks[0].id);\n",
              "\n",
              "                if (bannersForTiming.includes(feed.blocks[0].id) && !bannersForTimingLoadedHash[feed.blocks[0].id]) {\n",
              "                  logTimeAdv(feed.blocks[0].id, Date.now() - startDate);\n",
              "                  bannersForTimingLoadedHash[feed.blocks[0].id] = 1;\n",
              "                }\n",
              "              }\n",
              "            },\n",
              "            unexist: function(success, block) {\n",
              "              if (!blackList.includes(parseInt(block.block_id, 10))) {\n",
              "                logAdvFailure(block.block_id);\n",
              "              }\n",
              "            },\n",
              "          },\n",
              "        });\n",
              "      }\n",
              "\n",
              "    }\n",
              ")(\n",
              "  \"https://err.lenta.ru/atlas/metrics/\",\n",
              "  \"lenta\",\n",
              "  \"cm9vdDppcXVlY2FocmFoMW9vbTZsZTBFZWhlZTBjYThvb3ZldU1laW42UmVj\",\n",
              "  [],\n",
              "  [432172886],\n",
              "  \"capirsOnLoad\"\n",
              ");</script><script async=\"async\" onerror=\"capirsOnLoad(false);\" onload=\"capirsOnLoad(true);\" src=\"//ssp.rambler.ru/capirs_async.js\"></script><script>window._lentaData = window._lentaData || {};\n",
              "window._lentaData.puids = {\"puid6\":\"LENTA_USSR\",\"puid18\":\"LENTA_USSR_UKRAINE\",\"puid15\":\"news\",\"puid26\":null,\"puid48\":null,\"puid58\":\"ukraina\",\"puid60\":\"kots-aleksandr\",\"puid59\":\"checked:deathold:military:negativity_weak:bc\",\"puid62\":null};\n",
              "window._lentaData.version = 'owl';</script></head><body id=\"body\"><div class=\"inject-sprite\"><svg xmlns=\"http://www.w3.org/2000/svg\" xmlns:xlink=\"http://www.w3.org/1999/xlink\"><defs><symbol id=\"ui-age-limit\" viewbox=\"0 0 26 15\"><g fill-rule=\"evenodd\"><rect height=\"15\" rx=\"4\" width=\"26\"></rect><path d=\"M5.11,9.79 L6.64,9.79 L6.64,5.44 L6.8,4.7 L6.28,5.35 L5.3,6.02 L4.69,5.19 L7.2,3.17 L8,3.17 L8,9.79 L9.5,9.79 L9.5,11 L5.11,11 L5.11,9.79 Z M10.91,9.12 C10.91,8.86 10.94,8.63 11.01,8.43 C11.07,8.23 11.17,8.05 11.29,7.88 C11.41,7.72 11.55,7.57 11.72,7.44 C11.88,7.3 12.06,7.18 12.25,7.07 C11.89,6.85 11.61,6.58 11.4,6.29 C11.2,5.99 11.1,5.62 11.1,5.18 C11.1,4.89 11.15,4.63 11.25,4.38 C11.36,4.13 11.51,3.91 11.72,3.73 C11.92,3.55 12.16,3.4 12.45,3.3 C12.73,3.2 13.06,3.15 13.42,3.15 C13.75,3.15 14.05,3.19 14.32,3.28 C14.59,3.37 14.82,3.49 15.02,3.65 C15.21,3.81 15.36,4.01 15.47,4.24 C15.57,4.47 15.63,4.73 15.63,5 C15.63,5.44 15.53,5.8 15.34,6.11 C15.14,6.41 14.86,6.68 14.48,6.93 C14.92,7.19 15.25,7.47 15.48,7.78 C15.7,8.09 15.81,8.48 15.81,8.96 C15.81,9.3 15.75,9.59 15.63,9.86 C15.51,10.13 15.34,10.36 15.12,10.55 C14.9,10.74 14.64,10.89 14.33,10.99 C14.02,11.1 13.68,11.15 13.32,11.15 C12.95,11.15 12.62,11.1 12.32,11.01 C12.02,10.91 11.77,10.77 11.56,10.59 C11.35,10.42 11.19,10.2 11.08,9.95 C10.96,9.71 10.91,9.43 10.91,9.12 L10.91,9.12 Z M14.45,8.98 C14.45,8.81 14.41,8.65 14.33,8.51 C14.25,8.37 14.14,8.25 14.02,8.13 C13.89,8.02 13.74,7.92 13.59,7.82 C13.43,7.73 13.27,7.63 13.11,7.55 C12.76,7.74 12.53,7.96 12.4,8.19 C12.27,8.42 12.21,8.65 12.21,8.88 C12.21,9.17 12.31,9.42 12.51,9.63 C12.71,9.84 12.99,9.94 13.35,9.94 C13.68,9.94 13.95,9.86 14.15,9.7 C14.35,9.54 14.45,9.3 14.45,8.98 L14.45,8.98 Z M12.46,5.2 C12.46,5.38 12.49,5.53 12.56,5.66 C12.62,5.8 12.71,5.91 12.83,6.01 C12.94,6.11 13.07,6.2 13.21,6.29 C13.36,6.37 13.5,6.45 13.66,6.52 C14.1,6.15 14.32,5.74 14.32,5.29 C14.32,4.98 14.23,4.75 14.05,4.59 C13.87,4.43 13.65,4.36 13.39,4.36 C13.07,4.36 12.83,4.44 12.68,4.61 C12.53,4.78 12.46,4.98 12.46,5.2 L12.46,5.2 Z M16.95,6.67 L18.73,6.67 L18.73,4.81 L20.02,4.81 L20.02,6.67 L21.81,6.67 L21.81,7.9 L20.02,7.9 L20.02,9.78 L18.73,9.78 L18.73,7.9 L16.95,7.9 L16.95,6.67 Z\" fill=\"#FFF\"></path></g></symbol><symbol id=\"ui-age-limit-plaque\" viewbox=\"0 0 30 20\"><g fill=\"none\" fill-rule=\"evenodd\"><rect fill=\"#353535\" height=\"20\" rx=\"2\" width=\"30\"></rect><path d=\"M6.313,13.57 L8.12,13.57 L8.12,8.435 L8.315,7.551 L7.691,8.318 L6.534,9.111 L5.819,8.136 L8.783,5.744 L9.732,5.744 L9.732,13.57 L11.5,13.57 L11.5,15 L6.313,15 L6.313,13.57 Z M13.164,12.777 C13.164,12.4736652 13.2029996,12.2028345 13.281,11.9645 C13.3590004,11.7261655 13.4694993,11.509501 13.6125,11.3145 C13.7555007,11.119499 13.924499,10.9440008 14.1195,10.788 C14.314501,10.6319992 14.5246655,10.4890006 14.75,10.359 C14.3253312,10.090332 13.9916679,9.78050175 13.749,9.4295 C13.5063321,9.07849824 13.385,8.6430026 13.385,8.123 C13.385,7.78499831 13.4478327,7.46866814 13.5735,7.174 C13.6991673,6.87933186 13.8811655,6.62366775 14.1195,6.407 C14.3578345,6.19033225 14.6459983,6.02133394 14.984,5.9 C15.3220017,5.77866606 15.7033312,5.718 16.128,5.718 C16.5180019,5.718 16.8733317,5.76999948 17.194,5.874 C17.5146683,5.97800052 17.7898322,6.12533238 18.0195,6.316 C18.2491678,6.50666762 18.4268327,6.73849863 18.5525,7.0115 C18.6781673,7.28450136 18.741,7.58566502 18.741,7.915 C18.741,8.42633589 18.6261678,8.85966489 18.3965,9.215 C18.1668322,9.57033511 17.8310022,9.89533186 17.389,10.19 C17.9090026,10.4933348 18.3011653,10.8269982 18.5655,11.191 C18.8298347,11.5550018 18.962,12.0229971 18.962,12.595 C18.962,12.9850019 18.8905007,13.3381651 18.7475,13.6545 C18.6044993,13.9708349 18.4030013,14.2416655 18.143,14.467 C17.8829987,14.6923345 17.5710018,14.8678327 17.207,14.9935 C16.8429982,15.1191673 16.4443355,15.182 16.011,15.182 C15.5776645,15.182 15.1855018,15.1235006 14.8345,15.0065 C14.4834982,14.8894994 14.1845012,14.727001 13.9375,14.519 C13.6904988,14.310999 13.499834,14.0596681 13.3655,13.765 C13.231166,13.4703319 13.164,13.1410018 13.164,12.777 L13.164,12.777 Z M17.35,12.608 C17.35,12.4086657 17.3023338,12.2266675 17.207,12.062 C17.1116662,11.8973325 16.9881674,11.747834 16.8365,11.6135 C16.6848326,11.479166 16.5158343,11.3556672 16.3295,11.243 C16.1431657,11.1303328 15.9546676,11.0220005 15.764,10.918 C15.3566646,11.1520012 15.0771674,11.4054986 14.9255,11.6785 C14.7738326,11.9515014 14.698,12.222332 14.698,12.491 C14.698,12.8376684 14.8171655,13.1344988 15.0555,13.3815 C15.2938345,13.6285012 15.6253312,13.752 16.05,13.752 C16.4400019,13.752 16.7541655,13.6566676 16.9925,13.466 C17.2308345,13.2753324 17.35,12.9893352 17.35,12.608 L17.35,12.608 Z M25,9 L25,7 L23,7 L23,9 L21,9 L21,11 L23,11 L23,13 L25,13 L25,11 L27,11 L27,9 L25,9 Z M14.997,8.149 C14.997,8.35700104 15.0359996,8.53899922 15.114,8.695 C15.1920004,8.85100078 15.298166,8.98749942 15.4325,9.1045 C15.566834,9.22150058 15.7184992,9.32983284 15.8875,9.4295 C16.0565008,9.52916717 16.2319991,9.6223329 16.414,9.709 C16.9340026,9.26699779 17.194,8.78166931 17.194,8.253 C17.194,7.88899818 17.0878344,7.61383427 16.8755,7.4275 C16.6631656,7.24116573 16.4053348,7.148 16.102,7.148 C15.7206648,7.148 15.4411676,7.24766567 15.2635,7.447 C15.0858324,7.64633433 14.997,7.88033199 14.997,8.149 Z\" fill=\"#FFF\"></path><path d=\"M2,2 L4,2 L4,4 L2,4 L2,2 Z M26,2 L28,2 L28,4 L26,4 L26,2 Z M26,16 L28,16 L28,18 L26,18 L26,16 Z M2,16 L4,16 L4,18 L2,18 L2,16 Z\" fill=\"#5B5B5B\"></path></g></symbol><symbol id=\"ui-arrow_up\" viewbox=\"0 0 5 10\"><g fill-rule=\"evenodd\"><path d=\"M2 2H3V10H2z\"></path><path d=\"M2.5 0 5 4 0 4z\"></path></g></symbol><symbol fill=\"none\" id=\"ui-author\" viewbox=\"0 0 14 15\"><path d=\"M7 8C8.83453 8 10.8238 9.65119 12 11.5C11.3333 12.6667 9.4 13.5 7 13.5C4.6 13.5 2.66667 12.6667 2 11.5C3.17618 9.65119 5.16547 8 7 8Z\" fill=\"#999\" stroke=\"#999\" stroke-linejoin=\"round\" stroke-width=\"1.5\"></path><path d=\"M10 3C10 4.65685 8.65685 6 7 6C5.34315 6 4 4.65685 4 3C4 1.34315 5.34315 0 7 0C8.65685 0 10 1.34315 10 3Z\" fill=\"#999\"></path></symbol><symbol id=\"ui-badge-brief\" viewbox=\"0 0 26 27\"><defs><path d=\"M2 0H14V10H2z\" id=\"ui-badge-brief_a\"></path><path d=\"M0 2H12V12H0z\" id=\"ui-badge-brief_b\"></path></defs><g fill=\"none\" fill-rule=\"evenodd\"><path d=\"M0 0H26V27H0z\" fill=\"#262525\"></path><g transform=\"translate(6 8)\"><use fill=\"#262525\" xlink:href=\"#ui-badge-brief_a\"></use><path d=\"M2.5.5H13.5V9.5H2.5z\" stroke=\"#FFF\"></path></g><path d=\"M2 3H3V10H2z\" fill=\"#252525\" transform=\"translate(6 8)\"></path><g transform=\"translate(6 8)\"><use fill=\"#FFF\" xlink:href=\"#ui-badge-brief_b\"></use><path d=\"M.5 2.5H11.5V11.5H.5z\" stroke=\"#FFF\"></path></g></g></symbol><symbol id=\"ui-badge-graphic\" viewbox=\"0 0 31 31\"><defs><path d=\"M0 0H31V31H0z\" id=\"ui-badge-graphic_a\"></path></defs><g fill=\"none\" fill-rule=\"evenodd\"><use fill=\"#222\" mask=\"url(#ui-badge-graphic_b)\" opacity=\".8\" stroke=\"#1D1D1D\" stroke-width=\"2\" xlink:href=\"#ui-badge-graphic_a\"></use><path d=\"M6 22H25V24H6zM8 16H11V21H8zM12 13H15V21H12zM16 8H19V21H16zM20 11H23V21H20z\" fill=\"#FFF\"></path></g></symbol><mask fill=\"#fff\" height=\"31\" id=\"ui-badge-graphic_b\" maskcontentunits=\"userSpaceOnUse\" maskunits=\"objectBoundingBox\" width=\"31\" x=\"0\" y=\"0\"><use xlink:href=\"#ui-badge-graphic_a\"></use></mask><symbol id=\"ui-badge-online\" viewbox=\"0 0 31 31\"><defs><path d=\"M0 0H31V31H0z\" id=\"ui-badge-online_a\"></path></defs><g fill=\"none\" fill-rule=\"evenodd\"><use fill=\"#222\" mask=\"url(#ui-badge-online_b)\" opacity=\".8\" stroke=\"#1D1D1D\" stroke-width=\"2\" xlink:href=\"#ui-badge-online_a\"></use><g fill=\"#FFF\"><path d=\"M7.79 10.19C7.88 10.13 7.97 10.07 8.05 9.99 8.65 9.43 8.65 8.52 8.05 7.96 7.45 7.4 6.48 7.4 5.89 7.96 5.29 8.52 5.29 9.43 5.89 9.99 5.96 10.06 6.05 10.13 6.14 10.18L4.18 17.65C4.13 17.84 4.26 18 4.47 18L5.24 18C5.45 18 5.66 17.84 5.71 17.65L6.96 12.88 8.21 17.65C8.26 17.84 8.48 18 8.69 18L9.45 18C9.66 18 9.79 17.84 9.74 17.65L7.79 10.19ZM13.67 2.69C9.98-.77 3.96-.77.26 2.69-.09 3.02-.09 3.56.26 3.89.62 4.22 1.19 4.22 1.54 3.89 4.53 1.08 9.41 1.08 12.4 3.89 12.58 4.05 12.81 4.14 13.04 4.14 13.27 4.14 13.5 4.05 13.67 3.89 14.03 3.56 14.03 3.02 13.67 2.69\" transform=\"translate(8 8)\"></path><path d=\"M3.14,5.39 C2.79,5.72 2.79,6.26 3.14,6.59 C3.49,6.92 4.06,6.92 4.41,6.59 C5.82,5.26 8.12,5.26 9.53,6.59 C9.7,6.75 9.93,6.83 10.16,6.83 C10.39,6.83 10.62,6.75 10.8,6.59 C11.15,6.26 11.15,5.72 10.8,5.39 C8.69,3.41 5.25,3.41 3.14,5.39\" transform=\"translate(8 8)\"></path></g></g></symbol><mask fill=\"#fff\" height=\"31\" id=\"ui-badge-online_b\" maskcontentunits=\"userSpaceOnUse\" maskunits=\"objectBoundingBox\" width=\"31\" x=\"0\" y=\"0\"><use xlink:href=\"#ui-badge-online_a\"></use></mask><symbol id=\"ui-badge-photo\" viewbox=\"0 0 31 31\"><defs><path d=\"M0 0H31V31H0z\" id=\"ui-badge-photo_a\"></path></defs><g fill=\"none\" fill-rule=\"evenodd\"><use fill=\"#222\" mask=\"url(#ui-badge-photo_b)\" opacity=\".8\" stroke=\"#1D1D1D\" stroke-width=\"2\" xlink:href=\"#ui-badge-photo_a\"></use><g transform=\"translate(7 8)\"><path d=\"M16.36,2.5 L14.68,2.5 L14.02,1.88 C13.74,1.61 13.39,0.38 13,0.23 C12.6,0.07 12.19,0 11.78,0 L8.07,0 C7.67,0 7.26,0.07 6.86,0.23 C6.46,0.39 6.12,1.61 5.83,1.88 L5.18,2.5 L1.58,2.5 C1.18,2.5 0.77,2.65 0.46,2.94 C0.15,3.24 2.74e-05,3.62 2.74e-05,4.01 L2.74e-05,12.5 C2.74e-05,12.88 0.15,13.27 0.46,13.56 C0.77,13.85 1.18,14 1.58,14 L16.35,14 C16.76,14 17.17,13.85 17.47,13.56 C17.78,13.27 17.94,12.88 18,12.5 L18,4.01 C17.94,3.62 17.79,3.24 17.48,2.94 C17.17,2.65 16.76,2.5 16.36,2.5 Z M3.93,6.24 L1.83,6.24 L1.83,4.24 L3.93,4.24 L3.93,6.24 Z\" fill=\"#FFF\"></path><circle cx=\"10\" cy=\"8\" r=\"3\" stroke=\"#4A4A4A\"></circle></g></g></symbol><mask fill=\"#fff\" height=\"31\" id=\"ui-badge-photo_b\" maskcontentunits=\"userSpaceOnUse\" maskunits=\"objectBoundingBox\" width=\"31\" x=\"0\" y=\"0\"><use xlink:href=\"#ui-badge-photo_a\"></use></mask><symbol id=\"ui-badge-theme\" viewbox=\"0 0 31 31\"><defs><path d=\"M0 0H31V31H0z\" id=\"ui-badge-theme_a\"></path></defs><g fill=\"none\" fill-rule=\"evenodd\"><use fill=\"#222\" mask=\"url(#ui-badge-theme_b)\" opacity=\".8\" stroke=\"#1D1D1D\" stroke-width=\"2\" xlink:href=\"#ui-badge-theme_a\"></use><path d=\"M7 5H24V7H7zM7 9H21V11H7zM7 13H24V15H7zM7 20H18V22H7zM7 24H24V26H7z\" fill=\"#FFF\"></path></g></symbol><mask fill=\"#fff\" height=\"31\" id=\"ui-badge-theme_b\" maskcontentunits=\"userSpaceOnUse\" maskunits=\"objectBoundingBox\" width=\"31\" x=\"0\" y=\"0\"><use xlink:href=\"#ui-badge-theme_a\"></use></mask><symbol id=\"ui-badge-video\" viewbox=\"0 0 31 31\"><defs><path d=\"M0 0H31V31H0z\" id=\"ui-badge-video_a\"></path></defs><g fill=\"none\" fill-rule=\"evenodd\"><use fill=\"#222\" mask=\"url(#ui-badge-video_b)\" opacity=\".8\" stroke=\"#1D1D1D\" stroke-width=\"2\" xlink:href=\"#ui-badge-video_a\"></use><circle cx=\"15\" cy=\"16\" fill=\"#FFF\" r=\"8\"></circle><path d=\"M13 20 13 12 19 16z\" fill=\"#4A4A4A\"></path></g></symbol><mask fill=\"#fff\" height=\"31\" id=\"ui-badge-video_b\" maskcontentunits=\"userSpaceOnUse\" maskunits=\"objectBoundingBox\" width=\"31\" x=\"0\" y=\"0\"><use xlink:href=\"#ui-badge-video_a\"></use></mask><symbol id=\"ui-link-external\" viewbox=\"0 0 9 9\"><g fill-rule=\"evenodd\"><path d=\"M2,1 L4.02,1 L4.02,2 L2,2 C1,2 1,3 1,3 L1,7 C1,7.99 2,7.99 2,7.99 L6,7.99 C7,7.99 7,7 7,7 L7,5.01 L8,5.01 L8,7 C8,8.11 7.11,9 6,9 L2,9 C0.89,9 0,8.11 0,7 L0,3 C0,1.89 0.89,1 2,1 Z\" fill=\"#979797\"></path><path d=\"M8,1.57 L4.71,4.86 L4,4.16 L7.16,1 L5,1 L5,0 L8,0 L8,0.42 L8,0 L9,0 L9,4 L8,4 L8,1.57 Z\"></path></g></symbol><symbol id=\"ui-logo\" viewbox=\"0 0 252 42\"><path d=\"M35.6,2245.5 C35.6,2239.4 42.1,2239.2 49.7,2239.2 L50.8,2239.2 L50.8,2232.6 L49.4,2232.6 C41.8,2232.6 36.9,2232.1 36.9,2227.9 C36.9,2224.2 39.9,2223.1 43.8,2223.1 C48.9,2223.1 51.7,2224.2 53.8,2225.7 L53.8,2217.8 C51.7,2216.8 48.4,2216 43.8,2216 C35.1,2216 28.3,2219.3 28.3,2227.5 C28.3,2230.8 29.9,2234.9 34.6,2235.8 C29.8,2236.6 26.9,2241 26.9,2245.5 C26.9,2254.7 34.5,2258 43.8,2258 C50.5,2258 55,2257.1 58,2255 L58,2246.7 C55.8,2249 51,2250.9 45.5,2250.9 C41.2,2250.9 35.6,2249.5 35.6,2245.5 Z M132.6,2216.9 L89.1,2216.9 L89.1,2240.4 L62.5,2216 L62.1,2216 L62.1,2257.1 L70.7,2257.1 L70.7,2234.5 L97.4,2258 L97.8,2258 L97.8,2224 L110.8,2224 L110.8,2257.1 L119.4,2257.1 L119.4,2224 L132.6,2224 L132.6,2216.9 Z M11.7,2217.1 L3,2217.1 L3,2257 L25.8,2257 L25.8,2249.3 L11.7,2249.3 L11.7,2217.1 Z M214.3,2232.6 C214.3,2222.6 207.9,2217.1 197.2,2217.1 L184.5,2217.1 L184.5,2257 L193.1,2257 L193.1,2248.2 L197.2,2248.2 C198.4,2248.2 199.5,2248.2 200.6,2248 L208.5,2257 L218.7,2257 L208.3,2244.9 C212.1,2242 214.3,2237.6 214.3,2232.6 Z M196.3,2241.2 L193.1,2241.2 L193.1,2224.1 L196.4,2224.1 C202.6,2224.1 205.6,2227.2 205.6,2232.6 C205.6,2237.4 202.4,2241.2 196.3,2241.2 Z M174.7,2248.6 C172.1,2248.6 170,2250.6 170,2253.2 C170,2255.9 172.1,2258 174.7,2258 C177.2,2258 179.3,2255.9 179.3,2253.2 C179.3,2250.6 177.2,2248.6 174.7,2248.6 Z M246.3,2217.1 L246.3,2238.1 C246.3,2246.9 242.9,2250.9 237.4,2250.9 C231.7,2250.9 228.4,2246.9 228.4,2238.1 L228.4,2217.1 L219.7,2217.1 L219.7,2236.2 C219.7,2249.6 224.5,2258 237.4,2258 C250.3,2258 255,2249.4 255,2236.2 L255,2217.1 L246.3,2217.1 Z M145.5,2216 L145.1,2216 L124.3,2257 L133.6,2257 L136.6,2250.3 L154.4,2250.3 L157.6,2257 L166.9,2257 L145.5,2216 Z M139.7,2243.5 L145.3,2231.5 L151.1,2243.5 L139.7,2243.5 L139.7,2243.5 Z\" fill=\"currentColor\" fill-rule=\"evenodd\" transform=\"translate(-3 -2216)\"></path></symbol><symbol id=\"ui-search\" viewbox=\"0 0 14 14\"><path d=\"M11.6265,7.11825 L11.031,7.11825 L10.824,7.32375 C11.55525,8.1765 12,9.282 12,10.49325 C12,13.18575 9.8175,15.36825 7.125,15.36825 C4.4325,15.36825 2.25,13.18575 2.25,10.49325 C2.25,7.80075 4.4325,5.61825 7.125,5.61825 C8.33625,5.61825 9.441,6.06225 10.29375,6.79275 L10.50075,6.58725 L10.50075,5.99325 L14.24925,2.25 L15.3675,3.36825 L11.6265,7.11825 L11.6265,7.11825 Z M7.125,7.11825 C5.2605,7.11825 3.75,8.62875 3.75,10.49325 C3.75,12.357 5.2605,13.86825 7.125,13.86825 C8.98875,13.86825 10.5,12.357 10.5,10.49325 C10.5,8.62875 8.98875,7.11825 7.125,7.11825 L7.125,7.11825 Z\" fill-rule=\"evenodd\" transform=\"matrix(1 0 0 -1 -2 15.618)\"></path></symbol><symbol id=\"ui-topic_play\" viewbox=\"0 0 66 66\"><circle cx=\"32\" cy=\"32\" r=\"30\"></circle><path d=\"M25.8 40.6L25.8 23.8 42.5 32.2 25.8 40.6Z\" fill=\"#151515\" stroke=\"#151515\" stroke-linecap=\"round\" stroke-linejoin=\"round\"></path></symbol></defs></svg></div><div class=\"banner js-banner js-banner-fullscreen\" data-config-name=\"desktop_fullscreen\"></div><div class=\"layout js-layout\"><div class=\"layout__black-header\"></div><div class=\"layout__menu\"><div class=\"menu js-menu _hide\"><div class=\"menu__overlay js-menu-overlay\"></div><div class=\"menu__container\"><nav class=\"menu__nav\"><ul class=\"menu__nav-list\"><li class=\"menu__nav-item\"><a class=\"menu__nav-link _is-extra\" href=\"/\">Главное</a></li><li class=\"menu__nav-item\"><a class=\"menu__nav-link _is-extra\" href=\"/rubrics/russia/\">Россия</a></li><li class=\"menu__nav-item\"><a class=\"menu__nav-link _is-extra\" href=\"/rubrics/world/\">Мир</a></li><li class=\"menu__nav-item _active\"><a class=\"menu__nav-link _is-extra\" href=\"/rubrics/ussr/\">Бывший СССР</a></li><li class=\"menu__nav-item\"><a class=\"menu__nav-link _is-extra\" href=\"/rubrics/economics/\">Экономика</a></li><li class=\"menu__nav-item\"><a class=\"menu__nav-link _is-extra\" href=\"/rubrics/forces/\">Силовые структуры</a></li><li class=\"menu__nav-item\"><a class=\"menu__nav-link _is-extra\" href=\"/rubrics/science/\">Наука и техника</a></li><li class=\"menu__nav-item\"><a class=\"menu__nav-link _is-extra\" href=\"/rubrics/culture/\">Культура</a></li><li class=\"menu__nav-item\"><a class=\"menu__nav-link _is-extra\" href=\"/rubrics/sport/\">Спорт</a></li><li class=\"menu__nav-item\"><a class=\"menu__nav-link _is-extra\" href=\"/rubrics/media/\">Интернет и СМИ</a></li><li class=\"menu__nav-item\"><a class=\"menu__nav-link _is-extra\" href=\"/rubrics/style/\">Ценности </a></li><li class=\"menu__nav-item\"><a class=\"menu__nav-link _is-extra\" href=\"/rubrics/travel/\">Путешествия</a></li><li class=\"menu__nav-item\"><a class=\"menu__nav-link _is-extra\" href=\"/rubrics/life/\">Из жизни</a></li><li class=\"menu__nav-item\"><a class=\"menu__nav-link _is-extra\" href=\"/rubrics/realty/\">Среда обитания</a></li><li class=\"menu__nav-item\"><a class=\"menu__nav-link _is-extra\" href=\"/rubrics/wellness/\">Забота о себе</a></li><li class=\"menu__nav-separator\"></li><li class=\"menu__socials\"><ul class=\"social-links\"><li class=\"social-links__item\"><a aria-label=\"Открыть Вконтакте\" class=\"social-links__link\" href=\"https://vk.com/lentaru?utm_source=lentasocialbuttons&amp;utm_campaign=vk\" rel=\"noreferrer\" target=\"_blank\"><svg class=\"social-links__icon _vk\"><use xlink:href=\"#ui-social-vk\"></use></svg></a></li><li class=\"social-links__item\"><a aria-label=\"Открыть Телеграм\" class=\"social-links__link\" href=\"https://t.me/lentadnya/?utm_source=lentasocialbuttons&amp;utm_campaign=tlgrm\" rel=\"noreferrer\" target=\"_blank\"><svg class=\"social-links__icon _tg\"><use xlink:href=\"#ui-social-tg\"></use></svg></a></li><li class=\"social-links__item\"><a aria-label=\"Открыть Твиттер\" class=\"social-links__link\" href=\"https://twitter.com/lentaruofficial?utm_source=lentasocialbuttons&amp;utm_campaign=tw\" rel=\"noreferrer\" target=\"_blank\"><svg class=\"social-links__icon _tw\"><use xlink:href=\"#ui-social-tw\"></use></svg></a></li><li class=\"social-links__item\"><a aria-label=\"Открыть Одноклассники\" class=\"social-links__link\" href=\"https://ok.ru/lentaru/?utm_source=lentasocialbuttons&amp;utm_campaign=ok\" rel=\"noreferrer\" target=\"_blank\"><svg class=\"social-links__icon _ok\"><use xlink:href=\"#ui-social-ok\"></use></svg></a></li><li class=\"social-links__item\"><a aria-label=\"Открыть Ютуб\" class=\"social-links__link\" href=\"https://www.youtube.com/channel/UCfqU-kKXq868D6d4fy8fhkA?utm_source=lentasocialbuttons&amp;utm_campaign=youtube\" rel=\"noreferrer\" target=\"_blank\"><svg class=\"social-links__icon _yb\"><use xlink:href=\"#ui-social-yb\"></use></svg></a></li></ul></li><li class=\"menu__my\"><div class=\"my-icon js-my-icon _hidden _menu\"><button class=\"my-icon__button\">Войти</button><a class=\"my-icon__avatar\" href=\"/my/dashboard\"><svg class=\"my-icon__avatar-icon\"><use xlink:href=\"#ui-userpic\"></use></svg></a></div></li><li class=\"menu__nav-item\"><a class=\"menu__nav-link\" href=\"/parts/text/\">Статьи</a></li><li class=\"menu__nav-item\"><a class=\"menu__nav-link\" href=\"/parts/photo/\">Галереи</a></li><li class=\"menu__nav-item\"><a class=\"menu__nav-link\" href=\"/parts/video/\">Видео</a></li><li class=\"menu__nav-item\"><a class=\"menu__nav-link\" href=\"/specprojects/editor_choice/\">Спецпроекты</a></li><li class=\"menu__nav-item\"><a class=\"menu__nav-link\" href=\"/minigames\">Мини-игры</a></li><li class=\"menu__nav-item\"><a class=\"menu__nav-link\" href=\"https://motor.ru/?utm_source=menu_lenta\" rel=\"noreferrer\" target=\"_blank\">Мотор</a></li><li class=\"menu__nav-separator\"></li><li class=\"menu__nav-item\"><a class=\"menu__nav-link\" href=\"https://lenta.ru/archive/\" rel=\"noreferrer\" target=\"_blank\">Архив</a></li><li class=\"menu__search js-menu-search\"><div class=\"search-bar\"><input class=\"search-bar__input js-search-bar-input\" name=\"query\" placeholder=\"поиск...\" required=\"\" type=\"text\"/><button aria-label=\"Найти\" class=\"search-bar__submit js-search-bar-submit\" type=\"submit\"><svg class=\"search-bar__submit-icon\"><use xlink:href=\"#ui-search\"></use></svg></button></div></li></ul></nav></div></div></div><div class=\"layout__container\"><div class=\"layout__header-ghost js-layout-header-anchor\"></div><div class=\"layout__header js-layout-header\"><header class=\"header js-site-header\"><div class=\"scroll-bar js-scroll-bar _hidden\"></div><div class=\"header__left\"><button aria-label=\"Открыть меню\" class=\"header__burger js-burger-to-menu\" type=\"button\"></button><a aria-label=\"На главную\" class=\"header__logo\" href=\"/\"><svg class=\"header__logo-icon\"><use xlink:href=\"#ui-logo\"></use></svg></a></div><!--noindex--><div class=\"header__center\"><time class=\"header__time js-header-time\"></time></div><!--/noindex--><!--noindex--><div class=\"header__right js-header-right\"><a class=\"sberspasibo-button js-sberspasibo-button _hidden-feature\" href=\"/spasibo\"><svg class=\"sberspasibo-button__logo\"><use xlink:href=\"#ui-sberspasibo-logo\"></use></svg></a><div class=\"goodnews\"><label class=\"goodnews__label\"><span class=\"goodnews__title\">Лента добра</span><input class=\"goodnews__checkbox js-goodnews-tumbler\" type=\"checkbox\"/><span class=\"goodnews__tumbler\"></span><div class=\"goodnews__tooltip _turn-on\"><div class=\"goodnews__tooltip-text\">Хочешь видеть только хорошие новости? Жми!</div><svg class=\"goodnews__tooltip-balloon\"><use xlink:href=\"#ui-speech-balloon\"></use></svg><svg class=\"goodnews__tooltip-smile\"><use xlink:href=\"#ui-smile\"></use></svg></div><div class=\"goodnews__tooltip _turn-off _hidden\"><div class=\"goodnews__tooltip-text\">Вернуться в обычную ленту?</div><svg class=\"goodnews__tooltip-balloon\"><use xlink:href=\"#ui-speech-balloon\"></use></svg></div></label></div><div class=\"header__my\"><div class=\"my-icon js-my-icon _hidden _header\"><button class=\"my-icon__button\">Войти</button><a class=\"my-icon__avatar\" href=\"/my/dashboard\"><svg class=\"my-icon__avatar-icon\"><use xlink:href=\"#ui-userpic\"></use></svg></a></div></div></div><!--/noindex--></header></div><div class=\"ya-market-popup js-ya-market-popup\"><div class=\"ya-market-popup__wrap\"><iframe class=\"ya-market-popup__iframe\"></iframe><div class=\"ya-market-popup__close js-ya-market-popup-close\"></div></div></div><div class=\"banner js-banner\" data-config-name=\"desktop_show_up\"></div><div class=\"banner js-banner\" data-config-name=\"billboard\" id=\"billboard\"></div><main class=\"layout__content js-site-container\"><div class=\"layout__first-screen-ghost js-layout-first-screen-anchor\"></div><div class=\"topic-page__wrap js-topic\" id=\"news-2024-11-23-voenkor-otreagiroval-na-sluh-ob-udare-vsu-po-komandnomu-punktu-s-500-boytsami-kndr\"><div class=\"topic-page__anchor-wrap\"><div class=\"topic-page__anchor js-topic-page-anchor\" data-id=\"news-2024-11-23-voenkor-otreagiroval-na-sluh-ob-udare-vsu-po-komandnomu-punktu-s-500-boytsami-kndr\"></div></div><div class=\"rubric-header\"><div class=\"rubric-header__title-wrap\"><div class=\"rubric-header__title\">Бывший СССР</div></div><div class=\"rubric-header__container _ussr\"><a class=\"rubric-header__link\" href=\"/rubrics/ussr/\">Все</a><a class=\"rubric-header__link\" href=\"/rubrics/ussr/baltics/\">Прибалтика</a><a class=\"rubric-header__link _active\" href=\"/rubrics/ussr/ukraine/\">Украина</a><a class=\"rubric-header__link\" href=\"/rubrics/ussr/belarus/\">Белоруссия</a><a class=\"rubric-header__link\" href=\"/rubrics/ussr/moldova/\">Молдавия</a><a class=\"rubric-header__link\" href=\"/rubrics/ussr/kavkaz/\">Закавказье</a><a class=\"rubric-header__link\" href=\"/rubrics/ussr/middle_asia/\">Средняя Азия</a></div></div><div class=\"topic-page g-application _news\"><div class=\"topic-page__container\"><div class=\"topic-page__header\"><div class=\"topic-header _news\"><div class=\"topic-header__info\"><div class=\"topic-header__left-box\"><div class=\"topic-header__item\"><button class=\"bookmark js-bookmark\" data-topic-link=\"/news/2024/11/23/voenkor-otreagiroval-na-sluh-ob-udare-vsu-po-komandnomu-punktu-s-500-boytsami-kndr/\"><svg class=\"bookmark__icon\"><use xlink:href=\"#ui-bookmark\"></use></svg></button></div><a class=\"topic-header__item topic-header__time\" href=\"/2024/11/23/\">17:12, 23 ноября 2024</a><a class=\"topic-header__item topic-header__rubric\" href=\"/rubrics/ussr/\">Бывший СССР</a></div><div class=\"topic-header__sharings\"><div class=\"sharings js-sharings\"></div></div></div></div></div><div class=\"topic-page__content _news\"><div class=\"topic-body _news\"><h1 class=\"topic-body__titles\"><span class=\"topic-body__title\">Военкор отреагировал на слух об ударе ВСУ по командному пункту с 500 бойцами КНДР</span></h1><div class=\"topic-body__title-yandex\">Военкор Коц опроверг слух об ударе ВСУ по командному пункту с 500 бойцами КНДР</div><div class=\"topic-authors _opened\"><a class=\"topic-authors__author\" href=\"/parts/authors/alevtinazapolskaya/\"><div class=\"topic-authors__photo-wrap\"><img alt=\"Алевтина Запольская\" class=\"topic-authors__photo\" loading=\"lazy\" src=\"https://icdn.lenta.ru/images/2021/04/13/13/20210413131943417/portrait_f933eece247436fe421279aae4aed5c6.jpeg\"/></div><div class=\"topic-authors__info-wrap\"><span class=\"topic-authors__name\">Алевтина Запольская</span><span class=\"topic-authors__job\"> (Редактор отдела «Бывший СССР»)</span></div></a></div><div class=\"topic-body__title-image js-title-image\"><figure class=\"picture _news\"><div class=\"picture__image-wrap\"><a class=\"topic-body__title-image-zoom\" href=\"/comments/news/2024/11/23/voenkor-otreagiroval-na-sluh-ob-udare-vsu-po-komandnomu-punktu-s-500-boytsami-kndr/\"><svg class=\"topic-body__title-image-icons\"><use xlink:href=\"#ui-zoom_icons\"></use></svg><img class=\"picture__image\" height=\"160\" loading=\"lazy\" src=\"https://icdn.lenta.ru/images/2024/11/23/17/20241123171041396/owl_detail_240_20ee5c7c7ba1d1956c78c84d33a08651.jpg\" width=\"240\"/></a></div><figcaption class=\"description\"><p class=\"description__credits\">Фото: Stringer / Reuters</p></figcaption></figure></div><div class=\"topic-body__content\" id=\"articleBody_news-2024-11-23-voenkor-otreagiroval-na-sluh-ob-udare-vsu-po-komandnomu-punktu-s-500-boytsami-kndr\"><p class=\"topic-body__content-text\">Военкор <a href=\"/tags/persons/kots-aleksandr/\" target=\"_blank\">Александр Коц</a> опроверг слух об ударе <a href=\"/tags/organizations/vsu/\" target=\"_blank\">Вооруженных сил </a><a href=\"/tags/geo/ukraina/\" target=\"_blank\">Украины</a> (ВСУ) по командному пункту в Курской области с 500 бойцами КНДР. Об этом он написал в своем <a href=\"https://t.me/sashakots/50363\" rel=\"nofollow\" target=\"_blank\">Telegram</a>-канале.</p><p class=\"topic-body__content-text\">По его словам, на Украине весь день распространяют информацию о «каких-то мифических потерях в результате удара по КП в Марьино». Военкор отметил, что в командном пункте не может быть такого числа людей. «И про гибель руководства группировки \"Север\" такая же брехня», — подчеркнул Коц.</p><p class=\"topic-body__content-text\">Ранее Telegram-канал «Военкоры Русской весны» <a href=\"https://lenta.ru/news/2024/11/23/kiev-rasprostranil-sluhi-o-gibeli-rossiyskogo-generala-i-500-soldat-kndr-radi-odnoy-tseli/\" target=\"_blank\">рассказал</a>, что украинская сторона распространяет слухи о том, что в результате удара ракеты Storm Shadow по командному пункту в Курской области погиб замкомандующего группировкой войск «Север» генерал-лейтенант Валерий Солодчук, а также около 500 солдат из КНДР.<br/></p></div></div><div class=\"topic-body-ghost js-topic-body-anchor\"></div><div class=\"topic-footer js-topic-footer\"><!--noindex--><div class=\"emoji-bar js-emoji-bar\"><div class=\"emoji-bar__title\">Что думаешь? Оцени!</div><ul class=\"emoji-bar__emoji-list js-emoji-list\"></ul></div><div class=\"emoji-bar js-emoji-bar _branded _hidden-feature\"><div class=\"emoji-bar__wrap js-emoji-bar-background\"><div class=\"emoji-bar__background\"></div><div class=\"emoji-bar__progress\"></div></div><ul class=\"emoji-bar__emoji-list js-emoji-list\"></ul><button class=\"emoji-bar__btn js-emoji-bar-btn\"><svg class=\"emoji-bar__btn-logo\"><use xlink:href=\"#ui-sberspasibo-logo\"></use></svg></button></div><!--/noindex--><div class=\"box-snippet b-box js-box-snippet\"><script>\n",
              "  window._lentaData = window._lentaData || {};\n",
              "  window._lentaData.yandexGames = true;\n",
              "</script></div><div class=\"box-external-video\"><div class=\"box-external-video__eagle js-video-eagle\" data-template=\"10740\" data-vid=\"record::27876625-64c2-4e94-8799-cedd86c6536e\" id=\"eagleplayer-27876625-64c2-4e94-8799-cedd86c6536e-news-2024-11-23-voenkor-otreagiroval-na-sluh-ob-udare-vsu-po-komandnomu-punktu-s-500-boytsami-kndr\"></div></div><div class=\"topic-page__info\"><div class=\"comments\"><a class=\"comments__btn\" href=\"/comments/news/2024/11/23/voenkor-otreagiroval-na-sluh-ob-udare-vsu-po-komandnomu-punktu-s-500-boytsami-kndr/\">Обсудить<span class=\"comments__count js-comments-count\" id=\"comments-count-news-2024-11-23-voenkor-otreagiroval-na-sluh-ob-udare-vsu-po-komandnomu-punktu-s-500-boytsami-kndr\"></span></a></div></div><div class=\"banner js-banner\" data-config-name=\"100%x240\"></div></div></div></div><div class=\"sidebar\"><div class=\"sidebar__okko banner js-banner\" data-config-name=\"okko_top\"></div><div class=\"sidebar-topnews\"><div class=\"sidebar-topnews__title\">Последние новости</div><div class=\"sidebar-topnews__topics\"><a class=\"card-mini _compact _sidebar-topnews\" href=\"/news/2024/11/23/v-minoborony-ob-yasnili-snyaetie-anashkina-s-dolzhnosti-komanduyuschego-gruppirovkoy-voysk-yug/\"><div class=\"card-mini__text\"><h3 class=\"card-mini__title\">В Минобороны объяснили снятие Анашкина с должности командующего группировкой войск «Юг»</h3><div class=\"card-mini__info\"><time class=\"card-mini__info-item\">17:51</time></div></div></a><a class=\"card-mini _compact _sidebar-topnews\" href=\"/news/2024/11/23/v-shveytsarii-vystupili-protiv-lyuboy-novoy-pomoschi-ukraine/\"><div class=\"card-mini__text\"><h3 class=\"card-mini__title\">В Швейцарии выступили против любой новой помощи Украине</h3><div class=\"card-mini__info\"><time class=\"card-mini__info-item\">17:55</time></div></div></a><a class=\"card-mini _compact _sidebar-topnews\" href=\"/news/2024/11/23/ukraina-poteryala-bolee-40-protsentov-zanyatyh-territoriy-v-kurskoy-oblasti/\"><div class=\"card-mini__text\"><h3 class=\"card-mini__title\">Украина потеряла более 40 процентов занятых территорий в Курской области</h3><div class=\"card-mini__info\"><time class=\"card-mini__info-item\">17:55</time></div></div></a><a class=\"card-mini _compact _sidebar-topnews\" href=\"/news/2024/11/23/mask-ob-yasnil-neobhodimost-poleta-na-mars/\"><div class=\"card-mini__text\"><h3 class=\"card-mini__title\">Маск объяснил необходимость полета на Марс</h3><div class=\"card-mini__info\"><time class=\"card-mini__info-item\">17:50</time></div></div></a><a class=\"card-mini _compact _sidebar-topnews\" href=\"/news/2024/11/23/harakteristiki-iskandera/\"><div class=\"card-mini__text\"><h3 class=\"card-mini__title\">Раскрыты главные характеристики уничтожившего украинский МиГ-29 «Искандера»</h3><div class=\"card-mini__info\"><time class=\"card-mini__info-item\">17:37</time></div></div></a><a class=\"card-mini _compact _sidebar-topnews\" href=\"/news/2024/11/23/glavnyy-soyuznik-trampa-vystupil-protiv-peregovorov-s-rossiey/\"><div class=\"card-mini__text\"><h3 class=\"card-mini__title\">Главный союзник Трампа выступил против переговоров с Россией</h3><div class=\"card-mini__info\"><time class=\"card-mini__info-item\">17:36</time></div></div></a><a class=\"card-mini _compact _sidebar-topnews\" href=\"/news/2024/11/23/eks-polkovnik-sbu-obratilsya-k-vsu-iz-za-situatsii-v-zone-svo/\"><div class=\"card-mini__text\"><h3 class=\"card-mini__title\">Бывший полковник СБУ обратился к ВСУ из-за ситуации в зоне спецоперации</h3><div class=\"card-mini__info\"><time class=\"card-mini__info-item\">17:30</time></div></div></a><a class=\"card-mini _compact _sidebar-topnews\" href=\"/news/2024/11/23/petr-yan-oderzhal-pobedu-na-turnire-ufc/\"><div class=\"card-mini__text\"><h3 class=\"card-mini__title\">Петр Ян одержал победу на турнире UFC</h3><div class=\"card-mini__info\"><time class=\"card-mini__info-item\">17:25</time></div></div></a><a class=\"card-mini _compact _sidebar-topnews\" href=\"/news/2024/11/23/kadyrov-rasskazal-ob-unichtozhenii-opornikov-vsu-v-chernigovskoy-oblasti/\"><div class=\"card-mini__text\"><h3 class=\"card-mini__title\">Кадыров рассказал об уничтожении опорников ВСУ в Черниговской области</h3><div class=\"card-mini__info\"><time class=\"card-mini__info-item\">17:24</time></div></div></a><a class=\"card-mini _compact _sidebar-topnews\" href=\"/news/2024/11/23/voenkor-otreagiroval-na-sluh-ob-udare-vsu-po-komandnomu-punktu-s-500-boytsami-kndr/\"><div class=\"card-mini__text\"><h3 class=\"card-mini__title\">Военкор отреагировал на слух об ударе ВСУ по командному пункту с 500 бойцами КНДР</h3><div class=\"card-mini__info\"><time class=\"card-mini__info-item\">17:12</time></div></div></a></div><a class=\"sidebar-topnews__button\" href=\"/parts/news/\" target=\"_blank\">Все новости</a></div><div class=\"sidebar__sticky\"><div class=\"banner js-banner\" data-config-name=\"240x400\"></div><div class=\"banner banner-card js-banner\" data-config-name=\"300x300\"></div></div></div><script>window._lentaData = window._lentaData || {};\n",
              "window._lentaData.infinityScroll = true;</script><script class=\"json-topic-info\" type=\"application/json\">{\n",
              "  \"type\":  \"NewsArticle\",\n",
              "  \"headline\": \"Военкор отреагировал на слух об ударе ВСУ по командному пункту с 500 бойцами КНДР\",\n",
              "  \"alternativeHeadline\": \"Военкор Коц опроверг слух об ударе ВСУ по командному пункту с 500 бойцами КНДР\",\n",
              "  \"url\": \"https://lenta.ru/news/2024/11/23/voenkor-otreagiroval-na-sluh-ob-udare-vsu-po-komandnomu-punktu-s-500-boytsami-kndr/\",\n",
              "  \"mainEntityOfPage\": {\n",
              "    \"@type\": \"WebPage\",\n",
              "    \"@id\": \"https://lenta.ru/news/2024/11/23/voenkor-otreagiroval-na-sluh-ob-udare-vsu-po-komandnomu-punktu-s-500-boytsami-kndr/\"\n",
              "  },\n",
              "  \"thumbnailUrl\": [\"https://icdn.lenta.ru/images/2024/11/23/17/20241123171041396/square_1280_eac3f3ed21fa512d8c2be35920367b46.jpg\",\"https://icdn.lenta.ru/images/2024/11/23/17/20241123171041396/wide_4_3_9e42b6e28328fd2a4b8d36caeed0bbc9.jpg\",\"https://icdn.lenta.ru/images/2024/11/23/17/20241123171041396/wide_16_9_15ee39871fc2a9f0cfa26f0d4a110556.jpg\"],\n",
              "  \"dateCreated\": \"2024-11-23T17:12:27+03:00\",\n",
              "  \"dateUpdated\": \"2024-11-23T17:12:27+03:00\",\n",
              "  \"author\": {\n",
              "    \"@type\": \"Person\",\n",
              "    \"name\": \"Алевтина Запольская\",\n",
              "    \"url\": \"https://lenta.ru/parts/authors/alevtinazapolskaya/\"\n",
              "  },\n",
              "  \"publisher\": {\n",
              "    \"@type\": \"Organization\",\n",
              "    \"name\": \"Lenta.ru\",\n",
              "    \"url\": \"https://lenta.ru/\",\n",
              "    \"logo\": {\n",
              "      \"@type\": \"ImageObject\",\n",
              "      \"url\": \"https://icdn.lenta.ru/assets/webpack/images/lenta_logo_pwa.78bc0e5e.png\",\n",
              "      \"width\": 302,\n",
              "      \"height\": 60\n",
              "    }\n",
              "  },\n",
              "  \"image\": [{\"@type\":\"ImageObject\",\"representativeOfPage\":\"true\",\"url\":\"https://icdn.lenta.ru/images/2024/11/23/17/20241123171041396/square_1280_eac3f3ed21fa512d8c2be35920367b46.jpg\",\"width\":1280,\"height\":1280},{\"@type\":\"ImageObject\",\"representativeOfPage\":\"true\",\"url\":\"https://icdn.lenta.ru/images/2024/11/23/17/20241123171041396/wide_4_3_9e42b6e28328fd2a4b8d36caeed0bbc9.jpg\",\"width\":1280,\"height\":960},{\"@type\":\"ImageObject\",\"representativeOfPage\":\"true\",\"url\":\"https://icdn.lenta.ru/images/2024/11/23/17/20241123171041396/wide_16_9_15ee39871fc2a9f0cfa26f0d4a110556.jpg\",\"width\":1280,\"height\":720}],\n",
              "  \"articleBody\": {\n",
              "    \"@type\": \"Text\",\n",
              "    \"@id\": \"#articleBody_news-2024-11-23-voenkor-otreagiroval-na-sluh-ob-udare-vsu-po-komandnomu-punktu-s-500-boytsami-kndr\"\n",
              "  },\n",
              "\n",
              "  \"title\": \"Военкор отреагировал на слух об ударе ВСУ по командному пункту с 500 бойцами КНДР: Украина: Бывший СССР: Lenta.ru\",\n",
              "  \"ogTitle\": \"Военкор отреагировал на слух об ударе ВСУ по командному пункту с 500 бойцами КНДР\",\n",
              "  \"description\": \"Военкор Александр Коц опроверг слух об ударе Вооруженных сил Украины (ВСУ) по командному пункту в Курской области с 500 бойцами КНДР. Об этом он написал в своем Telegram-канале\",\n",
              "  \"link\": \"/news/2024/11/23/voenkor-otreagiroval-na-sluh-ob-udare-vsu-po-komandnomu-punktu-s-500-boytsami-kndr/\",\n",
              "  \"linkWithParams\": \"/news/2024/11/23/voenkor-otreagiroval-na-sluh-ob-udare-vsu-po-komandnomu-punktu-s-500-boytsami-kndr/\",\n",
              "  \"isGood\": false,\n",
              "  \"ogImage\": \"https://icdn.lenta.ru/images/2024/11/23/17/20241123171041396/share_e3ea75499aa2885fb6cf190ca81cd3e1.jpg\",\n",
              "  \"partSlug\": \"\",\n",
              "  \"rubricSlug\": \"ussr\"\n",
              "}</script></div><!--noindex--><div class=\"traffic-exchange js-traffic-exchange\" data-type=\"owl_horizontal\" id=\"news-2024-11-23-voenkor-otreagiroval-na-sluh-ob-udare-vsu-po-komandnomu-punktu-s-500-boytsami-kndr_exchange_bottom\"><script>window._lentaData = window._lentaData || {};\n",
              "window._lentaData.exchange = window._lentaData.exchange || {};\n",
              "window._lentaData.exchange.banners = window._lentaData.exchange.banners || [];\n",
              "window._lentaData.exchange.banners.push({\n",
              "  blockId: \"99317\",\n",
              "  type: \"smi2\",\n",
              "  markup: \"\\u003cdiv id=\\\"unit_99317\\\"\\u003e\\u003ca href=\\\"https://smi2.ru/\\\"\\u003eНовости СМИ2\\u003c/a\\u003e\\u003c/div\\u003e\",\n",
              "  elementId: \"news-2024-11-23-voenkor-otreagiroval-na-sluh-ob-udare-vsu-po-komandnomu-punktu-s-500-boytsami-kndr_exchange_bottom\"\n",
              "});</script><script>window._lentaData = window._lentaData || {};\n",
              "window._lentaData.exchange = window._lentaData.exchange || {};\n",
              "window._lentaData.exchange.banners = window._lentaData.exchange.banners || [];\n",
              "window._lentaData.exchange.banners.push({\n",
              "  blockId: \"24787\",\n",
              "  type: \"24smi\",\n",
              "  markup: \"\\u003cdiv class=\\\"smi24__informer smi24__auto\\\" data-smi-blockid=\\\"24787\\\"\\u003e\\u003c/div\\u003e\",\n",
              "  elementId: \"news-2024-11-23-voenkor-otreagiroval-na-sluh-ob-udare-vsu-po-komandnomu-punktu-s-500-boytsami-kndr_exchange_bottom\"\n",
              "});</script></div><!--/noindex--></div></main><div class=\"layout__footer-ghost js-layout-footer-anchor\"></div><div class=\"layout__footer js-layout-footer\"><div class=\"footer\"><div class=\"footer__menu\"><div class=\"footer__links\"><a class=\"footer__link\" href=\"/info/\">Редакция</a><a class=\"footer__link\" href=\"/info/posts/sales\">Реклама</a><a class=\"footer__link\" href=\"/info/posts/contacts\">Контакты</a><a class=\"footer__link\" href=\"/parts/pressreleases/\">Пресс-релизы</a><a class=\"footer__link\" href=\"mailto:it@lenta-co.ru\">Техподдержка</a><a class=\"footer__link\" href=\"/specprojects/\">Спецпроекты</a><a class=\"footer__link\" href=\"https://ramblergroup.com/career\" target=\"_blank\">Вакансии</a><a class=\"footer__link\" href=\"/rss\">RSS</a><a class=\"footer__link\" href=\"/info/posts/terms_of_use/\">Условия использования</a><a class=\"footer__link\" href=\"/info/posts/privacy_policy\">Политика конфиденциальности</a><a class=\"footer__link\" href=\"/info/posts/recommendation_rules\">Правила применения рекомендательных технологий</a><a class=\"footer__link\" href=\"/minigames\">Мини-игры</a></div></div><div class=\"footer__versions\"><div class=\"footer__copyright\">© 1999–2024 ООО «Лента.Ру»</div><div class=\"footer__erratum\"><div class=\"footer__erratum-text\">Нашли опечатку? Нажмите</div><div class=\"footer__erratum-dark\">Ctrl+Enter</div></div><div class=\"footer__age-limit\">18+</div></div></div></div></div><div class=\"goodnews-popup js-goodnews-popup _hide\"><!--noindex--><div class=\"goodnews-popup__wrap\"><div class=\"goodnews-popup__text\"><div class=\"goodnews-popup__title\">Лента добра деактивирована.</div><div class=\"goodnews-popup__subtitle\">Добро пожаловать в реальный мир.</div></div></div><!--/noindex--></div><div class=\"missed-news js-missed-news\"><button class=\"missed-news__alert js-missed-news-alert\"><span class=\"missed-news__title js-missed-news-count\" data-count=\"0\">Новые материалы</span></button><div class=\"missed-news__popup js-missed-news-popup\"><div class=\"missed-news__popup-content\"><button class=\"missed-news__close js-missed-news-close\"></button><div class=\"missed-news__list-wrap js-missed-news-wrap\"></div><a class=\"missed-news__button js-parts-button\" href=\"/parts/news/\" target=\"_blank\">Все новости</a></div></div></div><!--noindex--><div class=\"ss-promo-popup js-ss-promo-popup _hidden\"><div class=\"ss-promo-popup__wrap\"><div class=\"ss-promo-popup__close\"></div><div class=\"ss-promo-popup__header\"><div class=\"ss-promo-popup__bg\"><div class=\"ss-promo-popup__bonus1\"></div><div class=\"ss-promo-popup__bonus2\"></div><div class=\"ss-promo-popup__bonus3\"></div></div><div class=\"ss-promo-popup__logo\"><svg class=\"ss-promo-popup__logo-icon\"><use xlink:href=\"#ui-sberspasibo-logo\"></use></svg></div><div class=\"ss-promo-popup__title\">Бонусы за ваши реакции на Lenta.ru</div></div><div class=\"ss-promo-popup__body\"><div class=\"ss-promo-popup__subtitle\">Как это работает?</div><div class=\"ss-promo-popup__steps\"><div class=\"ss-promo-popup__step\"><svg class=\"ss-promo-popup__step-icon\"><use xlink:href=\"#ui-sber-book\"></use></svg><div class=\"ss-promo-popup__step-content\"><div class=\"ss-promo-popup__step-title\">Читайте</div><div class=\"ss-promo-popup__step-text\">Погружайтесь в увлекательные статьи, новости и материалы на Lenta.ru</div></div></div><div class=\"ss-promo-popup__step\"><svg class=\"ss-promo-popup__step-icon\"><use xlink:href=\"#ui-sber-thumbup\"></use></svg><div class=\"ss-promo-popup__step-content\"><div class=\"ss-promo-popup__step-title\">Оценивайте</div><div class=\"ss-promo-popup__step-text\">Выражайте свои эмоции к материалам с помощью реакций</div></div></div><div class=\"ss-promo-popup__step\"><svg class=\"ss-promo-popup__step-icon\"><use xlink:href=\"#ui-sber-bonus\"></use></svg><div class=\"ss-promo-popup__step-content\"><div class=\"ss-promo-popup__step-title\">Получайте бонусы</div><div class=\"ss-promo-popup__step-text\">Накапливайте их и обменивайте на скидки до 99%</div></div></div></div><div class=\"ss-promo-popup__consent\">Продолжая, Вы выражаете согласие с <a class=\"ss-promo-popup__consent-link\" href=\"#\">условиями акции Lenta.ru</a>, <a class=\"ss-promo-popup__consent-link\" href=\"#\">условиями</a> и <a class=\"ss-promo-popup__consent-link\" href=\"#\">политикой конфиденциальности</a> Rambler ID</div><button class=\"ss-promo-popup__btn js-ss-promo-popup-btn\" type=\"button\"><svg class=\"ss-promo-popup__btn-icon\"><use xlink:href=\"#ui-sber-logo\"></use></svg>Войти по Сбер ID</button><a class=\"ss-promo-popup__btn _white\" href=\"/spasibo\" target=\"_blank\">Узнать больше</a></div></div></div><!--/noindex--></div><script>(function(m,e,t,r,i,k,a){m[i]=m[i]||function(){(m[i].a=m[i].a||[]).push(arguments)};\n",
              "  m[i].l=1*new Date();k=e.createElement(t),a=e.getElementsByTagName(t)[0],k.async=1,k.src=r,a.parentNode.insertBefore(k,a)})\n",
              "(window, document, \"script\", \"https://cdn.jsdelivr.net/npm/yandex-metrica-watch/tag.js\", \"ym\");\n",
              "ym(27714477, 'init', {\n",
              "  clickmap: true,\n",
              "  trackLinks: true,\n",
              "  accurateTrackBounce: true,\n",
              "  defer: true,\n",
              "  params: {\n",
              "    app_type: 'Web - Desktop',\n",
              "    mode: \"default\",\n",
              "    news_type: \"bad\"\n",
              "  }\n",
              "});</script><noscript><div><img alt=\"\" src=\"//mc.yandex.ru/watch/27714477\" style=\"position:absolute; left:-9999px;\"/></div></noscript><script>function isLocalStorageEnabled() {\n",
              "  try {\n",
              "    window.localStorage;\n",
              "    return true;\n",
              "  } catch {\n",
              "    return false;\n",
              "  }\n",
              "}\n",
              "function getCookie(name) {\n",
              "  const regexp = new RegExp(`(?:^|; )${name}=(.*?)(?:;|$)`);\n",
              "  const result = document.cookie.match(regexp);\n",
              "  return result && result[1];\n",
              "}\n",
              "var PROJECT_ID = 80674;\n",
              "(function (w, d, c) {\n",
              "  (w[c] = w[c] || []).push(function() {\n",
              "    var options = {\n",
              "      project: PROJECT_ID,\n",
              "      chapters: [\"Главная_страница\",\"Страница_подраздела\",\"lenta.ru\"], // Chapters страницы\n",
              "      attributes_dataset: [\"blocks\"],\n",
              "      user_id: isLocalStorageEnabled() && localStorage.getItem('user_id') || null,\n",
              "      pubId: getCookie('lid'),\n",
              "      pubScope: '.lenta.ru',\n",
              "      ramblerId: null,\n",
              "      email: null\n",
              "    };\n",
              "    try {\n",
              "      w.top100Counter = new top100(options);\n",
              "    } catch(e) { }\n",
              "  });\n",
              "\n",
              "  var n = d.getElementsByTagName(\"script\")[0],\n",
              "    s = d.createElement(\"script\"),\n",
              "    f = function () { n.parentNode.insertBefore(s, n); };\n",
              "  s.type = \"text/javascript\";\n",
              "  s.async = true;\n",
              "  s.src =\n",
              "    (d.location.protocol == \"https:\" ? \"https:\" : \"http:\") +\n",
              "    \"//st.top100.ru/top100/top100.js\";\n",
              "\n",
              "  if (w.opera == \"[object Opera]\") {\n",
              "    d.addEventListener(\"DOMContentLoaded\", f, false);\n",
              "  } else { f(); }\n",
              "})(window, document, \"_top100q\");</script><noscript><img src=\"//counter.rambler.ru/top100.cnt?pid=80674\"/></noscript><script>(function(win, doc, cb) {\n",
              "  (win[cb] = win[cb] || []).push(function() {\n",
              "    var options = {\n",
              "      'account': 'rambler_ru',\n",
              "      'tmsec': \"lenta_xussr\"\n",
              "    };\n",
              "    try {\n",
              "      tnsCounterRambler_ru = new TNS.TnsCounter(options);\n",
              "    } catch(e) { }\n",
              "  });\n",
              "\n",
              "  var tnsscript = doc.createElement('script');\n",
              "  tnsscript.type = 'text/javascript';\n",
              "  tnsscript.async = true;\n",
              "  tnsscript.src = ('https:' == doc.location.protocol ? 'https:' : 'http:') +\n",
              "    '//www.tns-counter.ru/tcounter.js';\n",
              "  var s = doc.getElementsByTagName('script')[0];\n",
              "  s.parentNode.insertBefore(tnsscript, s);\n",
              "})(window, this.document, 'tnscounter_callback');</script><noscript><img alt=\"\" height=\"0\" src=\"//www.tns-counter.ru/V13a****rambler_ru/ru/UTF-8/tmsec=lenta_xussr/\" width=\"0\"/></noscript><script>var _tmr = window._tmr || (window._tmr = []);\n",
              "_tmr.push({id: \"3311946\", type: \"pageView\", start: (new Date()).getTime()});\n",
              "(function (d, w, id) {\n",
              "  if (d.getElementById(id)) return;\n",
              "  var ts = d.createElement(\"script\");\n",
              "  ts.type = \"text/javascript\";\n",
              "  ts.async = true;\n",
              "  ts.id = id;\n",
              "  ts.src = \"https://top-fwz1.mail.ru/js/code.js\";\n",
              "  var f = function () {\n",
              "    var s = d.getElementsByTagName(\"script\")[0];\n",
              "    s.parentNode.insertBefore(ts, s);\n",
              "  };\n",
              "  if (w.opera == \"[object Opera]\") {\n",
              "    d.addEventListener(\"DOMContentLoaded\", f, false);\n",
              "  } else {\n",
              "    f();\n",
              "  }\n",
              "})(document, window, \"tmr-code\");</script><noscript><div><img alt=\"Top.Mail.Ru\" src=\"https://top-fwz1.mail.ru/counter?id=3311946;js=na\" style=\"position:absolute;left:-9999px;\"/></div></noscript><script>window._lentaData = window._lentaData || {};\n",
              "window._lentaData.branding = \"\";\n",
              "\n",
              "function getXuid() {\n",
              "  const result = document.cookie.match(/(?:^|; )lid=(.*?)(?:;|$)/);\n",
              "  return result && result[1];\n",
              "}\n",
              "window._config_aab = {\n",
              "  publisherFirstParty: {\n",
              "    uid: getXuid(),\n",
              "    scope: '.lenta.ru'\n",
              "  }\n",
              "};</script></body></html>"
            ]
          },
          "metadata": {},
          "execution_count": 8
        }
      ]
    },
    {
      "cell_type": "code",
      "source": [
        "soup.title.string"
      ],
      "metadata": {
        "colab": {
          "base_uri": "https://localhost:8080/",
          "height": 36
        },
        "id": "QtXDFgr0hpr-",
        "outputId": "4ff87e02-1fd9-4fd1-b279-797e95c8d8dd"
      },
      "execution_count": 9,
      "outputs": [
        {
          "output_type": "execute_result",
          "data": {
            "text/plain": [
              "'Военкор отреагировал на слух об ударе ВСУ по командному пункту с 500 бойцами КНДР: Украина: Бывший СССР: Lenta.ru'"
            ],
            "application/vnd.google.colaboratory.intrinsic+json": {
              "type": "string"
            }
          },
          "metadata": {},
          "execution_count": 9
        }
      ]
    },
    {
      "cell_type": "code",
      "source": [
        "soup.title.parent.name"
      ],
      "metadata": {
        "colab": {
          "base_uri": "https://localhost:8080/",
          "height": 36
        },
        "id": "iiHCjF_-hppc",
        "outputId": "721ba6f2-c218-42b7-bf65-80ea77e7d341"
      },
      "execution_count": 10,
      "outputs": [
        {
          "output_type": "execute_result",
          "data": {
            "text/plain": [
              "'head'"
            ],
            "application/vnd.google.colaboratory.intrinsic+json": {
              "type": "string"
            }
          },
          "metadata": {},
          "execution_count": 10
        }
      ]
    },
    {
      "cell_type": "markdown",
      "source": [
        "Текст каждой новости разбит на составные части и содержится в объектах с признаком class = '**topic-body__content-text**'\n",
        "\n",
        "Соберем их все воедино"
      ],
      "metadata": {
        "id": "kLyk6HBokRAL"
      }
    },
    {
      "cell_type": "code",
      "source": [
        "soup.find_all(class_ = 'topic-body__content-text')"
      ],
      "metadata": {
        "colab": {
          "base_uri": "https://localhost:8080/"
        },
        "id": "GZ2WDn69i_tl",
        "outputId": "f3830337-2ce2-443d-d36d-837742071a7c"
      },
      "execution_count": 13,
      "outputs": [
        {
          "output_type": "execute_result",
          "data": {
            "text/plain": [
              "[<p class=\"topic-body__content-text\">Военкор <a href=\"/tags/persons/kots-aleksandr/\" target=\"_blank\">Александр Коц</a> опроверг слух об ударе <a href=\"/tags/organizations/vsu/\" target=\"_blank\">Вооруженных сил </a><a href=\"/tags/geo/ukraina/\" target=\"_blank\">Украины</a> (ВСУ) по командному пункту в Курской области с 500 бойцами КНДР. Об этом он написал в своем <a href=\"https://t.me/sashakots/50363\" rel=\"nofollow\" target=\"_blank\">Telegram</a>-канале.</p>,\n",
              " <p class=\"topic-body__content-text\">По его словам, на Украине весь день распространяют информацию о «каких-то мифических потерях в результате удара по КП в Марьино». Военкор отметил, что в командном пункте не может быть такого числа людей. «И про гибель руководства группировки \"Север\" такая же брехня», — подчеркнул Коц.</p>,\n",
              " <p class=\"topic-body__content-text\">Ранее Telegram-канал «Военкоры Русской весны» <a href=\"https://lenta.ru/news/2024/11/23/kiev-rasprostranil-sluhi-o-gibeli-rossiyskogo-generala-i-500-soldat-kndr-radi-odnoy-tseli/\" target=\"_blank\">рассказал</a>, что украинская сторона распространяет слухи о том, что в результате удара ракеты Storm Shadow по командному пункту в Курской области погиб замкомандующего группировкой войск «Север» генерал-лейтенант Валерий Солодчук, а также около 500 солдат из КНДР.<br/></p>]"
            ]
          },
          "metadata": {},
          "execution_count": 13
        }
      ]
    },
    {
      "cell_type": "code",
      "source": [
        "text = ''\n",
        "for block in soup.find_all(class_ = 'topic-body__content-text'):\n",
        " text = ''.join([text, block.get_text()])\n",
        "\n",
        "text"
      ],
      "metadata": {
        "colab": {
          "base_uri": "https://localhost:8080/",
          "height": 105
        },
        "id": "CW512TEBi_rj",
        "outputId": "d65fa7d1-dacf-4bec-8309-443fbd7b7a34"
      },
      "execution_count": 27,
      "outputs": [
        {
          "output_type": "execute_result",
          "data": {
            "text/plain": [
              "'Военкор Александр Коц опроверг слух об ударе Вооруженных сил Украины (ВСУ) по командному пункту в Курской области с 500 бойцами КНДР. Об этом он написал в своем Telegram-канале.По его словам, на Украине весь день распространяют информацию о «каких-то мифических потерях в результате удара по КП в Марьино». Военкор отметил, что в командном пункте не может быть такого числа людей. «И про гибель руководства группировки \"Север\" такая же брехня», — подчеркнул Коц.Ранее Telegram-канал «Военкоры Русской весны» рассказал, что украинская сторона распространяет слухи о том, что в результате удара ракеты Storm Shadow по командному пункту в Курской области погиб замкомандующего группировкой войск «Север» генерал-лейтенант Валерий Солодчук, а также около 500 солдат из КНДР.'"
            ],
            "application/vnd.google.colaboratory.intrinsic+json": {
              "type": "string"
            }
          },
          "metadata": {},
          "execution_count": 27
        }
      ]
    },
    {
      "cell_type": "markdown",
      "source": [
        "# Удаление стоп-слов (не имеющих смысла)"
      ],
      "metadata": {
        "id": "YErbeWvfpTu-"
      }
    },
    {
      "cell_type": "code",
      "source": [
        "pip install nltk"
      ],
      "metadata": {
        "colab": {
          "base_uri": "https://localhost:8080/"
        },
        "id": "Sl8fv8SGi_pD",
        "outputId": "69cc84be-3012-4e03-aceb-5d8a0fe4a364"
      },
      "execution_count": 15,
      "outputs": [
        {
          "output_type": "stream",
          "name": "stdout",
          "text": [
            "Requirement already satisfied: nltk in /usr/local/lib/python3.10/dist-packages (3.9.1)\n",
            "Requirement already satisfied: click in /usr/local/lib/python3.10/dist-packages (from nltk) (8.1.7)\n",
            "Requirement already satisfied: joblib in /usr/local/lib/python3.10/dist-packages (from nltk) (1.4.2)\n",
            "Requirement already satisfied: regex>=2021.8.3 in /usr/local/lib/python3.10/dist-packages (from nltk) (2024.9.11)\n",
            "Requirement already satisfied: tqdm in /usr/local/lib/python3.10/dist-packages (from nltk) (4.66.6)\n"
          ]
        }
      ]
    },
    {
      "cell_type": "code",
      "source": [
        "import nltk\n",
        "nltk.download('stopwords')"
      ],
      "metadata": {
        "colab": {
          "base_uri": "https://localhost:8080/"
        },
        "id": "1TzTvCozi_mj",
        "outputId": "173c4b81-335e-4c0b-87b1-d6e218893912"
      },
      "execution_count": 16,
      "outputs": [
        {
          "output_type": "stream",
          "name": "stderr",
          "text": [
            "[nltk_data] Downloading package stopwords to /root/nltk_data...\n",
            "[nltk_data]   Unzipping corpora/stopwords.zip.\n"
          ]
        },
        {
          "output_type": "execute_result",
          "data": {
            "text/plain": [
              "True"
            ]
          },
          "metadata": {},
          "execution_count": 16
        }
      ]
    },
    {
      "cell_type": "code",
      "source": [
        "from nltk.corpus import stopwords\n",
        "stopwords_ru = stopwords.words(\"russian\")\n",
        "#stopwords_ru[0:11]"
      ],
      "metadata": {
        "id": "FmDMvos_p0_0"
      },
      "execution_count": 18,
      "outputs": []
    },
    {
      "cell_type": "markdown",
      "source": [
        "Разбиваем строку с текстом на слова с помощью метода split()"
      ],
      "metadata": {
        "id": "v_z9wqoMp_qd"
      }
    },
    {
      "cell_type": "code",
      "source": [
        "text.split()"
      ],
      "metadata": {
        "colab": {
          "base_uri": "https://localhost:8080/"
        },
        "id": "hUiASz5Ui_j0",
        "outputId": "ce4fea2e-42dd-4734-c9e1-16358b70c892"
      },
      "execution_count": 22,
      "outputs": [
        {
          "output_type": "execute_result",
          "data": {
            "text/plain": [
              "['Военкор',\n",
              " 'Александр',\n",
              " 'Коц',\n",
              " 'опроверг',\n",
              " 'слух',\n",
              " 'об',\n",
              " 'ударе',\n",
              " 'Вооруженных',\n",
              " 'сил',\n",
              " 'Украины',\n",
              " '(ВСУ)',\n",
              " 'по',\n",
              " 'командному',\n",
              " 'пункту',\n",
              " 'в',\n",
              " 'Курской',\n",
              " 'области',\n",
              " 'с',\n",
              " '500',\n",
              " 'бойцами',\n",
              " 'КНДР.',\n",
              " 'Об',\n",
              " 'этом',\n",
              " 'он',\n",
              " 'написал',\n",
              " 'в',\n",
              " 'своем',\n",
              " 'Telegram-канале.По',\n",
              " 'его',\n",
              " 'словам,',\n",
              " 'на',\n",
              " 'Украине',\n",
              " 'весь',\n",
              " 'день',\n",
              " 'распространяют',\n",
              " 'информацию',\n",
              " 'о',\n",
              " '«каких-то',\n",
              " 'мифических',\n",
              " 'потерях',\n",
              " 'в',\n",
              " 'результате',\n",
              " 'удара',\n",
              " 'по',\n",
              " 'КП',\n",
              " 'в',\n",
              " 'Марьино».',\n",
              " 'Военкор',\n",
              " 'отметил,',\n",
              " 'что',\n",
              " 'в',\n",
              " 'командном',\n",
              " 'пункте',\n",
              " 'не',\n",
              " 'может',\n",
              " 'быть',\n",
              " 'такого',\n",
              " 'числа',\n",
              " 'людей.',\n",
              " '«И',\n",
              " 'про',\n",
              " 'гибель',\n",
              " 'руководства',\n",
              " 'группировки',\n",
              " '\"Север\"',\n",
              " 'такая',\n",
              " 'же',\n",
              " 'брехня»,',\n",
              " '—',\n",
              " 'подчеркнул',\n",
              " 'Коц.Ранее',\n",
              " 'Telegram-канал',\n",
              " '«Военкоры',\n",
              " 'Русской',\n",
              " 'весны»',\n",
              " 'рассказал,',\n",
              " 'что',\n",
              " 'украинская',\n",
              " 'сторона',\n",
              " 'распространяет',\n",
              " 'слухи',\n",
              " 'о',\n",
              " 'том,',\n",
              " 'что',\n",
              " 'в',\n",
              " 'результате',\n",
              " 'удара',\n",
              " 'ракеты',\n",
              " 'Storm',\n",
              " 'Shadow',\n",
              " 'по',\n",
              " 'командному',\n",
              " 'пункту',\n",
              " 'в',\n",
              " 'Курской',\n",
              " 'области',\n",
              " 'погиб',\n",
              " 'замкомандующего',\n",
              " 'группировкой',\n",
              " 'войск',\n",
              " '«Север»',\n",
              " 'генерал-лейтенант',\n",
              " 'Валерий',\n",
              " 'Солодчук,',\n",
              " 'а',\n",
              " 'также',\n",
              " 'около',\n",
              " '500',\n",
              " 'солдат',\n",
              " 'из',\n",
              " 'КНДР.']"
            ]
          },
          "metadata": {},
          "execution_count": 22
        }
      ]
    },
    {
      "cell_type": "markdown",
      "source": [
        "С помощью метода split() не всегда разделяются те слова, между которыми находятся точки.\n",
        "\n",
        "Используем функцию split() из библиотеки re"
      ],
      "metadata": {
        "id": "F0ukIAKPrJYE"
      }
    },
    {
      "cell_type": "code",
      "source": [
        "import re"
      ],
      "metadata": {
        "id": "QPILsBB1p09D"
      },
      "execution_count": 23,
      "outputs": []
    },
    {
      "cell_type": "code",
      "source": [
        "words = [word.lower() for word in re.split('\\.| |,', text) if word.lower() not in stopwords_ru]\n",
        "text = ' '.join(words)\n",
        "\n",
        "text"
      ],
      "metadata": {
        "colab": {
          "base_uri": "https://localhost:8080/",
          "height": 88
        },
        "id": "ZhkZY32wrTn1",
        "outputId": "26066ede-789c-479e-9c8f-7e266b3a621b"
      },
      "execution_count": 33,
      "outputs": [
        {
          "output_type": "execute_result",
          "data": {
            "text/plain": [
              "'военкор александр коц опроверг слух ударе вооруженных сил украины (всу) командному пункту курской области 500 бойцами кндр  написал своем telegram-канале словам  украине весь день распространяют информацию «каких-то мифических потерях результате удара кп марьино»  военкор отметил  командном пункте такого числа людей  «и гибель руководства группировки \"север\" такая брехня»  — подчеркнул коц ранее telegram-канал «военкоры русской весны» рассказал  украинская сторона распространяет слухи  результате удара ракеты storm shadow командному пункту курской области погиб замкомандующего группировкой войск «север» генерал-лейтенант валерий солодчук  также около 500 солдат кндр '"
            ],
            "application/vnd.google.colaboratory.intrinsic+json": {
              "type": "string"
            }
          },
          "metadata": {},
          "execution_count": 33
        }
      ]
    },
    {
      "cell_type": "markdown",
      "source": [
        "# Анализ настроения новости"
      ],
      "metadata": {
        "id": "CpEYem9quyl3"
      }
    },
    {
      "cell_type": "code",
      "source": [
        "from dostoevsky.tokenization import RegexTokenizer\n",
        "from dostoevsky.models import FastTextSocialNetworkModel\n",
        "\n",
        "tokenizer = RegexTokenizer()\n",
        "model = FastTextSocialNetworkModel(tokenizer=tokenizer)\n",
        "data = model.predict([text], k = 5)"
      ],
      "metadata": {
        "colab": {
          "base_uri": "https://localhost:8080/"
        },
        "id": "NV0ZkJb1rTl0",
        "outputId": "8051e2a2-2979-4191-a375-76ccb2963024"
      },
      "execution_count": 35,
      "outputs": [
        {
          "output_type": "stream",
          "name": "stderr",
          "text": [
            "Warning : `load_model` does not return WordVectorModel or SupervisedModel any more, but a `FastText` object which is very similar.\n"
          ]
        }
      ]
    },
    {
      "cell_type": "code",
      "source": [
        "pd.DataFrame(data)"
      ],
      "metadata": {
        "colab": {
          "base_uri": "https://localhost:8080/",
          "height": 81
        },
        "id": "s87tQXOorTi1",
        "outputId": "c88832fe-9f65-420f-8a87-1505deeb7d85"
      },
      "execution_count": 46,
      "outputs": [
        {
          "output_type": "execute_result",
          "data": {
            "text/plain": [
              "    neutral  negative      skip  positive    speech\n",
              "0  0.699264  0.173298  0.129413  0.043376  0.014074"
            ],
            "text/html": [
              "\n",
              "  <div id=\"df-1daaadb9-3659-47d2-973f-451c3290a0cc\" class=\"colab-df-container\">\n",
              "    <div>\n",
              "<style scoped>\n",
              "    .dataframe tbody tr th:only-of-type {\n",
              "        vertical-align: middle;\n",
              "    }\n",
              "\n",
              "    .dataframe tbody tr th {\n",
              "        vertical-align: top;\n",
              "    }\n",
              "\n",
              "    .dataframe thead th {\n",
              "        text-align: right;\n",
              "    }\n",
              "</style>\n",
              "<table border=\"1\" class=\"dataframe\">\n",
              "  <thead>\n",
              "    <tr style=\"text-align: right;\">\n",
              "      <th></th>\n",
              "      <th>neutral</th>\n",
              "      <th>negative</th>\n",
              "      <th>skip</th>\n",
              "      <th>positive</th>\n",
              "      <th>speech</th>\n",
              "    </tr>\n",
              "  </thead>\n",
              "  <tbody>\n",
              "    <tr>\n",
              "      <th>0</th>\n",
              "      <td>0.699264</td>\n",
              "      <td>0.173298</td>\n",
              "      <td>0.129413</td>\n",
              "      <td>0.043376</td>\n",
              "      <td>0.014074</td>\n",
              "    </tr>\n",
              "  </tbody>\n",
              "</table>\n",
              "</div>\n",
              "    <div class=\"colab-df-buttons\">\n",
              "\n",
              "  <div class=\"colab-df-container\">\n",
              "    <button class=\"colab-df-convert\" onclick=\"convertToInteractive('df-1daaadb9-3659-47d2-973f-451c3290a0cc')\"\n",
              "            title=\"Convert this dataframe to an interactive table.\"\n",
              "            style=\"display:none;\">\n",
              "\n",
              "  <svg xmlns=\"http://www.w3.org/2000/svg\" height=\"24px\" viewBox=\"0 -960 960 960\">\n",
              "    <path d=\"M120-120v-720h720v720H120Zm60-500h600v-160H180v160Zm220 220h160v-160H400v160Zm0 220h160v-160H400v160ZM180-400h160v-160H180v160Zm440 0h160v-160H620v160ZM180-180h160v-160H180v160Zm440 0h160v-160H620v160Z\"/>\n",
              "  </svg>\n",
              "    </button>\n",
              "\n",
              "  <style>\n",
              "    .colab-df-container {\n",
              "      display:flex;\n",
              "      gap: 12px;\n",
              "    }\n",
              "\n",
              "    .colab-df-convert {\n",
              "      background-color: #E8F0FE;\n",
              "      border: none;\n",
              "      border-radius: 50%;\n",
              "      cursor: pointer;\n",
              "      display: none;\n",
              "      fill: #1967D2;\n",
              "      height: 32px;\n",
              "      padding: 0 0 0 0;\n",
              "      width: 32px;\n",
              "    }\n",
              "\n",
              "    .colab-df-convert:hover {\n",
              "      background-color: #E2EBFA;\n",
              "      box-shadow: 0px 1px 2px rgba(60, 64, 67, 0.3), 0px 1px 3px 1px rgba(60, 64, 67, 0.15);\n",
              "      fill: #174EA6;\n",
              "    }\n",
              "\n",
              "    .colab-df-buttons div {\n",
              "      margin-bottom: 4px;\n",
              "    }\n",
              "\n",
              "    [theme=dark] .colab-df-convert {\n",
              "      background-color: #3B4455;\n",
              "      fill: #D2E3FC;\n",
              "    }\n",
              "\n",
              "    [theme=dark] .colab-df-convert:hover {\n",
              "      background-color: #434B5C;\n",
              "      box-shadow: 0px 1px 3px 1px rgba(0, 0, 0, 0.15);\n",
              "      filter: drop-shadow(0px 1px 2px rgba(0, 0, 0, 0.3));\n",
              "      fill: #FFFFFF;\n",
              "    }\n",
              "  </style>\n",
              "\n",
              "    <script>\n",
              "      const buttonEl =\n",
              "        document.querySelector('#df-1daaadb9-3659-47d2-973f-451c3290a0cc button.colab-df-convert');\n",
              "      buttonEl.style.display =\n",
              "        google.colab.kernel.accessAllowed ? 'block' : 'none';\n",
              "\n",
              "      async function convertToInteractive(key) {\n",
              "        const element = document.querySelector('#df-1daaadb9-3659-47d2-973f-451c3290a0cc');\n",
              "        const dataTable =\n",
              "          await google.colab.kernel.invokeFunction('convertToInteractive',\n",
              "                                                    [key], {});\n",
              "        if (!dataTable) return;\n",
              "\n",
              "        const docLinkHtml = 'Like what you see? Visit the ' +\n",
              "          '<a target=\"_blank\" href=https://colab.research.google.com/notebooks/data_table.ipynb>data table notebook</a>'\n",
              "          + ' to learn more about interactive tables.';\n",
              "        element.innerHTML = '';\n",
              "        dataTable['output_type'] = 'display_data';\n",
              "        await google.colab.output.renderOutput(dataTable, element);\n",
              "        const docLink = document.createElement('div');\n",
              "        docLink.innerHTML = docLinkHtml;\n",
              "        element.appendChild(docLink);\n",
              "      }\n",
              "    </script>\n",
              "  </div>\n",
              "\n",
              "    </div>\n",
              "  </div>\n"
            ],
            "application/vnd.google.colaboratory.intrinsic+json": {
              "type": "dataframe",
              "summary": "{\n  \"name\": \"pd\",\n  \"rows\": 1,\n  \"fields\": [\n    {\n      \"column\": \"neutral\",\n      \"properties\": {\n        \"dtype\": \"number\",\n        \"std\": null,\n        \"min\": 0.6992644667625427,\n        \"max\": 0.6992644667625427,\n        \"num_unique_values\": 1,\n        \"samples\": [\n          0.6992644667625427\n        ],\n        \"semantic_type\": \"\",\n        \"description\": \"\"\n      }\n    },\n    {\n      \"column\": \"negative\",\n      \"properties\": {\n        \"dtype\": \"number\",\n        \"std\": null,\n        \"min\": 0.1732981950044632,\n        \"max\": 0.1732981950044632,\n        \"num_unique_values\": 1,\n        \"samples\": [\n          0.1732981950044632\n        ],\n        \"semantic_type\": \"\",\n        \"description\": \"\"\n      }\n    },\n    {\n      \"column\": \"skip\",\n      \"properties\": {\n        \"dtype\": \"number\",\n        \"std\": null,\n        \"min\": 0.1294127255678177,\n        \"max\": 0.1294127255678177,\n        \"num_unique_values\": 1,\n        \"samples\": [\n          0.1294127255678177\n        ],\n        \"semantic_type\": \"\",\n        \"description\": \"\"\n      }\n    },\n    {\n      \"column\": \"positive\",\n      \"properties\": {\n        \"dtype\": \"number\",\n        \"std\": null,\n        \"min\": 0.04337579756975174,\n        \"max\": 0.04337579756975174,\n        \"num_unique_values\": 1,\n        \"samples\": [\n          0.04337579756975174\n        ],\n        \"semantic_type\": \"\",\n        \"description\": \"\"\n      }\n    },\n    {\n      \"column\": \"speech\",\n      \"properties\": {\n        \"dtype\": \"number\",\n        \"std\": null,\n        \"min\": 0.014073628932237625,\n        \"max\": 0.014073628932237625,\n        \"num_unique_values\": 1,\n        \"samples\": [\n          0.014073628932237625\n        ],\n        \"semantic_type\": \"\",\n        \"description\": \"\"\n      }\n    }\n  ]\n}"
            }
          },
          "metadata": {},
          "execution_count": 46
        }
      ]
    },
    {
      "cell_type": "markdown",
      "source": [],
      "metadata": {
        "id": "QCk4c1e20vjT"
      }
    },
    {
      "cell_type": "markdown",
      "source": [
        "Выбранная новость по настроению является негативно-нейтральной"
      ],
      "metadata": {
        "id": "34QJdm000wn7"
      }
    },
    {
      "cell_type": "code",
      "source": [],
      "metadata": {
        "id": "3r7XiikBrTgS"
      },
      "execution_count": null,
      "outputs": []
    }
  ]
}